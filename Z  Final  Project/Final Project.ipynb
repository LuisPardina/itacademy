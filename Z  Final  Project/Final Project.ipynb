{
 "cells": [
  {
   "cell_type": "markdown",
   "id": "80336a11",
   "metadata": {},
   "source": [
    "# Final Project:\n",
    "# Lead Prediction for On-line Training\n",
    "## Luis Pardina - IT Academy - Oct 1st, 2022"
   ]
  },
  {
   "cell_type": "markdown",
   "id": "e3eff01c",
   "metadata": {},
   "source": [
    "### 1) Content of the data set\n",
    "\n",
    "The data set contains leads collected by *X Education* which sells online courses to industry professionals. \n",
    "\n",
    "Lead is a concept applied in marketing & sales. A **lead** is information about a potential customer who may convert (became an actual customer) or not.\n",
    "\n",
    "The information presented in the dataset is about the source of each lead, characteristics of the lead (such as time spent in the website or number of visits to its pages), and data about the characteristics of the potential customers collected when these people fill up a form providing info about their quest. \n",
    "\n",
    "It also shows if each lead has been converted into an actual customer or not. 39% of the total number of leads in the data set were converted. "
   ]
  },
  {
   "cell_type": "markdown",
   "id": "1d9ea1d6",
   "metadata": {},
   "source": [
    "The Dataset is available in kaggle:\n",
    "    \n",
    "https://www.kaggle.com/code/turanmehdiyeva/lead-prediction/data \n",
    "\n",
    "The Dataset contains 9240 records with 37 variables. \n",
    "\n",
    "There are 6 continuous numerical variables, and 31 categorical variables (either nominal, ordinal or boolean)."
   ]
  },
  {
   "cell_type": "markdown",
   "id": "cb41d0a6",
   "metadata": {},
   "source": [
    "### 2) Project objectives\n",
    "    \n",
    "- Make a model to predict whether a particular lead will be converted or not\n",
    "\n",
    "- Although X Education gets a lot of leads, its lead conversion rate is low. We wish to find trends and patterns to identify the most potential leads, also known as ‘Hot Leads’ to help the sales team to focus the future marketing campaigns."
   ]
  },
  {
   "cell_type": "markdown",
   "id": "e83f6ef9",
   "metadata": {},
   "source": [
    "### 3) Libraries"
   ]
  },
  {
   "cell_type": "code",
   "execution_count": 1,
   "id": "2080d7a0",
   "metadata": {},
   "outputs": [],
   "source": [
    "import numpy as np\n",
    "import pandas as pd\n",
    "\n",
    "import matplotlib.pyplot as plt\n",
    "import seaborn as sns\n",
    "\n",
    "from sklearn.model_selection import train_test_split\n",
    "from sklearn.preprocessing import StandardScaler"
   ]
  },
  {
   "cell_type": "markdown",
   "id": "9b28410a",
   "metadata": {},
   "source": [
    "### 4) Description of the content of the variables: \n",
    "\n",
    "- Prospect ID: A unique ID to identify the customer. \n",
    "- Lead Number: A lead number assigned to each lead procured. \n",
    "- Lead Origin: The origin identifier with which the potential customer was identified to be a lead. Includes API, Landing Page Submission, etc. \n",
    "- Lead Source: The source of the lead. Includes Google, Organic Search, Olark Chat, etc. \n",
    "- Do Not Email: An indicator variable selected by the potential customer wherein they select whether they want to be emailed about the course or not. \n",
    "- Do Not Call: An indicator variable selected by the potential customer wherein they select whether they want to be called about the course or not. \n",
    "- Converted: **The target variable**. Indicates whether a lead has been successfully converted or not. \n",
    "- Total Visits: The total number of visits made by the potential customer on the website. \n",
    "- Total Time Spent on Website: The total time spent by the customer on the website. \n",
    "- Page Views Per Visit: Average number of pages on the website viewed during the visits. \n",
    "- Last Activity: Last activity performed by the potential customer. Includes Email Opened, Olark Chat Conversation, etc. \n",
    "- Country: The country of the customer. \n",
    "- Specialization: The industry domain in which the potential customer worked before. Includes the level 'Select' which means the customer had not selected this option while filling the form. \n",
    "- How did you hear about X Education: The source from which the lead heard about X Education. \n",
    "- What is your current occupation: Indicates whether the customer is a student, unemployed or employed. \n",
    "- What matters most to you in choosing a course: An option selected by the potential customer indicating what is their main motto behind doing this course. this course \n",
    "- Search: Indicating whether the potential customer had seen the ad in any of the listed items. \n",
    "    - Magazine \n",
    "    - Newspaper Article \n",
    "    - X Education Forums \n",
    "    - Newspaper \n",
    "    - Digital Advertisement \n",
    "- Through Recommendations: Indicates whether the customer came in through recommendations. \n",
    "- Receive More Updates About Our Courses: Indicates whether the lead chose to receive more updates about the courses.  \n",
    "- Tags: Tags assigned to customers indicating the current status of the lead. \n",
    "- Lead Quality: Indicates the quality of lead based on the data and intuition of the marketer / sales who has been assigned to the lead. \n",
    "- Update me on Supply Chain Content: Indicates whether the customer wants updates on the Supply Chain Content. \n",
    "- Get updates on DM Content: Indicates whether the customer wants updates on the DM Content.  \n",
    "- Lead Profile : A lead level assigned to each customer based on their profile. \n",
    "- City: The city of the customer. \n",
    "- Asymmetrique Activity Index / Asymmetrique Profile Index / Asymmetrique Activity Score / Asymmetrique Profile Score: An index and score assigned to each customer based on their activity and their profile \n",
    "- I agree to pay the amount through cheque: Indicates whether the customer has agreed to pay the amount through cheque or not. \n",
    "- a free copy of Mastering The Interview: Indicates whether the customer wants a free copy of 'Mastering the Interview' or not. \n",
    "- Last Notable Activity: The last notable activity performed by the lead.  \n"
   ]
  },
  {
   "cell_type": "markdown",
   "id": "4b405b72",
   "metadata": {},
   "source": [
    "### 5) Data Analysis and Cleaning"
   ]
  },
  {
   "cell_type": "markdown",
   "id": "21bd9769",
   "metadata": {},
   "source": [
    "The dataset has 9240 records with 37 variables."
   ]
  },
  {
   "cell_type": "code",
   "execution_count": 2,
   "id": "27b8a3be",
   "metadata": {},
   "outputs": [],
   "source": [
    "leads = pd.read_csv('leads.csv')"
   ]
  },
  {
   "cell_type": "code",
   "execution_count": 3,
   "id": "a17d10de",
   "metadata": {},
   "outputs": [
    {
     "data": {
      "text/html": [
       "<div>\n",
       "<style scoped>\n",
       "    .dataframe tbody tr th:only-of-type {\n",
       "        vertical-align: middle;\n",
       "    }\n",
       "\n",
       "    .dataframe tbody tr th {\n",
       "        vertical-align: top;\n",
       "    }\n",
       "\n",
       "    .dataframe thead th {\n",
       "        text-align: right;\n",
       "    }\n",
       "</style>\n",
       "<table border=\"1\" class=\"dataframe\">\n",
       "  <thead>\n",
       "    <tr style=\"text-align: right;\">\n",
       "      <th></th>\n",
       "      <th>0</th>\n",
       "      <th>1</th>\n",
       "      <th>2</th>\n",
       "      <th>3</th>\n",
       "      <th>4</th>\n",
       "    </tr>\n",
       "  </thead>\n",
       "  <tbody>\n",
       "    <tr>\n",
       "      <th>Prospect ID</th>\n",
       "      <td>7927b2df-8bba-4d29-b9a2-b6e0beafe620</td>\n",
       "      <td>2a272436-5132-4136-86fa-dcc88c88f482</td>\n",
       "      <td>8cc8c611-a219-4f35-ad23-fdfd2656bd8a</td>\n",
       "      <td>0cc2df48-7cf4-4e39-9de9-19797f9b38cc</td>\n",
       "      <td>3256f628-e534-4826-9d63-4a8b88782852</td>\n",
       "    </tr>\n",
       "    <tr>\n",
       "      <th>Lead Number</th>\n",
       "      <td>660737</td>\n",
       "      <td>660728</td>\n",
       "      <td>660727</td>\n",
       "      <td>660719</td>\n",
       "      <td>660681</td>\n",
       "    </tr>\n",
       "    <tr>\n",
       "      <th>Lead Origin</th>\n",
       "      <td>API</td>\n",
       "      <td>API</td>\n",
       "      <td>Landing Page Submission</td>\n",
       "      <td>Landing Page Submission</td>\n",
       "      <td>Landing Page Submission</td>\n",
       "    </tr>\n",
       "    <tr>\n",
       "      <th>Lead Source</th>\n",
       "      <td>Olark Chat</td>\n",
       "      <td>Organic Search</td>\n",
       "      <td>Direct Traffic</td>\n",
       "      <td>Direct Traffic</td>\n",
       "      <td>Google</td>\n",
       "    </tr>\n",
       "    <tr>\n",
       "      <th>Do Not Email</th>\n",
       "      <td>No</td>\n",
       "      <td>No</td>\n",
       "      <td>No</td>\n",
       "      <td>No</td>\n",
       "      <td>No</td>\n",
       "    </tr>\n",
       "    <tr>\n",
       "      <th>Do Not Call</th>\n",
       "      <td>No</td>\n",
       "      <td>No</td>\n",
       "      <td>No</td>\n",
       "      <td>No</td>\n",
       "      <td>No</td>\n",
       "    </tr>\n",
       "    <tr>\n",
       "      <th>Converted</th>\n",
       "      <td>0</td>\n",
       "      <td>0</td>\n",
       "      <td>1</td>\n",
       "      <td>0</td>\n",
       "      <td>1</td>\n",
       "    </tr>\n",
       "    <tr>\n",
       "      <th>TotalVisits</th>\n",
       "      <td>0.0</td>\n",
       "      <td>5.0</td>\n",
       "      <td>2.0</td>\n",
       "      <td>1.0</td>\n",
       "      <td>2.0</td>\n",
       "    </tr>\n",
       "    <tr>\n",
       "      <th>Total Time Spent on Website</th>\n",
       "      <td>0</td>\n",
       "      <td>674</td>\n",
       "      <td>1532</td>\n",
       "      <td>305</td>\n",
       "      <td>1428</td>\n",
       "    </tr>\n",
       "    <tr>\n",
       "      <th>Page Views Per Visit</th>\n",
       "      <td>0.0</td>\n",
       "      <td>2.5</td>\n",
       "      <td>2.0</td>\n",
       "      <td>1.0</td>\n",
       "      <td>1.0</td>\n",
       "    </tr>\n",
       "    <tr>\n",
       "      <th>Last Activity</th>\n",
       "      <td>Page Visited on Website</td>\n",
       "      <td>Email Opened</td>\n",
       "      <td>Email Opened</td>\n",
       "      <td>Unreachable</td>\n",
       "      <td>Converted to Lead</td>\n",
       "    </tr>\n",
       "    <tr>\n",
       "      <th>Country</th>\n",
       "      <td>NaN</td>\n",
       "      <td>India</td>\n",
       "      <td>India</td>\n",
       "      <td>India</td>\n",
       "      <td>India</td>\n",
       "    </tr>\n",
       "    <tr>\n",
       "      <th>Specialization</th>\n",
       "      <td>Select</td>\n",
       "      <td>Select</td>\n",
       "      <td>Business Administration</td>\n",
       "      <td>Media and Advertising</td>\n",
       "      <td>Select</td>\n",
       "    </tr>\n",
       "    <tr>\n",
       "      <th>How did you hear about X Education</th>\n",
       "      <td>Select</td>\n",
       "      <td>Select</td>\n",
       "      <td>Select</td>\n",
       "      <td>Word Of Mouth</td>\n",
       "      <td>Other</td>\n",
       "    </tr>\n",
       "    <tr>\n",
       "      <th>What is your current occupation</th>\n",
       "      <td>Unemployed</td>\n",
       "      <td>Unemployed</td>\n",
       "      <td>Student</td>\n",
       "      <td>Unemployed</td>\n",
       "      <td>Unemployed</td>\n",
       "    </tr>\n",
       "    <tr>\n",
       "      <th>What matters most to you in choosing a course</th>\n",
       "      <td>Better Career Prospects</td>\n",
       "      <td>Better Career Prospects</td>\n",
       "      <td>Better Career Prospects</td>\n",
       "      <td>Better Career Prospects</td>\n",
       "      <td>Better Career Prospects</td>\n",
       "    </tr>\n",
       "    <tr>\n",
       "      <th>Search</th>\n",
       "      <td>No</td>\n",
       "      <td>No</td>\n",
       "      <td>No</td>\n",
       "      <td>No</td>\n",
       "      <td>No</td>\n",
       "    </tr>\n",
       "    <tr>\n",
       "      <th>Magazine</th>\n",
       "      <td>No</td>\n",
       "      <td>No</td>\n",
       "      <td>No</td>\n",
       "      <td>No</td>\n",
       "      <td>No</td>\n",
       "    </tr>\n",
       "    <tr>\n",
       "      <th>Newspaper Article</th>\n",
       "      <td>No</td>\n",
       "      <td>No</td>\n",
       "      <td>No</td>\n",
       "      <td>No</td>\n",
       "      <td>No</td>\n",
       "    </tr>\n",
       "    <tr>\n",
       "      <th>X Education Forums</th>\n",
       "      <td>No</td>\n",
       "      <td>No</td>\n",
       "      <td>No</td>\n",
       "      <td>No</td>\n",
       "      <td>No</td>\n",
       "    </tr>\n",
       "    <tr>\n",
       "      <th>Newspaper</th>\n",
       "      <td>No</td>\n",
       "      <td>No</td>\n",
       "      <td>No</td>\n",
       "      <td>No</td>\n",
       "      <td>No</td>\n",
       "    </tr>\n",
       "    <tr>\n",
       "      <th>Digital Advertisement</th>\n",
       "      <td>No</td>\n",
       "      <td>No</td>\n",
       "      <td>No</td>\n",
       "      <td>No</td>\n",
       "      <td>No</td>\n",
       "    </tr>\n",
       "    <tr>\n",
       "      <th>Through Recommendations</th>\n",
       "      <td>No</td>\n",
       "      <td>No</td>\n",
       "      <td>No</td>\n",
       "      <td>No</td>\n",
       "      <td>No</td>\n",
       "    </tr>\n",
       "    <tr>\n",
       "      <th>Receive More Updates About Our Courses</th>\n",
       "      <td>No</td>\n",
       "      <td>No</td>\n",
       "      <td>No</td>\n",
       "      <td>No</td>\n",
       "      <td>No</td>\n",
       "    </tr>\n",
       "    <tr>\n",
       "      <th>Tags</th>\n",
       "      <td>Interested in other courses</td>\n",
       "      <td>Ringing</td>\n",
       "      <td>Will revert after reading the email</td>\n",
       "      <td>Ringing</td>\n",
       "      <td>Will revert after reading the email</td>\n",
       "    </tr>\n",
       "    <tr>\n",
       "      <th>Lead Quality</th>\n",
       "      <td>Low in Relevance</td>\n",
       "      <td>NaN</td>\n",
       "      <td>Might be</td>\n",
       "      <td>Not Sure</td>\n",
       "      <td>Might be</td>\n",
       "    </tr>\n",
       "    <tr>\n",
       "      <th>Update me on Supply Chain Content</th>\n",
       "      <td>No</td>\n",
       "      <td>No</td>\n",
       "      <td>No</td>\n",
       "      <td>No</td>\n",
       "      <td>No</td>\n",
       "    </tr>\n",
       "    <tr>\n",
       "      <th>Get updates on DM Content</th>\n",
       "      <td>No</td>\n",
       "      <td>No</td>\n",
       "      <td>No</td>\n",
       "      <td>No</td>\n",
       "      <td>No</td>\n",
       "    </tr>\n",
       "    <tr>\n",
       "      <th>Lead Profile</th>\n",
       "      <td>Select</td>\n",
       "      <td>Select</td>\n",
       "      <td>Potential Lead</td>\n",
       "      <td>Select</td>\n",
       "      <td>Select</td>\n",
       "    </tr>\n",
       "    <tr>\n",
       "      <th>City</th>\n",
       "      <td>Select</td>\n",
       "      <td>Select</td>\n",
       "      <td>Mumbai</td>\n",
       "      <td>Mumbai</td>\n",
       "      <td>Mumbai</td>\n",
       "    </tr>\n",
       "    <tr>\n",
       "      <th>Asymmetrique Activity Index</th>\n",
       "      <td>02.Medium</td>\n",
       "      <td>02.Medium</td>\n",
       "      <td>02.Medium</td>\n",
       "      <td>02.Medium</td>\n",
       "      <td>02.Medium</td>\n",
       "    </tr>\n",
       "    <tr>\n",
       "      <th>Asymmetrique Profile Index</th>\n",
       "      <td>02.Medium</td>\n",
       "      <td>02.Medium</td>\n",
       "      <td>01.High</td>\n",
       "      <td>01.High</td>\n",
       "      <td>01.High</td>\n",
       "    </tr>\n",
       "    <tr>\n",
       "      <th>Asymmetrique Activity Score</th>\n",
       "      <td>15.0</td>\n",
       "      <td>15.0</td>\n",
       "      <td>14.0</td>\n",
       "      <td>13.0</td>\n",
       "      <td>15.0</td>\n",
       "    </tr>\n",
       "    <tr>\n",
       "      <th>Asymmetrique Profile Score</th>\n",
       "      <td>15.0</td>\n",
       "      <td>15.0</td>\n",
       "      <td>20.0</td>\n",
       "      <td>17.0</td>\n",
       "      <td>18.0</td>\n",
       "    </tr>\n",
       "    <tr>\n",
       "      <th>I agree to pay the amount through cheque</th>\n",
       "      <td>No</td>\n",
       "      <td>No</td>\n",
       "      <td>No</td>\n",
       "      <td>No</td>\n",
       "      <td>No</td>\n",
       "    </tr>\n",
       "    <tr>\n",
       "      <th>A free copy of Mastering The Interview</th>\n",
       "      <td>No</td>\n",
       "      <td>No</td>\n",
       "      <td>Yes</td>\n",
       "      <td>No</td>\n",
       "      <td>No</td>\n",
       "    </tr>\n",
       "    <tr>\n",
       "      <th>Last Notable Activity</th>\n",
       "      <td>Modified</td>\n",
       "      <td>Email Opened</td>\n",
       "      <td>Email Opened</td>\n",
       "      <td>Modified</td>\n",
       "      <td>Modified</td>\n",
       "    </tr>\n",
       "  </tbody>\n",
       "</table>\n",
       "</div>"
      ],
      "text/plain": [
       "                                                                                  0  \\\n",
       "Prospect ID                                    7927b2df-8bba-4d29-b9a2-b6e0beafe620   \n",
       "Lead Number                                                                  660737   \n",
       "Lead Origin                                                                     API   \n",
       "Lead Source                                                              Olark Chat   \n",
       "Do Not Email                                                                     No   \n",
       "Do Not Call                                                                      No   \n",
       "Converted                                                                         0   \n",
       "TotalVisits                                                                     0.0   \n",
       "Total Time Spent on Website                                                       0   \n",
       "Page Views Per Visit                                                            0.0   \n",
       "Last Activity                                               Page Visited on Website   \n",
       "Country                                                                         NaN   \n",
       "Specialization                                                               Select   \n",
       "How did you hear about X Education                                           Select   \n",
       "What is your current occupation                                          Unemployed   \n",
       "What matters most to you in choosing a course               Better Career Prospects   \n",
       "Search                                                                           No   \n",
       "Magazine                                                                         No   \n",
       "Newspaper Article                                                                No   \n",
       "X Education Forums                                                               No   \n",
       "Newspaper                                                                        No   \n",
       "Digital Advertisement                                                            No   \n",
       "Through Recommendations                                                          No   \n",
       "Receive More Updates About Our Courses                                           No   \n",
       "Tags                                                    Interested in other courses   \n",
       "Lead Quality                                                       Low in Relevance   \n",
       "Update me on Supply Chain Content                                                No   \n",
       "Get updates on DM Content                                                        No   \n",
       "Lead Profile                                                                 Select   \n",
       "City                                                                         Select   \n",
       "Asymmetrique Activity Index                                               02.Medium   \n",
       "Asymmetrique Profile Index                                                02.Medium   \n",
       "Asymmetrique Activity Score                                                    15.0   \n",
       "Asymmetrique Profile Score                                                     15.0   \n",
       "I agree to pay the amount through cheque                                         No   \n",
       "A free copy of Mastering The Interview                                           No   \n",
       "Last Notable Activity                                                      Modified   \n",
       "\n",
       "                                                                                  1  \\\n",
       "Prospect ID                                    2a272436-5132-4136-86fa-dcc88c88f482   \n",
       "Lead Number                                                                  660728   \n",
       "Lead Origin                                                                     API   \n",
       "Lead Source                                                          Organic Search   \n",
       "Do Not Email                                                                     No   \n",
       "Do Not Call                                                                      No   \n",
       "Converted                                                                         0   \n",
       "TotalVisits                                                                     5.0   \n",
       "Total Time Spent on Website                                                     674   \n",
       "Page Views Per Visit                                                            2.5   \n",
       "Last Activity                                                          Email Opened   \n",
       "Country                                                                       India   \n",
       "Specialization                                                               Select   \n",
       "How did you hear about X Education                                           Select   \n",
       "What is your current occupation                                          Unemployed   \n",
       "What matters most to you in choosing a course               Better Career Prospects   \n",
       "Search                                                                           No   \n",
       "Magazine                                                                         No   \n",
       "Newspaper Article                                                                No   \n",
       "X Education Forums                                                               No   \n",
       "Newspaper                                                                        No   \n",
       "Digital Advertisement                                                            No   \n",
       "Through Recommendations                                                          No   \n",
       "Receive More Updates About Our Courses                                           No   \n",
       "Tags                                                                        Ringing   \n",
       "Lead Quality                                                                    NaN   \n",
       "Update me on Supply Chain Content                                                No   \n",
       "Get updates on DM Content                                                        No   \n",
       "Lead Profile                                                                 Select   \n",
       "City                                                                         Select   \n",
       "Asymmetrique Activity Index                                               02.Medium   \n",
       "Asymmetrique Profile Index                                                02.Medium   \n",
       "Asymmetrique Activity Score                                                    15.0   \n",
       "Asymmetrique Profile Score                                                     15.0   \n",
       "I agree to pay the amount through cheque                                         No   \n",
       "A free copy of Mastering The Interview                                           No   \n",
       "Last Notable Activity                                                  Email Opened   \n",
       "\n",
       "                                                                                  2  \\\n",
       "Prospect ID                                    8cc8c611-a219-4f35-ad23-fdfd2656bd8a   \n",
       "Lead Number                                                                  660727   \n",
       "Lead Origin                                                 Landing Page Submission   \n",
       "Lead Source                                                          Direct Traffic   \n",
       "Do Not Email                                                                     No   \n",
       "Do Not Call                                                                      No   \n",
       "Converted                                                                         1   \n",
       "TotalVisits                                                                     2.0   \n",
       "Total Time Spent on Website                                                    1532   \n",
       "Page Views Per Visit                                                            2.0   \n",
       "Last Activity                                                          Email Opened   \n",
       "Country                                                                       India   \n",
       "Specialization                                              Business Administration   \n",
       "How did you hear about X Education                                           Select   \n",
       "What is your current occupation                                             Student   \n",
       "What matters most to you in choosing a course               Better Career Prospects   \n",
       "Search                                                                           No   \n",
       "Magazine                                                                         No   \n",
       "Newspaper Article                                                                No   \n",
       "X Education Forums                                                               No   \n",
       "Newspaper                                                                        No   \n",
       "Digital Advertisement                                                            No   \n",
       "Through Recommendations                                                          No   \n",
       "Receive More Updates About Our Courses                                           No   \n",
       "Tags                                            Will revert after reading the email   \n",
       "Lead Quality                                                               Might be   \n",
       "Update me on Supply Chain Content                                                No   \n",
       "Get updates on DM Content                                                        No   \n",
       "Lead Profile                                                         Potential Lead   \n",
       "City                                                                         Mumbai   \n",
       "Asymmetrique Activity Index                                               02.Medium   \n",
       "Asymmetrique Profile Index                                                  01.High   \n",
       "Asymmetrique Activity Score                                                    14.0   \n",
       "Asymmetrique Profile Score                                                     20.0   \n",
       "I agree to pay the amount through cheque                                         No   \n",
       "A free copy of Mastering The Interview                                          Yes   \n",
       "Last Notable Activity                                                  Email Opened   \n",
       "\n",
       "                                                                                  3  \\\n",
       "Prospect ID                                    0cc2df48-7cf4-4e39-9de9-19797f9b38cc   \n",
       "Lead Number                                                                  660719   \n",
       "Lead Origin                                                 Landing Page Submission   \n",
       "Lead Source                                                          Direct Traffic   \n",
       "Do Not Email                                                                     No   \n",
       "Do Not Call                                                                      No   \n",
       "Converted                                                                         0   \n",
       "TotalVisits                                                                     1.0   \n",
       "Total Time Spent on Website                                                     305   \n",
       "Page Views Per Visit                                                            1.0   \n",
       "Last Activity                                                           Unreachable   \n",
       "Country                                                                       India   \n",
       "Specialization                                                Media and Advertising   \n",
       "How did you hear about X Education                                    Word Of Mouth   \n",
       "What is your current occupation                                          Unemployed   \n",
       "What matters most to you in choosing a course               Better Career Prospects   \n",
       "Search                                                                           No   \n",
       "Magazine                                                                         No   \n",
       "Newspaper Article                                                                No   \n",
       "X Education Forums                                                               No   \n",
       "Newspaper                                                                        No   \n",
       "Digital Advertisement                                                            No   \n",
       "Through Recommendations                                                          No   \n",
       "Receive More Updates About Our Courses                                           No   \n",
       "Tags                                                                        Ringing   \n",
       "Lead Quality                                                               Not Sure   \n",
       "Update me on Supply Chain Content                                                No   \n",
       "Get updates on DM Content                                                        No   \n",
       "Lead Profile                                                                 Select   \n",
       "City                                                                         Mumbai   \n",
       "Asymmetrique Activity Index                                               02.Medium   \n",
       "Asymmetrique Profile Index                                                  01.High   \n",
       "Asymmetrique Activity Score                                                    13.0   \n",
       "Asymmetrique Profile Score                                                     17.0   \n",
       "I agree to pay the amount through cheque                                         No   \n",
       "A free copy of Mastering The Interview                                           No   \n",
       "Last Notable Activity                                                      Modified   \n",
       "\n",
       "                                                                                  4  \n",
       "Prospect ID                                    3256f628-e534-4826-9d63-4a8b88782852  \n",
       "Lead Number                                                                  660681  \n",
       "Lead Origin                                                 Landing Page Submission  \n",
       "Lead Source                                                                  Google  \n",
       "Do Not Email                                                                     No  \n",
       "Do Not Call                                                                      No  \n",
       "Converted                                                                         1  \n",
       "TotalVisits                                                                     2.0  \n",
       "Total Time Spent on Website                                                    1428  \n",
       "Page Views Per Visit                                                            1.0  \n",
       "Last Activity                                                     Converted to Lead  \n",
       "Country                                                                       India  \n",
       "Specialization                                                               Select  \n",
       "How did you hear about X Education                                            Other  \n",
       "What is your current occupation                                          Unemployed  \n",
       "What matters most to you in choosing a course               Better Career Prospects  \n",
       "Search                                                                           No  \n",
       "Magazine                                                                         No  \n",
       "Newspaper Article                                                                No  \n",
       "X Education Forums                                                               No  \n",
       "Newspaper                                                                        No  \n",
       "Digital Advertisement                                                            No  \n",
       "Through Recommendations                                                          No  \n",
       "Receive More Updates About Our Courses                                           No  \n",
       "Tags                                            Will revert after reading the email  \n",
       "Lead Quality                                                               Might be  \n",
       "Update me on Supply Chain Content                                                No  \n",
       "Get updates on DM Content                                                        No  \n",
       "Lead Profile                                                                 Select  \n",
       "City                                                                         Mumbai  \n",
       "Asymmetrique Activity Index                                               02.Medium  \n",
       "Asymmetrique Profile Index                                                  01.High  \n",
       "Asymmetrique Activity Score                                                    15.0  \n",
       "Asymmetrique Profile Score                                                     18.0  \n",
       "I agree to pay the amount through cheque                                         No  \n",
       "A free copy of Mastering The Interview                                           No  \n",
       "Last Notable Activity                                                      Modified  "
      ]
     },
     "execution_count": 3,
     "metadata": {},
     "output_type": "execute_result"
    }
   ],
   "source": [
    "leads.head().T"
   ]
  },
  {
   "cell_type": "code",
   "execution_count": 4,
   "id": "602823a4",
   "metadata": {},
   "outputs": [
    {
     "data": {
      "text/plain": [
       "(9240, 37)"
      ]
     },
     "execution_count": 4,
     "metadata": {},
     "output_type": "execute_result"
    }
   ],
   "source": [
    "leads.shape"
   ]
  },
  {
   "cell_type": "markdown",
   "id": "723d9e0d",
   "metadata": {},
   "source": [
    "There are **no duplicated rows**. The target variable is **balanced**."
   ]
  },
  {
   "cell_type": "code",
   "execution_count": 5,
   "id": "4fa15ea3",
   "metadata": {},
   "outputs": [
    {
     "data": {
      "text/plain": [
       "0"
      ]
     },
     "execution_count": 5,
     "metadata": {},
     "output_type": "execute_result"
    }
   ],
   "source": [
    "leads.duplicated().sum()"
   ]
  },
  {
   "cell_type": "code",
   "execution_count": 6,
   "id": "13abdc34",
   "metadata": {},
   "outputs": [
    {
     "data": {
      "text/plain": [
       "0    0.61461\n",
       "1    0.38539\n",
       "Name: Converted, dtype: float64"
      ]
     },
     "execution_count": 6,
     "metadata": {},
     "output_type": "execute_result"
    }
   ],
   "source": [
    "leads['Converted'].value_counts(normalize=True)"
   ]
  },
  {
   "cell_type": "markdown",
   "id": "a2899e2b",
   "metadata": {},
   "source": [
    "There are 6 continuous numerical variables, and 31 categorical variables. Many of the variables have **null values**, which will require some processing."
   ]
  },
  {
   "cell_type": "code",
   "execution_count": 7,
   "id": "209b344b",
   "metadata": {},
   "outputs": [
    {
     "name": "stdout",
     "output_type": "stream",
     "text": [
      "<class 'pandas.core.frame.DataFrame'>\n",
      "RangeIndex: 9240 entries, 0 to 9239\n",
      "Data columns (total 37 columns):\n",
      " #   Column                                         Non-Null Count  Dtype  \n",
      "---  ------                                         --------------  -----  \n",
      " 0   Prospect ID                                    9240 non-null   object \n",
      " 1   Lead Number                                    9240 non-null   int64  \n",
      " 2   Lead Origin                                    9240 non-null   object \n",
      " 3   Lead Source                                    9204 non-null   object \n",
      " 4   Do Not Email                                   9240 non-null   object \n",
      " 5   Do Not Call                                    9240 non-null   object \n",
      " 6   Converted                                      9240 non-null   int64  \n",
      " 7   TotalVisits                                    9103 non-null   float64\n",
      " 8   Total Time Spent on Website                    9240 non-null   int64  \n",
      " 9   Page Views Per Visit                           9103 non-null   float64\n",
      " 10  Last Activity                                  9137 non-null   object \n",
      " 11  Country                                        6779 non-null   object \n",
      " 12  Specialization                                 7802 non-null   object \n",
      " 13  How did you hear about X Education             7033 non-null   object \n",
      " 14  What is your current occupation                6550 non-null   object \n",
      " 15  What matters most to you in choosing a course  6531 non-null   object \n",
      " 16  Search                                         9240 non-null   object \n",
      " 17  Magazine                                       9240 non-null   object \n",
      " 18  Newspaper Article                              9240 non-null   object \n",
      " 19  X Education Forums                             9240 non-null   object \n",
      " 20  Newspaper                                      9240 non-null   object \n",
      " 21  Digital Advertisement                          9240 non-null   object \n",
      " 22  Through Recommendations                        9240 non-null   object \n",
      " 23  Receive More Updates About Our Courses         9240 non-null   object \n",
      " 24  Tags                                           5887 non-null   object \n",
      " 25  Lead Quality                                   4473 non-null   object \n",
      " 26  Update me on Supply Chain Content              9240 non-null   object \n",
      " 27  Get updates on DM Content                      9240 non-null   object \n",
      " 28  Lead Profile                                   6531 non-null   object \n",
      " 29  City                                           7820 non-null   object \n",
      " 30  Asymmetrique Activity Index                    5022 non-null   object \n",
      " 31  Asymmetrique Profile Index                     5022 non-null   object \n",
      " 32  Asymmetrique Activity Score                    5022 non-null   float64\n",
      " 33  Asymmetrique Profile Score                     5022 non-null   float64\n",
      " 34  I agree to pay the amount through cheque       9240 non-null   object \n",
      " 35  A free copy of Mastering The Interview         9240 non-null   object \n",
      " 36  Last Notable Activity                          9240 non-null   object \n",
      "dtypes: float64(4), int64(3), object(30)\n",
      "memory usage: 2.6+ MB\n"
     ]
    }
   ],
   "source": [
    "leads.info()"
   ]
  },
  {
   "cell_type": "markdown",
   "id": "b3eaabe6",
   "metadata": {},
   "source": [
    "*Prospect ID* and *Lead Number* are merely identifiers of the lead, I **remove** these two columns since they don't add value for the analysis."
   ]
  },
  {
   "cell_type": "code",
   "execution_count": 8,
   "id": "6780a608",
   "metadata": {},
   "outputs": [],
   "source": [
    "leads.drop(['Prospect ID', 'Lead Number'], axis=1, inplace = True)"
   ]
  },
  {
   "cell_type": "code",
   "execution_count": 9,
   "id": "cce36cdf",
   "metadata": {},
   "outputs": [
    {
     "data": {
      "text/plain": [
       "Lead Origin                                         0\n",
       "Lead Source                                        36\n",
       "Do Not Email                                        0\n",
       "Do Not Call                                         0\n",
       "Converted                                           0\n",
       "TotalVisits                                       137\n",
       "Total Time Spent on Website                         0\n",
       "Page Views Per Visit                              137\n",
       "Last Activity                                     103\n",
       "Country                                          2461\n",
       "Specialization                                   1438\n",
       "How did you hear about X Education               2207\n",
       "What is your current occupation                  2690\n",
       "What matters most to you in choosing a course    2709\n",
       "Search                                              0\n",
       "Magazine                                            0\n",
       "Newspaper Article                                   0\n",
       "X Education Forums                                  0\n",
       "Newspaper                                           0\n",
       "Digital Advertisement                               0\n",
       "Through Recommendations                             0\n",
       "Receive More Updates About Our Courses              0\n",
       "Tags                                             3353\n",
       "Lead Quality                                     4767\n",
       "Update me on Supply Chain Content                   0\n",
       "Get updates on DM Content                           0\n",
       "Lead Profile                                     2709\n",
       "City                                             1420\n",
       "Asymmetrique Activity Index                      4218\n",
       "Asymmetrique Profile Index                       4218\n",
       "Asymmetrique Activity Score                      4218\n",
       "Asymmetrique Profile Score                       4218\n",
       "I agree to pay the amount through cheque            0\n",
       "A free copy of Mastering The Interview              0\n",
       "Last Notable Activity                               0\n",
       "dtype: int64"
      ]
     },
     "execution_count": 9,
     "metadata": {},
     "output_type": "execute_result"
    }
   ],
   "source": [
    "leads.isnull().sum()"
   ]
  },
  {
   "cell_type": "markdown",
   "id": "24c63dad",
   "metadata": {},
   "source": [
    "#### 5.1. Categorical variables"
   ]
  },
  {
   "cell_type": "markdown",
   "id": "8889574e",
   "metadata": {},
   "source": [
    "*Lead Origin* contains 5 possible origins of the lead:"
   ]
  },
  {
   "cell_type": "code",
   "execution_count": 10,
   "id": "0f4924e8",
   "metadata": {},
   "outputs": [
    {
     "data": {
      "text/plain": [
       "array(['API', 'Landing Page Submission', 'Lead Add Form', 'Lead Import',\n",
       "       'Quick Add Form'], dtype=object)"
      ]
     },
     "execution_count": 10,
     "metadata": {},
     "output_type": "execute_result"
    }
   ],
   "source": [
    "leads['Lead Origin'].unique()"
   ]
  },
  {
   "cell_type": "markdown",
   "id": "d98d9aa8",
   "metadata": {},
   "source": [
    "*Lead Source* holds the different sources of the leads. I join 'Google and 'google' into one single source. It has 36 nulls, I remove these 36 rows."
   ]
  },
  {
   "cell_type": "code",
   "execution_count": 11,
   "id": "54cca9f2",
   "metadata": {},
   "outputs": [
    {
     "data": {
      "text/plain": [
       "array(['Olark Chat', 'Organic Search', 'Direct Traffic', 'Google',\n",
       "       'Referral Sites', 'Welingak Website', 'Reference', 'google',\n",
       "       'Facebook', nan, 'blog', 'Pay per Click Ads', 'bing',\n",
       "       'Social Media', 'WeLearn', 'Click2call', 'Live Chat',\n",
       "       'welearnblog_Home', 'youtubechannel', 'testone', 'Press_Release',\n",
       "       'NC_EDM'], dtype=object)"
      ]
     },
     "execution_count": 11,
     "metadata": {},
     "output_type": "execute_result"
    }
   ],
   "source": [
    "leads['Lead Source'].unique()"
   ]
  },
  {
   "cell_type": "code",
   "execution_count": 12,
   "id": "f34a4abe",
   "metadata": {},
   "outputs": [],
   "source": [
    "leads.loc[leads['Lead Source'] == 'google','Lead Source'] = 'Google'"
   ]
  },
  {
   "cell_type": "code",
   "execution_count": 13,
   "id": "ef6bdd45",
   "metadata": {},
   "outputs": [],
   "source": [
    "leads.drop(leads.loc[leads['Lead Source'].isnull()].index, axis = 0, inplace = True)"
   ]
  },
  {
   "cell_type": "markdown",
   "id": "a8489ec7",
   "metadata": {},
   "source": [
    "While *Do Not Email* has a vast majority of \"No\" but still 8% of \"Yes\", *Do not Call* is an useless variable.I remove it."
   ]
  },
  {
   "cell_type": "code",
   "execution_count": 14,
   "id": "5d578a27",
   "metadata": {},
   "outputs": [
    {
     "data": {
      "text/plain": [
       "No     0.921664\n",
       "Yes    0.078336\n",
       "Name: Do Not Email, dtype: float64"
      ]
     },
     "execution_count": 14,
     "metadata": {},
     "output_type": "execute_result"
    }
   ],
   "source": [
    "leads['Do Not Email'].value_counts(normalize=True)"
   ]
  },
  {
   "cell_type": "code",
   "execution_count": 15,
   "id": "821a80e9",
   "metadata": {},
   "outputs": [
    {
     "data": {
      "text/plain": [
       "No     0.999783\n",
       "Yes    0.000217\n",
       "Name: Do Not Call, dtype: float64"
      ]
     },
     "execution_count": 15,
     "metadata": {},
     "output_type": "execute_result"
    }
   ],
   "source": [
    "leads['Do Not Call'].value_counts(normalize=True)"
   ]
  },
  {
   "cell_type": "code",
   "execution_count": 16,
   "id": "202dd720",
   "metadata": {},
   "outputs": [],
   "source": [
    "leads.drop('Do Not Call', axis=1, inplace=True)"
   ]
  },
  {
   "cell_type": "markdown",
   "id": "73f2d200",
   "metadata": {},
   "source": [
    "*Last Activity* describes up to 17 kinds of last activity carried out by the potential customer. The variable contains some null values, I remove those rows."
   ]
  },
  {
   "cell_type": "code",
   "execution_count": 17,
   "id": "536d2e2e",
   "metadata": {},
   "outputs": [
    {
     "data": {
      "text/plain": [
       "Email Opened                    0.377019\n",
       "SMS Sent                        0.299132\n",
       "Olark Chat Conversation         0.106888\n",
       "Page Visited on Website         0.070306\n",
       "Converted to Lead               0.047017\n",
       "Email Bounced                   0.035263\n",
       "Email Link Clicked              0.029331\n",
       "Form Submitted on Website       0.012743\n",
       "Unreachable                     0.010216\n",
       "Unsubscribed                    0.006481\n",
       "Had a Phone Conversation        0.003296\n",
       "Approached upfront              0.000989\n",
       "View in browser link Clicked    0.000659\n",
       "Email Received                  0.000220\n",
       "Email Marked Spam               0.000220\n",
       "Visited Booth in Tradeshow      0.000110\n",
       "Resubscribed to emails          0.000110\n",
       "Name: Last Activity, dtype: float64"
      ]
     },
     "execution_count": 17,
     "metadata": {},
     "output_type": "execute_result"
    }
   ],
   "source": [
    "leads['Last Activity'].value_counts(normalize=True)"
   ]
  },
  {
   "cell_type": "code",
   "execution_count": 18,
   "id": "7b329b31",
   "metadata": {},
   "outputs": [],
   "source": [
    "leads.drop(leads.loc[leads['Last Activity'].isnull()].index, axis = 0, inplace = True)"
   ]
  },
  {
   "cell_type": "markdown",
   "id": "0ad9474b",
   "metadata": {},
   "source": [
    "The information about the *Country* of the potential customer has low value, since 96% of the leads are from India and the rest is split among a miriad of countries. On top of that there are many nulls. So I decide to remove this column:"
   ]
  },
  {
   "cell_type": "code",
   "execution_count": 19,
   "id": "bdc87ac3",
   "metadata": {},
   "outputs": [
    {
     "data": {
      "text/plain": [
       "India                   0.957657\n",
       "United States           0.010180\n",
       "United Arab Emirates    0.007819\n",
       "Singapore               0.003541\n",
       "Saudi Arabia            0.003098\n",
       "United Kingdom          0.002213\n",
       "Australia               0.001918\n",
       "Qatar                   0.001475\n",
       "Hong Kong               0.001033\n",
       "Bahrain                 0.001033\n",
       "Oman                    0.000885\n",
       "France                  0.000885\n",
       "unknown                 0.000738\n",
       "South Africa            0.000590\n",
       "Nigeria                 0.000590\n",
       "Germany                 0.000590\n",
       "Kuwait                  0.000590\n",
       "Canada                  0.000590\n",
       "Sweden                  0.000443\n",
       "China                   0.000295\n",
       "Asia/Pacific Region     0.000295\n",
       "Uganda                  0.000295\n",
       "Bangladesh              0.000295\n",
       "Italy                   0.000295\n",
       "Belgium                 0.000295\n",
       "Netherlands             0.000295\n",
       "Ghana                   0.000295\n",
       "Philippines             0.000295\n",
       "Russia                  0.000148\n",
       "Switzerland             0.000148\n",
       "Vietnam                 0.000148\n",
       "Denmark                 0.000148\n",
       "Tanzania                0.000148\n",
       "Liberia                 0.000148\n",
       "Malaysia                0.000148\n",
       "Kenya                   0.000148\n",
       "Sri Lanka               0.000148\n",
       "Indonesia               0.000148\n",
       "Name: Country, dtype: float64"
      ]
     },
     "execution_count": 19,
     "metadata": {},
     "output_type": "execute_result"
    }
   ],
   "source": [
    "leads.Country.value_counts(normalize=True)"
   ]
  },
  {
   "cell_type": "code",
   "execution_count": 20,
   "id": "a8ec6120",
   "metadata": {},
   "outputs": [],
   "source": [
    "leads.drop('Country', axis=1, inplace=True)"
   ]
  },
  {
   "cell_type": "markdown",
   "id": "bf1fc7cb",
   "metadata": {},
   "source": [
    "The professional *Specialization* claimed by the potential customer shows an interesting information, but unfortunately it is not complete, there are many nulls. But I don't want to disregard the information and delete the column, so I follow a different approach: I just substitute the nulls (and the \"Select\") by the category \"unknown\"."
   ]
  },
  {
   "cell_type": "code",
   "execution_count": 21,
   "id": "6dc4190e",
   "metadata": {},
   "outputs": [
    {
     "data": {
      "text/plain": [
       "array(['Select', 'Business Administration', 'Media and Advertising', nan,\n",
       "       'Supply Chain Management', 'IT Projects Management',\n",
       "       'Finance Management', 'Travel and Tourism',\n",
       "       'Human Resource Management', 'Marketing Management',\n",
       "       'Banking, Investment And Insurance', 'International Business',\n",
       "       'E-COMMERCE', 'Operations Management', 'Retail Management',\n",
       "       'Services Excellence', 'Hospitality Management',\n",
       "       'Rural and Agribusiness', 'Healthcare Management', 'E-Business'],\n",
       "      dtype=object)"
      ]
     },
     "execution_count": 21,
     "metadata": {},
     "output_type": "execute_result"
    }
   ],
   "source": [
    "leads['Specialization'].unique()"
   ]
  },
  {
   "cell_type": "code",
   "execution_count": 22,
   "id": "e35b5889",
   "metadata": {},
   "outputs": [
    {
     "data": {
      "text/plain": [
       "Select                               0.242922\n",
       "Finance Management                   0.125636\n",
       "Human Resource Management            0.109328\n",
       "Marketing Management                 0.107502\n",
       "Operations Management                0.065101\n",
       "Business Administration              0.052446\n",
       "IT Projects Management               0.047750\n",
       "Supply Chain Management              0.045140\n",
       "Banking, Investment And Insurance    0.043705\n",
       "Travel and Tourism                   0.026354\n",
       "Media and Advertising                0.026354\n",
       "International Business               0.023222\n",
       "Healthcare Management                0.020352\n",
       "E-COMMERCE                           0.014481\n",
       "Hospitality Management               0.014481\n",
       "Retail Management                    0.013046\n",
       "Rural and Agribusiness               0.009524\n",
       "E-Business                           0.007436\n",
       "Services Excellence                  0.005219\n",
       "Name: Specialization, dtype: float64"
      ]
     },
     "execution_count": 22,
     "metadata": {},
     "output_type": "execute_result"
    }
   ],
   "source": [
    "leads.Specialization.value_counts(normalize=True)"
   ]
  },
  {
   "cell_type": "code",
   "execution_count": 23,
   "id": "e9eca27e",
   "metadata": {},
   "outputs": [],
   "source": [
    "leads.Specialization.replace({\"Select\": \"unknown\", np.nan: \"unknown\"}, inplace=True)"
   ]
  },
  {
   "cell_type": "code",
   "execution_count": 24,
   "id": "18d7dcd7",
   "metadata": {},
   "outputs": [
    {
     "data": {
      "text/plain": [
       "unknown                              0.362518\n",
       "Finance Management                   0.105789\n",
       "Human Resource Management            0.092058\n",
       "Marketing Management                 0.090520\n",
       "Operations Management                0.054817\n",
       "Business Administration              0.044161\n",
       "IT Projects Management               0.040207\n",
       "Supply Chain Management              0.038009\n",
       "Banking, Investment And Insurance    0.036801\n",
       "Travel and Tourism                   0.022190\n",
       "Media and Advertising                0.022190\n",
       "International Business               0.019554\n",
       "Healthcare Management                0.017137\n",
       "E-COMMERCE                           0.012194\n",
       "Hospitality Management               0.012194\n",
       "Retail Management                    0.010985\n",
       "Rural and Agribusiness               0.008019\n",
       "E-Business                           0.006262\n",
       "Services Excellence                  0.004394\n",
       "Name: Specialization, dtype: float64"
      ]
     },
     "execution_count": 24,
     "metadata": {},
     "output_type": "execute_result"
    }
   ],
   "source": [
    "leads.Specialization.value_counts(normalize=True)"
   ]
  },
  {
   "cell_type": "markdown",
   "id": "3987066d",
   "metadata": {},
   "source": [
    "*How did you hear about X Education* has more than 7.000 null values and most of the non-null ones are 'Select' so this information is useless and I remove the column."
   ]
  },
  {
   "cell_type": "code",
   "execution_count": 25,
   "id": "816cf464",
   "metadata": {
    "scrolled": true
   },
   "outputs": [
    {
     "data": {
      "text/plain": [
       "Select                   0.711717\n",
       "Online Search            0.117169\n",
       "Word Of Mouth            0.050319\n",
       "Student of SomeSchool    0.044954\n",
       "Other                    0.026972\n",
       "Multiple Sources         0.022042\n",
       "Advertisements           0.010151\n",
       "Social Media             0.009571\n",
       "Email                    0.003770\n",
       "SMS                      0.003335\n",
       "Name: How did you hear about X Education, dtype: float64"
      ]
     },
     "execution_count": 25,
     "metadata": {},
     "output_type": "execute_result"
    }
   ],
   "source": [
    "leads['How did you hear about X Education'].value_counts(normalize=True)"
   ]
  },
  {
   "cell_type": "code",
   "execution_count": 26,
   "id": "a97f591f",
   "metadata": {},
   "outputs": [],
   "source": [
    "leads.drop('How did you hear about X Education', axis=1, inplace=True)"
   ]
  },
  {
   "cell_type": "markdown",
   "id": "cabbe233",
   "metadata": {},
   "source": [
    "The *What is your current occupation* variable shows the current job of the potential customers which is an interesting information, but unfortunately it is not complete so I just substitute the nulls by the category \"unknown\"."
   ]
  },
  {
   "cell_type": "code",
   "execution_count": 27,
   "id": "5a1b38e7",
   "metadata": {},
   "outputs": [
    {
     "data": {
      "text/plain": [
       "Unemployed              0.856385\n",
       "Working Professional    0.106502\n",
       "Student                 0.032122\n",
       "Other                   0.002339\n",
       "Housewife               0.001403\n",
       "Businessman             0.001247\n",
       "Name: What is your current occupation, dtype: float64"
      ]
     },
     "execution_count": 27,
     "metadata": {},
     "output_type": "execute_result"
    }
   ],
   "source": [
    "leads['What is your current occupation'].value_counts(normalize=True)"
   ]
  },
  {
   "cell_type": "code",
   "execution_count": 28,
   "id": "b3a206d4",
   "metadata": {},
   "outputs": [],
   "source": [
    "leads['What is your current occupation'].replace({np.nan: \"unknown\"}, inplace=True)"
   ]
  },
  {
   "cell_type": "code",
   "execution_count": 29,
   "id": "49abbc9d",
   "metadata": {},
   "outputs": [
    {
     "data": {
      "text/plain": [
       "Unemployed              0.603318\n",
       "unknown                 0.295507\n",
       "Working Professional    0.075030\n",
       "Student                 0.022630\n",
       "Other                   0.001648\n",
       "Housewife               0.000989\n",
       "Businessman             0.000879\n",
       "Name: What is your current occupation, dtype: float64"
      ]
     },
     "execution_count": 29,
     "metadata": {},
     "output_type": "execute_result"
    }
   ],
   "source": [
    "leads['What is your current occupation'].value_counts(normalize=True)"
   ]
  },
  {
   "cell_type": "markdown",
   "id": "9b60ef23",
   "metadata": {},
   "source": [
    "The variables *'What matters most to you in choosing a course'* and *'Search' / 'Magazine' / 'Newspaper Article' / 'X Education Forums' / 'Newspaper' / 'Digital Advertisement' / 'Through Recommendations' / 'Receive More Updates About Our Courses'* are useless since they have one single value. So I remove them. "
   ]
  },
  {
   "cell_type": "code",
   "execution_count": 30,
   "id": "ca6324d5",
   "metadata": {},
   "outputs": [
    {
     "data": {
      "text/plain": [
       "Better Career Prospects      0.999687\n",
       "Flexibility & Convenience    0.000156\n",
       "Other                        0.000156\n",
       "Name: What matters most to you in choosing a course, dtype: float64"
      ]
     },
     "execution_count": 30,
     "metadata": {},
     "output_type": "execute_result"
    }
   ],
   "source": [
    "leads['What matters most to you in choosing a course'].value_counts(normalize=True)"
   ]
  },
  {
   "cell_type": "code",
   "execution_count": 31,
   "id": "c0096ea7",
   "metadata": {},
   "outputs": [],
   "source": [
    "leads.drop('What matters most to you in choosing a course', axis=1, inplace=True)"
   ]
  },
  {
   "cell_type": "code",
   "execution_count": 32,
   "id": "75b94897",
   "metadata": {},
   "outputs": [
    {
     "data": {
      "text/plain": [
       "No     0.998462\n",
       "Yes    0.001538\n",
       "Name: Search, dtype: float64"
      ]
     },
     "execution_count": 32,
     "metadata": {},
     "output_type": "execute_result"
    }
   ],
   "source": [
    "leads['Search'].value_counts(normalize=True)"
   ]
  },
  {
   "cell_type": "code",
   "execution_count": 33,
   "id": "19a87078",
   "metadata": {},
   "outputs": [
    {
     "data": {
      "text/plain": [
       "No    1.0\n",
       "Name: Magazine, dtype: float64"
      ]
     },
     "execution_count": 33,
     "metadata": {},
     "output_type": "execute_result"
    }
   ],
   "source": [
    "leads['Magazine'].value_counts(normalize=True)"
   ]
  },
  {
   "cell_type": "code",
   "execution_count": 34,
   "id": "d8a5d7d5",
   "metadata": {},
   "outputs": [
    {
     "data": {
      "text/plain": [
       "No     0.99978\n",
       "Yes    0.00022\n",
       "Name: Newspaper Article, dtype: float64"
      ]
     },
     "execution_count": 34,
     "metadata": {},
     "output_type": "execute_result"
    }
   ],
   "source": [
    "leads['Newspaper Article'].value_counts(normalize=True)"
   ]
  },
  {
   "cell_type": "code",
   "execution_count": 35,
   "id": "b4d475c2",
   "metadata": {},
   "outputs": [
    {
     "data": {
      "text/plain": [
       "No     0.99989\n",
       "Yes    0.00011\n",
       "Name: X Education Forums, dtype: float64"
      ]
     },
     "execution_count": 35,
     "metadata": {},
     "output_type": "execute_result"
    }
   ],
   "source": [
    "leads['X Education Forums'].value_counts(normalize=True)"
   ]
  },
  {
   "cell_type": "code",
   "execution_count": 36,
   "id": "7dc791ed",
   "metadata": {},
   "outputs": [
    {
     "data": {
      "text/plain": [
       "No     0.99989\n",
       "Yes    0.00011\n",
       "Name: Newspaper, dtype: float64"
      ]
     },
     "execution_count": 36,
     "metadata": {},
     "output_type": "execute_result"
    }
   ],
   "source": [
    "leads['Newspaper'].value_counts(normalize=True)"
   ]
  },
  {
   "cell_type": "code",
   "execution_count": 37,
   "id": "83663088",
   "metadata": {},
   "outputs": [
    {
     "data": {
      "text/plain": [
       "No     0.999561\n",
       "Yes    0.000439\n",
       "Name: Digital Advertisement, dtype: float64"
      ]
     },
     "execution_count": 37,
     "metadata": {},
     "output_type": "execute_result"
    }
   ],
   "source": [
    "leads['Digital Advertisement'].value_counts(normalize=True)"
   ]
  },
  {
   "cell_type": "code",
   "execution_count": 38,
   "id": "1d60eea9",
   "metadata": {},
   "outputs": [
    {
     "data": {
      "text/plain": [
       "No     0.999231\n",
       "Yes    0.000769\n",
       "Name: Through Recommendations, dtype: float64"
      ]
     },
     "execution_count": 38,
     "metadata": {},
     "output_type": "execute_result"
    }
   ],
   "source": [
    "leads['Through Recommendations'].value_counts(normalize=True)"
   ]
  },
  {
   "cell_type": "code",
   "execution_count": 39,
   "id": "7da34071",
   "metadata": {},
   "outputs": [
    {
     "data": {
      "text/plain": [
       "No    1.0\n",
       "Name: Receive More Updates About Our Courses, dtype: float64"
      ]
     },
     "execution_count": 39,
     "metadata": {},
     "output_type": "execute_result"
    }
   ],
   "source": [
    "leads['Receive More Updates About Our Courses'].value_counts(normalize=True)"
   ]
  },
  {
   "cell_type": "code",
   "execution_count": 40,
   "id": "86799e0f",
   "metadata": {},
   "outputs": [],
   "source": [
    "leads.drop(['Search', 'Magazine', 'Newspaper Article','X Education Forums','Newspaper', 'Digital Advertisement', 'Through Recommendations', 'Receive More Updates About Our Courses'], axis=1, inplace=True)"
   ]
  },
  {
   "cell_type": "markdown",
   "id": "3eb8df7a",
   "metadata": {},
   "source": [
    "The *'Tag'* variable shows useful info about the leads, but it is not complete so I just substitute the nulls by the category \"unknown\"."
   ]
  },
  {
   "cell_type": "code",
   "execution_count": 41,
   "id": "1fb4f346",
   "metadata": {},
   "outputs": [
    {
     "data": {
      "text/plain": [
       "Will revert after reading the email                  0.351187\n",
       "Ringing                                              0.206102\n",
       "Interested in other courses                          0.088230\n",
       "Already a student                                    0.080603\n",
       "Closed by Horizzon                                   0.053909\n",
       "switched off                                         0.041602\n",
       "Busy                                                 0.032068\n",
       "Lost to EINS                                         0.029815\n",
       "Not doing further education                          0.025134\n",
       "Interested  in full time MBA                         0.020107\n",
       "Graduation in progress                               0.019241\n",
       "invalid number                                       0.014387\n",
       "Diploma holder (Not Eligible)                        0.010920\n",
       "wrong number given                                   0.008147\n",
       "opp hangup                                           0.005720\n",
       "number not provided                                  0.004334\n",
       "in touch with EINS                                   0.002080\n",
       "Lost to Others                                       0.001213\n",
       "Still Thinking                                       0.001040\n",
       "Want to take admission but has financial problems    0.001040\n",
       "In confusion whether part time or DLP                0.000867\n",
       "Interested in Next batch                             0.000867\n",
       "Lateral student                                      0.000520\n",
       "Shall take in the next coming month                  0.000347\n",
       "University not recognized                            0.000347\n",
       "Recognition issue (DEC approval)                     0.000173\n",
       "Name: Tags, dtype: float64"
      ]
     },
     "execution_count": 41,
     "metadata": {},
     "output_type": "execute_result"
    }
   ],
   "source": [
    "leads['Tags'].value_counts(normalize=True)"
   ]
  },
  {
   "cell_type": "code",
   "execution_count": 42,
   "id": "d26182b0",
   "metadata": {},
   "outputs": [],
   "source": [
    "leads['Tags'].replace({np.nan: \"unknown\"}, inplace=True)"
   ]
  },
  {
   "cell_type": "markdown",
   "id": "69669ecd",
   "metadata": {},
   "source": [
    "Same than previous variable for *'Lead Quality'*:"
   ]
  },
  {
   "cell_type": "code",
   "execution_count": 43,
   "id": "ae18ca4c",
   "metadata": {},
   "outputs": [
    {
     "data": {
      "text/plain": [
       "Might be             0.348422\n",
       "Not Sure             0.248285\n",
       "High in Relevance    0.138546\n",
       "Worst                0.137403\n",
       "Low in Relevance     0.127343\n",
       "Name: Lead Quality, dtype: float64"
      ]
     },
     "execution_count": 43,
     "metadata": {},
     "output_type": "execute_result"
    }
   ],
   "source": [
    "leads['Lead Quality'].value_counts(normalize=True)"
   ]
  },
  {
   "cell_type": "code",
   "execution_count": 44,
   "id": "62a81109",
   "metadata": {},
   "outputs": [],
   "source": [
    "leads['Lead Quality'].replace({np.nan: \"unknown\"}, inplace=True)"
   ]
  },
  {
   "cell_type": "markdown",
   "id": "af507def",
   "metadata": {},
   "source": [
    "The next two variables, *'Update me on Supply Chain Content'*  and *'Get updates on DM Content'* are also useless so I remove them:"
   ]
  },
  {
   "cell_type": "code",
   "execution_count": 45,
   "id": "8dd9b5a7",
   "metadata": {},
   "outputs": [
    {
     "data": {
      "text/plain": [
       "No    1.0\n",
       "Name: Update me on Supply Chain Content, dtype: float64"
      ]
     },
     "execution_count": 45,
     "metadata": {},
     "output_type": "execute_result"
    }
   ],
   "source": [
    "leads['Update me on Supply Chain Content'].value_counts(normalize=True)"
   ]
  },
  {
   "cell_type": "code",
   "execution_count": 46,
   "id": "000564ae",
   "metadata": {},
   "outputs": [
    {
     "data": {
      "text/plain": [
       "No    1.0\n",
       "Name: Get updates on DM Content, dtype: float64"
      ]
     },
     "execution_count": 46,
     "metadata": {},
     "output_type": "execute_result"
    }
   ],
   "source": [
    "leads['Get updates on DM Content'].value_counts(normalize=True)"
   ]
  },
  {
   "cell_type": "code",
   "execution_count": 47,
   "id": "843a1620",
   "metadata": {},
   "outputs": [],
   "source": [
    "leads.drop(['Update me on Supply Chain Content', 'Get updates on DM Content'], axis=1, inplace=True)"
   ]
  },
  {
   "cell_type": "markdown",
   "id": "42670a68",
   "metadata": {},
   "source": [
    "*'Lead Profile'* and *'City'* have a lot of null values, and also \"Select\" values, so I remove this two columns:"
   ]
  },
  {
   "cell_type": "code",
   "execution_count": 48,
   "id": "5fce8e13",
   "metadata": {},
   "outputs": [
    {
     "data": {
      "text/plain": [
       "Select                         0.635439\n",
       "Potential Lead                 0.245230\n",
       "Other Leads                    0.075383\n",
       "Student of SomeSchool          0.037535\n",
       "Lateral Student                0.003284\n",
       "Dual Specialization Student    0.003128\n",
       "Name: Lead Profile, dtype: float64"
      ]
     },
     "execution_count": 48,
     "metadata": {},
     "output_type": "execute_result"
    }
   ],
   "source": [
    "leads['Lead Profile'].value_counts(normalize=True)"
   ]
  },
  {
   "cell_type": "code",
   "execution_count": 49,
   "id": "59b1de0b",
   "metadata": {},
   "outputs": [
    {
     "data": {
      "text/plain": [
       "Mumbai                         0.414421\n",
       "Select                         0.282312\n",
       "Thane & Outskirts              0.097358\n",
       "Other Cities                   0.088507\n",
       "Other Cities of Maharashtra    0.058571\n",
       "Other Metro Cities             0.049200\n",
       "Tier II Cities                 0.009632\n",
       "Name: City, dtype: float64"
      ]
     },
     "execution_count": 49,
     "metadata": {},
     "output_type": "execute_result"
    }
   ],
   "source": [
    "leads['City'].value_counts(normalize=True)"
   ]
  },
  {
   "cell_type": "code",
   "execution_count": 50,
   "id": "78c1a887",
   "metadata": {},
   "outputs": [],
   "source": [
    "leads.drop(['Lead Profile', 'City'], axis=1, inplace=True)"
   ]
  },
  {
   "cell_type": "markdown",
   "id": "feb8306f",
   "metadata": {},
   "source": [
    "Now I face four variables that are somehow linked, in two pairs numeric/categorical. The *'Asymmetrique Activity'* has an *'Index'* and a *'Score'*. The same happens with *'Asymmetrique Profile'*. Basically, the 'scores' are given to the leads based on their activity or their profile. These scores are then grouped in 3 bins (low / medium / high) and these are the 'indexes'.\n",
    "\n",
    "These are valuable data, but again there are a lot of nulls.\n",
    "\n",
    "So my strategy is to keep only the categorical variables (the 'indexes') and fill the nulls with the category 'unknown'."
   ]
  },
  {
   "cell_type": "code",
   "execution_count": 51,
   "id": "98308783",
   "metadata": {},
   "outputs": [
    {
     "data": {
      "image/png": "[encoded data removed]",
      "text/plain": [
       "<Figure size 1368x360 with 2 Axes>"
      ]
     },
     "metadata": {
      "needs_background": "light"
     },
     "output_type": "display_data"
    }
   ],
   "source": [
    "plt.rcParams.update({'font.size': 15, 'figure.figsize': (19,5)})\n",
    "plt.subplot(1,2,1)\n",
    "sns.histplot(x=leads['Asymmetrique Activity Score'], data=leads, hue=leads['Asymmetrique Activity Index'])\n",
    "plt.subplot(1,2,2)\n",
    "sns.histplot(x=leads['Asymmetrique Profile Score'], data=leads, hue=leads['Asymmetrique Profile Index']);"
   ]
  },
  {
   "cell_type": "code",
   "execution_count": 52,
   "id": "70732542",
   "metadata": {},
   "outputs": [
    {
     "data": {
      "text/plain": [
       "02.Medium    0.76072\n",
       "01.High      0.16606\n",
       "03.Low       0.07322\n",
       "Name: Asymmetrique Activity Index, dtype: float64"
      ]
     },
     "execution_count": 52,
     "metadata": {},
     "output_type": "execute_result"
    }
   ],
   "source": [
    "leads['Asymmetrique Activity Index'].value_counts(normalize=True)"
   ]
  },
  {
   "cell_type": "code",
   "execution_count": 53,
   "id": "bcae99a1",
   "metadata": {},
   "outputs": [],
   "source": [
    "leads['Asymmetrique Activity Index'].replace({np.nan: \"unknown\"}, inplace=True)"
   ]
  },
  {
   "cell_type": "code",
   "execution_count": 54,
   "id": "b2683d97",
   "metadata": {},
   "outputs": [
    {
     "data": {
      "text/plain": [
       "02.Medium    0.555421\n",
       "01.High      0.438309\n",
       "03.Low       0.006270\n",
       "Name: Asymmetrique Profile Index, dtype: float64"
      ]
     },
     "execution_count": 54,
     "metadata": {},
     "output_type": "execute_result"
    }
   ],
   "source": [
    "leads['Asymmetrique Profile Index'].value_counts(normalize=True)"
   ]
  },
  {
   "cell_type": "code",
   "execution_count": 55,
   "id": "bb665882",
   "metadata": {},
   "outputs": [],
   "source": [
    "leads['Asymmetrique Profile Index'].replace({np.nan: \"unknown\"}, inplace=True)"
   ]
  },
  {
   "cell_type": "code",
   "execution_count": 56,
   "id": "fcc6aba5",
   "metadata": {},
   "outputs": [],
   "source": [
    "leads.drop('Asymmetrique Activity Score', axis=1, inplace=True) \n",
    "leads.drop('Asymmetrique Profile Score', axis=1, inplace=True)"
   ]
  },
  {
   "cell_type": "markdown",
   "id": "75983b30",
   "metadata": {},
   "source": [
    "It is not a surprise that the variable *'I agree to pay the amount through cheque'* contains 100% of 'No' :)\n",
    "I remove it."
   ]
  },
  {
   "cell_type": "code",
   "execution_count": 57,
   "id": "7528dcd7",
   "metadata": {},
   "outputs": [
    {
     "data": {
      "text/plain": [
       "No    1.0\n",
       "Name: I agree to pay the amount through cheque, dtype: float64"
      ]
     },
     "execution_count": 57,
     "metadata": {},
     "output_type": "execute_result"
    }
   ],
   "source": [
    "leads['I agree to pay the amount through cheque'].value_counts(normalize=True)"
   ]
  },
  {
   "cell_type": "code",
   "execution_count": 58,
   "id": "fa2605f2",
   "metadata": {},
   "outputs": [],
   "source": [
    "leads.drop('I agree to pay the amount through cheque', axis=1, inplace=True)"
   ]
  },
  {
   "cell_type": "markdown",
   "id": "97cdcbf2",
   "metadata": {},
   "source": [
    "The *'A free copy of Mastering The Interview'* contains how many leads wanted a free copy of that training material"
   ]
  },
  {
   "cell_type": "code",
   "execution_count": 59,
   "id": "39c82e69",
   "metadata": {},
   "outputs": [
    {
     "data": {
      "text/plain": [
       "No     0.682742\n",
       "Yes    0.317258\n",
       "Name: A free copy of Mastering The Interview, dtype: float64"
      ]
     },
     "execution_count": 59,
     "metadata": {},
     "output_type": "execute_result"
    }
   ],
   "source": [
    "leads['A free copy of Mastering The Interview'].value_counts(normalize=True)"
   ]
  },
  {
   "cell_type": "markdown",
   "id": "40a9fabc",
   "metadata": {},
   "source": [
    "*Last Notable Activity* describes the last notable activity carried out by the potential customer:"
   ]
  },
  {
   "cell_type": "code",
   "execution_count": 60,
   "id": "925e6f7e",
   "metadata": {},
   "outputs": [
    {
     "data": {
      "text/plain": [
       "Modified                        0.362078\n",
       "Email Opened                    0.310118\n",
       "SMS Sent                        0.236406\n",
       "Page Visited on Website         0.034934\n",
       "Olark Chat Conversation         0.020103\n",
       "Email Link Clicked              0.019005\n",
       "Email Bounced                   0.006591\n",
       "Unsubscribed                    0.004943\n",
       "Unreachable                     0.003515\n",
       "Had a Phone Conversation        0.001538\n",
       "Email Marked Spam               0.000220\n",
       "Approached upfront              0.000110\n",
       "Resubscribed to emails          0.000110\n",
       "View in browser link Clicked    0.000110\n",
       "Form Submitted on Website       0.000110\n",
       "Email Received                  0.000110\n",
       "Name: Last Notable Activity, dtype: float64"
      ]
     },
     "execution_count": 60,
     "metadata": {},
     "output_type": "execute_result"
    }
   ],
   "source": [
    "leads['Last Notable Activity'].value_counts(normalize=True)"
   ]
  },
  {
   "cell_type": "markdown",
   "id": "9172bb39",
   "metadata": {},
   "source": [
    "#### 5.2 Numeric variables"
   ]
  },
  {
   "cell_type": "markdown",
   "id": "a6d9714c",
   "metadata": {},
   "source": [
    "I remain with 3 numeric variables + the target variable. The variable *'TotalVisits'* has a few nulls so I remove those rows."
   ]
  },
  {
   "cell_type": "code",
   "execution_count": 61,
   "id": "8eb56e14",
   "metadata": {},
   "outputs": [],
   "source": [
    "leads.drop(leads.loc[(leads['TotalVisits'].isnull()|leads['Page Views Per Visit'].isnull())].index, axis = 0, inplace = True)"
   ]
  },
  {
   "cell_type": "markdown",
   "id": "785d2e58",
   "metadata": {},
   "source": [
    "*TotalVisits* and *Page Views Per Visit* have the mean and the mode relatively close, while *Total Time Spent on Website* clearly is not a symmetrical variable.\n",
    "\n",
    "Nevertheless, for all the variables the maximum is very far away from the mean and the mode. This indicates the data is skewed and the presence of outliers."
   ]
  },
  {
   "cell_type": "code",
   "execution_count": 62,
   "id": "0e16e818",
   "metadata": {},
   "outputs": [
    {
     "data": {
      "text/html": [
       "<div>\n",
       "<style scoped>\n",
       "    .dataframe tbody tr th:only-of-type {\n",
       "        vertical-align: middle;\n",
       "    }\n",
       "\n",
       "    .dataframe tbody tr th {\n",
       "        vertical-align: top;\n",
       "    }\n",
       "\n",
       "    .dataframe thead th {\n",
       "        text-align: right;\n",
       "    }\n",
       "</style>\n",
       "<table border=\"1\" class=\"dataframe\">\n",
       "  <thead>\n",
       "    <tr style=\"text-align: right;\">\n",
       "      <th></th>\n",
       "      <th>Converted</th>\n",
       "      <th>TotalVisits</th>\n",
       "      <th>Total Time Spent on Website</th>\n",
       "      <th>Page Views Per Visit</th>\n",
       "    </tr>\n",
       "  </thead>\n",
       "  <tbody>\n",
       "    <tr>\n",
       "      <th>count</th>\n",
       "      <td>9074.0</td>\n",
       "      <td>9074.0</td>\n",
       "      <td>9074.0</td>\n",
       "      <td>9074.0</td>\n",
       "    </tr>\n",
       "    <tr>\n",
       "      <th>mean</th>\n",
       "      <td>0.4</td>\n",
       "      <td>3.5</td>\n",
       "      <td>482.9</td>\n",
       "      <td>2.4</td>\n",
       "    </tr>\n",
       "    <tr>\n",
       "      <th>std</th>\n",
       "      <td>0.5</td>\n",
       "      <td>4.9</td>\n",
       "      <td>545.3</td>\n",
       "      <td>2.2</td>\n",
       "    </tr>\n",
       "    <tr>\n",
       "      <th>min</th>\n",
       "      <td>0.0</td>\n",
       "      <td>0.0</td>\n",
       "      <td>0.0</td>\n",
       "      <td>0.0</td>\n",
       "    </tr>\n",
       "    <tr>\n",
       "      <th>25%</th>\n",
       "      <td>0.0</td>\n",
       "      <td>1.0</td>\n",
       "      <td>11.0</td>\n",
       "      <td>1.0</td>\n",
       "    </tr>\n",
       "    <tr>\n",
       "      <th>50%</th>\n",
       "      <td>0.0</td>\n",
       "      <td>3.0</td>\n",
       "      <td>246.0</td>\n",
       "      <td>2.0</td>\n",
       "    </tr>\n",
       "    <tr>\n",
       "      <th>75%</th>\n",
       "      <td>1.0</td>\n",
       "      <td>5.0</td>\n",
       "      <td>922.8</td>\n",
       "      <td>3.2</td>\n",
       "    </tr>\n",
       "    <tr>\n",
       "      <th>max</th>\n",
       "      <td>1.0</td>\n",
       "      <td>251.0</td>\n",
       "      <td>2272.0</td>\n",
       "      <td>55.0</td>\n",
       "    </tr>\n",
       "  </tbody>\n",
       "</table>\n",
       "</div>"
      ],
      "text/plain": [
       "       Converted  TotalVisits  Total Time Spent on Website  \\\n",
       "count     9074.0       9074.0                       9074.0   \n",
       "mean         0.4          3.5                        482.9   \n",
       "std          0.5          4.9                        545.3   \n",
       "min          0.0          0.0                          0.0   \n",
       "25%          0.0          1.0                         11.0   \n",
       "50%          0.0          3.0                        246.0   \n",
       "75%          1.0          5.0                        922.8   \n",
       "max          1.0        251.0                       2272.0   \n",
       "\n",
       "       Page Views Per Visit  \n",
       "count                9074.0  \n",
       "mean                    2.4  \n",
       "std                     2.2  \n",
       "min                     0.0  \n",
       "25%                     1.0  \n",
       "50%                     2.0  \n",
       "75%                     3.2  \n",
       "max                    55.0  "
      ]
     },
     "execution_count": 62,
     "metadata": {},
     "output_type": "execute_result"
    }
   ],
   "source": [
    "round(leads.describe(),1)"
   ]
  },
  {
   "cell_type": "markdown",
   "id": "17998efe",
   "metadata": {},
   "source": [
    "After data cleaning we end up with 1 target variable, 3 numeric variables, 12 categorical variables and 9.074 records."
   ]
  },
  {
   "cell_type": "code",
   "execution_count": 63,
   "id": "8c9f7890",
   "metadata": {},
   "outputs": [
    {
     "data": {
      "text/plain": [
       "(9074, 16)"
      ]
     },
     "execution_count": 63,
     "metadata": {},
     "output_type": "execute_result"
    }
   ],
   "source": [
    "leads.shape"
   ]
  },
  {
   "cell_type": "markdown",
   "id": "83d2cbf8",
   "metadata": {},
   "source": [
    "### 6) Features graphic representation"
   ]
  },
  {
   "cell_type": "code",
   "execution_count": 64,
   "id": "ef348ae3",
   "metadata": {},
   "outputs": [
    {
     "name": "stdout",
     "output_type": "stream",
     "text": [
      "['TotalVisits', 'Total Time Spent on Website', 'Page Views Per Visit']\n"
     ]
    }
   ],
   "source": [
    "#Numeric variables\n",
    "num_vars= list(leads.select_dtypes(include=['float64', 'int64']).columns)\n",
    "num_vars.remove('Converted')\n",
    "print(num_vars)"
   ]
  },
  {
   "cell_type": "markdown",
   "id": "f41c49e9",
   "metadata": {},
   "source": [
    "None of the  numeric variables has a normal distribution, and *TotalVisits* and *PAge Views Per Visit* show outliers."
   ]
  },
  {
   "cell_type": "code",
   "execution_count": 65,
   "id": "dccf3b60",
   "metadata": {},
   "outputs": [
    {
     "data": {
      "image/png": "[encoded data removed]",
      "text/plain": [
       "<Figure size 1368x864 with 6 Axes>"
      ]
     },
     "metadata": {
      "needs_background": "light"
     },
     "output_type": "display_data"
    }
   ],
   "source": [
    "# Histogram and boxplot\n",
    "f, axes = plt.subplots(3,2, figsize = (19,12))\n",
    "f.suptitle('Numeric features Histogram and Boxplot', fontsize = 17)\n",
    "for i, name in enumerate(num_vars):\n",
    "    sns.histplot(x=leads[name], data=leads, ax = axes[i][0])\n",
    "    sns.boxplot(x=leads[name], data=leads, ax = axes[i][1]);"
   ]
  },
  {
   "cell_type": "code",
   "execution_count": 66,
   "id": "d6a37b7a",
   "metadata": {},
   "outputs": [
    {
     "name": "stdout",
     "output_type": "stream",
     "text": [
      "['Lead Origin', 'Lead Source', 'Do Not Email', 'Last Activity', 'Specialization', 'What is your current occupation', 'Tags', 'Lead Quality', 'Asymmetrique Activity Index', 'Asymmetrique Profile Index', 'A free copy of Mastering The Interview', 'Last Notable Activity']\n"
     ]
    }
   ],
   "source": [
    "#Categorical variables\n",
    "cat_vars= list(leads.select_dtypes(object).columns)\n",
    "print(cat_vars)"
   ]
  },
  {
   "cell_type": "code",
   "execution_count": 67,
   "id": "20b6629b",
   "metadata": {
    "scrolled": false
   },
   "outputs": [
    {
     "data": {
      "image/png": "[encoded data removed]",
      "text/plain": [
       "<Figure size 2736x6480 with 12 Axes>"
      ]
     },
     "metadata": {
      "needs_background": "light"
     },
     "output_type": "display_data"
    }
   ],
   "source": [
    "#Categorical variables distribution\n",
    "f, axes = plt.subplots(12,1, figsize = (38, 90))\n",
    "for i, ax in enumerate(axes.flatten()): \n",
    "    sns.countplot(y=leads[cat_vars].iloc[: , i], ax = ax); "
   ]
  },
  {
   "cell_type": "markdown",
   "id": "0ca6bc98",
   "metadata": {},
   "source": [
    "### 7) Trends and patterns in the categorical variables"
   ]
  },
  {
   "cell_type": "markdown",
   "id": "d39d3638",
   "metadata": {},
   "source": [
    "To identify patterns in the leads I scan the different categories in each variable. selecting those that:\n",
    "\n",
    "    - have a significant number of leads (greater than 500 leads out of 9.074).\n",
    "    - have a significant degree of Converted leads (more that 50% when the average is 39%)"
   ]
  },
  {
   "cell_type": "code",
   "execution_count": 68,
   "id": "cec49deb",
   "metadata": {},
   "outputs": [
    {
     "data": {
      "text/html": [
       "<div>\n",
       "<style scoped>\n",
       "    .dataframe tbody tr th:only-of-type {\n",
       "        vertical-align: middle;\n",
       "    }\n",
       "\n",
       "    .dataframe tbody tr th {\n",
       "        vertical-align: top;\n",
       "    }\n",
       "\n",
       "    .dataframe thead th {\n",
       "        text-align: right;\n",
       "    }\n",
       "</style>\n",
       "<table border=\"1\" class=\"dataframe\">\n",
       "  <thead>\n",
       "    <tr style=\"text-align: right;\">\n",
       "      <th></th>\n",
       "      <th>Category</th>\n",
       "      <th>Converted</th>\n",
       "      <th>Total</th>\n",
       "      <th>%</th>\n",
       "    </tr>\n",
       "  </thead>\n",
       "  <tbody>\n",
       "    <tr>\n",
       "      <th>12</th>\n",
       "      <td>Last Activity-SMS Sent</td>\n",
       "      <td>1705</td>\n",
       "      <td>2716</td>\n",
       "      <td>0.627761</td>\n",
       "    </tr>\n",
       "    <tr>\n",
       "      <th>12</th>\n",
       "      <td>Last Notable Activity-SMS Sent</td>\n",
       "      <td>1489</td>\n",
       "      <td>2152</td>\n",
       "      <td>0.691914</td>\n",
       "    </tr>\n",
       "    <tr>\n",
       "      <th>19</th>\n",
       "      <td>Tags-Will revert after reading the email</td>\n",
       "      <td>1957</td>\n",
       "      <td>2016</td>\n",
       "      <td>0.970734</td>\n",
       "    </tr>\n",
       "    <tr>\n",
       "      <th>2</th>\n",
       "      <td>Lead Quality-Might be</td>\n",
       "      <td>1150</td>\n",
       "      <td>1519</td>\n",
       "      <td>0.757077</td>\n",
       "    </tr>\n",
       "    <tr>\n",
       "      <th>5</th>\n",
       "      <td>What is your current occupation-Working Profes...</td>\n",
       "      <td>622</td>\n",
       "      <td>677</td>\n",
       "      <td>0.918759</td>\n",
       "    </tr>\n",
       "    <tr>\n",
       "      <th>0</th>\n",
       "      <td>Lead Quality-High in Relevance</td>\n",
       "      <td>558</td>\n",
       "      <td>592</td>\n",
       "      <td>0.942568</td>\n",
       "    </tr>\n",
       "    <tr>\n",
       "      <th>2</th>\n",
       "      <td>Lead Origin-Lead Add Form</td>\n",
       "      <td>544</td>\n",
       "      <td>581</td>\n",
       "      <td>0.936317</td>\n",
       "    </tr>\n",
       "    <tr>\n",
       "      <th>1</th>\n",
       "      <td>Lead Quality-Low in Relevance</td>\n",
       "      <td>455</td>\n",
       "      <td>556</td>\n",
       "      <td>0.818345</td>\n",
       "    </tr>\n",
       "  </tbody>\n",
       "</table>\n",
       "</div>"
      ],
      "text/plain": [
       "                                             Category Converted Total  \\\n",
       "12                             Last Activity-SMS Sent      1705  2716   \n",
       "12                     Last Notable Activity-SMS Sent      1489  2152   \n",
       "19           Tags-Will revert after reading the email      1957  2016   \n",
       "2                               Lead Quality-Might be      1150  1519   \n",
       "5   What is your current occupation-Working Profes...       622   677   \n",
       "0                      Lead Quality-High in Relevance       558   592   \n",
       "2                           Lead Origin-Lead Add Form       544   581   \n",
       "1                       Lead Quality-Low in Relevance       455   556   \n",
       "\n",
       "           %  \n",
       "12  0.627761  \n",
       "12  0.691914  \n",
       "19  0.970734  \n",
       "2   0.757077  \n",
       "5   0.918759  \n",
       "0   0.942568  \n",
       "2   0.936317  \n",
       "1   0.818345  "
      ]
     },
     "execution_count": 68,
     "metadata": {},
     "output_type": "execute_result"
    }
   ],
   "source": [
    "patterns = pd.DataFrame(columns=['Category', 'sum', 'count', 'mean'])\n",
    "for i in cat_vars:\n",
    "    groups=leads.groupby([i])['Converted'].agg(['sum','count', 'mean'])\n",
    "    df= groups.rename_axis('Category').reset_index()\n",
    "    df['Category']= i +'-'+ df['Category']\n",
    "    df.drop(df.loc[(df['count']<500)|(df['mean']<0.50)].index, axis = 0, inplace = True)\n",
    "    patterns = patterns.append(df)\n",
    "patterns.rename(columns = {'sum': 'Converted', 'count': 'Total', 'mean':'%'}, inplace=True)\n",
    "patterns.sort_values(['Total'], ascending=False)"
   ]
  },
  {
   "cell_type": "markdown",
   "id": "d13f6590",
   "metadata": {},
   "source": [
    "There are 8 categories that indicate a high probability that the lead will be converted:\n",
    "\n",
    "    - Lead Origin: **Lead Add Form**\n",
    "    - Last Activity: **SMS Sent**\n",
    "    - What is your current occupation: **Working professional**\n",
    "    - Tags: **Will revert after reading the email**\n",
    "    - Lead Quality: **High in relevance** / **Low in relevance** / **Might be**\n",
    "    - Last Notable Activity: **SMS Sent**"
   ]
  },
  {
   "cell_type": "code",
   "execution_count": 69,
   "id": "fb62bd24",
   "metadata": {
    "scrolled": false
   },
   "outputs": [
    {
     "data": {
      "image/png": "[encoded data removed]",
      "text/plain": [
       "<Figure size 1008x720 with 1 Axes>"
      ]
     },
     "metadata": {
      "needs_background": "light"
     },
     "output_type": "display_data"
    }
   ],
   "source": [
    "#Graphic of the % by category\n",
    "plt.figure(figsize=(14,10))\n",
    "sns.barplot(y=patterns['Category'], x=patterns['%'], data=patterns).set(title= '% converted by category');\n",
    "plt.xlabel('Target %')\n",
    "\n",
    "plt.axvline(x=0.5, label='50%')\n",
    "plt.suptitle(\"Categories with > 500 leads and > 50% Converted\")\n",
    "plt.legend(loc = 'upper right');"
   ]
  },
  {
   "cell_type": "markdown",
   "id": "15fe66dc",
   "metadata": {},
   "source": [
    "### 8) Trends and patterns in the numeric variables"
   ]
  },
  {
   "cell_type": "markdown",
   "id": "19d1245b",
   "metadata": {},
   "source": [
    "See in the heatmap that only *'Total Time Spent on Website'* has some correlation with the conversion. Graphically, I can observe that **when the total time spent is higher than 800** most of the leads get converted."
   ]
  },
  {
   "cell_type": "code",
   "execution_count": 70,
   "id": "63387602",
   "metadata": {},
   "outputs": [
    {
     "data": {
      "image/png": "[encoded data removed]",
      "text/plain": [
       "<Figure size 648x504 with 2 Axes>"
      ]
     },
     "metadata": {
      "needs_background": "light"
     },
     "output_type": "display_data"
    }
   ],
   "source": [
    "plt.figure(figsize=(9,7))\n",
    "matrix = np.triu(leads.corr())\n",
    "plt.title('Pearson Correlation of features', y=1.05, size = 15)\n",
    "sns.heatmap(leads.corr().round(3), linewidths=0.1, vmax=1.0, square = True, cmap = 'coolwarm', \n",
    "           linecolor = 'white', annot = True, mask = matrix)\n",
    "plt.show()"
   ]
  },
  {
   "cell_type": "code",
   "execution_count": 71,
   "id": "6c2cc3d2",
   "metadata": {},
   "outputs": [
    {
     "data": {
      "image/png": "[encoded data removed]",
      "text/plain": [
       "<Figure size 1368x360 with 1 Axes>"
      ]
     },
     "metadata": {
      "needs_background": "light"
     },
     "output_type": "display_data"
    }
   ],
   "source": [
    "sns.histplot(data=leads, x=\"Total Time Spent on Website\", hue = \"Converted\");"
   ]
  },
  {
   "cell_type": "markdown",
   "id": "aeb43b85",
   "metadata": {},
   "source": [
    "## 7) Building a prediction model"
   ]
  },
  {
   "cell_type": "code",
   "execution_count": 73,
   "id": "1b4504b0",
   "metadata": {},
   "outputs": [
    {
     "data": {
      "text/html": [
       "<div>\n",
       "<style scoped>\n",
       "    .dataframe tbody tr th:only-of-type {\n",
       "        vertical-align: middle;\n",
       "    }\n",
       "\n",
       "    .dataframe tbody tr th {\n",
       "        vertical-align: top;\n",
       "    }\n",
       "\n",
       "    .dataframe thead th {\n",
       "        text-align: right;\n",
       "    }\n",
       "</style>\n",
       "<table border=\"1\" class=\"dataframe\">\n",
       "  <thead>\n",
       "    <tr style=\"text-align: right;\">\n",
       "      <th></th>\n",
       "      <th>0</th>\n",
       "      <th>1</th>\n",
       "      <th>2</th>\n",
       "      <th>3</th>\n",
       "      <th>4</th>\n",
       "    </tr>\n",
       "  </thead>\n",
       "  <tbody>\n",
       "    <tr>\n",
       "      <th>Lead Origin</th>\n",
       "      <td>API</td>\n",
       "      <td>API</td>\n",
       "      <td>Landing Page Submission</td>\n",
       "      <td>Landing Page Submission</td>\n",
       "      <td>Landing Page Submission</td>\n",
       "    </tr>\n",
       "    <tr>\n",
       "      <th>Lead Source</th>\n",
       "      <td>Olark Chat</td>\n",
       "      <td>Organic Search</td>\n",
       "      <td>Direct Traffic</td>\n",
       "      <td>Direct Traffic</td>\n",
       "      <td>Google</td>\n",
       "    </tr>\n",
       "    <tr>\n",
       "      <th>Do Not Email</th>\n",
       "      <td>No</td>\n",
       "      <td>No</td>\n",
       "      <td>No</td>\n",
       "      <td>No</td>\n",
       "      <td>No</td>\n",
       "    </tr>\n",
       "    <tr>\n",
       "      <th>Converted</th>\n",
       "      <td>0</td>\n",
       "      <td>0</td>\n",
       "      <td>1</td>\n",
       "      <td>0</td>\n",
       "      <td>1</td>\n",
       "    </tr>\n",
       "    <tr>\n",
       "      <th>TotalVisits</th>\n",
       "      <td>0.0</td>\n",
       "      <td>5.0</td>\n",
       "      <td>2.0</td>\n",
       "      <td>1.0</td>\n",
       "      <td>2.0</td>\n",
       "    </tr>\n",
       "    <tr>\n",
       "      <th>Total Time Spent on Website</th>\n",
       "      <td>0</td>\n",
       "      <td>674</td>\n",
       "      <td>1532</td>\n",
       "      <td>305</td>\n",
       "      <td>1428</td>\n",
       "    </tr>\n",
       "    <tr>\n",
       "      <th>Page Views Per Visit</th>\n",
       "      <td>0.0</td>\n",
       "      <td>2.5</td>\n",
       "      <td>2.0</td>\n",
       "      <td>1.0</td>\n",
       "      <td>1.0</td>\n",
       "    </tr>\n",
       "    <tr>\n",
       "      <th>Last Activity</th>\n",
       "      <td>Page Visited on Website</td>\n",
       "      <td>Email Opened</td>\n",
       "      <td>Email Opened</td>\n",
       "      <td>Unreachable</td>\n",
       "      <td>Converted to Lead</td>\n",
       "    </tr>\n",
       "    <tr>\n",
       "      <th>Specialization</th>\n",
       "      <td>unknown</td>\n",
       "      <td>unknown</td>\n",
       "      <td>Business Administration</td>\n",
       "      <td>Media and Advertising</td>\n",
       "      <td>unknown</td>\n",
       "    </tr>\n",
       "    <tr>\n",
       "      <th>What is your current occupation</th>\n",
       "      <td>Unemployed</td>\n",
       "      <td>Unemployed</td>\n",
       "      <td>Student</td>\n",
       "      <td>Unemployed</td>\n",
       "      <td>Unemployed</td>\n",
       "    </tr>\n",
       "    <tr>\n",
       "      <th>Tags</th>\n",
       "      <td>Interested in other courses</td>\n",
       "      <td>Ringing</td>\n",
       "      <td>Will revert after reading the email</td>\n",
       "      <td>Ringing</td>\n",
       "      <td>Will revert after reading the email</td>\n",
       "    </tr>\n",
       "    <tr>\n",
       "      <th>Lead Quality</th>\n",
       "      <td>Low in Relevance</td>\n",
       "      <td>unknown</td>\n",
       "      <td>Might be</td>\n",
       "      <td>Not Sure</td>\n",
       "      <td>Might be</td>\n",
       "    </tr>\n",
       "    <tr>\n",
       "      <th>Asymmetrique Activity Index</th>\n",
       "      <td>02.Medium</td>\n",
       "      <td>02.Medium</td>\n",
       "      <td>02.Medium</td>\n",
       "      <td>02.Medium</td>\n",
       "      <td>02.Medium</td>\n",
       "    </tr>\n",
       "    <tr>\n",
       "      <th>Asymmetrique Profile Index</th>\n",
       "      <td>02.Medium</td>\n",
       "      <td>02.Medium</td>\n",
       "      <td>01.High</td>\n",
       "      <td>01.High</td>\n",
       "      <td>01.High</td>\n",
       "    </tr>\n",
       "    <tr>\n",
       "      <th>A free copy of Mastering The Interview</th>\n",
       "      <td>No</td>\n",
       "      <td>No</td>\n",
       "      <td>Yes</td>\n",
       "      <td>No</td>\n",
       "      <td>No</td>\n",
       "    </tr>\n",
       "    <tr>\n",
       "      <th>Last Notable Activity</th>\n",
       "      <td>Modified</td>\n",
       "      <td>Email Opened</td>\n",
       "      <td>Email Opened</td>\n",
       "      <td>Modified</td>\n",
       "      <td>Modified</td>\n",
       "    </tr>\n",
       "  </tbody>\n",
       "</table>\n",
       "</div>"
      ],
      "text/plain": [
       "                                                                  0  \\\n",
       "Lead Origin                                                     API   \n",
       "Lead Source                                              Olark Chat   \n",
       "Do Not Email                                                     No   \n",
       "Converted                                                         0   \n",
       "TotalVisits                                                     0.0   \n",
       "Total Time Spent on Website                                       0   \n",
       "Page Views Per Visit                                            0.0   \n",
       "Last Activity                               Page Visited on Website   \n",
       "Specialization                                              unknown   \n",
       "What is your current occupation                          Unemployed   \n",
       "Tags                                    Interested in other courses   \n",
       "Lead Quality                                       Low in Relevance   \n",
       "Asymmetrique Activity Index                               02.Medium   \n",
       "Asymmetrique Profile Index                                02.Medium   \n",
       "A free copy of Mastering The Interview                           No   \n",
       "Last Notable Activity                                      Modified   \n",
       "\n",
       "                                                     1  \\\n",
       "Lead Origin                                        API   \n",
       "Lead Source                             Organic Search   \n",
       "Do Not Email                                        No   \n",
       "Converted                                            0   \n",
       "TotalVisits                                        5.0   \n",
       "Total Time Spent on Website                        674   \n",
       "Page Views Per Visit                               2.5   \n",
       "Last Activity                             Email Opened   \n",
       "Specialization                                 unknown   \n",
       "What is your current occupation             Unemployed   \n",
       "Tags                                           Ringing   \n",
       "Lead Quality                                   unknown   \n",
       "Asymmetrique Activity Index                  02.Medium   \n",
       "Asymmetrique Profile Index                   02.Medium   \n",
       "A free copy of Mastering The Interview              No   \n",
       "Last Notable Activity                     Email Opened   \n",
       "\n",
       "                                                                          2  \\\n",
       "Lead Origin                                         Landing Page Submission   \n",
       "Lead Source                                                  Direct Traffic   \n",
       "Do Not Email                                                             No   \n",
       "Converted                                                                 1   \n",
       "TotalVisits                                                             2.0   \n",
       "Total Time Spent on Website                                            1532   \n",
       "Page Views Per Visit                                                    2.0   \n",
       "Last Activity                                                  Email Opened   \n",
       "Specialization                                      Business Administration   \n",
       "What is your current occupation                                     Student   \n",
       "Tags                                    Will revert after reading the email   \n",
       "Lead Quality                                                       Might be   \n",
       "Asymmetrique Activity Index                                       02.Medium   \n",
       "Asymmetrique Profile Index                                          01.High   \n",
       "A free copy of Mastering The Interview                                  Yes   \n",
       "Last Notable Activity                                          Email Opened   \n",
       "\n",
       "                                                              3  \\\n",
       "Lead Origin                             Landing Page Submission   \n",
       "Lead Source                                      Direct Traffic   \n",
       "Do Not Email                                                 No   \n",
       "Converted                                                     0   \n",
       "TotalVisits                                                 1.0   \n",
       "Total Time Spent on Website                                 305   \n",
       "Page Views Per Visit                                        1.0   \n",
       "Last Activity                                       Unreachable   \n",
       "Specialization                            Media and Advertising   \n",
       "What is your current occupation                      Unemployed   \n",
       "Tags                                                    Ringing   \n",
       "Lead Quality                                           Not Sure   \n",
       "Asymmetrique Activity Index                           02.Medium   \n",
       "Asymmetrique Profile Index                              01.High   \n",
       "A free copy of Mastering The Interview                       No   \n",
       "Last Notable Activity                                  Modified   \n",
       "\n",
       "                                                                          4  \n",
       "Lead Origin                                         Landing Page Submission  \n",
       "Lead Source                                                          Google  \n",
       "Do Not Email                                                             No  \n",
       "Converted                                                                 1  \n",
       "TotalVisits                                                             2.0  \n",
       "Total Time Spent on Website                                            1428  \n",
       "Page Views Per Visit                                                    1.0  \n",
       "Last Activity                                             Converted to Lead  \n",
       "Specialization                                                      unknown  \n",
       "What is your current occupation                                  Unemployed  \n",
       "Tags                                    Will revert after reading the email  \n",
       "Lead Quality                                                       Might be  \n",
       "Asymmetrique Activity Index                                       02.Medium  \n",
       "Asymmetrique Profile Index                                          01.High  \n",
       "A free copy of Mastering The Interview                                   No  \n",
       "Last Notable Activity                                              Modified  "
      ]
     },
     "execution_count": 73,
     "metadata": {},
     "output_type": "execute_result"
    }
   ],
   "source": [
    "leads.head().T"
   ]
  },
  {
   "cell_type": "code",
   "execution_count": 72,
   "id": "727ac984",
   "metadata": {},
   "outputs": [],
   "source": [
    "\n",
    "from scipy import stats\n",
    "from sklearn.preprocessing import RobustScaler\n",
    "from sklearn.model_selection import train_test_split, GridSearchCV, RandomizedSearchCV, cross_val_score, RepeatedKFold\n",
    "from sklearn.linear_model import LogisticRegression\n",
    "from sklearn.tree import DecisionTreeClassifier\n",
    "from sklearn.ensemble import AdaBoostClassifier, RandomForestClassifier, GradientBoostingClassifier, HistGradientBoostingClassifier\n",
    "from imblearn.ensemble import BalancedBaggingClassifier\n",
    "from sklearn.neighbors import KNeighborsClassifier\n",
    "from sklearn.svm import SVC\n",
    "from sklearn.metrics import accuracy_score, precision_score, f1_score, confusion_matrix, recall_score, roc_auc_score\n",
    "from imblearn.metrics import specificity_score\n",
    "from sklearn.neural_network import MLPClassifier"
   ]
  },
  {
   "cell_type": "markdown",
   "id": "1a41274b",
   "metadata": {},
   "source": [
    "### 7.1) Feature Engineering"
   ]
  },
  {
   "cell_type": "markdown",
   "id": "e2af7ec2",
   "metadata": {},
   "source": [
    "First I convert into Boolean variables those categorical ones that have as unique values Yes/No."
   ]
  },
  {
   "cell_type": "code",
   "execution_count": 74,
   "id": "aefe804f",
   "metadata": {},
   "outputs": [
    {
     "data": {
      "text/html": [
       "<div>\n",
       "<style scoped>\n",
       "    .dataframe tbody tr th:only-of-type {\n",
       "        vertical-align: middle;\n",
       "    }\n",
       "\n",
       "    .dataframe tbody tr th {\n",
       "        vertical-align: top;\n",
       "    }\n",
       "\n",
       "    .dataframe thead th {\n",
       "        text-align: right;\n",
       "    }\n",
       "</style>\n",
       "<table border=\"1\" class=\"dataframe\">\n",
       "  <thead>\n",
       "    <tr style=\"text-align: right;\">\n",
       "      <th></th>\n",
       "      <th>Lead Origin</th>\n",
       "      <th>Lead Source</th>\n",
       "      <th>Do Not Email</th>\n",
       "      <th>Converted</th>\n",
       "      <th>TotalVisits</th>\n",
       "      <th>Total Time Spent on Website</th>\n",
       "      <th>Page Views Per Visit</th>\n",
       "      <th>Last Activity</th>\n",
       "      <th>Specialization</th>\n",
       "      <th>What is your current occupation</th>\n",
       "      <th>Tags</th>\n",
       "      <th>Lead Quality</th>\n",
       "      <th>Asymmetrique Activity Index</th>\n",
       "      <th>Asymmetrique Profile Index</th>\n",
       "      <th>A free copy of Mastering The Interview</th>\n",
       "      <th>Last Notable Activity</th>\n",
       "    </tr>\n",
       "  </thead>\n",
       "  <tbody>\n",
       "    <tr>\n",
       "      <th>0</th>\n",
       "      <td>API</td>\n",
       "      <td>Olark Chat</td>\n",
       "      <td>0</td>\n",
       "      <td>0</td>\n",
       "      <td>0.0</td>\n",
       "      <td>0</td>\n",
       "      <td>0.0</td>\n",
       "      <td>Page Visited on Website</td>\n",
       "      <td>unknown</td>\n",
       "      <td>Unemployed</td>\n",
       "      <td>Interested in other courses</td>\n",
       "      <td>Low in Relevance</td>\n",
       "      <td>02.Medium</td>\n",
       "      <td>02.Medium</td>\n",
       "      <td>0</td>\n",
       "      <td>Modified</td>\n",
       "    </tr>\n",
       "    <tr>\n",
       "      <th>1</th>\n",
       "      <td>API</td>\n",
       "      <td>Organic Search</td>\n",
       "      <td>0</td>\n",
       "      <td>0</td>\n",
       "      <td>5.0</td>\n",
       "      <td>674</td>\n",
       "      <td>2.5</td>\n",
       "      <td>Email Opened</td>\n",
       "      <td>unknown</td>\n",
       "      <td>Unemployed</td>\n",
       "      <td>Ringing</td>\n",
       "      <td>unknown</td>\n",
       "      <td>02.Medium</td>\n",
       "      <td>02.Medium</td>\n",
       "      <td>0</td>\n",
       "      <td>Email Opened</td>\n",
       "    </tr>\n",
       "    <tr>\n",
       "      <th>2</th>\n",
       "      <td>Landing Page Submission</td>\n",
       "      <td>Direct Traffic</td>\n",
       "      <td>0</td>\n",
       "      <td>1</td>\n",
       "      <td>2.0</td>\n",
       "      <td>1532</td>\n",
       "      <td>2.0</td>\n",
       "      <td>Email Opened</td>\n",
       "      <td>Business Administration</td>\n",
       "      <td>Student</td>\n",
       "      <td>Will revert after reading the email</td>\n",
       "      <td>Might be</td>\n",
       "      <td>02.Medium</td>\n",
       "      <td>01.High</td>\n",
       "      <td>1</td>\n",
       "      <td>Email Opened</td>\n",
       "    </tr>\n",
       "    <tr>\n",
       "      <th>3</th>\n",
       "      <td>Landing Page Submission</td>\n",
       "      <td>Direct Traffic</td>\n",
       "      <td>0</td>\n",
       "      <td>0</td>\n",
       "      <td>1.0</td>\n",
       "      <td>305</td>\n",
       "      <td>1.0</td>\n",
       "      <td>Unreachable</td>\n",
       "      <td>Media and Advertising</td>\n",
       "      <td>Unemployed</td>\n",
       "      <td>Ringing</td>\n",
       "      <td>Not Sure</td>\n",
       "      <td>02.Medium</td>\n",
       "      <td>01.High</td>\n",
       "      <td>0</td>\n",
       "      <td>Modified</td>\n",
       "    </tr>\n",
       "    <tr>\n",
       "      <th>4</th>\n",
       "      <td>Landing Page Submission</td>\n",
       "      <td>Google</td>\n",
       "      <td>0</td>\n",
       "      <td>1</td>\n",
       "      <td>2.0</td>\n",
       "      <td>1428</td>\n",
       "      <td>1.0</td>\n",
       "      <td>Converted to Lead</td>\n",
       "      <td>unknown</td>\n",
       "      <td>Unemployed</td>\n",
       "      <td>Will revert after reading the email</td>\n",
       "      <td>Might be</td>\n",
       "      <td>02.Medium</td>\n",
       "      <td>01.High</td>\n",
       "      <td>0</td>\n",
       "      <td>Modified</td>\n",
       "    </tr>\n",
       "  </tbody>\n",
       "</table>\n",
       "</div>"
      ],
      "text/plain": [
       "               Lead Origin     Lead Source  Do Not Email  Converted  \\\n",
       "0                      API      Olark Chat             0          0   \n",
       "1                      API  Organic Search             0          0   \n",
       "2  Landing Page Submission  Direct Traffic             0          1   \n",
       "3  Landing Page Submission  Direct Traffic             0          0   \n",
       "4  Landing Page Submission          Google             0          1   \n",
       "\n",
       "   TotalVisits  Total Time Spent on Website  Page Views Per Visit  \\\n",
       "0          0.0                            0                   0.0   \n",
       "1          5.0                          674                   2.5   \n",
       "2          2.0                         1532                   2.0   \n",
       "3          1.0                          305                   1.0   \n",
       "4          2.0                         1428                   1.0   \n",
       "\n",
       "             Last Activity           Specialization  \\\n",
       "0  Page Visited on Website                  unknown   \n",
       "1             Email Opened                  unknown   \n",
       "2             Email Opened  Business Administration   \n",
       "3              Unreachable    Media and Advertising   \n",
       "4        Converted to Lead                  unknown   \n",
       "\n",
       "  What is your current occupation                                 Tags  \\\n",
       "0                      Unemployed          Interested in other courses   \n",
       "1                      Unemployed                              Ringing   \n",
       "2                         Student  Will revert after reading the email   \n",
       "3                      Unemployed                              Ringing   \n",
       "4                      Unemployed  Will revert after reading the email   \n",
       "\n",
       "       Lead Quality Asymmetrique Activity Index Asymmetrique Profile Index  \\\n",
       "0  Low in Relevance                   02.Medium                  02.Medium   \n",
       "1           unknown                   02.Medium                  02.Medium   \n",
       "2          Might be                   02.Medium                    01.High   \n",
       "3          Not Sure                   02.Medium                    01.High   \n",
       "4          Might be                   02.Medium                    01.High   \n",
       "\n",
       "   A free copy of Mastering The Interview Last Notable Activity  \n",
       "0                                       0              Modified  \n",
       "1                                       0          Email Opened  \n",
       "2                                       1          Email Opened  \n",
       "3                                       0              Modified  \n",
       "4                                       0              Modified  "
      ]
     },
     "execution_count": 74,
     "metadata": {},
     "output_type": "execute_result"
    }
   ],
   "source": [
    "leads['Do Not Email']= leads['Do Not Email'].map({'Yes':1,'No':0})\n",
    "leads['A free copy of Mastering The Interview']= leads['A free copy of Mastering The Interview'].map({'Yes':1,'No':0})\n",
    "leads.head()"
   ]
  },
  {
   "cell_type": "markdown",
   "id": "ce2a5205",
   "metadata": {},
   "source": [
    "Then, due to the significant number of outliers and not being normal distibutions, I use Robust Scaler to scale the numerical variables:"
   ]
  },
  {
   "cell_type": "code",
   "execution_count": 75,
   "id": "15ad418e",
   "metadata": {},
   "outputs": [
    {
     "name": "stdout",
     "output_type": "stream",
     "text": [
      "['TotalVisits', 'Total Time Spent on Website', 'Page Views Per Visit']\n"
     ]
    }
   ],
   "source": [
    "print(num_vars)"
   ]
  },
  {
   "cell_type": "code",
   "execution_count": 76,
   "id": "beff705a",
   "metadata": {},
   "outputs": [],
   "source": [
    "leads[num_vars]= RobustScaler().fit_transform(leads[num_vars])"
   ]
  },
  {
   "cell_type": "markdown",
   "id": "a82c916b",
   "metadata": {},
   "source": [
    "And finally I dummify the rest of the categorical variables:"
   ]
  },
  {
   "cell_type": "code",
   "execution_count": 77,
   "id": "ed0d2257",
   "metadata": {},
   "outputs": [
    {
     "name": "stdout",
     "output_type": "stream",
     "text": [
      "['Lead Origin', 'Lead Source', 'Last Activity', 'Specialization', 'What is your current occupation', 'Tags', 'Lead Quality', 'Asymmetrique Activity Index', 'Asymmetrique Profile Index', 'Last Notable Activity']\n"
     ]
    }
   ],
   "source": [
    "cat_vars= list(leads.select_dtypes(object).columns)\n",
    "print(cat_vars)"
   ]
  },
  {
   "cell_type": "code",
   "execution_count": 78,
   "id": "d2557862",
   "metadata": {},
   "outputs": [],
   "source": [
    "leads = pd.get_dummies(leads, columns= cat_vars)"
   ]
  },
  {
   "cell_type": "markdown",
   "id": "586b687e",
   "metadata": {},
   "source": [
    "### 7.2) Train and Test subsets"
   ]
  },
  {
   "cell_type": "markdown",
   "id": "f942d7cb",
   "metadata": {},
   "source": [
    "Now I split into train and test subsets:"
   ]
  },
  {
   "cell_type": "code",
   "execution_count": 79,
   "id": "0250bdd1",
   "metadata": {},
   "outputs": [
    {
     "data": {
      "text/html": [
       "<div>\n",
       "<style scoped>\n",
       "    .dataframe tbody tr th:only-of-type {\n",
       "        vertical-align: middle;\n",
       "    }\n",
       "\n",
       "    .dataframe tbody tr th {\n",
       "        vertical-align: top;\n",
       "    }\n",
       "\n",
       "    .dataframe thead th {\n",
       "        text-align: right;\n",
       "    }\n",
       "</style>\n",
       "<table border=\"1\" class=\"dataframe\">\n",
       "  <thead>\n",
       "    <tr style=\"text-align: right;\">\n",
       "      <th></th>\n",
       "      <th>Do Not Email</th>\n",
       "      <th>Converted</th>\n",
       "      <th>TotalVisits</th>\n",
       "      <th>Total Time Spent on Website</th>\n",
       "      <th>Page Views Per Visit</th>\n",
       "      <th>A free copy of Mastering The Interview</th>\n",
       "      <th>Lead Origin_API</th>\n",
       "      <th>Lead Origin_Landing Page Submission</th>\n",
       "      <th>Lead Origin_Lead Add Form</th>\n",
       "      <th>Lead Origin_Lead Import</th>\n",
       "      <th>...</th>\n",
       "      <th>Last Notable Activity_Form Submitted on Website</th>\n",
       "      <th>Last Notable Activity_Had a Phone Conversation</th>\n",
       "      <th>Last Notable Activity_Modified</th>\n",
       "      <th>Last Notable Activity_Olark Chat Conversation</th>\n",
       "      <th>Last Notable Activity_Page Visited on Website</th>\n",
       "      <th>Last Notable Activity_Resubscribed to emails</th>\n",
       "      <th>Last Notable Activity_SMS Sent</th>\n",
       "      <th>Last Notable Activity_Unreachable</th>\n",
       "      <th>Last Notable Activity_Unsubscribed</th>\n",
       "      <th>Last Notable Activity_View in browser link Clicked</th>\n",
       "    </tr>\n",
       "  </thead>\n",
       "  <tbody>\n",
       "    <tr>\n",
       "      <th>0</th>\n",
       "      <td>0</td>\n",
       "      <td>0</td>\n",
       "      <td>-0.75</td>\n",
       "      <td>-0.269811</td>\n",
       "      <td>-0.909091</td>\n",
       "      <td>0</td>\n",
       "      <td>1</td>\n",
       "      <td>0</td>\n",
       "      <td>0</td>\n",
       "      <td>0</td>\n",
       "      <td>...</td>\n",
       "      <td>0</td>\n",
       "      <td>0</td>\n",
       "      <td>1</td>\n",
       "      <td>0</td>\n",
       "      <td>0</td>\n",
       "      <td>0</td>\n",
       "      <td>0</td>\n",
       "      <td>0</td>\n",
       "      <td>0</td>\n",
       "      <td>0</td>\n",
       "    </tr>\n",
       "    <tr>\n",
       "      <th>1</th>\n",
       "      <td>0</td>\n",
       "      <td>0</td>\n",
       "      <td>0.50</td>\n",
       "      <td>0.469427</td>\n",
       "      <td>0.227273</td>\n",
       "      <td>0</td>\n",
       "      <td>1</td>\n",
       "      <td>0</td>\n",
       "      <td>0</td>\n",
       "      <td>0</td>\n",
       "      <td>...</td>\n",
       "      <td>0</td>\n",
       "      <td>0</td>\n",
       "      <td>0</td>\n",
       "      <td>0</td>\n",
       "      <td>0</td>\n",
       "      <td>0</td>\n",
       "      <td>0</td>\n",
       "      <td>0</td>\n",
       "      <td>0</td>\n",
       "      <td>0</td>\n",
       "    </tr>\n",
       "    <tr>\n",
       "      <th>2</th>\n",
       "      <td>0</td>\n",
       "      <td>1</td>\n",
       "      <td>-0.25</td>\n",
       "      <td>1.410474</td>\n",
       "      <td>0.000000</td>\n",
       "      <td>1</td>\n",
       "      <td>0</td>\n",
       "      <td>1</td>\n",
       "      <td>0</td>\n",
       "      <td>0</td>\n",
       "      <td>...</td>\n",
       "      <td>0</td>\n",
       "      <td>0</td>\n",
       "      <td>0</td>\n",
       "      <td>0</td>\n",
       "      <td>0</td>\n",
       "      <td>0</td>\n",
       "      <td>0</td>\n",
       "      <td>0</td>\n",
       "      <td>0</td>\n",
       "      <td>0</td>\n",
       "    </tr>\n",
       "    <tr>\n",
       "      <th>3</th>\n",
       "      <td>0</td>\n",
       "      <td>0</td>\n",
       "      <td>-0.50</td>\n",
       "      <td>0.064711</td>\n",
       "      <td>-0.454545</td>\n",
       "      <td>0</td>\n",
       "      <td>0</td>\n",
       "      <td>1</td>\n",
       "      <td>0</td>\n",
       "      <td>0</td>\n",
       "      <td>...</td>\n",
       "      <td>0</td>\n",
       "      <td>0</td>\n",
       "      <td>1</td>\n",
       "      <td>0</td>\n",
       "      <td>0</td>\n",
       "      <td>0</td>\n",
       "      <td>0</td>\n",
       "      <td>0</td>\n",
       "      <td>0</td>\n",
       "      <td>0</td>\n",
       "    </tr>\n",
       "    <tr>\n",
       "      <th>4</th>\n",
       "      <td>0</td>\n",
       "      <td>1</td>\n",
       "      <td>-0.25</td>\n",
       "      <td>1.296408</td>\n",
       "      <td>-0.454545</td>\n",
       "      <td>0</td>\n",
       "      <td>0</td>\n",
       "      <td>1</td>\n",
       "      <td>0</td>\n",
       "      <td>0</td>\n",
       "      <td>...</td>\n",
       "      <td>0</td>\n",
       "      <td>0</td>\n",
       "      <td>1</td>\n",
       "      <td>0</td>\n",
       "      <td>0</td>\n",
       "      <td>0</td>\n",
       "      <td>0</td>\n",
       "      <td>0</td>\n",
       "      <td>0</td>\n",
       "      <td>0</td>\n",
       "    </tr>\n",
       "  </tbody>\n",
       "</table>\n",
       "<p>5 rows × 130 columns</p>\n",
       "</div>"
      ],
      "text/plain": [
       "   Do Not Email  Converted  TotalVisits  Total Time Spent on Website  \\\n",
       "0             0          0        -0.75                    -0.269811   \n",
       "1             0          0         0.50                     0.469427   \n",
       "2             0          1        -0.25                     1.410474   \n",
       "3             0          0        -0.50                     0.064711   \n",
       "4             0          1        -0.25                     1.296408   \n",
       "\n",
       "   Page Views Per Visit  A free copy of Mastering The Interview  \\\n",
       "0             -0.909091                                       0   \n",
       "1              0.227273                                       0   \n",
       "2              0.000000                                       1   \n",
       "3             -0.454545                                       0   \n",
       "4             -0.454545                                       0   \n",
       "\n",
       "   Lead Origin_API  Lead Origin_Landing Page Submission  \\\n",
       "0                1                                    0   \n",
       "1                1                                    0   \n",
       "2                0                                    1   \n",
       "3                0                                    1   \n",
       "4                0                                    1   \n",
       "\n",
       "   Lead Origin_Lead Add Form  Lead Origin_Lead Import  ...  \\\n",
       "0                          0                        0  ...   \n",
       "1                          0                        0  ...   \n",
       "2                          0                        0  ...   \n",
       "3                          0                        0  ...   \n",
       "4                          0                        0  ...   \n",
       "\n",
       "   Last Notable Activity_Form Submitted on Website  \\\n",
       "0                                                0   \n",
       "1                                                0   \n",
       "2                                                0   \n",
       "3                                                0   \n",
       "4                                                0   \n",
       "\n",
       "   Last Notable Activity_Had a Phone Conversation  \\\n",
       "0                                               0   \n",
       "1                                               0   \n",
       "2                                               0   \n",
       "3                                               0   \n",
       "4                                               0   \n",
       "\n",
       "   Last Notable Activity_Modified  \\\n",
       "0                               1   \n",
       "1                               0   \n",
       "2                               0   \n",
       "3                               1   \n",
       "4                               1   \n",
       "\n",
       "   Last Notable Activity_Olark Chat Conversation  \\\n",
       "0                                              0   \n",
       "1                                              0   \n",
       "2                                              0   \n",
       "3                                              0   \n",
       "4                                              0   \n",
       "\n",
       "   Last Notable Activity_Page Visited on Website  \\\n",
       "0                                              0   \n",
       "1                                              0   \n",
       "2                                              0   \n",
       "3                                              0   \n",
       "4                                              0   \n",
       "\n",
       "   Last Notable Activity_Resubscribed to emails  \\\n",
       "0                                             0   \n",
       "1                                             0   \n",
       "2                                             0   \n",
       "3                                             0   \n",
       "4                                             0   \n",
       "\n",
       "   Last Notable Activity_SMS Sent  Last Notable Activity_Unreachable  \\\n",
       "0                               0                                  0   \n",
       "1                               0                                  0   \n",
       "2                               0                                  0   \n",
       "3                               0                                  0   \n",
       "4                               0                                  0   \n",
       "\n",
       "   Last Notable Activity_Unsubscribed  \\\n",
       "0                                   0   \n",
       "1                                   0   \n",
       "2                                   0   \n",
       "3                                   0   \n",
       "4                                   0   \n",
       "\n",
       "   Last Notable Activity_View in browser link Clicked  \n",
       "0                                                  0   \n",
       "1                                                  0   \n",
       "2                                                  0   \n",
       "3                                                  0   \n",
       "4                                                  0   \n",
       "\n",
       "[5 rows x 130 columns]"
      ]
     },
     "execution_count": 79,
     "metadata": {},
     "output_type": "execute_result"
    }
   ],
   "source": [
    "leads.head()"
   ]
  },
  {
   "cell_type": "code",
   "execution_count": 80,
   "id": "c92619ee",
   "metadata": {},
   "outputs": [],
   "source": [
    "y= leads['Converted']\n",
    "x= leads.drop(['Converted'], axis=1)\n",
    "X_train, X_test, y_train, y_test = train_test_split(x, y, test_size=0.30, random_state=42)"
   ]
  },
  {
   "cell_type": "code",
   "execution_count": 81,
   "id": "0313486d",
   "metadata": {},
   "outputs": [
    {
     "data": {
      "text/plain": [
       "(6351, 129)"
      ]
     },
     "execution_count": 81,
     "metadata": {},
     "output_type": "execute_result"
    }
   ],
   "source": [
    "X_train.shape"
   ]
  },
  {
   "cell_type": "code",
   "execution_count": 82,
   "id": "ef50fd22",
   "metadata": {},
   "outputs": [
    {
     "data": {
      "text/plain": [
       "0    0.626201\n",
       "1    0.373799\n",
       "Name: Converted, dtype: float64"
      ]
     },
     "execution_count": 82,
     "metadata": {},
     "output_type": "execute_result"
    }
   ],
   "source": [
    "y_train.value_counts(normalize=True)"
   ]
  },
  {
   "cell_type": "markdown",
   "id": "9f695d85",
   "metadata": {},
   "source": [
    "### 7.3) Model Selection and fine tuning"
   ]
  },
  {
   "cell_type": "markdown",
   "id": "f10bea77",
   "metadata": {},
   "source": [
    "Now I am training different classifications models, and I am checking the results of the main metrics for each of them:"
   ]
  },
  {
   "cell_type": "code",
   "execution_count": 83,
   "id": "3f666f36",
   "metadata": {},
   "outputs": [
    {
     "data": {
      "text/html": [
       "<div>\n",
       "<style scoped>\n",
       "    .dataframe tbody tr th:only-of-type {\n",
       "        vertical-align: middle;\n",
       "    }\n",
       "\n",
       "    .dataframe tbody tr th {\n",
       "        vertical-align: top;\n",
       "    }\n",
       "\n",
       "    .dataframe thead th {\n",
       "        text-align: right;\n",
       "    }\n",
       "</style>\n",
       "<table border=\"1\" class=\"dataframe\">\n",
       "  <thead>\n",
       "    <tr style=\"text-align: right;\">\n",
       "      <th></th>\n",
       "      <th>Accuracy</th>\n",
       "      <th>Precision</th>\n",
       "      <th>Recall</th>\n",
       "      <th>F1</th>\n",
       "      <th>Roc_Auc</th>\n",
       "    </tr>\n",
       "  </thead>\n",
       "  <tbody>\n",
       "    <tr>\n",
       "      <th>Logistic Regression</th>\n",
       "      <td>0.938</td>\n",
       "      <td>0.910</td>\n",
       "      <td>0.929</td>\n",
       "      <td>0.919</td>\n",
       "      <td>0.936</td>\n",
       "    </tr>\n",
       "    <tr>\n",
       "      <th>Random Forest</th>\n",
       "      <td>0.940</td>\n",
       "      <td>0.910</td>\n",
       "      <td>0.935</td>\n",
       "      <td>0.922</td>\n",
       "      <td>0.939</td>\n",
       "    </tr>\n",
       "    <tr>\n",
       "      <th>Decision Tree</th>\n",
       "      <td>0.924</td>\n",
       "      <td>0.903</td>\n",
       "      <td>0.903</td>\n",
       "      <td>0.903</td>\n",
       "      <td>0.920</td>\n",
       "    </tr>\n",
       "    <tr>\n",
       "      <th>K-Nearest Neighbor</th>\n",
       "      <td>0.903</td>\n",
       "      <td>0.846</td>\n",
       "      <td>0.899</td>\n",
       "      <td>0.872</td>\n",
       "      <td>0.902</td>\n",
       "    </tr>\n",
       "    <tr>\n",
       "      <th>AdaBoostClassifier</th>\n",
       "      <td>0.936</td>\n",
       "      <td>0.895</td>\n",
       "      <td>0.938</td>\n",
       "      <td>0.916</td>\n",
       "      <td>0.936</td>\n",
       "    </tr>\n",
       "    <tr>\n",
       "      <th>GradientBoostingClassifier</th>\n",
       "      <td>0.940</td>\n",
       "      <td>0.910</td>\n",
       "      <td>0.935</td>\n",
       "      <td>0.922</td>\n",
       "      <td>0.939</td>\n",
       "    </tr>\n",
       "    <tr>\n",
       "      <th>Balanced Bagging Classifier</th>\n",
       "      <td>0.940</td>\n",
       "      <td>0.925</td>\n",
       "      <td>0.922</td>\n",
       "      <td>0.923</td>\n",
       "      <td>0.937</td>\n",
       "    </tr>\n",
       "  </tbody>\n",
       "</table>\n",
       "</div>"
      ],
      "text/plain": [
       "                             Accuracy  Precision  Recall     F1  Roc_Auc\n",
       "Logistic Regression             0.938      0.910   0.929  0.919    0.936\n",
       "Random Forest                   0.940      0.910   0.935  0.922    0.939\n",
       "Decision Tree                   0.924      0.903   0.903  0.903    0.920\n",
       "K-Nearest Neighbor              0.903      0.846   0.899  0.872    0.902\n",
       "AdaBoostClassifier              0.936      0.895   0.938  0.916    0.936\n",
       "GradientBoostingClassifier      0.940      0.910   0.935  0.922    0.939\n",
       "Balanced Bagging Classifier     0.940      0.925   0.922  0.923    0.937"
      ]
     },
     "execution_count": 83,
     "metadata": {},
     "output_type": "execute_result"
    }
   ],
   "source": [
    "# Build, train and test models\n",
    "mod = {} #models to test\n",
    "mod['Logistic Regression'] = LogisticRegression(max_iter=500)\n",
    "mod['Random Forest'] = RandomForestClassifier(random_state=42)\n",
    "mod['Decision Tree'] = DecisionTreeClassifier(random_state=42)\n",
    "mod['K-Nearest Neighbor'] = KNeighborsClassifier()\n",
    "mod['AdaBoostClassifier'] = AdaBoostClassifier(random_state=42)\n",
    "mod['GradientBoostingClassifier'] = GradientBoostingClassifier(random_state=42)\n",
    "mod['Balanced Bagging Classifier'] = BalancedBaggingClassifier(base_estimator= RandomForestClassifier(), random_state=42)\n",
    "\n",
    "accuracy, precision, recall, f1, roc = {}, {}, {}, {}, {}\n",
    "\n",
    "for key in mod.keys():\n",
    "    mod[key].fit(X_train, y_train)                         # Train\n",
    "    pred = mod[key].predict(X_test)                        # Test\n",
    "       \n",
    "    accuracy[key] = accuracy_score(pred, y_test)           # Metrics\n",
    "    precision[key] = precision_score(pred, y_test)\n",
    "    recall[key] = recall_score(pred, y_test)\n",
    "    f1[key] = f1_score(pred, y_test)\n",
    "    roc[key] = roc_auc_score(pred, y_test)\n",
    "    \n",
    "metrics = pd.DataFrame(index=mod.keys(), columns=['Accuracy', 'Precision', 'Recall', 'F1', 'Roc_Auc'])    # DF with metrics\n",
    "metrics['Accuracy'] = accuracy.values()\n",
    "metrics['Precision'] = precision.values()\n",
    "metrics['Recall'] = recall.values()\n",
    "metrics['F1'] = f1.values()\n",
    "metrics['Roc_Auc'] = roc.values()\n",
    "round(metrics,3)\n"
   ]
  },
  {
   "cell_type": "markdown",
   "id": "b33e0bb0",
   "metadata": {},
   "source": [
    "Now I present the Confusion Matrix results for each one of the models:"
   ]
  },
  {
   "cell_type": "code",
   "execution_count": 84,
   "id": "d9f3db77",
   "metadata": {},
   "outputs": [
    {
     "data": {
      "text/html": [
       "<div>\n",
       "<style scoped>\n",
       "    .dataframe tbody tr th:only-of-type {\n",
       "        vertical-align: middle;\n",
       "    }\n",
       "\n",
       "    .dataframe tbody tr th {\n",
       "        vertical-align: top;\n",
       "    }\n",
       "\n",
       "    .dataframe thead th {\n",
       "        text-align: right;\n",
       "    }\n",
       "</style>\n",
       "<table border=\"1\" class=\"dataframe\">\n",
       "  <thead>\n",
       "    <tr style=\"text-align: right;\">\n",
       "      <th></th>\n",
       "      <th>True Pos.</th>\n",
       "      <th>True Neg.</th>\n",
       "      <th>False P.</th>\n",
       "      <th>False N.</th>\n",
       "    </tr>\n",
       "  </thead>\n",
       "  <tbody>\n",
       "    <tr>\n",
       "      <th>Logistic Regression</th>\n",
       "      <td>965</td>\n",
       "      <td>1588</td>\n",
       "      <td>74</td>\n",
       "      <td>96</td>\n",
       "    </tr>\n",
       "    <tr>\n",
       "      <th>Random Forest</th>\n",
       "      <td>965</td>\n",
       "      <td>1595</td>\n",
       "      <td>67</td>\n",
       "      <td>96</td>\n",
       "    </tr>\n",
       "    <tr>\n",
       "      <th>Decision Tree</th>\n",
       "      <td>958</td>\n",
       "      <td>1559</td>\n",
       "      <td>103</td>\n",
       "      <td>103</td>\n",
       "    </tr>\n",
       "    <tr>\n",
       "      <th>K-Nearest Neighbor</th>\n",
       "      <td>898</td>\n",
       "      <td>1561</td>\n",
       "      <td>101</td>\n",
       "      <td>163</td>\n",
       "    </tr>\n",
       "    <tr>\n",
       "      <th>AdaBoostClassifier</th>\n",
       "      <td>950</td>\n",
       "      <td>1599</td>\n",
       "      <td>63</td>\n",
       "      <td>111</td>\n",
       "    </tr>\n",
       "    <tr>\n",
       "      <th>GradientBoostingClassifier</th>\n",
       "      <td>965</td>\n",
       "      <td>1595</td>\n",
       "      <td>67</td>\n",
       "      <td>96</td>\n",
       "    </tr>\n",
       "    <tr>\n",
       "      <th>Balanced Bagging Classifier</th>\n",
       "      <td>981</td>\n",
       "      <td>1579</td>\n",
       "      <td>83</td>\n",
       "      <td>80</td>\n",
       "    </tr>\n",
       "  </tbody>\n",
       "</table>\n",
       "</div>"
      ],
      "text/plain": [
       "                             True Pos.  True Neg.  False P.  False N.\n",
       "Logistic Regression                965       1588        74        96\n",
       "Random Forest                      965       1595        67        96\n",
       "Decision Tree                      958       1559       103       103\n",
       "K-Nearest Neighbor                 898       1561       101       163\n",
       "AdaBoostClassifier                 950       1599        63       111\n",
       "GradientBoostingClassifier         965       1595        67        96\n",
       "Balanced Bagging Classifier        981       1579        83        80"
      ]
     },
     "execution_count": 84,
     "metadata": {},
     "output_type": "execute_result"
    }
   ],
   "source": [
    "TP, TN, FP, FN = {}, {}, {}, {}\n",
    "\n",
    "for key in mod.keys():\n",
    "    cm=confusion_matrix(y_test, mod[key].predict(X_test))    #Calculate\n",
    "    TP[key]= cm[1][1]\n",
    "    TN[key]= cm[0][0]\n",
    "    FP[key]= cm[0][1]\n",
    "    FN[key]= cm[1][0]\n",
    "\n",
    "cm_list= pd.DataFrame(index=mod.keys())       #DF with confusion matrix results\n",
    "cm_list['True Pos.']= TP.values()\n",
    "cm_list['True Neg.']= TN.values()\n",
    "cm_list['False P.']= FP.values()\n",
    "cm_list['False N.']= FN.values()\n",
    "\n",
    "cm_list"
   ]
  },
  {
   "cell_type": "markdown",
   "id": "51c5e9f6",
   "metadata": {},
   "source": [
    "First selection: the models that deliver better accuracy are *Ramdom Forest* and *Gradient Boosting Classifier*. Let's confirm that there is no overfitting with a **cross validation** using the accuracy as main metric:"
   ]
  },
  {
   "cell_type": "code",
   "execution_count": 85,
   "id": "9f5afccd",
   "metadata": {},
   "outputs": [
    {
     "name": "stdout",
     "output_type": "stream",
     "text": [
      "Accuracy: 0.9442     std_Accuracy: 0.0092\n"
     ]
    }
   ],
   "source": [
    "#Random Forest Classifier cross validation\n",
    "crossv = RepeatedKFold(n_splits = 10, n_repeats = 3, random_state = 0)\n",
    "scores = cross_val_score(mod['Random Forest'], x, y, scoring= 'accuracy', cv = crossv)\n",
    "print('Accuracy: {0}     std_Accuracy: {1}'.format(np.mean(scores).round(4), np.std(scores).round(4)))"
   ]
  },
  {
   "cell_type": "code",
   "execution_count": 86,
   "id": "9e968083",
   "metadata": {},
   "outputs": [
    {
     "name": "stdout",
     "output_type": "stream",
     "text": [
      "Accuracy: 0.9424     std_Accuracy: 0.0101\n"
     ]
    }
   ],
   "source": [
    "#Gradient Boosting Classifier cross validation\n",
    "crossv = RepeatedKFold(n_splits = 10, n_repeats = 3, random_state = 0)\n",
    "scores = cross_val_score(mod['GradientBoostingClassifier'], x, y, scoring= 'accuracy', cv = crossv)\n",
    "print('Accuracy: {0}     std_Accuracy: {1}'.format(np.mean(scores).round(4), np.std(scores).round(4)))"
   ]
  },
  {
   "cell_type": "markdown",
   "id": "08598626",
   "metadata": {},
   "source": [
    "Next step is to **fine tune the parameters** of both models:"
   ]
  },
  {
   "cell_type": "code",
   "execution_count": 87,
   "id": "500cf47b",
   "metadata": {},
   "outputs": [
    {
     "data": {
      "text/plain": [
       "{'bootstrap': True,\n",
       " 'ccp_alpha': 0.0,\n",
       " 'class_weight': None,\n",
       " 'criterion': 'gini',\n",
       " 'max_depth': None,\n",
       " 'max_features': 'auto',\n",
       " 'max_leaf_nodes': None,\n",
       " 'max_samples': None,\n",
       " 'min_impurity_decrease': 0.0,\n",
       " 'min_samples_leaf': 1,\n",
       " 'min_samples_split': 2,\n",
       " 'min_weight_fraction_leaf': 0.0,\n",
       " 'n_estimators': 100,\n",
       " 'n_jobs': None,\n",
       " 'oob_score': False,\n",
       " 'random_state': 42,\n",
       " 'verbose': 0,\n",
       " 'warm_start': False}"
      ]
     },
     "execution_count": 87,
     "metadata": {},
     "output_type": "execute_result"
    }
   ],
   "source": [
    "#initial parameters Random Forest\n",
    "mod['Random Forest'].get_params()"
   ]
  },
  {
   "cell_type": "code",
   "execution_count": 88,
   "id": "d3249e4f",
   "metadata": {},
   "outputs": [
    {
     "data": {
      "text/plain": [
       "GridSearchCV(estimator=RandomForestClassifier(),\n",
       "             param_grid={'max_depth': [10, 15, 20, 25],\n",
       "                         'max_features': [10, 15, 20, 25],\n",
       "                         'n_estimators': [100, 150, 200, 250, 300]},\n",
       "             scoring='accuracy')"
      ]
     },
     "execution_count": 88,
     "metadata": {},
     "output_type": "execute_result"
    }
   ],
   "source": [
    "#parameter selection Random Forest\n",
    "parameters ={'max_features': [10,15,20,25], 'n_estimators': [100, 150, 200, 250, 300], 'max_depth': [10, 15,20, 25]}\n",
    "\n",
    "#set up Random Forest\n",
    "rf_gs = GridSearchCV(estimator = RandomForestClassifier(), param_grid = parameters, scoring = 'accuracy')\n",
    "\n",
    "#train\n",
    "rf_gs.fit(X_train, y_train)"
   ]
  },
  {
   "cell_type": "code",
   "execution_count": 89,
   "id": "87f6eb1f",
   "metadata": {},
   "outputs": [
    {
     "name": "stdout",
     "output_type": "stream",
     "text": [
      "Best Parameters:  {'max_depth': 15, 'max_features': 15, 'n_estimators': 250}  \n",
      "\n",
      "Best accuracy:  0.9466228464164246  \n",
      "\n"
     ]
    }
   ],
   "source": [
    "print ('Best Parameters: ', rf_gs.best_params_, ' \\n')\n",
    "print ('Best accuracy: ', rf_gs.best_score_, ' \\n')"
   ]
  },
  {
   "cell_type": "code",
   "execution_count": 91,
   "id": "8e7462c1",
   "metadata": {},
   "outputs": [
    {
     "data": {
      "text/plain": [
       "{'ccp_alpha': 0.0,\n",
       " 'criterion': 'friedman_mse',\n",
       " 'init': None,\n",
       " 'learning_rate': 0.1,\n",
       " 'loss': 'deviance',\n",
       " 'max_depth': 3,\n",
       " 'max_features': None,\n",
       " 'max_leaf_nodes': None,\n",
       " 'min_impurity_decrease': 0.0,\n",
       " 'min_samples_leaf': 1,\n",
       " 'min_samples_split': 2,\n",
       " 'min_weight_fraction_leaf': 0.0,\n",
       " 'n_estimators': 100,\n",
       " 'n_iter_no_change': None,\n",
       " 'random_state': 42,\n",
       " 'subsample': 1.0,\n",
       " 'tol': 0.0001,\n",
       " 'validation_fraction': 0.1,\n",
       " 'verbose': 0,\n",
       " 'warm_start': False}"
      ]
     },
     "execution_count": 91,
     "metadata": {},
     "output_type": "execute_result"
    }
   ],
   "source": [
    "#initial parameters Gradient Boosting Classifier\n",
    "mod['GradientBoostingClassifier'].get_params()"
   ]
  },
  {
   "cell_type": "code",
   "execution_count": 92,
   "id": "b849df7e",
   "metadata": {},
   "outputs": [
    {
     "data": {
      "text/plain": [
       "GridSearchCV(estimator=GradientBoostingClassifier(random_state=42),\n",
       "             param_grid={'criterion': ['friedman_mse', 'squared_error'],\n",
       "                         'learning_rate': [0.1, 0.5, 1.0],\n",
       "                         'max_depth': [3, 5, 10],\n",
       "                         'n_estimators': [75, 100, 150, 200]},\n",
       "             scoring='accuracy')"
      ]
     },
     "execution_count": 92,
     "metadata": {},
     "output_type": "execute_result"
    }
   ],
   "source": [
    "#parameter selection Gradient Boosting Classifier\n",
    "parameters ={'criterion': ['friedman_mse', 'squared_error'], 'n_estimators': [75, 100, 150, 200], \n",
    "             'learning_rate': [0.1, 0.5, 1.0], 'max_depth': [3, 5, 10]}\n",
    "\n",
    "#set up Gradient Boosting Classifier\n",
    "gbc_gs = GridSearchCV(estimator = GradientBoostingClassifier(random_state=42), param_grid = parameters, scoring = 'accuracy')\n",
    "\n",
    "#train Gradient Boosting Classifier\n",
    "gbc_gs.fit(X_train, y_train)"
   ]
  },
  {
   "cell_type": "code",
   "execution_count": 93,
   "id": "a66dea95",
   "metadata": {},
   "outputs": [
    {
     "name": "stdout",
     "output_type": "stream",
     "text": [
      "Best Parameters:  {'criterion': 'friedman_mse', 'learning_rate': 0.1, 'max_depth': 3, 'n_estimators': 150}  \n",
      "\n",
      "Best accuracy:  0.9469381787544062  \n",
      "\n"
     ]
    }
   ],
   "source": [
    "print ('Best Parameters: ', gbc_gs.best_params_, ' \\n')\n",
    "print ('Best accuracy: ', gbc_gs.best_score_, ' \\n')"
   ]
  },
  {
   "cell_type": "markdown",
   "id": "91a1fcfd",
   "metadata": {},
   "source": [
    "Now I present the results of both models with the original parameters and the parameters adjusted:"
   ]
  },
  {
   "cell_type": "code",
   "execution_count": 99,
   "id": "0ef3c5d4",
   "metadata": {},
   "outputs": [],
   "source": [
    "rf= RandomForestClassifier(max_depth=15, max_features=15, n_estimators =250, random_state=42)\n",
    "rf.fit(X_train, y_train)\n",
    "\n",
    "#Calculate metrics\n",
    "accuracy = accuracy_score(rf.predict(X_test), y_test)\n",
    "precision = precision_score(rf.predict(X_test), y_test)\n",
    "recall = recall_score(rf.predict(X_test), y_test)\n",
    "f1 = f1_score(rf.predict(X_test), y_test)\n",
    "roc = roc_auc_score(rf.predict(X_test), y_test)\n",
    "metrics.loc['Random Forest Optimized'] = [accuracy, precision, recall, f1, roc]\n",
    "\n",
    "#Calculate confusion matrix\n",
    "cm=confusion_matrix(y_test, rf.predict(X_test)) \n",
    "cm_list.loc['Random Forest Optimized'] = [cm[1][1], cm[0][0], cm[0][1], cm[1][0]]"
   ]
  },
  {
   "cell_type": "code",
   "execution_count": 95,
   "id": "66240025",
   "metadata": {},
   "outputs": [],
   "source": [
    "gbc= GradientBoostingClassifier(random_state=42, criterion ='friedman_mse', max_depth=3, learning_rate=0.1, n_estimators =150)\n",
    "gbc.fit(X_train, y_train)\n",
    "\n",
    "#Calculate metrics\n",
    "accuracy = accuracy_score(gbc.predict(X_test), y_test)\n",
    "precision = precision_score(gbc.predict(X_test), y_test)\n",
    "recall = recall_score(gbc.predict(X_test), y_test)\n",
    "f1 = f1_score(gbc.predict(X_test), y_test)\n",
    "roc = roc_auc_score(gbc.predict(X_test), y_test)\n",
    "metrics.loc['GradientBoostingClassifier Optimized'] = [accuracy, precision, recall, f1, roc]\n",
    "\n",
    "#Calculate confusion matrix\n",
    "cm=confusion_matrix(y_test, gbc.predict(X_test)) \n",
    "cm_list.loc['GradientBoostingClassifier Optimized'] = [cm[1][1], cm[0][0], cm[0][1], cm[1][0]]"
   ]
  },
  {
   "cell_type": "code",
   "execution_count": 104,
   "id": "3b2c9926",
   "metadata": {},
   "outputs": [
    {
     "data": {
      "text/html": [
       "<div>\n",
       "<style scoped>\n",
       "    .dataframe tbody tr th:only-of-type {\n",
       "        vertical-align: middle;\n",
       "    }\n",
       "\n",
       "    .dataframe tbody tr th {\n",
       "        vertical-align: top;\n",
       "    }\n",
       "\n",
       "    .dataframe thead th {\n",
       "        text-align: right;\n",
       "    }\n",
       "</style>\n",
       "<table border=\"1\" class=\"dataframe\">\n",
       "  <thead>\n",
       "    <tr style=\"text-align: right;\">\n",
       "      <th></th>\n",
       "      <th>Accuracy</th>\n",
       "      <th>Precision</th>\n",
       "      <th>Recall</th>\n",
       "      <th>F1</th>\n",
       "      <th>Roc_Auc</th>\n",
       "    </tr>\n",
       "  </thead>\n",
       "  <tbody>\n",
       "    <tr>\n",
       "      <th>Random Forest</th>\n",
       "      <td>0.9401</td>\n",
       "      <td>0.9095</td>\n",
       "      <td>0.9351</td>\n",
       "      <td>0.9221</td>\n",
       "      <td>0.9392</td>\n",
       "    </tr>\n",
       "    <tr>\n",
       "      <th>GradientBoostingClassifier</th>\n",
       "      <td>0.9401</td>\n",
       "      <td>0.9095</td>\n",
       "      <td>0.9351</td>\n",
       "      <td>0.9221</td>\n",
       "      <td>0.9392</td>\n",
       "    </tr>\n",
       "    <tr>\n",
       "      <th>Random Forest Optimized</th>\n",
       "      <td>0.9431</td>\n",
       "      <td>0.9057</td>\n",
       "      <td>0.9459</td>\n",
       "      <td>0.9254</td>\n",
       "      <td>0.9436</td>\n",
       "    </tr>\n",
       "    <tr>\n",
       "      <th>GradientBoostingClassifier Optimized</th>\n",
       "      <td>0.9412</td>\n",
       "      <td>0.9105</td>\n",
       "      <td>0.9370</td>\n",
       "      <td>0.9235</td>\n",
       "      <td>0.9404</td>\n",
       "    </tr>\n",
       "  </tbody>\n",
       "</table>\n",
       "</div>"
      ],
      "text/plain": [
       "                                      Accuracy  Precision  Recall      F1  \\\n",
       "Random Forest                           0.9401     0.9095  0.9351  0.9221   \n",
       "GradientBoostingClassifier              0.9401     0.9095  0.9351  0.9221   \n",
       "Random Forest Optimized                 0.9431     0.9057  0.9459  0.9254   \n",
       "GradientBoostingClassifier Optimized    0.9412     0.9105  0.9370  0.9235   \n",
       "\n",
       "                                      Roc_Auc  \n",
       "Random Forest                          0.9392  \n",
       "GradientBoostingClassifier             0.9392  \n",
       "Random Forest Optimized                0.9436  \n",
       "GradientBoostingClassifier Optimized   0.9404  "
      ]
     },
     "execution_count": 104,
     "metadata": {},
     "output_type": "execute_result"
    }
   ],
   "source": [
    "round(metrics.iloc[[1,5,7,8]],4)"
   ]
  },
  {
   "cell_type": "code",
   "execution_count": 105,
   "id": "70dc1661",
   "metadata": {},
   "outputs": [
    {
     "data": {
      "text/html": [
       "<div>\n",
       "<style scoped>\n",
       "    .dataframe tbody tr th:only-of-type {\n",
       "        vertical-align: middle;\n",
       "    }\n",
       "\n",
       "    .dataframe tbody tr th {\n",
       "        vertical-align: top;\n",
       "    }\n",
       "\n",
       "    .dataframe thead th {\n",
       "        text-align: right;\n",
       "    }\n",
       "</style>\n",
       "<table border=\"1\" class=\"dataframe\">\n",
       "  <thead>\n",
       "    <tr style=\"text-align: right;\">\n",
       "      <th></th>\n",
       "      <th>True Pos.</th>\n",
       "      <th>True Neg.</th>\n",
       "      <th>False P.</th>\n",
       "      <th>False N.</th>\n",
       "    </tr>\n",
       "  </thead>\n",
       "  <tbody>\n",
       "    <tr>\n",
       "      <th>Random Forest</th>\n",
       "      <td>965</td>\n",
       "      <td>1595</td>\n",
       "      <td>67</td>\n",
       "      <td>96</td>\n",
       "    </tr>\n",
       "    <tr>\n",
       "      <th>GradientBoostingClassifier</th>\n",
       "      <td>965</td>\n",
       "      <td>1595</td>\n",
       "      <td>67</td>\n",
       "      <td>96</td>\n",
       "    </tr>\n",
       "    <tr>\n",
       "      <th>Random Forest Optimized</th>\n",
       "      <td>961</td>\n",
       "      <td>1607</td>\n",
       "      <td>55</td>\n",
       "      <td>100</td>\n",
       "    </tr>\n",
       "    <tr>\n",
       "      <th>GradientBoostingClassifier Optimized</th>\n",
       "      <td>966</td>\n",
       "      <td>1597</td>\n",
       "      <td>65</td>\n",
       "      <td>95</td>\n",
       "    </tr>\n",
       "  </tbody>\n",
       "</table>\n",
       "</div>"
      ],
      "text/plain": [
       "                                      True Pos.  True Neg.  False P.  False N.\n",
       "Random Forest                               965       1595        67        96\n",
       "GradientBoostingClassifier                  965       1595        67        96\n",
       "Random Forest Optimized                     961       1607        55       100\n",
       "GradientBoostingClassifier Optimized        966       1597        65        95"
      ]
     },
     "execution_count": 105,
     "metadata": {},
     "output_type": "execute_result"
    }
   ],
   "source": [
    "cm_list.iloc[[1,5,7,8]]"
   ]
  },
  {
   "cell_type": "code",
   "execution_count": 103,
   "id": "4e586532",
   "metadata": {},
   "outputs": [
    {
     "name": "stdout",
     "output_type": "stream",
     "text": [
      "Accuracy: 0.946     std_Accuracy: 0.0081\n"
     ]
    }
   ],
   "source": [
    "#Cross Validation final model\n",
    "final_model= RandomForestClassifier(max_depth=15, max_features=15, n_estimators =250, random_state=42)\n",
    "crossv = RepeatedKFold(n_splits = 10, n_repeats = 3, random_state = 42)\n",
    "scores = cross_val_score(final_model, x, y, scoring= 'accuracy', cv = crossv)\n",
    "print('Accuracy: {0}     std_Accuracy: {1}'.format(np.mean(scores).round(4), np.std(scores).round(4)))"
   ]
  },
  {
   "cell_type": "markdown",
   "id": "66dbc8b1",
   "metadata": {},
   "source": [
    "### Finally, this is the model selected:\n",
    "\n",
    "**RandomForestClassifier(max_depth=15, max_features=15, n_estimators =250, random_state=42)**\n",
    "\n",
    "**Accuracy: 0.9431**\n"
   ]
  },
  {
   "cell_type": "code",
   "execution_count": null,
   "id": "fe0e6452",
   "metadata": {},
   "outputs": [],
   "source": []
  }
 ],
 "metadata": {
  "kernelspec": {
   "display_name": "Python 3 (ipykernel)",
   "language": "python",
   "name": "python3"
  },
  "language_info": {
   "codemirror_mode": {
    "name": "ipython",
    "version": 3
   },
   "file_extension": ".py",
   "mimetype": "text/x-python",
   "name": "python",
   "nbconvert_exporter": "python",
   "pygments_lexer": "ipython3",
   "version": "3.9.7"
  }
 },
 "nbformat": 4,
 "nbformat_minor": 5
}
