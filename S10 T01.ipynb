{
 "cells": [
  {
   "cell_type": "markdown",
   "id": "26e93f06",
   "metadata": {},
   "source": [
    "## S10 T01: Aprenentage Supervisat\n",
    "## Luis Pardina - Data Science - 14/06/22"
   ]
  },
  {
   "cell_type": "code",
   "execution_count": 57,
   "id": "a0c454b9",
   "metadata": {},
   "outputs": [],
   "source": [
    "import numpy as np\n",
    "import pandas as pd\n",
    "import matplotlib.pyplot as plt\n",
    "import seaborn as sns\n",
    "from sklearn.model_selection import train_test_split\n",
    "\n",
    "#classification models\n",
    "from sklearn.linear_model import LogisticRegression\n",
    "import xgboost as xgb\n",
    "from sklearn.tree import DecisionTreeClassifier\n",
    "\n",
    "#classification metrics\n",
    "from imblearn.metrics import sensitivity_score, specificity_score\n",
    "from sklearn.metrics import accuracy_score, precision_score, f1_score, confusion_matrix, recall_score\n",
    "from sklearn.metrics import classification_report\n",
    "from sklearn import metrics\n",
    "\n",
    "#undersampling, oversampling\n",
    "from imblearn.under_sampling import RandomUnderSampler\n",
    "from imblearn.over_sampling import SMOTE\n",
    "from imblearn.pipeline import Pipeline\n",
    "\n",
    "#hyperparameters setting and cross validation\n",
    "from sklearn.model_selection import GridSearchCV\n",
    "from sklearn.model_selection import cross_val_score\n",
    "\n",
    "import warnings\n",
    "warnings.filterwarnings('ignore')"
   ]
  },
  {
   "cell_type": "markdown",
   "id": "a943cdf2",
   "metadata": {},
   "source": [
    "### *Exercici 1*: Crea almenys tres models de classificació diferents per intentar predir el millor possible l’endarreriment dels vols (ArrDelay) de DelayedFlights.csv. Considera si el vol ha arribat tard o no (ArrDelay > 0)."
   ]
  },
  {
   "cell_type": "markdown",
   "id": "4198df96",
   "metadata": {},
   "source": [
    "I read and download the two csv files (*mostra_X* for the independent variables and *mostra_Y* for the dependent variable) that I created in the previous sprint, which contain a **10%** sample of the flights dataset."
   ]
  },
  {
   "cell_type": "code",
   "execution_count": 2,
   "id": "9326780b",
   "metadata": {},
   "outputs": [],
   "source": [
    "mostra_X = pd.read_csv('mostra_X.csv')\n",
    "mostra_X.drop('Unnamed: 0', axis=1, inplace=True)\n",
    "mostra_y = pd.read_csv('mostra_y.csv')\n",
    "mostra_y.drop('Unnamed: 0', axis=1, inplace=True)"
   ]
  },
  {
   "cell_type": "code",
   "execution_count": 3,
   "id": "e2ee6910",
   "metadata": {},
   "outputs": [],
   "source": [
    "pd.set_option('display.max_columns', None)"
   ]
  },
  {
   "cell_type": "markdown",
   "id": "6255306b",
   "metadata": {},
   "source": [
    "Let me summarize: \n",
    "- the *Year* column was removed since all dataset is from 2008\n",
    "- the cancelled and diverted flights were deleted, they are out of the scope of the exercise\n",
    "- the CRSDepTime was transformed into a column containing 24 bins, one per hour.\n",
    "- I added new columns as a result of feature engineering:\n",
    "    - Month, DayofWeek and CRSDepTime **normalized** \n",
    "    - Actual_Elapsed_Time, CRS_Elapsed_Time, AirTime, DepDelay, Distance, Taxi In, Taxi Out **standardized** with Robust Scaler\n",
    "    - Unique Carrier **dumified**\n",
    "- I will not use for the exercise the columns CarrierDelay, WeatherDelay, NASDelay, SecurityDelay, LateAircraftDelay since they are a split of causes of the ArrDelay (the sum of those equals to ArrDelay)."
   ]
  },
  {
   "cell_type": "code",
   "execution_count": 4,
   "id": "30e029a0",
   "metadata": {},
   "outputs": [
    {
     "data": {
      "text/html": [
       "<div>\n",
       "<style scoped>\n",
       "    .dataframe tbody tr th:only-of-type {\n",
       "        vertical-align: middle;\n",
       "    }\n",
       "\n",
       "    .dataframe tbody tr th {\n",
       "        vertical-align: top;\n",
       "    }\n",
       "\n",
       "    .dataframe thead th {\n",
       "        text-align: right;\n",
       "    }\n",
       "</style>\n",
       "<table border=\"1\" class=\"dataframe\">\n",
       "  <thead>\n",
       "    <tr style=\"text-align: right;\">\n",
       "      <th></th>\n",
       "      <th>Month</th>\n",
       "      <th>DayofMonth</th>\n",
       "      <th>DayOfWeek</th>\n",
       "      <th>DepTime</th>\n",
       "      <th>CRSDepTime</th>\n",
       "      <th>ArrTime</th>\n",
       "      <th>CRSArrTime</th>\n",
       "      <th>UniqueCarrier</th>\n",
       "      <th>FlightNum</th>\n",
       "      <th>TailNum</th>\n",
       "      <th>ActualElapsedTime</th>\n",
       "      <th>CRSElapsedTime</th>\n",
       "      <th>AirTime</th>\n",
       "      <th>DepDelay</th>\n",
       "      <th>Origin</th>\n",
       "      <th>Dest</th>\n",
       "      <th>Distance</th>\n",
       "      <th>TaxiIn</th>\n",
       "      <th>TaxiOut</th>\n",
       "      <th>CarrierDelay</th>\n",
       "      <th>WeatherDelay</th>\n",
       "      <th>NASDelay</th>\n",
       "      <th>SecurityDelay</th>\n",
       "      <th>LateAircraftDelay</th>\n",
       "      <th>norm_Month</th>\n",
       "      <th>norm_DayOfWeek</th>\n",
       "      <th>norm_CRSDepTime</th>\n",
       "      <th>9E</th>\n",
       "      <th>AA</th>\n",
       "      <th>AQ</th>\n",
       "      <th>AS</th>\n",
       "      <th>B6</th>\n",
       "      <th>CO</th>\n",
       "      <th>DL</th>\n",
       "      <th>EV</th>\n",
       "      <th>F9</th>\n",
       "      <th>FL</th>\n",
       "      <th>HA</th>\n",
       "      <th>MQ</th>\n",
       "      <th>NW</th>\n",
       "      <th>OH</th>\n",
       "      <th>OO</th>\n",
       "      <th>UA</th>\n",
       "      <th>US</th>\n",
       "      <th>WN</th>\n",
       "      <th>XE</th>\n",
       "      <th>YV</th>\n",
       "      <th>stand_ActualElapsedTime</th>\n",
       "      <th>stand_CRSElapsedTime</th>\n",
       "      <th>stand_AirTime</th>\n",
       "      <th>stand_Distance</th>\n",
       "      <th>stand_DepDelay</th>\n",
       "      <th>stand_TaxiIn</th>\n",
       "      <th>stand_TaxiOut</th>\n",
       "    </tr>\n",
       "  </thead>\n",
       "  <tbody>\n",
       "    <tr>\n",
       "      <th>0</th>\n",
       "      <td>8</td>\n",
       "      <td>22</td>\n",
       "      <td>5</td>\n",
       "      <td>1613.0</td>\n",
       "      <td>14</td>\n",
       "      <td>1808.0</td>\n",
       "      <td>1630</td>\n",
       "      <td>B6</td>\n",
       "      <td>1075</td>\n",
       "      <td>N290JB</td>\n",
       "      <td>115.0</td>\n",
       "      <td>91.0</td>\n",
       "      <td>49.0</td>\n",
       "      <td>74.0</td>\n",
       "      <td>JFK</td>\n",
       "      <td>RIC</td>\n",
       "      <td>288</td>\n",
       "      <td>3.0</td>\n",
       "      <td>63.0</td>\n",
       "      <td>4.0</td>\n",
       "      <td>0.0</td>\n",
       "      <td>24.0</td>\n",
       "      <td>0.0</td>\n",
       "      <td>70.0</td>\n",
       "      <td>0.636364</td>\n",
       "      <td>0.666667</td>\n",
       "      <td>0.608696</td>\n",
       "      <td>0</td>\n",
       "      <td>0</td>\n",
       "      <td>0</td>\n",
       "      <td>0</td>\n",
       "      <td>1</td>\n",
       "      <td>0</td>\n",
       "      <td>0</td>\n",
       "      <td>0</td>\n",
       "      <td>0</td>\n",
       "      <td>0</td>\n",
       "      <td>0</td>\n",
       "      <td>0</td>\n",
       "      <td>0</td>\n",
       "      <td>0</td>\n",
       "      <td>0</td>\n",
       "      <td>0</td>\n",
       "      <td>0</td>\n",
       "      <td>0</td>\n",
       "      <td>0</td>\n",
       "      <td>0</td>\n",
       "      <td>-0.011765</td>\n",
       "      <td>-0.301205</td>\n",
       "      <td>-0.5125</td>\n",
       "      <td>-0.481818</td>\n",
       "      <td>1.219512</td>\n",
       "      <td>-0.75</td>\n",
       "      <td>4.454545</td>\n",
       "    </tr>\n",
       "    <tr>\n",
       "      <th>1</th>\n",
       "      <td>12</td>\n",
       "      <td>29</td>\n",
       "      <td>1</td>\n",
       "      <td>2211.0</td>\n",
       "      <td>21</td>\n",
       "      <td>2221.0</td>\n",
       "      <td>2158</td>\n",
       "      <td>EV</td>\n",
       "      <td>5668</td>\n",
       "      <td>N981EV</td>\n",
       "      <td>70.0</td>\n",
       "      <td>83.0</td>\n",
       "      <td>54.0</td>\n",
       "      <td>36.0</td>\n",
       "      <td>ATL</td>\n",
       "      <td>EVV</td>\n",
       "      <td>350</td>\n",
       "      <td>2.0</td>\n",
       "      <td>14.0</td>\n",
       "      <td>5.0</td>\n",
       "      <td>0.0</td>\n",
       "      <td>0.0</td>\n",
       "      <td>0.0</td>\n",
       "      <td>18.0</td>\n",
       "      <td>1.000000</td>\n",
       "      <td>0.000000</td>\n",
       "      <td>0.913043</td>\n",
       "      <td>0</td>\n",
       "      <td>0</td>\n",
       "      <td>0</td>\n",
       "      <td>0</td>\n",
       "      <td>0</td>\n",
       "      <td>0</td>\n",
       "      <td>0</td>\n",
       "      <td>1</td>\n",
       "      <td>0</td>\n",
       "      <td>0</td>\n",
       "      <td>0</td>\n",
       "      <td>0</td>\n",
       "      <td>0</td>\n",
       "      <td>0</td>\n",
       "      <td>0</td>\n",
       "      <td>0</td>\n",
       "      <td>0</td>\n",
       "      <td>0</td>\n",
       "      <td>0</td>\n",
       "      <td>0</td>\n",
       "      <td>-0.541176</td>\n",
       "      <td>-0.397590</td>\n",
       "      <td>-0.4500</td>\n",
       "      <td>-0.387879</td>\n",
       "      <td>0.292683</td>\n",
       "      <td>-1.00</td>\n",
       "      <td>0.000000</td>\n",
       "    </tr>\n",
       "    <tr>\n",
       "      <th>2</th>\n",
       "      <td>8</td>\n",
       "      <td>7</td>\n",
       "      <td>4</td>\n",
       "      <td>946.0</td>\n",
       "      <td>9</td>\n",
       "      <td>1313.0</td>\n",
       "      <td>1301</td>\n",
       "      <td>UA</td>\n",
       "      <td>177</td>\n",
       "      <td>N576UA</td>\n",
       "      <td>387.0</td>\n",
       "      <td>387.0</td>\n",
       "      <td>358.0</td>\n",
       "      <td>12.0</td>\n",
       "      <td>BOS</td>\n",
       "      <td>SFO</td>\n",
       "      <td>2704</td>\n",
       "      <td>9.0</td>\n",
       "      <td>20.0</td>\n",
       "      <td>NaN</td>\n",
       "      <td>NaN</td>\n",
       "      <td>NaN</td>\n",
       "      <td>NaN</td>\n",
       "      <td>NaN</td>\n",
       "      <td>0.636364</td>\n",
       "      <td>0.500000</td>\n",
       "      <td>0.391304</td>\n",
       "      <td>0</td>\n",
       "      <td>0</td>\n",
       "      <td>0</td>\n",
       "      <td>0</td>\n",
       "      <td>0</td>\n",
       "      <td>0</td>\n",
       "      <td>0</td>\n",
       "      <td>0</td>\n",
       "      <td>0</td>\n",
       "      <td>0</td>\n",
       "      <td>0</td>\n",
       "      <td>0</td>\n",
       "      <td>0</td>\n",
       "      <td>0</td>\n",
       "      <td>0</td>\n",
       "      <td>1</td>\n",
       "      <td>0</td>\n",
       "      <td>0</td>\n",
       "      <td>0</td>\n",
       "      <td>0</td>\n",
       "      <td>3.188235</td>\n",
       "      <td>3.265060</td>\n",
       "      <td>3.3500</td>\n",
       "      <td>3.178788</td>\n",
       "      <td>-0.292683</td>\n",
       "      <td>0.75</td>\n",
       "      <td>0.545455</td>\n",
       "    </tr>\n",
       "    <tr>\n",
       "      <th>3</th>\n",
       "      <td>5</td>\n",
       "      <td>13</td>\n",
       "      <td>2</td>\n",
       "      <td>842.0</td>\n",
       "      <td>8</td>\n",
       "      <td>1156.0</td>\n",
       "      <td>1125</td>\n",
       "      <td>WN</td>\n",
       "      <td>2877</td>\n",
       "      <td>N616SW</td>\n",
       "      <td>194.0</td>\n",
       "      <td>180.0</td>\n",
       "      <td>184.0</td>\n",
       "      <td>17.0</td>\n",
       "      <td>PHX</td>\n",
       "      <td>SEA</td>\n",
       "      <td>1107</td>\n",
       "      <td>4.0</td>\n",
       "      <td>6.0</td>\n",
       "      <td>0.0</td>\n",
       "      <td>0.0</td>\n",
       "      <td>14.0</td>\n",
       "      <td>0.0</td>\n",
       "      <td>17.0</td>\n",
       "      <td>0.363636</td>\n",
       "      <td>0.166667</td>\n",
       "      <td>0.347826</td>\n",
       "      <td>0</td>\n",
       "      <td>0</td>\n",
       "      <td>0</td>\n",
       "      <td>0</td>\n",
       "      <td>0</td>\n",
       "      <td>0</td>\n",
       "      <td>0</td>\n",
       "      <td>0</td>\n",
       "      <td>0</td>\n",
       "      <td>0</td>\n",
       "      <td>0</td>\n",
       "      <td>0</td>\n",
       "      <td>0</td>\n",
       "      <td>0</td>\n",
       "      <td>0</td>\n",
       "      <td>0</td>\n",
       "      <td>0</td>\n",
       "      <td>1</td>\n",
       "      <td>0</td>\n",
       "      <td>0</td>\n",
       "      <td>0.917647</td>\n",
       "      <td>0.771084</td>\n",
       "      <td>1.1750</td>\n",
       "      <td>0.759091</td>\n",
       "      <td>-0.170732</td>\n",
       "      <td>-0.50</td>\n",
       "      <td>-0.727273</td>\n",
       "    </tr>\n",
       "    <tr>\n",
       "      <th>4</th>\n",
       "      <td>3</td>\n",
       "      <td>10</td>\n",
       "      <td>1</td>\n",
       "      <td>929.0</td>\n",
       "      <td>8</td>\n",
       "      <td>1145.0</td>\n",
       "      <td>1058</td>\n",
       "      <td>9E</td>\n",
       "      <td>2966</td>\n",
       "      <td>88009E</td>\n",
       "      <td>136.0</td>\n",
       "      <td>158.0</td>\n",
       "      <td>113.0</td>\n",
       "      <td>69.0</td>\n",
       "      <td>BGR</td>\n",
       "      <td>DTW</td>\n",
       "      <td>750</td>\n",
       "      <td>9.0</td>\n",
       "      <td>14.0</td>\n",
       "      <td>47.0</td>\n",
       "      <td>0.0</td>\n",
       "      <td>0.0</td>\n",
       "      <td>0.0</td>\n",
       "      <td>0.0</td>\n",
       "      <td>0.181818</td>\n",
       "      <td>0.000000</td>\n",
       "      <td>0.347826</td>\n",
       "      <td>1</td>\n",
       "      <td>0</td>\n",
       "      <td>0</td>\n",
       "      <td>0</td>\n",
       "      <td>0</td>\n",
       "      <td>0</td>\n",
       "      <td>0</td>\n",
       "      <td>0</td>\n",
       "      <td>0</td>\n",
       "      <td>0</td>\n",
       "      <td>0</td>\n",
       "      <td>0</td>\n",
       "      <td>0</td>\n",
       "      <td>0</td>\n",
       "      <td>0</td>\n",
       "      <td>0</td>\n",
       "      <td>0</td>\n",
       "      <td>0</td>\n",
       "      <td>0</td>\n",
       "      <td>0</td>\n",
       "      <td>0.235294</td>\n",
       "      <td>0.506024</td>\n",
       "      <td>0.2875</td>\n",
       "      <td>0.218182</td>\n",
       "      <td>1.097561</td>\n",
       "      <td>0.75</td>\n",
       "      <td>0.000000</td>\n",
       "    </tr>\n",
       "    <tr>\n",
       "      <th>...</th>\n",
       "      <td>...</td>\n",
       "      <td>...</td>\n",
       "      <td>...</td>\n",
       "      <td>...</td>\n",
       "      <td>...</td>\n",
       "      <td>...</td>\n",
       "      <td>...</td>\n",
       "      <td>...</td>\n",
       "      <td>...</td>\n",
       "      <td>...</td>\n",
       "      <td>...</td>\n",
       "      <td>...</td>\n",
       "      <td>...</td>\n",
       "      <td>...</td>\n",
       "      <td>...</td>\n",
       "      <td>...</td>\n",
       "      <td>...</td>\n",
       "      <td>...</td>\n",
       "      <td>...</td>\n",
       "      <td>...</td>\n",
       "      <td>...</td>\n",
       "      <td>...</td>\n",
       "      <td>...</td>\n",
       "      <td>...</td>\n",
       "      <td>...</td>\n",
       "      <td>...</td>\n",
       "      <td>...</td>\n",
       "      <td>...</td>\n",
       "      <td>...</td>\n",
       "      <td>...</td>\n",
       "      <td>...</td>\n",
       "      <td>...</td>\n",
       "      <td>...</td>\n",
       "      <td>...</td>\n",
       "      <td>...</td>\n",
       "      <td>...</td>\n",
       "      <td>...</td>\n",
       "      <td>...</td>\n",
       "      <td>...</td>\n",
       "      <td>...</td>\n",
       "      <td>...</td>\n",
       "      <td>...</td>\n",
       "      <td>...</td>\n",
       "      <td>...</td>\n",
       "      <td>...</td>\n",
       "      <td>...</td>\n",
       "      <td>...</td>\n",
       "      <td>...</td>\n",
       "      <td>...</td>\n",
       "      <td>...</td>\n",
       "      <td>...</td>\n",
       "      <td>...</td>\n",
       "      <td>...</td>\n",
       "      <td>...</td>\n",
       "    </tr>\n",
       "    <tr>\n",
       "      <th>192833</th>\n",
       "      <td>3</td>\n",
       "      <td>18</td>\n",
       "      <td>2</td>\n",
       "      <td>1418.0</td>\n",
       "      <td>14</td>\n",
       "      <td>1632.0</td>\n",
       "      <td>1607</td>\n",
       "      <td>XE</td>\n",
       "      <td>2995</td>\n",
       "      <td>N41104</td>\n",
       "      <td>194.0</td>\n",
       "      <td>187.0</td>\n",
       "      <td>178.0</td>\n",
       "      <td>18.0</td>\n",
       "      <td>EWR</td>\n",
       "      <td>MSP</td>\n",
       "      <td>1008</td>\n",
       "      <td>4.0</td>\n",
       "      <td>12.0</td>\n",
       "      <td>0.0</td>\n",
       "      <td>0.0</td>\n",
       "      <td>7.0</td>\n",
       "      <td>0.0</td>\n",
       "      <td>18.0</td>\n",
       "      <td>0.181818</td>\n",
       "      <td>0.166667</td>\n",
       "      <td>0.608696</td>\n",
       "      <td>0</td>\n",
       "      <td>0</td>\n",
       "      <td>0</td>\n",
       "      <td>0</td>\n",
       "      <td>0</td>\n",
       "      <td>0</td>\n",
       "      <td>0</td>\n",
       "      <td>0</td>\n",
       "      <td>0</td>\n",
       "      <td>0</td>\n",
       "      <td>0</td>\n",
       "      <td>0</td>\n",
       "      <td>0</td>\n",
       "      <td>0</td>\n",
       "      <td>0</td>\n",
       "      <td>0</td>\n",
       "      <td>0</td>\n",
       "      <td>0</td>\n",
       "      <td>1</td>\n",
       "      <td>0</td>\n",
       "      <td>0.917647</td>\n",
       "      <td>0.855422</td>\n",
       "      <td>1.1000</td>\n",
       "      <td>0.609091</td>\n",
       "      <td>-0.146341</td>\n",
       "      <td>-0.50</td>\n",
       "      <td>-0.181818</td>\n",
       "    </tr>\n",
       "    <tr>\n",
       "      <th>192834</th>\n",
       "      <td>1</td>\n",
       "      <td>23</td>\n",
       "      <td>3</td>\n",
       "      <td>1347.0</td>\n",
       "      <td>13</td>\n",
       "      <td>1609.0</td>\n",
       "      <td>1615</td>\n",
       "      <td>WN</td>\n",
       "      <td>331</td>\n",
       "      <td>N311SW</td>\n",
       "      <td>142.0</td>\n",
       "      <td>165.0</td>\n",
       "      <td>131.0</td>\n",
       "      <td>17.0</td>\n",
       "      <td>MCO</td>\n",
       "      <td>CLE</td>\n",
       "      <td>895</td>\n",
       "      <td>4.0</td>\n",
       "      <td>7.0</td>\n",
       "      <td>NaN</td>\n",
       "      <td>NaN</td>\n",
       "      <td>NaN</td>\n",
       "      <td>NaN</td>\n",
       "      <td>NaN</td>\n",
       "      <td>0.000000</td>\n",
       "      <td>0.333333</td>\n",
       "      <td>0.565217</td>\n",
       "      <td>0</td>\n",
       "      <td>0</td>\n",
       "      <td>0</td>\n",
       "      <td>0</td>\n",
       "      <td>0</td>\n",
       "      <td>0</td>\n",
       "      <td>0</td>\n",
       "      <td>0</td>\n",
       "      <td>0</td>\n",
       "      <td>0</td>\n",
       "      <td>0</td>\n",
       "      <td>0</td>\n",
       "      <td>0</td>\n",
       "      <td>0</td>\n",
       "      <td>0</td>\n",
       "      <td>0</td>\n",
       "      <td>0</td>\n",
       "      <td>1</td>\n",
       "      <td>0</td>\n",
       "      <td>0</td>\n",
       "      <td>0.305882</td>\n",
       "      <td>0.590361</td>\n",
       "      <td>0.5125</td>\n",
       "      <td>0.437879</td>\n",
       "      <td>-0.170732</td>\n",
       "      <td>-0.50</td>\n",
       "      <td>-0.636364</td>\n",
       "    </tr>\n",
       "    <tr>\n",
       "      <th>192835</th>\n",
       "      <td>4</td>\n",
       "      <td>10</td>\n",
       "      <td>4</td>\n",
       "      <td>2205.0</td>\n",
       "      <td>21</td>\n",
       "      <td>2349.0</td>\n",
       "      <td>2325</td>\n",
       "      <td>AA</td>\n",
       "      <td>1509</td>\n",
       "      <td>N5DMAA</td>\n",
       "      <td>224.0</td>\n",
       "      <td>230.0</td>\n",
       "      <td>197.0</td>\n",
       "      <td>30.0</td>\n",
       "      <td>ORD</td>\n",
       "      <td>LAS</td>\n",
       "      <td>1515</td>\n",
       "      <td>7.0</td>\n",
       "      <td>20.0</td>\n",
       "      <td>0.0</td>\n",
       "      <td>0.0</td>\n",
       "      <td>24.0</td>\n",
       "      <td>0.0</td>\n",
       "      <td>0.0</td>\n",
       "      <td>0.272727</td>\n",
       "      <td>0.500000</td>\n",
       "      <td>0.913043</td>\n",
       "      <td>0</td>\n",
       "      <td>1</td>\n",
       "      <td>0</td>\n",
       "      <td>0</td>\n",
       "      <td>0</td>\n",
       "      <td>0</td>\n",
       "      <td>0</td>\n",
       "      <td>0</td>\n",
       "      <td>0</td>\n",
       "      <td>0</td>\n",
       "      <td>0</td>\n",
       "      <td>0</td>\n",
       "      <td>0</td>\n",
       "      <td>0</td>\n",
       "      <td>0</td>\n",
       "      <td>0</td>\n",
       "      <td>0</td>\n",
       "      <td>0</td>\n",
       "      <td>0</td>\n",
       "      <td>0</td>\n",
       "      <td>1.270588</td>\n",
       "      <td>1.373494</td>\n",
       "      <td>1.3375</td>\n",
       "      <td>1.377273</td>\n",
       "      <td>0.146341</td>\n",
       "      <td>0.25</td>\n",
       "      <td>0.545455</td>\n",
       "    </tr>\n",
       "    <tr>\n",
       "      <th>192836</th>\n",
       "      <td>1</td>\n",
       "      <td>6</td>\n",
       "      <td>7</td>\n",
       "      <td>1258.0</td>\n",
       "      <td>12</td>\n",
       "      <td>1401.0</td>\n",
       "      <td>1310</td>\n",
       "      <td>MQ</td>\n",
       "      <td>3338</td>\n",
       "      <td>N263AE</td>\n",
       "      <td>63.0</td>\n",
       "      <td>55.0</td>\n",
       "      <td>30.0</td>\n",
       "      <td>43.0</td>\n",
       "      <td>TYR</td>\n",
       "      <td>DFW</td>\n",
       "      <td>103</td>\n",
       "      <td>19.0</td>\n",
       "      <td>14.0</td>\n",
       "      <td>0.0</td>\n",
       "      <td>0.0</td>\n",
       "      <td>8.0</td>\n",
       "      <td>0.0</td>\n",
       "      <td>43.0</td>\n",
       "      <td>0.000000</td>\n",
       "      <td>1.000000</td>\n",
       "      <td>0.521739</td>\n",
       "      <td>0</td>\n",
       "      <td>0</td>\n",
       "      <td>0</td>\n",
       "      <td>0</td>\n",
       "      <td>0</td>\n",
       "      <td>0</td>\n",
       "      <td>0</td>\n",
       "      <td>0</td>\n",
       "      <td>0</td>\n",
       "      <td>0</td>\n",
       "      <td>0</td>\n",
       "      <td>1</td>\n",
       "      <td>0</td>\n",
       "      <td>0</td>\n",
       "      <td>0</td>\n",
       "      <td>0</td>\n",
       "      <td>0</td>\n",
       "      <td>0</td>\n",
       "      <td>0</td>\n",
       "      <td>0</td>\n",
       "      <td>-0.623529</td>\n",
       "      <td>-0.734940</td>\n",
       "      <td>-0.7500</td>\n",
       "      <td>-0.762121</td>\n",
       "      <td>0.463415</td>\n",
       "      <td>3.25</td>\n",
       "      <td>0.000000</td>\n",
       "    </tr>\n",
       "    <tr>\n",
       "      <th>192837</th>\n",
       "      <td>2</td>\n",
       "      <td>22</td>\n",
       "      <td>5</td>\n",
       "      <td>1701.0</td>\n",
       "      <td>16</td>\n",
       "      <td>1708.0</td>\n",
       "      <td>1635</td>\n",
       "      <td>WN</td>\n",
       "      <td>1660</td>\n",
       "      <td>N227WN</td>\n",
       "      <td>67.0</td>\n",
       "      <td>65.0</td>\n",
       "      <td>53.0</td>\n",
       "      <td>31.0</td>\n",
       "      <td>PHX</td>\n",
       "      <td>LAS</td>\n",
       "      <td>256</td>\n",
       "      <td>4.0</td>\n",
       "      <td>10.0</td>\n",
       "      <td>31.0</td>\n",
       "      <td>0.0</td>\n",
       "      <td>2.0</td>\n",
       "      <td>0.0</td>\n",
       "      <td>0.0</td>\n",
       "      <td>0.090909</td>\n",
       "      <td>0.666667</td>\n",
       "      <td>0.695652</td>\n",
       "      <td>0</td>\n",
       "      <td>0</td>\n",
       "      <td>0</td>\n",
       "      <td>0</td>\n",
       "      <td>0</td>\n",
       "      <td>0</td>\n",
       "      <td>0</td>\n",
       "      <td>0</td>\n",
       "      <td>0</td>\n",
       "      <td>0</td>\n",
       "      <td>0</td>\n",
       "      <td>0</td>\n",
       "      <td>0</td>\n",
       "      <td>0</td>\n",
       "      <td>0</td>\n",
       "      <td>0</td>\n",
       "      <td>0</td>\n",
       "      <td>1</td>\n",
       "      <td>0</td>\n",
       "      <td>0</td>\n",
       "      <td>-0.576471</td>\n",
       "      <td>-0.614458</td>\n",
       "      <td>-0.4625</td>\n",
       "      <td>-0.530303</td>\n",
       "      <td>0.170732</td>\n",
       "      <td>-0.50</td>\n",
       "      <td>-0.363636</td>\n",
       "    </tr>\n",
       "  </tbody>\n",
       "</table>\n",
       "<p>192838 rows × 54 columns</p>\n",
       "</div>"
      ],
      "text/plain": [
       "        Month  DayofMonth  DayOfWeek  DepTime  CRSDepTime  ArrTime  \\\n",
       "0           8          22          5   1613.0          14   1808.0   \n",
       "1          12          29          1   2211.0          21   2221.0   \n",
       "2           8           7          4    946.0           9   1313.0   \n",
       "3           5          13          2    842.0           8   1156.0   \n",
       "4           3          10          1    929.0           8   1145.0   \n",
       "...       ...         ...        ...      ...         ...      ...   \n",
       "192833      3          18          2   1418.0          14   1632.0   \n",
       "192834      1          23          3   1347.0          13   1609.0   \n",
       "192835      4          10          4   2205.0          21   2349.0   \n",
       "192836      1           6          7   1258.0          12   1401.0   \n",
       "192837      2          22          5   1701.0          16   1708.0   \n",
       "\n",
       "        CRSArrTime UniqueCarrier  FlightNum TailNum  ActualElapsedTime  \\\n",
       "0             1630            B6       1075  N290JB              115.0   \n",
       "1             2158            EV       5668  N981EV               70.0   \n",
       "2             1301            UA        177  N576UA              387.0   \n",
       "3             1125            WN       2877  N616SW              194.0   \n",
       "4             1058            9E       2966  88009E              136.0   \n",
       "...            ...           ...        ...     ...                ...   \n",
       "192833        1607            XE       2995  N41104              194.0   \n",
       "192834        1615            WN        331  N311SW              142.0   \n",
       "192835        2325            AA       1509  N5DMAA              224.0   \n",
       "192836        1310            MQ       3338  N263AE               63.0   \n",
       "192837        1635            WN       1660  N227WN               67.0   \n",
       "\n",
       "        CRSElapsedTime  AirTime  DepDelay Origin Dest  Distance  TaxiIn  \\\n",
       "0                 91.0     49.0      74.0    JFK  RIC       288     3.0   \n",
       "1                 83.0     54.0      36.0    ATL  EVV       350     2.0   \n",
       "2                387.0    358.0      12.0    BOS  SFO      2704     9.0   \n",
       "3                180.0    184.0      17.0    PHX  SEA      1107     4.0   \n",
       "4                158.0    113.0      69.0    BGR  DTW       750     9.0   \n",
       "...                ...      ...       ...    ...  ...       ...     ...   \n",
       "192833           187.0    178.0      18.0    EWR  MSP      1008     4.0   \n",
       "192834           165.0    131.0      17.0    MCO  CLE       895     4.0   \n",
       "192835           230.0    197.0      30.0    ORD  LAS      1515     7.0   \n",
       "192836            55.0     30.0      43.0    TYR  DFW       103    19.0   \n",
       "192837            65.0     53.0      31.0    PHX  LAS       256     4.0   \n",
       "\n",
       "        TaxiOut  CarrierDelay  WeatherDelay  NASDelay  SecurityDelay  \\\n",
       "0          63.0           4.0           0.0      24.0            0.0   \n",
       "1          14.0           5.0           0.0       0.0            0.0   \n",
       "2          20.0           NaN           NaN       NaN            NaN   \n",
       "3           6.0           0.0           0.0      14.0            0.0   \n",
       "4          14.0          47.0           0.0       0.0            0.0   \n",
       "...         ...           ...           ...       ...            ...   \n",
       "192833     12.0           0.0           0.0       7.0            0.0   \n",
       "192834      7.0           NaN           NaN       NaN            NaN   \n",
       "192835     20.0           0.0           0.0      24.0            0.0   \n",
       "192836     14.0           0.0           0.0       8.0            0.0   \n",
       "192837     10.0          31.0           0.0       2.0            0.0   \n",
       "\n",
       "        LateAircraftDelay  norm_Month  norm_DayOfWeek  norm_CRSDepTime  9E  \\\n",
       "0                    70.0    0.636364        0.666667         0.608696   0   \n",
       "1                    18.0    1.000000        0.000000         0.913043   0   \n",
       "2                     NaN    0.636364        0.500000         0.391304   0   \n",
       "3                    17.0    0.363636        0.166667         0.347826   0   \n",
       "4                     0.0    0.181818        0.000000         0.347826   1   \n",
       "...                   ...         ...             ...              ...  ..   \n",
       "192833               18.0    0.181818        0.166667         0.608696   0   \n",
       "192834                NaN    0.000000        0.333333         0.565217   0   \n",
       "192835                0.0    0.272727        0.500000         0.913043   0   \n",
       "192836               43.0    0.000000        1.000000         0.521739   0   \n",
       "192837                0.0    0.090909        0.666667         0.695652   0   \n",
       "\n",
       "        AA  AQ  AS  B6  CO  DL  EV  F9  FL  HA  MQ  NW  OH  OO  UA  US  WN  \\\n",
       "0        0   0   0   1   0   0   0   0   0   0   0   0   0   0   0   0   0   \n",
       "1        0   0   0   0   0   0   1   0   0   0   0   0   0   0   0   0   0   \n",
       "2        0   0   0   0   0   0   0   0   0   0   0   0   0   0   1   0   0   \n",
       "3        0   0   0   0   0   0   0   0   0   0   0   0   0   0   0   0   1   \n",
       "4        0   0   0   0   0   0   0   0   0   0   0   0   0   0   0   0   0   \n",
       "...     ..  ..  ..  ..  ..  ..  ..  ..  ..  ..  ..  ..  ..  ..  ..  ..  ..   \n",
       "192833   0   0   0   0   0   0   0   0   0   0   0   0   0   0   0   0   0   \n",
       "192834   0   0   0   0   0   0   0   0   0   0   0   0   0   0   0   0   1   \n",
       "192835   1   0   0   0   0   0   0   0   0   0   0   0   0   0   0   0   0   \n",
       "192836   0   0   0   0   0   0   0   0   0   0   1   0   0   0   0   0   0   \n",
       "192837   0   0   0   0   0   0   0   0   0   0   0   0   0   0   0   0   1   \n",
       "\n",
       "        XE  YV  stand_ActualElapsedTime  stand_CRSElapsedTime  stand_AirTime  \\\n",
       "0        0   0                -0.011765             -0.301205        -0.5125   \n",
       "1        0   0                -0.541176             -0.397590        -0.4500   \n",
       "2        0   0                 3.188235              3.265060         3.3500   \n",
       "3        0   0                 0.917647              0.771084         1.1750   \n",
       "4        0   0                 0.235294              0.506024         0.2875   \n",
       "...     ..  ..                      ...                   ...            ...   \n",
       "192833   1   0                 0.917647              0.855422         1.1000   \n",
       "192834   0   0                 0.305882              0.590361         0.5125   \n",
       "192835   0   0                 1.270588              1.373494         1.3375   \n",
       "192836   0   0                -0.623529             -0.734940        -0.7500   \n",
       "192837   0   0                -0.576471             -0.614458        -0.4625   \n",
       "\n",
       "        stand_Distance  stand_DepDelay  stand_TaxiIn  stand_TaxiOut  \n",
       "0            -0.481818        1.219512         -0.75       4.454545  \n",
       "1            -0.387879        0.292683         -1.00       0.000000  \n",
       "2             3.178788       -0.292683          0.75       0.545455  \n",
       "3             0.759091       -0.170732         -0.50      -0.727273  \n",
       "4             0.218182        1.097561          0.75       0.000000  \n",
       "...                ...             ...           ...            ...  \n",
       "192833        0.609091       -0.146341         -0.50      -0.181818  \n",
       "192834        0.437879       -0.170732         -0.50      -0.636364  \n",
       "192835        1.377273        0.146341          0.25       0.545455  \n",
       "192836       -0.762121        0.463415          3.25       0.000000  \n",
       "192837       -0.530303        0.170732         -0.50      -0.363636  \n",
       "\n",
       "[192838 rows x 54 columns]"
      ]
     },
     "execution_count": 4,
     "metadata": {},
     "output_type": "execute_result"
    }
   ],
   "source": [
    "mostra_X"
   ]
  },
  {
   "cell_type": "markdown",
   "id": "2d6dba0b",
   "metadata": {},
   "source": [
    "First, I'll convert the column 'ArrDelay' of mostra_y to create the two classes of the exercise:\n",
    "\n",
    "    0: Fligth on time on Arrival, ArrDelay <= 0\n",
    "    1: Flight delayed on Arrival, ArrDelay > 0"
   ]
  },
  {
   "cell_type": "code",
   "execution_count": 5,
   "id": "8b55411a",
   "metadata": {},
   "outputs": [],
   "source": [
    "mostra_y['ArrDelay'] = mostra_y['ArrDelay'].apply(lambda x : 0 if x <= 0 else 1)"
   ]
  },
  {
   "cell_type": "markdown",
   "id": "abb8c642",
   "metadata": {},
   "source": [
    "Data is unbalanced, which a huge proportion (89%) of delays (1):"
   ]
  },
  {
   "cell_type": "code",
   "execution_count": 6,
   "id": "13f3c831",
   "metadata": {},
   "outputs": [
    {
     "data": {
      "text/plain": [
       "ArrDelay\n",
       "1           0.894414\n",
       "0           0.105586\n",
       "dtype: float64"
      ]
     },
     "execution_count": 6,
     "metadata": {},
     "output_type": "execute_result"
    }
   ],
   "source": [
    "mostra_y.value_counts(normalize=True)"
   ]
  },
  {
   "cell_type": "markdown",
   "id": "38740be5",
   "metadata": {},
   "source": [
    "I'll start the analysis with the 8 variables that showed more correlation with the Arrival Delay in the previous sprint. As said before, CRSDepTime has been converted into 24 bins (for the 24 hours of the day)."
   ]
  },
  {
   "cell_type": "code",
   "execution_count": 7,
   "id": "5b753bf2",
   "metadata": {},
   "outputs": [],
   "source": [
    "first_set_of_var = ['Month','DayOfWeek', 'CRSDepTime', 'Distance', 'AirTime','DepDelay', 'TaxiOut', 'TaxiIn']"
   ]
  },
  {
   "cell_type": "code",
   "execution_count": 8,
   "id": "0bb032c1",
   "metadata": {},
   "outputs": [],
   "source": [
    "raw = mostra_X[first_set_of_var]"
   ]
  },
  {
   "cell_type": "code",
   "execution_count": 9,
   "id": "c7aa1170",
   "metadata": {},
   "outputs": [
    {
     "data": {
      "text/html": [
       "<div>\n",
       "<style scoped>\n",
       "    .dataframe tbody tr th:only-of-type {\n",
       "        vertical-align: middle;\n",
       "    }\n",
       "\n",
       "    .dataframe tbody tr th {\n",
       "        vertical-align: top;\n",
       "    }\n",
       "\n",
       "    .dataframe thead th {\n",
       "        text-align: right;\n",
       "    }\n",
       "</style>\n",
       "<table border=\"1\" class=\"dataframe\">\n",
       "  <thead>\n",
       "    <tr style=\"text-align: right;\">\n",
       "      <th></th>\n",
       "      <th>Month</th>\n",
       "      <th>DayOfWeek</th>\n",
       "      <th>CRSDepTime</th>\n",
       "      <th>Distance</th>\n",
       "      <th>AirTime</th>\n",
       "      <th>DepDelay</th>\n",
       "      <th>TaxiOut</th>\n",
       "      <th>TaxiIn</th>\n",
       "    </tr>\n",
       "  </thead>\n",
       "  <tbody>\n",
       "    <tr>\n",
       "      <th>count</th>\n",
       "      <td>192838.0</td>\n",
       "      <td>192838.0</td>\n",
       "      <td>192838.0</td>\n",
       "      <td>192838.0</td>\n",
       "      <td>192838.0</td>\n",
       "      <td>192838.0</td>\n",
       "      <td>192838.0</td>\n",
       "      <td>192838.0</td>\n",
       "    </tr>\n",
       "    <tr>\n",
       "      <th>mean</th>\n",
       "      <td>6.1</td>\n",
       "      <td>4.0</td>\n",
       "      <td>14.4</td>\n",
       "      <td>765.3</td>\n",
       "      <td>108.4</td>\n",
       "      <td>43.0</td>\n",
       "      <td>18.2</td>\n",
       "      <td>6.8</td>\n",
       "    </tr>\n",
       "    <tr>\n",
       "      <th>std</th>\n",
       "      <td>3.5</td>\n",
       "      <td>2.0</td>\n",
       "      <td>4.3</td>\n",
       "      <td>573.5</td>\n",
       "      <td>68.7</td>\n",
       "      <td>52.5</td>\n",
       "      <td>14.3</td>\n",
       "      <td>5.3</td>\n",
       "    </tr>\n",
       "    <tr>\n",
       "      <th>min</th>\n",
       "      <td>1.0</td>\n",
       "      <td>1.0</td>\n",
       "      <td>0.0</td>\n",
       "      <td>30.0</td>\n",
       "      <td>0.0</td>\n",
       "      <td>6.0</td>\n",
       "      <td>0.0</td>\n",
       "      <td>0.0</td>\n",
       "    </tr>\n",
       "    <tr>\n",
       "      <th>25%</th>\n",
       "      <td>3.0</td>\n",
       "      <td>2.0</td>\n",
       "      <td>11.0</td>\n",
       "      <td>338.0</td>\n",
       "      <td>58.0</td>\n",
       "      <td>12.0</td>\n",
       "      <td>10.0</td>\n",
       "      <td>4.0</td>\n",
       "    </tr>\n",
       "    <tr>\n",
       "      <th>50%</th>\n",
       "      <td>6.0</td>\n",
       "      <td>4.0</td>\n",
       "      <td>15.0</td>\n",
       "      <td>606.0</td>\n",
       "      <td>90.0</td>\n",
       "      <td>24.0</td>\n",
       "      <td>14.0</td>\n",
       "      <td>6.0</td>\n",
       "    </tr>\n",
       "    <tr>\n",
       "      <th>75%</th>\n",
       "      <td>9.0</td>\n",
       "      <td>6.0</td>\n",
       "      <td>18.0</td>\n",
       "      <td>998.0</td>\n",
       "      <td>138.0</td>\n",
       "      <td>53.0</td>\n",
       "      <td>21.0</td>\n",
       "      <td>8.0</td>\n",
       "    </tr>\n",
       "    <tr>\n",
       "      <th>max</th>\n",
       "      <td>12.0</td>\n",
       "      <td>7.0</td>\n",
       "      <td>23.0</td>\n",
       "      <td>4962.0</td>\n",
       "      <td>637.0</td>\n",
       "      <td>1303.0</td>\n",
       "      <td>337.0</td>\n",
       "      <td>199.0</td>\n",
       "    </tr>\n",
       "  </tbody>\n",
       "</table>\n",
       "</div>"
      ],
      "text/plain": [
       "          Month  DayOfWeek  CRSDepTime  Distance   AirTime  DepDelay  \\\n",
       "count  192838.0   192838.0    192838.0  192838.0  192838.0  192838.0   \n",
       "mean        6.1        4.0        14.4     765.3     108.4      43.0   \n",
       "std         3.5        2.0         4.3     573.5      68.7      52.5   \n",
       "min         1.0        1.0         0.0      30.0       0.0       6.0   \n",
       "25%         3.0        2.0        11.0     338.0      58.0      12.0   \n",
       "50%         6.0        4.0        15.0     606.0      90.0      24.0   \n",
       "75%         9.0        6.0        18.0     998.0     138.0      53.0   \n",
       "max        12.0        7.0        23.0    4962.0     637.0    1303.0   \n",
       "\n",
       "        TaxiOut    TaxiIn  \n",
       "count  192838.0  192838.0  \n",
       "mean       18.2       6.8  \n",
       "std        14.3       5.3  \n",
       "min         0.0       0.0  \n",
       "25%        10.0       4.0  \n",
       "50%        14.0       6.0  \n",
       "75%        21.0       8.0  \n",
       "max       337.0     199.0  "
      ]
     },
     "execution_count": 9,
     "metadata": {},
     "output_type": "execute_result"
    }
   ],
   "source": [
    "round(raw.describe(),1)"
   ]
  },
  {
   "cell_type": "markdown",
   "id": "fc400d50",
   "metadata": {},
   "source": [
    "Generation of train and test subsets:"
   ]
  },
  {
   "cell_type": "code",
   "execution_count": 10,
   "id": "50a99189",
   "metadata": {},
   "outputs": [],
   "source": [
    "y = np.array(mostra_y)\n",
    "X = np.array(raw)\n",
    "\n",
    "X_train, X_test, y_train, y_test = train_test_split(X, y, test_size=0.30, random_state=40)"
   ]
  },
  {
   "cell_type": "markdown",
   "id": "2e66fc3d",
   "metadata": {},
   "source": [
    "LOGISTIC REGRESSION -> classifier1\n",
    "\n",
    "The logistic regression is a common and useful regression method for solving binary classification problems."
   ]
  },
  {
   "cell_type": "code",
   "execution_count": 11,
   "id": "8605bdc1",
   "metadata": {},
   "outputs": [],
   "source": [
    "classifier1 = LogisticRegression()\n",
    "classifier1.fit(X_train, y_train);"
   ]
  },
  {
   "cell_type": "markdown",
   "id": "56495e0f",
   "metadata": {},
   "source": [
    "XGBOOST -> classifier2\n",
    "\n",
    "XGBoost (Extreme Gradient Boosting) belongs to a family of boosting algorithms. The basic idea behind boosting algorithms is building a weak model, making conclusions about the various feature importance and parameters, and then using those conclusions to build a new, stronger model and capitalize on the misclassification error of the previous model and try to reduce it."
   ]
  },
  {
   "cell_type": "code",
   "execution_count": 12,
   "id": "0491f23d",
   "metadata": {},
   "outputs": [],
   "source": [
    "classifier2 = xgb.XGBClassifier()\n",
    "classifier2.fit(X_train, y_train);"
   ]
  },
  {
   "cell_type": "markdown",
   "id": "1ef55c1a",
   "metadata": {},
   "source": [
    "DECISION TREE -> classifier3\n",
    "\n",
    "Decision trees are used for handling non-linear data sets effectively."
   ]
  },
  {
   "cell_type": "code",
   "execution_count": 13,
   "id": "8a60c0ea",
   "metadata": {},
   "outputs": [],
   "source": [
    "classifier3 = DecisionTreeClassifier()\n",
    "classifier3.fit(X_train, y_train);"
   ]
  },
  {
   "cell_type": "markdown",
   "id": "aa968dff",
   "metadata": {},
   "source": [
    "### *Exercici 2*: Compara els models de classificació utilitzant la precisió (accuracy), una matriu de confiança i d’altres mètriques més avançades."
   ]
  },
  {
   "cell_type": "markdown",
   "id": "6bb35381",
   "metadata": {},
   "source": [
    "I develop a function to generate the five more relevant metrics for classification models: accuracy, precision, sensitivity, specificity and f1:\n",
    "\n",
    "- predicciones correctas / total predicciones\n",
    "    - *accuracy* = (TP+TN)/(TP+FP+FN+TN)\n",
    "- predicciones positivas correctas / total predicciones positivas\n",
    "    - *precision* = TP/(TP+FP)\n",
    "- predicciones positivas correctas / total positivos\n",
    "    - *sensitivity* (or *recall*) = TP/(TP+FN)\n",
    "- predicciones negativas correctas / total negativos\n",
    "    - *specificity* = tn / (tn + fp)\n",
    "- f1 score\n",
    "    - *f1_score* = 2 x (recall x precision) / (recall + precision)\n"
   ]
  },
  {
   "cell_type": "code",
   "execution_count": 42,
   "id": "19d6a75e",
   "metadata": {},
   "outputs": [],
   "source": [
    "def metrics (model, y, y_pred):\n",
    "     return {'Model':model, 'Accuracy': accuracy_score(y, y_pred), 'Precision': precision_score(y, y_pred), 'Sensitivity': sensitivity_score(y, y_pred), 'Specificity': specificity_score(y, y_pred), 'f1 score': f1_score(y, y_pred)}"
   ]
  },
  {
   "cell_type": "markdown",
   "id": "9c685c77",
   "metadata": {},
   "source": [
    "Now let me check the metrics and the confusion matrix results for this Logistic Regression model.\n",
    "\n",
    "The confusion matrix is a 2 x 2 matrix showing the total correct predictions in one diagonal and the two error types in the other:\n",
    "\n",
    "###    TN FP\n",
    "###    FN TP"
   ]
  },
  {
   "cell_type": "code",
   "execution_count": 15,
   "id": "83b85750",
   "metadata": {},
   "outputs": [],
   "source": [
    "lr_y = classifier1.predict(X_test)"
   ]
  },
  {
   "cell_type": "code",
   "execution_count": 16,
   "id": "7c222ac2",
   "metadata": {},
   "outputs": [],
   "source": [
    "table = pd.DataFrame(metrics('Logistic Regression', y_test, lr_y),index=[0])\n",
    "cm_lr = confusion_matrix(y_test, lr_y)"
   ]
  },
  {
   "cell_type": "code",
   "execution_count": 17,
   "id": "0c511781",
   "metadata": {},
   "outputs": [
    {
     "data": {
      "text/html": [
       "<div>\n",
       "<style scoped>\n",
       "    .dataframe tbody tr th:only-of-type {\n",
       "        vertical-align: middle;\n",
       "    }\n",
       "\n",
       "    .dataframe tbody tr th {\n",
       "        vertical-align: top;\n",
       "    }\n",
       "\n",
       "    .dataframe thead th {\n",
       "        text-align: right;\n",
       "    }\n",
       "</style>\n",
       "<table border=\"1\" class=\"dataframe\">\n",
       "  <thead>\n",
       "    <tr style=\"text-align: right;\">\n",
       "      <th></th>\n",
       "      <th>Model</th>\n",
       "      <th>Accuracy</th>\n",
       "      <th>Precision</th>\n",
       "      <th>Sensitivity</th>\n",
       "      <th>Specificity</th>\n",
       "      <th>f1 score</th>\n",
       "    </tr>\n",
       "  </thead>\n",
       "  <tbody>\n",
       "    <tr>\n",
       "      <th>0</th>\n",
       "      <td>Logistic Regression</td>\n",
       "      <td>0.903582</td>\n",
       "      <td>0.913172</td>\n",
       "      <td>0.985643</td>\n",
       "      <td>0.22484</td>\n",
       "      <td>0.948025</td>\n",
       "    </tr>\n",
       "  </tbody>\n",
       "</table>\n",
       "</div>"
      ],
      "text/plain": [
       "                 Model  Accuracy  Precision  Sensitivity  Specificity  \\\n",
       "0  Logistic Regression  0.903582   0.913172     0.985643      0.22484   \n",
       "\n",
       "   f1 score  \n",
       "0  0.948025  "
      ]
     },
     "execution_count": 17,
     "metadata": {},
     "output_type": "execute_result"
    }
   ],
   "source": [
    "table"
   ]
  },
  {
   "cell_type": "code",
   "execution_count": 18,
   "id": "1802c6df",
   "metadata": {},
   "outputs": [
    {
     "data": {
      "text/plain": [
       "array([[ 1403,  4837],\n",
       "       [  741, 50871]], dtype=int64)"
      ]
     },
     "execution_count": 18,
     "metadata": {},
     "output_type": "execute_result"
    }
   ],
   "source": [
    "cm_lr"
   ]
  },
  {
   "cell_type": "markdown",
   "id": "9e5e84b2",
   "metadata": {},
   "source": [
    "***Conclusion***:\n",
    "Almost all the metrics are above 90%, it might look good but... The **specificity** (22%) is very low, which indicates how poorly the model predicts the Negatives (flights without delay): it only hits 1403 out of 6240!! And also, the accuracy (91%) is marginally higher than the mere percentage of Positives in the dataset (89%). In other words, it's almost as bad as *predicting* that all flights are delayed...\n",
    "\n",
    "I consider a must to adjust the logistic regression model improving the predictions of negatives. Specificity should be higher. For this, we have to rebalance the sample through **undersampling and/or oversampling**.\n",
    "\n",
    "There are plenty of options to do under and over sampling to deal with unbalanced classes. In this exercise, I will test the *random under sampling* and the *SMOTE oversampling*.\n",
    "\n",
    "The sampling_strategy is a parameter which defines the ratio between the smaller and the bigger classes. I will test a couple of options(15% and 25%), not too far from the true ratio 0.105586/0.894414 = 11.8%\n",
    "\n",
    "The undesampling reduces the bigger class, the oversampling increases the smaller class (it generates synthetic samples)"
   ]
  },
  {
   "cell_type": "code",
   "execution_count": 19,
   "id": "8af73d50",
   "metadata": {},
   "outputs": [],
   "source": [
    "rebalanced_options = pd.DataFrame(metrics('Logistic Regression', y_test, lr_y),index=[0])"
   ]
  },
  {
   "cell_type": "code",
   "execution_count": 20,
   "id": "4709a9ef",
   "metadata": {},
   "outputs": [
    {
     "name": "stdout",
     "output_type": "stream",
     "text": [
      "(134986, 8) (array([0, 1], dtype=int64), array([ 14121, 120865], dtype=int64))\n"
     ]
    }
   ],
   "source": [
    "print(X_train.shape, np.unique(y_train, return_counts=True))"
   ]
  },
  {
   "cell_type": "code",
   "execution_count": 21,
   "id": "e802a18a",
   "metadata": {},
   "outputs": [
    {
     "name": "stdout",
     "output_type": "stream",
     "text": [
      "(108261, 8) 0.15 (array([0, 1], dtype=int64), array([14121, 94140], dtype=int64))\n",
      "(70605, 8) 0.25 (array([0, 1], dtype=int64), array([14121, 56484], dtype=int64))\n",
      "(138994, 8) 0.15 (array([0, 1], dtype=int64), array([ 18129, 120865], dtype=int64))\n",
      "(151081, 8) 0.25 (array([0, 1], dtype=int64), array([ 30216, 120865], dtype=int64))\n"
     ]
    }
   ],
   "source": [
    "# two tests for undersampling, sampling strategy 15% and 25%    \n",
    "under = RandomUnderSampler(sampling_strategy= 0.15) \n",
    "X_bl, y_bl = under.fit_resample(X_train, y_train)\n",
    "print(X_bl.shape, 0.15, np.unique(y_bl, return_counts=True))\n",
    "a =  LogisticRegression()   \n",
    "a.fit(X_bl, y_bl)\n",
    "lr_y_2 = a.predict(X_test)\n",
    "rebalanced_options = rebalanced_options.append(metrics('Logistic Undersampled {x}%'.format(x=0.15), y_test, lr_y_2), ignore_index = True)\n",
    "    \n",
    "under = RandomUnderSampler(sampling_strategy= 0.25) \n",
    "X_bl, y_bl = under.fit_resample(X_train, y_train)\n",
    "print(X_bl.shape, 0.25, np.unique(y_bl, return_counts=True))\n",
    "b =  LogisticRegression()   \n",
    "b.fit(X_bl, y_bl)\n",
    "lr_y_2 = b.predict(X_test)\n",
    "rebalanced_options = rebalanced_options.append(metrics('Logistic Undersampled {x}%'.format(x=0.25), y_test, lr_y_2), ignore_index = True)    \n",
    "\n",
    "# now two tests for oversampling, sampling strategy 15% and 25%\n",
    "over = SMOTE(sampling_strategy= 0.15) \n",
    "X_bl, y_bl = over.fit_resample(X_train, y_train)\n",
    "print(X_bl.shape, 0.15, np.unique(y_bl, return_counts=True))\n",
    "c = LogisticRegression()\n",
    "c.fit(X_bl, y_bl)\n",
    "lr_y_2 = c.predict(X_test)\n",
    "rebalanced_options = rebalanced_options.append(metrics('Logistic Oversampled {x}%'.format(x=0.15), y_test, lr_y_2), ignore_index = True)\n",
    "    \n",
    "over = SMOTE(sampling_strategy= 0.25) \n",
    "X_bl, y_bl = over.fit_resample(X_train, y_train)\n",
    "print(X_bl.shape, 0.25, np.unique(y_bl, return_counts=True))\n",
    "d = LogisticRegression()\n",
    "d.fit(X_bl, y_bl)\n",
    "lr_y_2 = d.predict(X_test)\n",
    "rebalanced_options = rebalanced_options.append(metrics('Logistic Oversampled {x}%'.format(x=0.25), y_test, lr_y_2), ignore_index = True)\n",
    "    "
   ]
  },
  {
   "cell_type": "code",
   "execution_count": 22,
   "id": "fe1cfc76",
   "metadata": {},
   "outputs": [],
   "source": [
    "def show(table):\n",
    "    return table.style.highlight_max(['Accuracy', 'Precision', 'Sensitivity', 'Specificity', 'f1 score'])"
   ]
  },
  {
   "cell_type": "code",
   "execution_count": 23,
   "id": "b0d6d35c",
   "metadata": {},
   "outputs": [
    {
     "data": {
      "text/html": [
       "<style type=\"text/css\">\n",
       "#T_beabf_row0_col3, #T_beabf_row2_col2, #T_beabf_row2_col4, #T_beabf_row3_col1, #T_beabf_row3_col5 {\n",
       "  background-color: yellow;\n",
       "}\n",
       "</style>\n",
       "<table id=\"T_beabf_\">\n",
       "  <thead>\n",
       "    <tr>\n",
       "      <th class=\"blank level0\" >&nbsp;</th>\n",
       "      <th class=\"col_heading level0 col0\" >Model</th>\n",
       "      <th class=\"col_heading level0 col1\" >Accuracy</th>\n",
       "      <th class=\"col_heading level0 col2\" >Precision</th>\n",
       "      <th class=\"col_heading level0 col3\" >Sensitivity</th>\n",
       "      <th class=\"col_heading level0 col4\" >Specificity</th>\n",
       "      <th class=\"col_heading level0 col5\" >f1 score</th>\n",
       "    </tr>\n",
       "  </thead>\n",
       "  <tbody>\n",
       "    <tr>\n",
       "      <th id=\"T_beabf_level0_row0\" class=\"row_heading level0 row0\" >0</th>\n",
       "      <td id=\"T_beabf_row0_col0\" class=\"data row0 col0\" >Logistic Regression</td>\n",
       "      <td id=\"T_beabf_row0_col1\" class=\"data row0 col1\" >0.903582</td>\n",
       "      <td id=\"T_beabf_row0_col2\" class=\"data row0 col2\" >0.913172</td>\n",
       "      <td id=\"T_beabf_row0_col3\" class=\"data row0 col3\" >0.985643</td>\n",
       "      <td id=\"T_beabf_row0_col4\" class=\"data row0 col4\" >0.224840</td>\n",
       "      <td id=\"T_beabf_row0_col5\" class=\"data row0 col5\" >0.948025</td>\n",
       "    </tr>\n",
       "    <tr>\n",
       "      <th id=\"T_beabf_level0_row1\" class=\"row_heading level0 row1\" >1</th>\n",
       "      <td id=\"T_beabf_row1_col0\" class=\"data row1 col0\" >Logistic Undersampled 0.15%</td>\n",
       "      <td id=\"T_beabf_row1_col1\" class=\"data row1 col1\" >0.905414</td>\n",
       "      <td id=\"T_beabf_row1_col2\" class=\"data row1 col2\" >0.922002</td>\n",
       "      <td id=\"T_beabf_row1_col3\" class=\"data row1 col3\" >0.976595</td>\n",
       "      <td id=\"T_beabf_row1_col4\" class=\"data row1 col4\" >0.316667</td>\n",
       "      <td id=\"T_beabf_row1_col5\" class=\"data row1 col5\" >0.948513</td>\n",
       "    </tr>\n",
       "    <tr>\n",
       "      <th id=\"T_beabf_level0_row2\" class=\"row_heading level0 row2\" >2</th>\n",
       "      <td id=\"T_beabf_row2_col0\" class=\"data row2 col0\" >Logistic Undersampled 0.25%</td>\n",
       "      <td id=\"T_beabf_row2_col1\" class=\"data row2 col1\" >0.899260</td>\n",
       "      <td id=\"T_beabf_row2_col2\" class=\"data row2 col2\" >0.940909</td>\n",
       "      <td id=\"T_beabf_row2_col3\" class=\"data row2 col3\" >0.946524</td>\n",
       "      <td id=\"T_beabf_row2_col4\" class=\"data row2 col4\" >0.508333</td>\n",
       "      <td id=\"T_beabf_row2_col5\" class=\"data row2 col5\" >0.943708</td>\n",
       "    </tr>\n",
       "    <tr>\n",
       "      <th id=\"T_beabf_level0_row3\" class=\"row_heading level0 row3\" >3</th>\n",
       "      <td id=\"T_beabf_row3_col0\" class=\"data row3 col0\" >Logistic Oversampled 0.15%</td>\n",
       "      <td id=\"T_beabf_row3_col1\" class=\"data row3 col1\" >0.905829</td>\n",
       "      <td id=\"T_beabf_row3_col2\" class=\"data row3 col2\" >0.922237</td>\n",
       "      <td id=\"T_beabf_row3_col3\" class=\"data row3 col3\" >0.976808</td>\n",
       "      <td id=\"T_beabf_row3_col4\" class=\"data row3 col4\" >0.318750</td>\n",
       "      <td id=\"T_beabf_row3_col5\" class=\"data row3 col5\" >0.948738</td>\n",
       "    </tr>\n",
       "    <tr>\n",
       "      <th id=\"T_beabf_level0_row4\" class=\"row_heading level0 row4\" >4</th>\n",
       "      <td id=\"T_beabf_row4_col0\" class=\"data row4 col0\" >Logistic Oversampled 0.25%</td>\n",
       "      <td id=\"T_beabf_row4_col1\" class=\"data row4 col1\" >0.898811</td>\n",
       "      <td id=\"T_beabf_row4_col2\" class=\"data row4 col2\" >0.940574</td>\n",
       "      <td id=\"T_beabf_row4_col3\" class=\"data row4 col3\" >0.946369</td>\n",
       "      <td id=\"T_beabf_row4_col4\" class=\"data row4 col4\" >0.505449</td>\n",
       "      <td id=\"T_beabf_row4_col5\" class=\"data row4 col5\" >0.943463</td>\n",
       "    </tr>\n",
       "  </tbody>\n",
       "</table>\n"
      ],
      "text/plain": [
       "<pandas.io.formats.style.Styler at 0x1e23ab63e80>"
      ]
     },
     "execution_count": 23,
     "metadata": {},
     "output_type": "execute_result"
    }
   ],
   "source": [
    "show(rebalanced_options)"
   ]
  },
  {
   "cell_type": "markdown",
   "id": "9857129c",
   "metadata": {},
   "source": [
    "***Conclusion***:\n",
    "The process to balance the dataset achieves the goal (as we can see by the drastic improvement of the Specificity from 22% up to >50% in some cases). Also the Precision improves a bit, while Accuracy and Sensitivity are worsened a bit.\n",
    "\n",
    "If you focus to improve one of the metrics then others will worsen, then the right approach is to achieve acceptable levels for all the metrics."
   ]
  },
  {
   "cell_type": "markdown",
   "id": "50fbadbe",
   "metadata": {},
   "source": [
    "As an additional exercise I will test a combination of both techniques with the help of a pipeline. A lot of articles recommend a mixing of both techniques as the best option."
   ]
  },
  {
   "cell_type": "code",
   "execution_count": 24,
   "id": "da7d7cc2",
   "metadata": {},
   "outputs": [
    {
     "name": "stdout",
     "output_type": "stream",
     "text": [
      "(90645, 8) o=0.15, u=0.25 (array([0, 1], dtype=int64), array([18129, 72516], dtype=int64))\n"
     ]
    }
   ],
   "source": [
    "over = SMOTE(sampling_strategy= 0.15)\n",
    "under = RandomUnderSampler(sampling_strategy= 0.25) \n",
    "\n",
    "steps = [('o', over), ('u', under)]\n",
    "\n",
    "pipeline = Pipeline(steps = steps)\n",
    "\n",
    "X_bl, y_bl = pipeline.fit_resample(X_train, y_train)\n",
    "print(X_bl.shape, 'o=0.15, u=0.25', np.unique(y_bl, return_counts=True))"
   ]
  },
  {
   "cell_type": "code",
   "execution_count": 25,
   "id": "fd899ecd",
   "metadata": {},
   "outputs": [],
   "source": [
    "classifier1.fit(X_bl, y_bl)\n",
    "e = LogisticRegression()\n",
    "e.fit(X_bl, y_bl)\n",
    "lr_y_2 = e.predict(X_test)\n",
    "rebalanced_options = rebalanced_options.append(metrics('Logistic Over/Undersampled', y_test, lr_y_2), ignore_index = True)"
   ]
  },
  {
   "cell_type": "code",
   "execution_count": 26,
   "id": "67e2dff3",
   "metadata": {},
   "outputs": [
    {
     "data": {
      "text/html": [
       "<style type=\"text/css\">\n",
       "#T_6b9c8_row0_col3, #T_6b9c8_row2_col2, #T_6b9c8_row2_col4, #T_6b9c8_row3_col1, #T_6b9c8_row3_col5 {\n",
       "  background-color: yellow;\n",
       "}\n",
       "</style>\n",
       "<table id=\"T_6b9c8_\">\n",
       "  <thead>\n",
       "    <tr>\n",
       "      <th class=\"blank level0\" >&nbsp;</th>\n",
       "      <th class=\"col_heading level0 col0\" >Model</th>\n",
       "      <th class=\"col_heading level0 col1\" >Accuracy</th>\n",
       "      <th class=\"col_heading level0 col2\" >Precision</th>\n",
       "      <th class=\"col_heading level0 col3\" >Sensitivity</th>\n",
       "      <th class=\"col_heading level0 col4\" >Specificity</th>\n",
       "      <th class=\"col_heading level0 col5\" >f1 score</th>\n",
       "    </tr>\n",
       "  </thead>\n",
       "  <tbody>\n",
       "    <tr>\n",
       "      <th id=\"T_6b9c8_level0_row0\" class=\"row_heading level0 row0\" >0</th>\n",
       "      <td id=\"T_6b9c8_row0_col0\" class=\"data row0 col0\" >Logistic Regression</td>\n",
       "      <td id=\"T_6b9c8_row0_col1\" class=\"data row0 col1\" >0.903582</td>\n",
       "      <td id=\"T_6b9c8_row0_col2\" class=\"data row0 col2\" >0.913172</td>\n",
       "      <td id=\"T_6b9c8_row0_col3\" class=\"data row0 col3\" >0.985643</td>\n",
       "      <td id=\"T_6b9c8_row0_col4\" class=\"data row0 col4\" >0.224840</td>\n",
       "      <td id=\"T_6b9c8_row0_col5\" class=\"data row0 col5\" >0.948025</td>\n",
       "    </tr>\n",
       "    <tr>\n",
       "      <th id=\"T_6b9c8_level0_row1\" class=\"row_heading level0 row1\" >1</th>\n",
       "      <td id=\"T_6b9c8_row1_col0\" class=\"data row1 col0\" >Logistic Undersampled 0.15%</td>\n",
       "      <td id=\"T_6b9c8_row1_col1\" class=\"data row1 col1\" >0.905414</td>\n",
       "      <td id=\"T_6b9c8_row1_col2\" class=\"data row1 col2\" >0.922002</td>\n",
       "      <td id=\"T_6b9c8_row1_col3\" class=\"data row1 col3\" >0.976595</td>\n",
       "      <td id=\"T_6b9c8_row1_col4\" class=\"data row1 col4\" >0.316667</td>\n",
       "      <td id=\"T_6b9c8_row1_col5\" class=\"data row1 col5\" >0.948513</td>\n",
       "    </tr>\n",
       "    <tr>\n",
       "      <th id=\"T_6b9c8_level0_row2\" class=\"row_heading level0 row2\" >2</th>\n",
       "      <td id=\"T_6b9c8_row2_col0\" class=\"data row2 col0\" >Logistic Undersampled 0.25%</td>\n",
       "      <td id=\"T_6b9c8_row2_col1\" class=\"data row2 col1\" >0.899260</td>\n",
       "      <td id=\"T_6b9c8_row2_col2\" class=\"data row2 col2\" >0.940909</td>\n",
       "      <td id=\"T_6b9c8_row2_col3\" class=\"data row2 col3\" >0.946524</td>\n",
       "      <td id=\"T_6b9c8_row2_col4\" class=\"data row2 col4\" >0.508333</td>\n",
       "      <td id=\"T_6b9c8_row2_col5\" class=\"data row2 col5\" >0.943708</td>\n",
       "    </tr>\n",
       "    <tr>\n",
       "      <th id=\"T_6b9c8_level0_row3\" class=\"row_heading level0 row3\" >3</th>\n",
       "      <td id=\"T_6b9c8_row3_col0\" class=\"data row3 col0\" >Logistic Oversampled 0.15%</td>\n",
       "      <td id=\"T_6b9c8_row3_col1\" class=\"data row3 col1\" >0.905829</td>\n",
       "      <td id=\"T_6b9c8_row3_col2\" class=\"data row3 col2\" >0.922237</td>\n",
       "      <td id=\"T_6b9c8_row3_col3\" class=\"data row3 col3\" >0.976808</td>\n",
       "      <td id=\"T_6b9c8_row3_col4\" class=\"data row3 col4\" >0.318750</td>\n",
       "      <td id=\"T_6b9c8_row3_col5\" class=\"data row3 col5\" >0.948738</td>\n",
       "    </tr>\n",
       "    <tr>\n",
       "      <th id=\"T_6b9c8_level0_row4\" class=\"row_heading level0 row4\" >4</th>\n",
       "      <td id=\"T_6b9c8_row4_col0\" class=\"data row4 col0\" >Logistic Oversampled 0.25%</td>\n",
       "      <td id=\"T_6b9c8_row4_col1\" class=\"data row4 col1\" >0.898811</td>\n",
       "      <td id=\"T_6b9c8_row4_col2\" class=\"data row4 col2\" >0.940574</td>\n",
       "      <td id=\"T_6b9c8_row4_col3\" class=\"data row4 col3\" >0.946369</td>\n",
       "      <td id=\"T_6b9c8_row4_col4\" class=\"data row4 col4\" >0.505449</td>\n",
       "      <td id=\"T_6b9c8_row4_col5\" class=\"data row4 col5\" >0.943463</td>\n",
       "    </tr>\n",
       "    <tr>\n",
       "      <th id=\"T_6b9c8_level0_row5\" class=\"row_heading level0 row5\" >5</th>\n",
       "      <td id=\"T_6b9c8_row5_col0\" class=\"data row5 col0\" >Logistic Over/Undersampled</td>\n",
       "      <td id=\"T_6b9c8_row5_col1\" class=\"data row5 col1\" >0.899260</td>\n",
       "      <td id=\"T_6b9c8_row5_col2\" class=\"data row5 col2\" >0.940366</td>\n",
       "      <td id=\"T_6b9c8_row5_col3\" class=\"data row5 col3\" >0.947144</td>\n",
       "      <td id=\"T_6b9c8_row5_col4\" class=\"data row5 col4\" >0.503205</td>\n",
       "      <td id=\"T_6b9c8_row5_col5\" class=\"data row5 col5\" >0.943743</td>\n",
       "    </tr>\n",
       "  </tbody>\n",
       "</table>\n"
      ],
      "text/plain": [
       "<pandas.io.formats.style.Styler at 0x1e24385ca30>"
      ]
     },
     "execution_count": 26,
     "metadata": {},
     "output_type": "execute_result"
    }
   ],
   "source": [
    "show(rebalanced_options)"
   ]
  },
  {
   "cell_type": "markdown",
   "id": "31f7e2f4",
   "metadata": {},
   "source": [
    "I will use both set of samples, the *raw* (X_train and y_train) and the *balanced data* (X_bl and y_bl) for the other two models I selected, to compare the results.\n",
    "\n",
    "Obvious: the test only can be done with X_test and y_test in both cases."
   ]
  },
  {
   "cell_type": "markdown",
   "id": "566f6161",
   "metadata": {},
   "source": [
    "Now I continue with the train of the other two models. First the XGBoost, for the unbalanced (original) and balanced sets."
   ]
  },
  {
   "cell_type": "code",
   "execution_count": 27,
   "id": "f5567ae3",
   "metadata": {},
   "outputs": [
    {
     "data": {
      "text/plain": [
       "array([[ 2689,  3551],\n",
       "       [ 1244, 50368]], dtype=int64)"
      ]
     },
     "execution_count": 27,
     "metadata": {},
     "output_type": "execute_result"
    }
   ],
   "source": [
    "xgb_y = classifier2.predict(X_test)\n",
    "cm_xgb = confusion_matrix(y_test, xgb_y)\n",
    "cm_xgb"
   ]
  },
  {
   "cell_type": "code",
   "execution_count": 28,
   "id": "096ce440",
   "metadata": {},
   "outputs": [
    {
     "data": {
      "text/plain": [
       "array([[ 3773,  2467],\n",
       "       [ 2676, 48936]], dtype=int64)"
      ]
     },
     "execution_count": 28,
     "metadata": {},
     "output_type": "execute_result"
    }
   ],
   "source": [
    "classifier2_bl = xgb.XGBClassifier()\n",
    "classifier2_bl.fit(X_bl, y_bl);\n",
    "xgb_y_bl = classifier2_bl.predict(X_test)\n",
    "cm_xgb_bl = confusion_matrix(y_test, xgb_y_bl)\n",
    "cm_xgb_bl"
   ]
  },
  {
   "cell_type": "markdown",
   "id": "714764d1",
   "metadata": {},
   "source": [
    "And finally the Decision Tree:"
   ]
  },
  {
   "cell_type": "code",
   "execution_count": 29,
   "id": "1bdd93c7",
   "metadata": {},
   "outputs": [
    {
     "data": {
      "text/plain": [
       "array([[ 2844,  3396],\n",
       "       [ 3830, 47782]], dtype=int64)"
      ]
     },
     "execution_count": 29,
     "metadata": {},
     "output_type": "execute_result"
    }
   ],
   "source": [
    "dtc_y = classifier3.predict(X_test)\n",
    "cm_dtc = confusion_matrix(y_test, dtc_y)\n",
    "cm_dtc"
   ]
  },
  {
   "cell_type": "code",
   "execution_count": 30,
   "id": "5c52e39b",
   "metadata": {},
   "outputs": [
    {
     "data": {
      "text/plain": [
       "array([[ 3353,  2887],\n",
       "       [ 5283, 46329]], dtype=int64)"
      ]
     },
     "execution_count": 30,
     "metadata": {},
     "output_type": "execute_result"
    }
   ],
   "source": [
    "classifier3_bl = DecisionTreeClassifier()\n",
    "classifier3_bl.fit(X_bl, y_bl);\n",
    "dtc_y_bl = classifier3_bl.predict(X_test)\n",
    "cm_dtc_bl = confusion_matrix(y_test, dtc_y_bl)\n",
    "cm_dtc_bl"
   ]
  },
  {
   "cell_type": "markdown",
   "id": "dae5a179",
   "metadata": {},
   "source": [
    "I show the metric results:"
   ]
  },
  {
   "cell_type": "code",
   "execution_count": 31,
   "id": "b513b772",
   "metadata": {},
   "outputs": [],
   "source": [
    "table = table.append(metrics('XGBoost', y_test, xgb_y), ignore_index = True)\n",
    "table = table.append(metrics('Decision Tree', y_test, dtc_y), ignore_index = True)\n",
    "table = table.append(metrics('Logistic Balanced', y_test, lr_y_2), ignore_index = True)\n",
    "table = table.append(metrics('XGBoost Balanced', y_test, xgb_y_bl), ignore_index = True)\n",
    "table = table.append(metrics('Decision Tree Balanced', y_test, dtc_y_bl), ignore_index = True)"
   ]
  },
  {
   "cell_type": "code",
   "execution_count": 32,
   "id": "8c05e7c6",
   "metadata": {},
   "outputs": [
    {
     "data": {
      "text/html": [
       "<style type=\"text/css\">\n",
       "#T_94fa0_row0_col3, #T_94fa0_row1_col1, #T_94fa0_row1_col5, #T_94fa0_row4_col2, #T_94fa0_row4_col4 {\n",
       "  background-color: yellow;\n",
       "}\n",
       "</style>\n",
       "<table id=\"T_94fa0_\">\n",
       "  <thead>\n",
       "    <tr>\n",
       "      <th class=\"blank level0\" >&nbsp;</th>\n",
       "      <th class=\"col_heading level0 col0\" >Model</th>\n",
       "      <th class=\"col_heading level0 col1\" >Accuracy</th>\n",
       "      <th class=\"col_heading level0 col2\" >Precision</th>\n",
       "      <th class=\"col_heading level0 col3\" >Sensitivity</th>\n",
       "      <th class=\"col_heading level0 col4\" >Specificity</th>\n",
       "      <th class=\"col_heading level0 col5\" >f1 score</th>\n",
       "    </tr>\n",
       "  </thead>\n",
       "  <tbody>\n",
       "    <tr>\n",
       "      <th id=\"T_94fa0_level0_row0\" class=\"row_heading level0 row0\" >0</th>\n",
       "      <td id=\"T_94fa0_row0_col0\" class=\"data row0 col0\" >Logistic Regression</td>\n",
       "      <td id=\"T_94fa0_row0_col1\" class=\"data row0 col1\" >0.903582</td>\n",
       "      <td id=\"T_94fa0_row0_col2\" class=\"data row0 col2\" >0.913172</td>\n",
       "      <td id=\"T_94fa0_row0_col3\" class=\"data row0 col3\" >0.985643</td>\n",
       "      <td id=\"T_94fa0_row0_col4\" class=\"data row0 col4\" >0.224840</td>\n",
       "      <td id=\"T_94fa0_row0_col5\" class=\"data row0 col5\" >0.948025</td>\n",
       "    </tr>\n",
       "    <tr>\n",
       "      <th id=\"T_94fa0_level0_row1\" class=\"row_heading level0 row1\" >1</th>\n",
       "      <td id=\"T_94fa0_row1_col0\" class=\"data row1 col0\" >XGBoost</td>\n",
       "      <td id=\"T_94fa0_row1_col1\" class=\"data row1 col1\" >0.917116</td>\n",
       "      <td id=\"T_94fa0_row1_col2\" class=\"data row1 col2\" >0.934142</td>\n",
       "      <td id=\"T_94fa0_row1_col3\" class=\"data row1 col3\" >0.975897</td>\n",
       "      <td id=\"T_94fa0_row1_col4\" class=\"data row1 col4\" >0.430929</td>\n",
       "      <td id=\"T_94fa0_row1_col5\" class=\"data row1 col5\" >0.954563</td>\n",
       "    </tr>\n",
       "    <tr>\n",
       "      <th id=\"T_94fa0_level0_row2\" class=\"row_heading level0 row2\" >2</th>\n",
       "      <td id=\"T_94fa0_row2_col0\" class=\"data row2 col0\" >Decision Tree</td>\n",
       "      <td id=\"T_94fa0_row2_col1\" class=\"data row2 col1\" >0.875095</td>\n",
       "      <td id=\"T_94fa0_row2_col2\" class=\"data row2 col2\" >0.933643</td>\n",
       "      <td id=\"T_94fa0_row2_col3\" class=\"data row2 col3\" >0.925792</td>\n",
       "      <td id=\"T_94fa0_row2_col4\" class=\"data row2 col4\" >0.455769</td>\n",
       "      <td id=\"T_94fa0_row2_col5\" class=\"data row2 col5\" >0.929701</td>\n",
       "    </tr>\n",
       "    <tr>\n",
       "      <th id=\"T_94fa0_level0_row3\" class=\"row_heading level0 row3\" >3</th>\n",
       "      <td id=\"T_94fa0_row3_col0\" class=\"data row3 col0\" >Logistic Balanced</td>\n",
       "      <td id=\"T_94fa0_row3_col1\" class=\"data row3 col1\" >0.899260</td>\n",
       "      <td id=\"T_94fa0_row3_col2\" class=\"data row3 col2\" >0.940366</td>\n",
       "      <td id=\"T_94fa0_row3_col3\" class=\"data row3 col3\" >0.947144</td>\n",
       "      <td id=\"T_94fa0_row3_col4\" class=\"data row3 col4\" >0.503205</td>\n",
       "      <td id=\"T_94fa0_row3_col5\" class=\"data row3 col5\" >0.943743</td>\n",
       "    </tr>\n",
       "    <tr>\n",
       "      <th id=\"T_94fa0_level0_row4\" class=\"row_heading level0 row4\" >4</th>\n",
       "      <td id=\"T_94fa0_row4_col0\" class=\"data row4 col0\" >XGBoost Balanced</td>\n",
       "      <td id=\"T_94fa0_row4_col1\" class=\"data row4 col1\" >0.911101</td>\n",
       "      <td id=\"T_94fa0_row4_col2\" class=\"data row4 col2\" >0.952007</td>\n",
       "      <td id=\"T_94fa0_row4_col3\" class=\"data row4 col3\" >0.948152</td>\n",
       "      <td id=\"T_94fa0_row4_col4\" class=\"data row4 col4\" >0.604647</td>\n",
       "      <td id=\"T_94fa0_row4_col5\" class=\"data row4 col5\" >0.950075</td>\n",
       "    </tr>\n",
       "    <tr>\n",
       "      <th id=\"T_94fa0_level0_row5\" class=\"row_heading level0 row5\" >5</th>\n",
       "      <td id=\"T_94fa0_row5_col0\" class=\"data row5 col0\" >Decision Tree Balanced</td>\n",
       "      <td id=\"T_94fa0_row5_col1\" class=\"data row5 col1\" >0.858778</td>\n",
       "      <td id=\"T_94fa0_row5_col2\" class=\"data row5 col2\" >0.941340</td>\n",
       "      <td id=\"T_94fa0_row5_col3\" class=\"data row5 col3\" >0.897640</td>\n",
       "      <td id=\"T_94fa0_row5_col4\" class=\"data row5 col4\" >0.537340</td>\n",
       "      <td id=\"T_94fa0_row5_col5\" class=\"data row5 col5\" >0.918971</td>\n",
       "    </tr>\n",
       "  </tbody>\n",
       "</table>\n"
      ],
      "text/plain": [
       "<pandas.io.formats.style.Styler at 0x1e243867670>"
      ]
     },
     "execution_count": 32,
     "metadata": {},
     "output_type": "execute_result"
    }
   ],
   "source": [
    "show(table)"
   ]
  },
  {
   "cell_type": "markdown",
   "id": "ea9b153b",
   "metadata": {},
   "source": [
    "***Conclusion***:\n",
    "1. There are **relevant differences** in the results of the metrics for the different models I selected: XGBoost shows a better performance if we evaluate all the metrics. \n",
    "2. Also, when the dataset is unbalanced as it was in this case, the use of undersampling/oversampling **improves the overall performance** for all the models. "
   ]
  },
  {
   "cell_type": "markdown",
   "id": "fddaf0db",
   "metadata": {},
   "source": [
    "As a practical exercise I draw the ROC/AUC curve for the case of the XGBoost model trained over the balanced sample."
   ]
  },
  {
   "cell_type": "code",
   "execution_count": 35,
   "id": "d760461c",
   "metadata": {},
   "outputs": [
    {
     "data": {
      "image/png": "[encoded data removed]",
      "text/plain": [
       "<Figure size 432x288 with 1 Axes>"
      ]
     },
     "metadata": {
      "needs_background": "light"
     },
     "output_type": "display_data"
    }
   ],
   "source": [
    "fpr, tpr, not_used = metrics.roc_curve(y_test, xgb_y_bl)\n",
    "auc_xgb = metrics.roc_auc_score(y_test, xgb_y_bl)\n",
    "plt.plot(fpr,tpr,label=\"XGBoost, auc=\"+str(round(auc_xgb, 4)))\n",
    "plt.plot([0, 1], [0, 1], linestyle='--')\n",
    "plt.xlabel('False Positive Rate (1 - Specificity)')\n",
    "plt.ylabel('True Positive Rate (Sensitivity)')\n",
    "plt.grid(True)\n",
    "plt.legend(loc=4)\n",
    "plt.title('ROC/AUC curve XGBoost on a balanced sample '); "
   ]
  },
  {
   "cell_type": "markdown",
   "id": "053303e1",
   "metadata": {},
   "source": [
    "I calculate the AUC for the three adjusted models. I use now this metric because I am interested in the Specificity, and the AUC includes it. I will use the AUC as the parameter to compare the train/test with the cross validation in the next exercise."
   ]
  },
  {
   "cell_type": "code",
   "execution_count": 36,
   "id": "5b2202cb",
   "metadata": {},
   "outputs": [
    {
     "name": "stdout",
     "output_type": "stream",
     "text": [
      "0.7251746016132206 0.7763995142751535 0.7174899136456042\n"
     ]
    }
   ],
   "source": [
    "auc_lr_bl = metrics.roc_auc_score(y_test, lr_y_2)\n",
    "auc_xgb_bl = metrics.roc_auc_score(y_test, xgb_y_bl)\n",
    "auc_dtc_bl = metrics.roc_auc_score(y_test, dtc_y_bl)\n",
    "print(auc_lr_bl, auc_xgb_bl, auc_dtc_bl)"
   ]
  },
  {
   "cell_type": "markdown",
   "id": "2de430d6",
   "metadata": {},
   "source": [
    "### *Exercici 3*: Entrena’ls utilitzant els diferents paràmetres que admeten."
   ]
  },
  {
   "cell_type": "markdown",
   "id": "588d4830",
   "metadata": {},
   "source": [
    "I will train the models with the help of GridSearch to identify the best hyperparameters. I will train the adjusted models over the original (unbalanced) train set, (X_train and y_train) just to keep separated the effects of the two actions (balancing and hyperparameter adjustment) and being able to compare them: "
   ]
  },
  {
   "cell_type": "markdown",
   "id": "aaf9377d",
   "metadata": {},
   "source": [
    "I am choosing an small set of hyperparameters to play with, to keep under control the computing time. I have tried to identify the ones that might deliver better improvement of the metrics."
   ]
  },
  {
   "cell_type": "code",
   "execution_count": 37,
   "id": "f34b642e",
   "metadata": {},
   "outputs": [
    {
     "data": {
      "text/plain": [
       "{'C': 1.0,\n",
       " 'class_weight': None,\n",
       " 'dual': False,\n",
       " 'fit_intercept': True,\n",
       " 'intercept_scaling': 1,\n",
       " 'l1_ratio': None,\n",
       " 'max_iter': 100,\n",
       " 'multi_class': 'auto',\n",
       " 'n_jobs': None,\n",
       " 'penalty': 'l2',\n",
       " 'random_state': None,\n",
       " 'solver': 'lbfgs',\n",
       " 'tol': 0.0001,\n",
       " 'verbose': 0,\n",
       " 'warm_start': False}"
      ]
     },
     "execution_count": 37,
     "metadata": {},
     "output_type": "execute_result"
    }
   ],
   "source": [
    "classifier1.get_params()"
   ]
  },
  {
   "cell_type": "code",
   "execution_count": 38,
   "id": "1f6aa6b2",
   "metadata": {},
   "outputs": [
    {
     "name": "stdout",
     "output_type": "stream",
     "text": [
      "Best Hyperparameters:  {'max_iter': 150, 'penalty': 'l2', 'solver': 'lbfgs'}\n"
     ]
    }
   ],
   "source": [
    "#dictionary of search space\n",
    "space = dict()\n",
    "space['penalty'] = ['l2', 'l1','elasticnet']\n",
    "space['max_iter'] = [100, 150]\n",
    "space['solver'] = ['lbfgs', 'saga']\n",
    "\n",
    "search = GridSearchCV(LogisticRegression(), space)\n",
    "\n",
    "result = search.fit(X_train, y_train)\n",
    "\n",
    "print('Best Hyperparameters: ', result.best_params_)"
   ]
  },
  {
   "cell_type": "code",
   "execution_count": 39,
   "id": "2f8a1223",
   "metadata": {},
   "outputs": [],
   "source": [
    "classifier1_adj = LogisticRegression(max_iter= 150, penalty = 'l2', solver = 'lbfgs')"
   ]
  },
  {
   "cell_type": "code",
   "execution_count": 40,
   "id": "9e9b56a7",
   "metadata": {},
   "outputs": [
    {
     "data": {
      "text/plain": [
       "array([[ 1348,  4892],\n",
       "       [  681, 50931]], dtype=int64)"
      ]
     },
     "execution_count": 40,
     "metadata": {},
     "output_type": "execute_result"
    }
   ],
   "source": [
    "classifier1_adj.fit(X_train, y_train);\n",
    "lr_y_adj = classifier1_adj.predict(X_test)\n",
    "cm_lr_adj = confusion_matrix(y_test, lr_y_adj)\n",
    "cm_lr_adj"
   ]
  },
  {
   "cell_type": "code",
   "execution_count": 43,
   "id": "172ef1aa",
   "metadata": {},
   "outputs": [],
   "source": [
    "table = table.append(metrics('Logistic Adj', y_test, lr_y_adj), ignore_index = True)"
   ]
  },
  {
   "cell_type": "code",
   "execution_count": 44,
   "id": "fb3cc297",
   "metadata": {},
   "outputs": [
    {
     "data": {
      "text/plain": [
       "{'objective': 'binary:logistic',\n",
       " 'use_label_encoder': False,\n",
       " 'base_score': 0.5,\n",
       " 'booster': 'gbtree',\n",
       " 'callbacks': None,\n",
       " 'colsample_bylevel': 1,\n",
       " 'colsample_bynode': 1,\n",
       " 'colsample_bytree': 1,\n",
       " 'early_stopping_rounds': None,\n",
       " 'enable_categorical': False,\n",
       " 'eval_metric': None,\n",
       " 'gamma': 0,\n",
       " 'gpu_id': -1,\n",
       " 'grow_policy': 'depthwise',\n",
       " 'importance_type': None,\n",
       " 'interaction_constraints': '',\n",
       " 'learning_rate': 0.300000012,\n",
       " 'max_bin': 256,\n",
       " 'max_cat_to_onehot': 4,\n",
       " 'max_delta_step': 0,\n",
       " 'max_depth': 6,\n",
       " 'max_leaves': 0,\n",
       " 'min_child_weight': 1,\n",
       " 'missing': nan,\n",
       " 'monotone_constraints': '()',\n",
       " 'n_estimators': 100,\n",
       " 'n_jobs': 0,\n",
       " 'num_parallel_tree': 1,\n",
       " 'predictor': 'auto',\n",
       " 'random_state': 0,\n",
       " 'reg_alpha': 0,\n",
       " 'reg_lambda': 1,\n",
       " 'sampling_method': 'uniform',\n",
       " 'scale_pos_weight': 1,\n",
       " 'subsample': 1,\n",
       " 'tree_method': 'exact',\n",
       " 'validate_parameters': 1,\n",
       " 'verbosity': None}"
      ]
     },
     "execution_count": 44,
     "metadata": {},
     "output_type": "execute_result"
    }
   ],
   "source": [
    "classifier2.get_params()"
   ]
  },
  {
   "cell_type": "code",
   "execution_count": 45,
   "id": "3e7ba3bd",
   "metadata": {},
   "outputs": [
    {
     "name": "stdout",
     "output_type": "stream",
     "text": [
      "Best Hyperparameters:  {'booster': 'gbtree', 'max_depth': 7, 'tree_method': 'exact'}\n"
     ]
    }
   ],
   "source": [
    "#dictionary of search space\n",
    "space = dict()\n",
    "space['booster'] = ['gbtree', 'dart' ]\n",
    "space['max_depth'] = [6, 7]\n",
    "space['tree_method'] = ['exact', 'gpu_hist']\n",
    "\n",
    "search = GridSearchCV(xgb.XGBClassifier(), space)\n",
    "\n",
    "result = search.fit(X_train, y_train)\n",
    "\n",
    "print('Best Hyperparameters: ', result.best_params_)"
   ]
  },
  {
   "cell_type": "code",
   "execution_count": 46,
   "id": "60554f86",
   "metadata": {},
   "outputs": [],
   "source": [
    "classifier2_adj = xgb.XGBClassifier(booster = 'gbtree', max_depth = 7, tree_method = 'exact')"
   ]
  },
  {
   "cell_type": "code",
   "execution_count": 48,
   "id": "1cd7ee89",
   "metadata": {},
   "outputs": [
    {
     "data": {
      "text/plain": [
       "array([[ 2783,  3457],\n",
       "       [ 1293, 50319]], dtype=int64)"
      ]
     },
     "execution_count": 48,
     "metadata": {},
     "output_type": "execute_result"
    }
   ],
   "source": [
    "classifier2_adj.fit(X_train, y_train);\n",
    "xgb_y_adj = classifier2_adj.predict(X_test)\n",
    "cm_xgb_adj = confusion_matrix(y_test, xgb_y_adj)\n",
    "cm_xgb_adj"
   ]
  },
  {
   "cell_type": "code",
   "execution_count": 49,
   "id": "199594fa",
   "metadata": {},
   "outputs": [],
   "source": [
    "table = table.append(metrics('XGBoost Adj', y_test, xgb_y_adj), ignore_index = True)"
   ]
  },
  {
   "cell_type": "code",
   "execution_count": 50,
   "id": "12c0c957",
   "metadata": {},
   "outputs": [
    {
     "data": {
      "text/plain": [
       "{'ccp_alpha': 0.0,\n",
       " 'class_weight': None,\n",
       " 'criterion': 'gini',\n",
       " 'max_depth': None,\n",
       " 'max_features': None,\n",
       " 'max_leaf_nodes': None,\n",
       " 'min_impurity_decrease': 0.0,\n",
       " 'min_samples_leaf': 1,\n",
       " 'min_samples_split': 2,\n",
       " 'min_weight_fraction_leaf': 0.0,\n",
       " 'random_state': None,\n",
       " 'splitter': 'best'}"
      ]
     },
     "execution_count": 50,
     "metadata": {},
     "output_type": "execute_result"
    }
   ],
   "source": [
    "classifier3.get_params()"
   ]
  },
  {
   "cell_type": "code",
   "execution_count": 51,
   "id": "80a72672",
   "metadata": {},
   "outputs": [
    {
     "name": "stdout",
     "output_type": "stream",
     "text": [
      "Best Hyperparameters:  {'class_weight': 'balanced', 'criterion': 'gini'}\n"
     ]
    }
   ],
   "source": [
    "#dictionary of search space\n",
    "space = dict()\n",
    "space['class_weight'] = [None, 'balanced' ]\n",
    "space['criterion'] = ['gini', 'entropy', 'log_loss']\n",
    "\n",
    "search = GridSearchCV(DecisionTreeClassifier(), space)\n",
    "\n",
    "result = search.fit(X_train, y_train)\n",
    "\n",
    "print('Best Hyperparameters: ', result.best_params_)"
   ]
  },
  {
   "cell_type": "code",
   "execution_count": 52,
   "id": "1f81a546",
   "metadata": {},
   "outputs": [],
   "source": [
    "classifier3_adj = DecisionTreeClassifier(class_weight = 'balanced', criterion = 'gini')"
   ]
  },
  {
   "cell_type": "code",
   "execution_count": 53,
   "id": "91c4a89d",
   "metadata": {},
   "outputs": [
    {
     "data": {
      "text/plain": [
       "array([[ 2528,  3712],\n",
       "       [ 3178, 48434]], dtype=int64)"
      ]
     },
     "execution_count": 53,
     "metadata": {},
     "output_type": "execute_result"
    }
   ],
   "source": [
    "classifier3_adj.fit(X_train, y_train);\n",
    "dtc_y_adj = classifier3_adj.predict(X_test)\n",
    "cm_dtc_adj = confusion_matrix(y_test, dtc_y_adj)\n",
    "cm_dtc_adj"
   ]
  },
  {
   "cell_type": "code",
   "execution_count": 54,
   "id": "652327c5",
   "metadata": {},
   "outputs": [],
   "source": [
    "table = table.append(metrics('Decision Tree Adj', y_test, dtc_y_adj), ignore_index = True)"
   ]
  },
  {
   "cell_type": "code",
   "execution_count": 55,
   "id": "699c45e4",
   "metadata": {},
   "outputs": [
    {
     "data": {
      "text/html": [
       "<style type=\"text/css\">\n",
       "#T_a7a17_row4_col2, #T_a7a17_row4_col4, #T_a7a17_row6_col3, #T_a7a17_row7_col1, #T_a7a17_row7_col5 {\n",
       "  background-color: yellow;\n",
       "}\n",
       "</style>\n",
       "<table id=\"T_a7a17_\">\n",
       "  <thead>\n",
       "    <tr>\n",
       "      <th class=\"blank level0\" >&nbsp;</th>\n",
       "      <th class=\"col_heading level0 col0\" >Model</th>\n",
       "      <th class=\"col_heading level0 col1\" >Accuracy</th>\n",
       "      <th class=\"col_heading level0 col2\" >Precision</th>\n",
       "      <th class=\"col_heading level0 col3\" >Sensitivity</th>\n",
       "      <th class=\"col_heading level0 col4\" >Specificity</th>\n",
       "      <th class=\"col_heading level0 col5\" >f1 score</th>\n",
       "    </tr>\n",
       "  </thead>\n",
       "  <tbody>\n",
       "    <tr>\n",
       "      <th id=\"T_a7a17_level0_row0\" class=\"row_heading level0 row0\" >0</th>\n",
       "      <td id=\"T_a7a17_row0_col0\" class=\"data row0 col0\" >Logistic Regression</td>\n",
       "      <td id=\"T_a7a17_row0_col1\" class=\"data row0 col1\" >0.903582</td>\n",
       "      <td id=\"T_a7a17_row0_col2\" class=\"data row0 col2\" >0.913172</td>\n",
       "      <td id=\"T_a7a17_row0_col3\" class=\"data row0 col3\" >0.985643</td>\n",
       "      <td id=\"T_a7a17_row0_col4\" class=\"data row0 col4\" >0.224840</td>\n",
       "      <td id=\"T_a7a17_row0_col5\" class=\"data row0 col5\" >0.948025</td>\n",
       "    </tr>\n",
       "    <tr>\n",
       "      <th id=\"T_a7a17_level0_row1\" class=\"row_heading level0 row1\" >1</th>\n",
       "      <td id=\"T_a7a17_row1_col0\" class=\"data row1 col0\" >XGBoost</td>\n",
       "      <td id=\"T_a7a17_row1_col1\" class=\"data row1 col1\" >0.917116</td>\n",
       "      <td id=\"T_a7a17_row1_col2\" class=\"data row1 col2\" >0.934142</td>\n",
       "      <td id=\"T_a7a17_row1_col3\" class=\"data row1 col3\" >0.975897</td>\n",
       "      <td id=\"T_a7a17_row1_col4\" class=\"data row1 col4\" >0.430929</td>\n",
       "      <td id=\"T_a7a17_row1_col5\" class=\"data row1 col5\" >0.954563</td>\n",
       "    </tr>\n",
       "    <tr>\n",
       "      <th id=\"T_a7a17_level0_row2\" class=\"row_heading level0 row2\" >2</th>\n",
       "      <td id=\"T_a7a17_row2_col0\" class=\"data row2 col0\" >Decision Tree</td>\n",
       "      <td id=\"T_a7a17_row2_col1\" class=\"data row2 col1\" >0.875095</td>\n",
       "      <td id=\"T_a7a17_row2_col2\" class=\"data row2 col2\" >0.933643</td>\n",
       "      <td id=\"T_a7a17_row2_col3\" class=\"data row2 col3\" >0.925792</td>\n",
       "      <td id=\"T_a7a17_row2_col4\" class=\"data row2 col4\" >0.455769</td>\n",
       "      <td id=\"T_a7a17_row2_col5\" class=\"data row2 col5\" >0.929701</td>\n",
       "    </tr>\n",
       "    <tr>\n",
       "      <th id=\"T_a7a17_level0_row3\" class=\"row_heading level0 row3\" >3</th>\n",
       "      <td id=\"T_a7a17_row3_col0\" class=\"data row3 col0\" >Logistic Balanced</td>\n",
       "      <td id=\"T_a7a17_row3_col1\" class=\"data row3 col1\" >0.899260</td>\n",
       "      <td id=\"T_a7a17_row3_col2\" class=\"data row3 col2\" >0.940366</td>\n",
       "      <td id=\"T_a7a17_row3_col3\" class=\"data row3 col3\" >0.947144</td>\n",
       "      <td id=\"T_a7a17_row3_col4\" class=\"data row3 col4\" >0.503205</td>\n",
       "      <td id=\"T_a7a17_row3_col5\" class=\"data row3 col5\" >0.943743</td>\n",
       "    </tr>\n",
       "    <tr>\n",
       "      <th id=\"T_a7a17_level0_row4\" class=\"row_heading level0 row4\" >4</th>\n",
       "      <td id=\"T_a7a17_row4_col0\" class=\"data row4 col0\" >XGBoost Balanced</td>\n",
       "      <td id=\"T_a7a17_row4_col1\" class=\"data row4 col1\" >0.911101</td>\n",
       "      <td id=\"T_a7a17_row4_col2\" class=\"data row4 col2\" >0.952007</td>\n",
       "      <td id=\"T_a7a17_row4_col3\" class=\"data row4 col3\" >0.948152</td>\n",
       "      <td id=\"T_a7a17_row4_col4\" class=\"data row4 col4\" >0.604647</td>\n",
       "      <td id=\"T_a7a17_row4_col5\" class=\"data row4 col5\" >0.950075</td>\n",
       "    </tr>\n",
       "    <tr>\n",
       "      <th id=\"T_a7a17_level0_row5\" class=\"row_heading level0 row5\" >5</th>\n",
       "      <td id=\"T_a7a17_row5_col0\" class=\"data row5 col0\" >Decision Tree Balanced</td>\n",
       "      <td id=\"T_a7a17_row5_col1\" class=\"data row5 col1\" >0.858778</td>\n",
       "      <td id=\"T_a7a17_row5_col2\" class=\"data row5 col2\" >0.941340</td>\n",
       "      <td id=\"T_a7a17_row5_col3\" class=\"data row5 col3\" >0.897640</td>\n",
       "      <td id=\"T_a7a17_row5_col4\" class=\"data row5 col4\" >0.537340</td>\n",
       "      <td id=\"T_a7a17_row5_col5\" class=\"data row5 col5\" >0.918971</td>\n",
       "    </tr>\n",
       "    <tr>\n",
       "      <th id=\"T_a7a17_level0_row6\" class=\"row_heading level0 row6\" >6</th>\n",
       "      <td id=\"T_a7a17_row6_col0\" class=\"data row6 col0\" >Logistic Adj</td>\n",
       "      <td id=\"T_a7a17_row6_col1\" class=\"data row6 col1\" >0.903668</td>\n",
       "      <td id=\"T_a7a17_row6_col2\" class=\"data row6 col2\" >0.912366</td>\n",
       "      <td id=\"T_a7a17_row6_col3\" class=\"data row6 col3\" >0.986805</td>\n",
       "      <td id=\"T_a7a17_row6_col4\" class=\"data row6 col4\" >0.216026</td>\n",
       "      <td id=\"T_a7a17_row6_col5\" class=\"data row6 col5\" >0.948127</td>\n",
       "    </tr>\n",
       "    <tr>\n",
       "      <th id=\"T_a7a17_level0_row7\" class=\"row_heading level0 row7\" >7</th>\n",
       "      <td id=\"T_a7a17_row7_col0\" class=\"data row7 col0\" >XGBoost Adj</td>\n",
       "      <td id=\"T_a7a17_row7_col1\" class=\"data row7 col1\" >0.917894</td>\n",
       "      <td id=\"T_a7a17_row7_col2\" class=\"data row7 col2\" >0.935715</td>\n",
       "      <td id=\"T_a7a17_row7_col3\" class=\"data row7 col3\" >0.974948</td>\n",
       "      <td id=\"T_a7a17_row7_col4\" class=\"data row7 col4\" >0.445994</td>\n",
       "      <td id=\"T_a7a17_row7_col5\" class=\"data row7 col5\" >0.954928</td>\n",
       "    </tr>\n",
       "    <tr>\n",
       "      <th id=\"T_a7a17_level0_row8\" class=\"row_heading level0 row8\" >8</th>\n",
       "      <td id=\"T_a7a17_row8_col0\" class=\"data row8 col0\" >Decision Tree Adj</td>\n",
       "      <td id=\"T_a7a17_row8_col1\" class=\"data row8 col1\" >0.880903</td>\n",
       "      <td id=\"T_a7a17_row8_col2\" class=\"data row8 col2\" >0.928815</td>\n",
       "      <td id=\"T_a7a17_row8_col3\" class=\"data row8 col3\" >0.938425</td>\n",
       "      <td id=\"T_a7a17_row8_col4\" class=\"data row8 col4\" >0.405128</td>\n",
       "      <td id=\"T_a7a17_row8_col5\" class=\"data row8 col5\" >0.933595</td>\n",
       "    </tr>\n",
       "  </tbody>\n",
       "</table>\n"
      ],
      "text/plain": [
       "<pandas.io.formats.style.Styler at 0x1e2448d20a0>"
      ]
     },
     "execution_count": 55,
     "metadata": {},
     "output_type": "execute_result"
    }
   ],
   "source": [
    "show(table)"
   ]
  },
  {
   "cell_type": "markdown",
   "id": "b6922139",
   "metadata": {},
   "source": [
    "***Conclusion***:\n",
    "The adjustment of the hyperparameters improves slightly the performance of the models, but (at least for the ones I selected) it is not as good as balancing the dataset in order to achieve a better specificity."
   ]
  },
  {
   "cell_type": "code",
   "execution_count": 58,
   "id": "1d858cb3",
   "metadata": {},
   "outputs": [
    {
     "name": "stdout",
     "output_type": "stream",
     "text": [
      "0.6014155175600188 0.7104706381640524 0.6717766887843615\n"
     ]
    }
   ],
   "source": [
    "auc_lr_adj = metrics.roc_auc_score(y_test, lr_y_adj)\n",
    "auc_xgb_adj = metrics.roc_auc_score(y_test, xgb_y_adj)\n",
    "auc_dtc_adj = metrics.roc_auc_score(y_test, dtc_y_adj)\n",
    "print(auc_lr_adj, auc_xgb_adj, auc_dtc_adj)"
   ]
  },
  {
   "cell_type": "markdown",
   "id": "a4f8af82",
   "metadata": {},
   "source": [
    "### *Exercici 4*: Compara el seu rendiment utilitzant l’aproximació traint/test o cross-validation."
   ]
  },
  {
   "cell_type": "code",
   "execution_count": 67,
   "id": "55068da0",
   "metadata": {},
   "outputs": [],
   "source": [
    "classifier1_cv = LogisticRegression(max_iter= 150, penalty = 'l2', solver = 'lbfgs')\n",
    "classifier2_cv = xgb.XGBClassifier(booster = 'gbtree', max_depth = 7, tree_method = 'exact')\n",
    "classifier3_cv = DecisionTreeClassifier(class_weight = 'balanced', criterion = 'gini')\n",
    "\n",
    "# apply cross validation for roc_auc\n",
    "auc_cv_lr_adj = cross_val_score(classifier1_adj, X, y, scoring = \"roc_auc\")\n",
    "auc_cv_xgb_adj = cross_val_score(classifier2_adj, X, y, scoring = \"roc_auc\")\n",
    "auc_cv_dtb_adj = cross_val_score(classifier3_adj, X, y, scoring = \"roc_auc\")"
   ]
  },
  {
   "cell_type": "code",
   "execution_count": 68,
   "id": "aa10305f",
   "metadata": {},
   "outputs": [
    {
     "data": {
      "text/plain": [
       "array([0.91452268, 0.91691786, 0.91395476, 0.91852355, 0.9147292 ])"
      ]
     },
     "execution_count": 68,
     "metadata": {},
     "output_type": "execute_result"
    }
   ],
   "source": [
    "auc_cv_lr_adj"
   ]
  },
  {
   "cell_type": "code",
   "execution_count": 69,
   "id": "2cda6b1b",
   "metadata": {},
   "outputs": [
    {
     "name": "stdout",
     "output_type": "stream",
     "text": [
      "Cross Validation Logistic Regression: average 0.9157296101748716, standardard deviation 0.0017219535682439493\n"
     ]
    }
   ],
   "source": [
    "print('Cross Validation Logistic Regression: average {a}, standardard deviation {b}'.format(a = np.mean(auc_cv_lr_adj), b= np.std(auc_cv_lr_adj)))"
   ]
  },
  {
   "cell_type": "code",
   "execution_count": 70,
   "id": "552b0d3b",
   "metadata": {},
   "outputs": [
    {
     "data": {
      "text/plain": [
       "array([0.93425445, 0.93764377, 0.93525429, 0.93421799, 0.93522388])"
      ]
     },
     "execution_count": 70,
     "metadata": {},
     "output_type": "execute_result"
    }
   ],
   "source": [
    "auc_cv_xgb_adj"
   ]
  },
  {
   "cell_type": "code",
   "execution_count": 71,
   "id": "16431848",
   "metadata": {},
   "outputs": [
    {
     "name": "stdout",
     "output_type": "stream",
     "text": [
      "Cross Validation XGBoost: average 0.9353188768760472, standardard deviation 0.0012460545972283112\n"
     ]
    }
   ],
   "source": [
    "print('Cross Validation XGBoost: average {a}, standardard deviation {b}'.format(a = np.mean(auc_cv_xgb_adj), b= np.std(auc_cv_xgb_adj)))"
   ]
  },
  {
   "cell_type": "code",
   "execution_count": 72,
   "id": "09b9384e",
   "metadata": {},
   "outputs": [
    {
     "data": {
      "text/plain": [
       "array([0.67047747, 0.68016667, 0.66907565, 0.67398031, 0.67386518])"
      ]
     },
     "execution_count": 72,
     "metadata": {},
     "output_type": "execute_result"
    }
   ],
   "source": [
    "auc_cv_dtb_adj"
   ]
  },
  {
   "cell_type": "code",
   "execution_count": 73,
   "id": "af418e2a",
   "metadata": {},
   "outputs": [
    {
     "name": "stdout",
     "output_type": "stream",
     "text": [
      "Cross Validation Decision Tree: average 0.6735130542147986, standardard deviation 0.003834535000194734\n"
     ]
    }
   ],
   "source": [
    "print('Cross Validation Decision Tree: average {a}, standardard deviation {b}'.format(a = np.mean(auc_cv_dtb_adj), b= np.std(auc_cv_dtb_adj)))"
   ]
  },
  {
   "cell_type": "markdown",
   "id": "06367199",
   "metadata": {},
   "source": [
    "***Conclusion***:\n",
    "\n",
    "Comparing the **AUC** for train/test approach and cross_validation, we see a **significant improvement** in the AUC metric in the cross validation, for two of the models that I have used:\n",
    "\n",
    "AUC for Logistic, XGBoost and Decision Tree:\n",
    "##### Train/test     0.601, 0.710, 0.671\n",
    "##### Cross val     0.916, 0.935, 0.674\n",
    "    \n",
    "My hypothesis to explain this effect: this is an unbalanced datasheet, and so with the train/test approach we get **very bad** specificity, which is causing this relatively poor AUC. The total size of the sample we took (10% of the original flights) is more that 100.000 data, but there are only 10.000 negatives \"to learn\" about this class. Since the cross validation uses the total amount of negatives to train the model (instead of only 70% of it with train/test) and it makes several iterations of training , this is giving a better specificity and therefore a better AUC."
   ]
  },
  {
   "cell_type": "markdown",
   "id": "274909e7",
   "metadata": {},
   "source": [
    "### *Exercici 5*: Realitza algun procés d’enginyeria de variables per millorar-ne la predicció."
   ]
  },
  {
   "cell_type": "markdown",
   "id": "76a10280",
   "metadata": {},
   "source": [
    "For this exercise I will use the same quantitative variables than in the previous exercises, but I have **normalized** month, day of week and scheduled departure time, and I have **standardized** with *Robust Scaler* AirTime, Distance, DepDelay, TaxiIn and TaxiOut:"
   ]
  },
  {
   "cell_type": "code",
   "execution_count": 71,
   "id": "a5db2f44",
   "metadata": {},
   "outputs": [],
   "source": [
    "second_set_of_var = ['norm_Month', 'norm_DayOfWeek', 'norm_CRSDepTime', 'stand_AirTime', 'stand_Distance', 'stand_DepDelay', 'stand_TaxiIn', 'stand_TaxiOut']"
   ]
  },
  {
   "cell_type": "code",
   "execution_count": 72,
   "id": "0a1e5f80",
   "metadata": {},
   "outputs": [],
   "source": [
    "eng = mostra_X[second_set_of_var]"
   ]
  },
  {
   "cell_type": "code",
   "execution_count": 73,
   "id": "b9a9de91",
   "metadata": {},
   "outputs": [
    {
     "data": {
      "text/html": [
       "<div>\n",
       "<style scoped>\n",
       "    .dataframe tbody tr th:only-of-type {\n",
       "        vertical-align: middle;\n",
       "    }\n",
       "\n",
       "    .dataframe tbody tr th {\n",
       "        vertical-align: top;\n",
       "    }\n",
       "\n",
       "    .dataframe thead th {\n",
       "        text-align: right;\n",
       "    }\n",
       "</style>\n",
       "<table border=\"1\" class=\"dataframe\">\n",
       "  <thead>\n",
       "    <tr style=\"text-align: right;\">\n",
       "      <th></th>\n",
       "      <th>norm_Month</th>\n",
       "      <th>norm_DayOfWeek</th>\n",
       "      <th>norm_CRSDepTime</th>\n",
       "      <th>stand_AirTime</th>\n",
       "      <th>stand_Distance</th>\n",
       "      <th>stand_DepDelay</th>\n",
       "      <th>stand_TaxiIn</th>\n",
       "      <th>stand_TaxiOut</th>\n",
       "    </tr>\n",
       "  </thead>\n",
       "  <tbody>\n",
       "    <tr>\n",
       "      <th>count</th>\n",
       "      <td>192838.00</td>\n",
       "      <td>192838.00</td>\n",
       "      <td>192838.00</td>\n",
       "      <td>192838.00</td>\n",
       "      <td>192838.00</td>\n",
       "      <td>192838.00</td>\n",
       "      <td>192838.00</td>\n",
       "      <td>192838.00</td>\n",
       "    </tr>\n",
       "    <tr>\n",
       "      <th>mean</th>\n",
       "      <td>0.47</td>\n",
       "      <td>0.50</td>\n",
       "      <td>0.63</td>\n",
       "      <td>0.23</td>\n",
       "      <td>0.24</td>\n",
       "      <td>0.46</td>\n",
       "      <td>0.20</td>\n",
       "      <td>0.39</td>\n",
       "    </tr>\n",
       "    <tr>\n",
       "      <th>std</th>\n",
       "      <td>0.32</td>\n",
       "      <td>0.33</td>\n",
       "      <td>0.18</td>\n",
       "      <td>0.86</td>\n",
       "      <td>0.87</td>\n",
       "      <td>1.28</td>\n",
       "      <td>1.32</td>\n",
       "      <td>1.30</td>\n",
       "    </tr>\n",
       "    <tr>\n",
       "      <th>min</th>\n",
       "      <td>0.00</td>\n",
       "      <td>0.00</td>\n",
       "      <td>0.00</td>\n",
       "      <td>-1.12</td>\n",
       "      <td>-0.87</td>\n",
       "      <td>-0.44</td>\n",
       "      <td>-1.50</td>\n",
       "      <td>-1.27</td>\n",
       "    </tr>\n",
       "    <tr>\n",
       "      <th>25%</th>\n",
       "      <td>0.18</td>\n",
       "      <td>0.17</td>\n",
       "      <td>0.48</td>\n",
       "      <td>-0.40</td>\n",
       "      <td>-0.41</td>\n",
       "      <td>-0.29</td>\n",
       "      <td>-0.50</td>\n",
       "      <td>-0.36</td>\n",
       "    </tr>\n",
       "    <tr>\n",
       "      <th>50%</th>\n",
       "      <td>0.45</td>\n",
       "      <td>0.50</td>\n",
       "      <td>0.65</td>\n",
       "      <td>0.00</td>\n",
       "      <td>0.00</td>\n",
       "      <td>0.00</td>\n",
       "      <td>0.00</td>\n",
       "      <td>0.00</td>\n",
       "    </tr>\n",
       "    <tr>\n",
       "      <th>75%</th>\n",
       "      <td>0.73</td>\n",
       "      <td>0.83</td>\n",
       "      <td>0.78</td>\n",
       "      <td>0.60</td>\n",
       "      <td>0.59</td>\n",
       "      <td>0.71</td>\n",
       "      <td>0.50</td>\n",
       "      <td>0.64</td>\n",
       "    </tr>\n",
       "    <tr>\n",
       "      <th>max</th>\n",
       "      <td>1.00</td>\n",
       "      <td>1.00</td>\n",
       "      <td>1.00</td>\n",
       "      <td>6.84</td>\n",
       "      <td>6.60</td>\n",
       "      <td>31.20</td>\n",
       "      <td>48.25</td>\n",
       "      <td>29.36</td>\n",
       "    </tr>\n",
       "  </tbody>\n",
       "</table>\n",
       "</div>"
      ],
      "text/plain": [
       "       norm_Month  norm_DayOfWeek  norm_CRSDepTime  stand_AirTime  \\\n",
       "count   192838.00       192838.00        192838.00      192838.00   \n",
       "mean         0.47            0.50             0.63           0.23   \n",
       "std          0.32            0.33             0.18           0.86   \n",
       "min          0.00            0.00             0.00          -1.12   \n",
       "25%          0.18            0.17             0.48          -0.40   \n",
       "50%          0.45            0.50             0.65           0.00   \n",
       "75%          0.73            0.83             0.78           0.60   \n",
       "max          1.00            1.00             1.00           6.84   \n",
       "\n",
       "       stand_Distance  stand_DepDelay  stand_TaxiIn  stand_TaxiOut  \n",
       "count       192838.00       192838.00     192838.00      192838.00  \n",
       "mean             0.24            0.46          0.20           0.39  \n",
       "std              0.87            1.28          1.32           1.30  \n",
       "min             -0.87           -0.44         -1.50          -1.27  \n",
       "25%             -0.41           -0.29         -0.50          -0.36  \n",
       "50%              0.00            0.00          0.00           0.00  \n",
       "75%              0.59            0.71          0.50           0.64  \n",
       "max              6.60           31.20         48.25          29.36  "
      ]
     },
     "execution_count": 73,
     "metadata": {},
     "output_type": "execute_result"
    }
   ],
   "source": [
    "round(eng.describe(),2)"
   ]
  },
  {
   "cell_type": "code",
   "execution_count": 74,
   "id": "89fa9383",
   "metadata": {},
   "outputs": [],
   "source": [
    "X = np.array(eng)\n",
    "X_train, X_test, y_train, y_test = train_test_split(X, y, test_size=0.30, random_state=40)"
   ]
  },
  {
   "cell_type": "code",
   "execution_count": 75,
   "id": "5934dfe9",
   "metadata": {},
   "outputs": [],
   "source": [
    "classifier1_eng = LogisticRegression(max_iter= 150, penalty = 'l2', solver = 'lbfgs')\n",
    "classifier2_eng = xgb.XGBClassifier(booster = 'gbtree', max_depth = 7, tree_method = 'exact')\n",
    "classifier3_eng = DecisionTreeClassifier(class_weight = 'balanced', criterion = 'entropy')\n",
    "classifier1_eng.fit(X_train, y_train)\n",
    "classifier2_eng.fit(X_train, y_train)\n",
    "classifier3_eng.fit(X_train, y_train);"
   ]
  },
  {
   "cell_type": "code",
   "execution_count": 76,
   "id": "1530a4da",
   "metadata": {},
   "outputs": [],
   "source": [
    "lr_y_eng = classifier1_eng.predict(X_test)\n",
    "xgb_y_eng = classifier2_eng.predict(X_test)\n",
    "dtc_y_eng = classifier3_eng.predict(X_test)"
   ]
  },
  {
   "cell_type": "code",
   "execution_count": 77,
   "id": "6732f8b1",
   "metadata": {},
   "outputs": [],
   "source": [
    "table = table.append(metrics('Logistic Eng', y_test, lr_y_eng), ignore_index = True)\n",
    "table = table.append(metrics('Xgboost Eng', y_test, xgb_y_eng), ignore_index = True)\n",
    "table = table.append(metrics('Decision Tree Eng', y_test, dtc_y_eng), ignore_index = True)"
   ]
  },
  {
   "cell_type": "code",
   "execution_count": 78,
   "id": "59c5b2ae",
   "metadata": {},
   "outputs": [
    {
     "data": {
      "text/html": [
       "<style type=\"text/css\">\n",
       "#T_35725_row4_col2, #T_35725_row4_col4, #T_35725_row6_col3, #T_35725_row7_col1, #T_35725_row7_col5 {\n",
       "  background-color: yellow;\n",
       "}\n",
       "</style>\n",
       "<table id=\"T_35725_\">\n",
       "  <thead>\n",
       "    <tr>\n",
       "      <th class=\"blank level0\" >&nbsp;</th>\n",
       "      <th class=\"col_heading level0 col0\" >Model</th>\n",
       "      <th class=\"col_heading level0 col1\" >Accuracy</th>\n",
       "      <th class=\"col_heading level0 col2\" >Precision</th>\n",
       "      <th class=\"col_heading level0 col3\" >Sensitivity</th>\n",
       "      <th class=\"col_heading level0 col4\" >Specificity</th>\n",
       "      <th class=\"col_heading level0 col5\" >f1 score</th>\n",
       "    </tr>\n",
       "  </thead>\n",
       "  <tbody>\n",
       "    <tr>\n",
       "      <th id=\"T_35725_level0_row0\" class=\"row_heading level0 row0\" >0</th>\n",
       "      <td id=\"T_35725_row0_col0\" class=\"data row0 col0\" >Logistic Regression</td>\n",
       "      <td id=\"T_35725_row0_col1\" class=\"data row0 col1\" >0.903582</td>\n",
       "      <td id=\"T_35725_row0_col2\" class=\"data row0 col2\" >0.913172</td>\n",
       "      <td id=\"T_35725_row0_col3\" class=\"data row0 col3\" >0.985643</td>\n",
       "      <td id=\"T_35725_row0_col4\" class=\"data row0 col4\" >0.224840</td>\n",
       "      <td id=\"T_35725_row0_col5\" class=\"data row0 col5\" >0.948025</td>\n",
       "    </tr>\n",
       "    <tr>\n",
       "      <th id=\"T_35725_level0_row1\" class=\"row_heading level0 row1\" >1</th>\n",
       "      <td id=\"T_35725_row1_col0\" class=\"data row1 col0\" >XGBoost</td>\n",
       "      <td id=\"T_35725_row1_col1\" class=\"data row1 col1\" >0.917116</td>\n",
       "      <td id=\"T_35725_row1_col2\" class=\"data row1 col2\" >0.934142</td>\n",
       "      <td id=\"T_35725_row1_col3\" class=\"data row1 col3\" >0.975897</td>\n",
       "      <td id=\"T_35725_row1_col4\" class=\"data row1 col4\" >0.430929</td>\n",
       "      <td id=\"T_35725_row1_col5\" class=\"data row1 col5\" >0.954563</td>\n",
       "    </tr>\n",
       "    <tr>\n",
       "      <th id=\"T_35725_level0_row2\" class=\"row_heading level0 row2\" >2</th>\n",
       "      <td id=\"T_35725_row2_col0\" class=\"data row2 col0\" >Decision Tree</td>\n",
       "      <td id=\"T_35725_row2_col1\" class=\"data row2 col1\" >0.874767</td>\n",
       "      <td id=\"T_35725_row2_col2\" class=\"data row2 col2\" >0.933415</td>\n",
       "      <td id=\"T_35725_row2_col3\" class=\"data row2 col3\" >0.925657</td>\n",
       "      <td id=\"T_35725_row2_col4\" class=\"data row2 col4\" >0.453846</td>\n",
       "      <td id=\"T_35725_row2_col5\" class=\"data row2 col5\" >0.929520</td>\n",
       "    </tr>\n",
       "    <tr>\n",
       "      <th id=\"T_35725_level0_row3\" class=\"row_heading level0 row3\" >3</th>\n",
       "      <td id=\"T_35725_row3_col0\" class=\"data row3 col0\" >Logistic Balanced</td>\n",
       "      <td id=\"T_35725_row3_col1\" class=\"data row3 col1\" >0.899156</td>\n",
       "      <td id=\"T_35725_row3_col2\" class=\"data row3 col2\" >0.940648</td>\n",
       "      <td id=\"T_35725_row3_col3\" class=\"data row3 col3\" >0.946698</td>\n",
       "      <td id=\"T_35725_row3_col4\" class=\"data row3 col4\" >0.505929</td>\n",
       "      <td id=\"T_35725_row3_col5\" class=\"data row3 col5\" >0.943663</td>\n",
       "    </tr>\n",
       "    <tr>\n",
       "      <th id=\"T_35725_level0_row4\" class=\"row_heading level0 row4\" >4</th>\n",
       "      <td id=\"T_35725_row4_col0\" class=\"data row4 col0\" >XGBoost Balanced</td>\n",
       "      <td id=\"T_35725_row4_col1\" class=\"data row4 col1\" >0.911101</td>\n",
       "      <td id=\"T_35725_row4_col2\" class=\"data row4 col2\" >0.952288</td>\n",
       "      <td id=\"T_35725_row4_col3\" class=\"data row4 col3\" >0.947842</td>\n",
       "      <td id=\"T_35725_row4_col4\" class=\"data row4 col4\" >0.607212</td>\n",
       "      <td id=\"T_35725_row4_col5\" class=\"data row4 col5\" >0.950060</td>\n",
       "    </tr>\n",
       "    <tr>\n",
       "      <th id=\"T_35725_level0_row5\" class=\"row_heading level0 row5\" >5</th>\n",
       "      <td id=\"T_35725_row5_col0\" class=\"data row5 col0\" >Decision Tree Balanced</td>\n",
       "      <td id=\"T_35725_row5_col1\" class=\"data row5 col1\" >0.857187</td>\n",
       "      <td id=\"T_35725_row5_col2\" class=\"data row5 col2\" >0.941482</td>\n",
       "      <td id=\"T_35725_row5_col3\" class=\"data row5 col3\" >0.895586</td>\n",
       "      <td id=\"T_35725_row5_col4\" class=\"data row5 col4\" >0.539583</td>\n",
       "      <td id=\"T_35725_row5_col5\" class=\"data row5 col5\" >0.917961</td>\n",
       "    </tr>\n",
       "    <tr>\n",
       "      <th id=\"T_35725_level0_row6\" class=\"row_heading level0 row6\" >6</th>\n",
       "      <td id=\"T_35725_row6_col0\" class=\"data row6 col0\" >Logistic Adj</td>\n",
       "      <td id=\"T_35725_row6_col1\" class=\"data row6 col1\" >0.903668</td>\n",
       "      <td id=\"T_35725_row6_col2\" class=\"data row6 col2\" >0.912366</td>\n",
       "      <td id=\"T_35725_row6_col3\" class=\"data row6 col3\" >0.986805</td>\n",
       "      <td id=\"T_35725_row6_col4\" class=\"data row6 col4\" >0.216026</td>\n",
       "      <td id=\"T_35725_row6_col5\" class=\"data row6 col5\" >0.948127</td>\n",
       "    </tr>\n",
       "    <tr>\n",
       "      <th id=\"T_35725_level0_row7\" class=\"row_heading level0 row7\" >7</th>\n",
       "      <td id=\"T_35725_row7_col0\" class=\"data row7 col0\" >XGBoost Adj</td>\n",
       "      <td id=\"T_35725_row7_col1\" class=\"data row7 col1\" >0.917894</td>\n",
       "      <td id=\"T_35725_row7_col2\" class=\"data row7 col2\" >0.935715</td>\n",
       "      <td id=\"T_35725_row7_col3\" class=\"data row7 col3\" >0.974948</td>\n",
       "      <td id=\"T_35725_row7_col4\" class=\"data row7 col4\" >0.445994</td>\n",
       "      <td id=\"T_35725_row7_col5\" class=\"data row7 col5\" >0.954928</td>\n",
       "    </tr>\n",
       "    <tr>\n",
       "      <th id=\"T_35725_level0_row8\" class=\"row_heading level0 row8\" >8</th>\n",
       "      <td id=\"T_35725_row8_col0\" class=\"data row8 col0\" >Decision Tree Adj</td>\n",
       "      <td id=\"T_35725_row8_col1\" class=\"data row8 col1\" >0.881266</td>\n",
       "      <td id=\"T_35725_row8_col2\" class=\"data row8 col2\" >0.931042</td>\n",
       "      <td id=\"T_35725_row8_col3\" class=\"data row8 col3\" >0.936255</td>\n",
       "      <td id=\"T_35725_row8_col4\" class=\"data row8 col4\" >0.426442</td>\n",
       "      <td id=\"T_35725_row8_col5\" class=\"data row8 col5\" >0.933641</td>\n",
       "    </tr>\n",
       "    <tr>\n",
       "      <th id=\"T_35725_level0_row9\" class=\"row_heading level0 row9\" >9</th>\n",
       "      <td id=\"T_35725_row9_col0\" class=\"data row9 col0\" >Logistic Eng</td>\n",
       "      <td id=\"T_35725_row9_col1\" class=\"data row9 col1\" >0.909441</td>\n",
       "      <td id=\"T_35725_row9_col2\" class=\"data row9 col2\" >0.921550</td>\n",
       "      <td id=\"T_35725_row9_col3\" class=\"data row9 col3\" >0.982097</td>\n",
       "      <td id=\"T_35725_row9_col4\" class=\"data row9 col4\" >0.308494</td>\n",
       "      <td id=\"T_35725_row9_col5\" class=\"data row9 col5\" >0.950861</td>\n",
       "    </tr>\n",
       "    <tr>\n",
       "      <th id=\"T_35725_level0_row10\" class=\"row_heading level0 row10\" >10</th>\n",
       "      <td id=\"T_35725_row10_col0\" class=\"data row10 col0\" >Xgboost Eng</td>\n",
       "      <td id=\"T_35725_row10_col1\" class=\"data row10 col1\" >0.917877</td>\n",
       "      <td id=\"T_35725_row10_col2\" class=\"data row10 col2\" >0.935714</td>\n",
       "      <td id=\"T_35725_row10_col3\" class=\"data row10 col3\" >0.974928</td>\n",
       "      <td id=\"T_35725_row10_col4\" class=\"data row10 col4\" >0.445994</td>\n",
       "      <td id=\"T_35725_row10_col5\" class=\"data row10 col5\" >0.954919</td>\n",
       "    </tr>\n",
       "    <tr>\n",
       "      <th id=\"T_35725_level0_row11\" class=\"row_heading level0 row11\" >11</th>\n",
       "      <td id=\"T_35725_row11_col0\" class=\"data row11 col0\" >Decision Tree Eng</td>\n",
       "      <td id=\"T_35725_row11_col1\" class=\"data row11 col1\" >0.881059</td>\n",
       "      <td id=\"T_35725_row11_col2\" class=\"data row11 col2\" >0.930793</td>\n",
       "      <td id=\"T_35725_row11_col3\" class=\"data row11 col3\" >0.936294</td>\n",
       "      <td id=\"T_35725_row11_col4\" class=\"data row11 col4\" >0.424199</td>\n",
       "      <td id=\"T_35725_row11_col5\" class=\"data row11 col5\" >0.933536</td>\n",
       "    </tr>\n",
       "  </tbody>\n",
       "</table>\n"
      ],
      "text/plain": [
       "<pandas.io.formats.style.Styler at 0x1f22ab1ef10>"
      ]
     },
     "execution_count": 78,
     "metadata": {},
     "output_type": "execute_result"
    }
   ],
   "source": [
    "show(table)"
   ]
  },
  {
   "cell_type": "markdown",
   "id": "eb1d632f",
   "metadata": {},
   "source": [
    "***Conclusion***:\n",
    "The feature engineering that I implemented offers an small improvement in the performance of all the models. \n",
    "\n",
    "So in this dataset the best improvement of the classification metrics (specifically: bringing the Specificity to more acceptable levels without too much impact on Accuracy and Sensitivity, and achieving the best AUC) comes from (ordered list from more to less impact):\n",
    "\n",
    "1. use of cross validation instead of train/test / selection of the best model \n",
    "2. the balancing of the dataset \n",
    "3. the adjustment of the hyperparameters\n",
    "4. feature engineering\n"
   ]
  },
  {
   "cell_type": "markdown",
   "id": "6a208f18",
   "metadata": {},
   "source": [
    "### *Exercici 6*: No utilitzis la variable DepDelay a l’hora de fer prediccions"
   ]
  },
  {
   "cell_type": "markdown",
   "id": "ba4e8def",
   "metadata": {},
   "source": [
    "I try to compensate the lack of DepDelay by including the Unique Carrier dummies, and the Actual Elapsed time and the Scheduled Slapsed time standardized."
   ]
  },
  {
   "cell_type": "markdown",
   "id": "8d64d36b",
   "metadata": {},
   "source": [
    "I'll use the best model (XGBoost) I've tried, with the best hyperparameters.\n",
    "\n",
    "I will keep the unbalanced sample for the train, in order to compare with the first exercise."
   ]
  },
  {
   "cell_type": "code",
   "execution_count": 81,
   "id": "fd4bdf98",
   "metadata": {},
   "outputs": [],
   "source": [
    "third_set_of_var = ['norm_Month', 'norm_DayOfWeek', 'norm_CRSDepTime', '9E', 'AA', 'AQ', 'AS', 'B6', 'CO', 'DL', 'EV', 'F9', 'FL', 'HA', 'MQ', 'NW', 'OH', 'OO', 'UA', 'US', 'WN', 'XE', 'YV', 'stand_ActualElapsedTime', 'stand_CRSElapsedTime', 'stand_AirTime', 'stand_Distance', 'stand_TaxiIn', 'stand_TaxiOut']"
   ]
  },
  {
   "cell_type": "code",
   "execution_count": 82,
   "id": "c06d42f8",
   "metadata": {},
   "outputs": [],
   "source": [
    "tot = mostra_X[third_set_of_var]"
   ]
  },
  {
   "cell_type": "code",
   "execution_count": 83,
   "id": "03993cf6",
   "metadata": {},
   "outputs": [
    {
     "data": {
      "text/html": [
       "<div>\n",
       "<style scoped>\n",
       "    .dataframe tbody tr th:only-of-type {\n",
       "        vertical-align: middle;\n",
       "    }\n",
       "\n",
       "    .dataframe tbody tr th {\n",
       "        vertical-align: top;\n",
       "    }\n",
       "\n",
       "    .dataframe thead th {\n",
       "        text-align: right;\n",
       "    }\n",
       "</style>\n",
       "<table border=\"1\" class=\"dataframe\">\n",
       "  <thead>\n",
       "    <tr style=\"text-align: right;\">\n",
       "      <th></th>\n",
       "      <th>norm_Month</th>\n",
       "      <th>norm_DayOfWeek</th>\n",
       "      <th>norm_CRSDepTime</th>\n",
       "      <th>9E</th>\n",
       "      <th>AA</th>\n",
       "      <th>AQ</th>\n",
       "      <th>AS</th>\n",
       "      <th>B6</th>\n",
       "      <th>CO</th>\n",
       "      <th>DL</th>\n",
       "      <th>EV</th>\n",
       "      <th>F9</th>\n",
       "      <th>FL</th>\n",
       "      <th>HA</th>\n",
       "      <th>MQ</th>\n",
       "      <th>NW</th>\n",
       "      <th>OH</th>\n",
       "      <th>OO</th>\n",
       "      <th>UA</th>\n",
       "      <th>US</th>\n",
       "      <th>WN</th>\n",
       "      <th>XE</th>\n",
       "      <th>YV</th>\n",
       "      <th>stand_ActualElapsedTime</th>\n",
       "      <th>stand_CRSElapsedTime</th>\n",
       "      <th>stand_AirTime</th>\n",
       "      <th>stand_Distance</th>\n",
       "      <th>stand_TaxiIn</th>\n",
       "      <th>stand_TaxiOut</th>\n",
       "    </tr>\n",
       "  </thead>\n",
       "  <tbody>\n",
       "    <tr>\n",
       "      <th>count</th>\n",
       "      <td>192838.00</td>\n",
       "      <td>192838.00</td>\n",
       "      <td>192838.00</td>\n",
       "      <td>192838.00</td>\n",
       "      <td>192838.0</td>\n",
       "      <td>192838.00</td>\n",
       "      <td>192838.00</td>\n",
       "      <td>192838.00</td>\n",
       "      <td>192838.00</td>\n",
       "      <td>192838.00</td>\n",
       "      <td>192838.00</td>\n",
       "      <td>192838.00</td>\n",
       "      <td>192838.00</td>\n",
       "      <td>192838.00</td>\n",
       "      <td>192838.00</td>\n",
       "      <td>192838.00</td>\n",
       "      <td>192838.00</td>\n",
       "      <td>192838.00</td>\n",
       "      <td>192838.00</td>\n",
       "      <td>192838.00</td>\n",
       "      <td>192838.0</td>\n",
       "      <td>192838.00</td>\n",
       "      <td>192838.00</td>\n",
       "      <td>192838.00</td>\n",
       "      <td>192838.00</td>\n",
       "      <td>192838.00</td>\n",
       "      <td>192838.00</td>\n",
       "      <td>192838.00</td>\n",
       "      <td>192838.00</td>\n",
       "    </tr>\n",
       "    <tr>\n",
       "      <th>mean</th>\n",
       "      <td>0.47</td>\n",
       "      <td>0.50</td>\n",
       "      <td>0.63</td>\n",
       "      <td>0.03</td>\n",
       "      <td>0.1</td>\n",
       "      <td>0.00</td>\n",
       "      <td>0.02</td>\n",
       "      <td>0.03</td>\n",
       "      <td>0.05</td>\n",
       "      <td>0.06</td>\n",
       "      <td>0.04</td>\n",
       "      <td>0.01</td>\n",
       "      <td>0.04</td>\n",
       "      <td>0.00</td>\n",
       "      <td>0.07</td>\n",
       "      <td>0.04</td>\n",
       "      <td>0.03</td>\n",
       "      <td>0.07</td>\n",
       "      <td>0.07</td>\n",
       "      <td>0.05</td>\n",
       "      <td>0.2</td>\n",
       "      <td>0.05</td>\n",
       "      <td>0.03</td>\n",
       "      <td>0.20</td>\n",
       "      <td>0.22</td>\n",
       "      <td>0.23</td>\n",
       "      <td>0.24</td>\n",
       "      <td>0.20</td>\n",
       "      <td>0.39</td>\n",
       "    </tr>\n",
       "    <tr>\n",
       "      <th>std</th>\n",
       "      <td>0.32</td>\n",
       "      <td>0.33</td>\n",
       "      <td>0.18</td>\n",
       "      <td>0.16</td>\n",
       "      <td>0.3</td>\n",
       "      <td>0.02</td>\n",
       "      <td>0.14</td>\n",
       "      <td>0.16</td>\n",
       "      <td>0.22</td>\n",
       "      <td>0.24</td>\n",
       "      <td>0.20</td>\n",
       "      <td>0.12</td>\n",
       "      <td>0.19</td>\n",
       "      <td>0.06</td>\n",
       "      <td>0.26</td>\n",
       "      <td>0.20</td>\n",
       "      <td>0.16</td>\n",
       "      <td>0.25</td>\n",
       "      <td>0.26</td>\n",
       "      <td>0.22</td>\n",
       "      <td>0.4</td>\n",
       "      <td>0.23</td>\n",
       "      <td>0.18</td>\n",
       "      <td>0.85</td>\n",
       "      <td>0.86</td>\n",
       "      <td>0.86</td>\n",
       "      <td>0.87</td>\n",
       "      <td>1.32</td>\n",
       "      <td>1.30</td>\n",
       "    </tr>\n",
       "    <tr>\n",
       "      <th>min</th>\n",
       "      <td>0.00</td>\n",
       "      <td>0.00</td>\n",
       "      <td>0.00</td>\n",
       "      <td>0.00</td>\n",
       "      <td>0.0</td>\n",
       "      <td>0.00</td>\n",
       "      <td>0.00</td>\n",
       "      <td>0.00</td>\n",
       "      <td>0.00</td>\n",
       "      <td>0.00</td>\n",
       "      <td>0.00</td>\n",
       "      <td>0.00</td>\n",
       "      <td>0.00</td>\n",
       "      <td>0.00</td>\n",
       "      <td>0.00</td>\n",
       "      <td>0.00</td>\n",
       "      <td>0.00</td>\n",
       "      <td>0.00</td>\n",
       "      <td>0.00</td>\n",
       "      <td>0.00</td>\n",
       "      <td>0.0</td>\n",
       "      <td>0.00</td>\n",
       "      <td>0.00</td>\n",
       "      <td>-1.16</td>\n",
       "      <td>-1.37</td>\n",
       "      <td>-1.12</td>\n",
       "      <td>-0.87</td>\n",
       "      <td>-1.50</td>\n",
       "      <td>-1.27</td>\n",
       "    </tr>\n",
       "    <tr>\n",
       "      <th>25%</th>\n",
       "      <td>0.18</td>\n",
       "      <td>0.17</td>\n",
       "      <td>0.48</td>\n",
       "      <td>0.00</td>\n",
       "      <td>0.0</td>\n",
       "      <td>0.00</td>\n",
       "      <td>0.00</td>\n",
       "      <td>0.00</td>\n",
       "      <td>0.00</td>\n",
       "      <td>0.00</td>\n",
       "      <td>0.00</td>\n",
       "      <td>0.00</td>\n",
       "      <td>0.00</td>\n",
       "      <td>0.00</td>\n",
       "      <td>0.00</td>\n",
       "      <td>0.00</td>\n",
       "      <td>0.00</td>\n",
       "      <td>0.00</td>\n",
       "      <td>0.00</td>\n",
       "      <td>0.00</td>\n",
       "      <td>0.0</td>\n",
       "      <td>0.00</td>\n",
       "      <td>0.00</td>\n",
       "      <td>-0.42</td>\n",
       "      <td>-0.41</td>\n",
       "      <td>-0.40</td>\n",
       "      <td>-0.41</td>\n",
       "      <td>-0.50</td>\n",
       "      <td>-0.36</td>\n",
       "    </tr>\n",
       "    <tr>\n",
       "      <th>50%</th>\n",
       "      <td>0.45</td>\n",
       "      <td>0.50</td>\n",
       "      <td>0.65</td>\n",
       "      <td>0.00</td>\n",
       "      <td>0.0</td>\n",
       "      <td>0.00</td>\n",
       "      <td>0.00</td>\n",
       "      <td>0.00</td>\n",
       "      <td>0.00</td>\n",
       "      <td>0.00</td>\n",
       "      <td>0.00</td>\n",
       "      <td>0.00</td>\n",
       "      <td>0.00</td>\n",
       "      <td>0.00</td>\n",
       "      <td>0.00</td>\n",
       "      <td>0.00</td>\n",
       "      <td>0.00</td>\n",
       "      <td>0.00</td>\n",
       "      <td>0.00</td>\n",
       "      <td>0.00</td>\n",
       "      <td>0.0</td>\n",
       "      <td>0.00</td>\n",
       "      <td>0.00</td>\n",
       "      <td>0.00</td>\n",
       "      <td>0.00</td>\n",
       "      <td>0.00</td>\n",
       "      <td>0.00</td>\n",
       "      <td>0.00</td>\n",
       "      <td>0.00</td>\n",
       "    </tr>\n",
       "    <tr>\n",
       "      <th>75%</th>\n",
       "      <td>0.73</td>\n",
       "      <td>0.83</td>\n",
       "      <td>0.78</td>\n",
       "      <td>0.00</td>\n",
       "      <td>0.0</td>\n",
       "      <td>0.00</td>\n",
       "      <td>0.00</td>\n",
       "      <td>0.00</td>\n",
       "      <td>0.00</td>\n",
       "      <td>0.00</td>\n",
       "      <td>0.00</td>\n",
       "      <td>0.00</td>\n",
       "      <td>0.00</td>\n",
       "      <td>0.00</td>\n",
       "      <td>0.00</td>\n",
       "      <td>0.00</td>\n",
       "      <td>0.00</td>\n",
       "      <td>0.00</td>\n",
       "      <td>0.00</td>\n",
       "      <td>0.00</td>\n",
       "      <td>0.0</td>\n",
       "      <td>0.00</td>\n",
       "      <td>0.00</td>\n",
       "      <td>0.58</td>\n",
       "      <td>0.59</td>\n",
       "      <td>0.60</td>\n",
       "      <td>0.59</td>\n",
       "      <td>0.50</td>\n",
       "      <td>0.64</td>\n",
       "    </tr>\n",
       "    <tr>\n",
       "      <th>max</th>\n",
       "      <td>1.00</td>\n",
       "      <td>1.00</td>\n",
       "      <td>1.00</td>\n",
       "      <td>1.00</td>\n",
       "      <td>1.0</td>\n",
       "      <td>1.00</td>\n",
       "      <td>1.00</td>\n",
       "      <td>1.00</td>\n",
       "      <td>1.00</td>\n",
       "      <td>1.00</td>\n",
       "      <td>1.00</td>\n",
       "      <td>1.00</td>\n",
       "      <td>1.00</td>\n",
       "      <td>1.00</td>\n",
       "      <td>1.00</td>\n",
       "      <td>1.00</td>\n",
       "      <td>1.00</td>\n",
       "      <td>1.00</td>\n",
       "      <td>1.00</td>\n",
       "      <td>1.00</td>\n",
       "      <td>1.0</td>\n",
       "      <td>1.00</td>\n",
       "      <td>1.00</td>\n",
       "      <td>6.67</td>\n",
       "      <td>6.55</td>\n",
       "      <td>6.84</td>\n",
       "      <td>6.60</td>\n",
       "      <td>48.25</td>\n",
       "      <td>29.36</td>\n",
       "    </tr>\n",
       "  </tbody>\n",
       "</table>\n",
       "</div>"
      ],
      "text/plain": [
       "       norm_Month  norm_DayOfWeek  norm_CRSDepTime         9E        AA  \\\n",
       "count   192838.00       192838.00        192838.00  192838.00  192838.0   \n",
       "mean         0.47            0.50             0.63       0.03       0.1   \n",
       "std          0.32            0.33             0.18       0.16       0.3   \n",
       "min          0.00            0.00             0.00       0.00       0.0   \n",
       "25%          0.18            0.17             0.48       0.00       0.0   \n",
       "50%          0.45            0.50             0.65       0.00       0.0   \n",
       "75%          0.73            0.83             0.78       0.00       0.0   \n",
       "max          1.00            1.00             1.00       1.00       1.0   \n",
       "\n",
       "              AQ         AS         B6         CO         DL         EV  \\\n",
       "count  192838.00  192838.00  192838.00  192838.00  192838.00  192838.00   \n",
       "mean        0.00       0.02       0.03       0.05       0.06       0.04   \n",
       "std         0.02       0.14       0.16       0.22       0.24       0.20   \n",
       "min         0.00       0.00       0.00       0.00       0.00       0.00   \n",
       "25%         0.00       0.00       0.00       0.00       0.00       0.00   \n",
       "50%         0.00       0.00       0.00       0.00       0.00       0.00   \n",
       "75%         0.00       0.00       0.00       0.00       0.00       0.00   \n",
       "max         1.00       1.00       1.00       1.00       1.00       1.00   \n",
       "\n",
       "              F9         FL         HA         MQ         NW         OH  \\\n",
       "count  192838.00  192838.00  192838.00  192838.00  192838.00  192838.00   \n",
       "mean        0.01       0.04       0.00       0.07       0.04       0.03   \n",
       "std         0.12       0.19       0.06       0.26       0.20       0.16   \n",
       "min         0.00       0.00       0.00       0.00       0.00       0.00   \n",
       "25%         0.00       0.00       0.00       0.00       0.00       0.00   \n",
       "50%         0.00       0.00       0.00       0.00       0.00       0.00   \n",
       "75%         0.00       0.00       0.00       0.00       0.00       0.00   \n",
       "max         1.00       1.00       1.00       1.00       1.00       1.00   \n",
       "\n",
       "              OO         UA         US        WN         XE         YV  \\\n",
       "count  192838.00  192838.00  192838.00  192838.0  192838.00  192838.00   \n",
       "mean        0.07       0.07       0.05       0.2       0.05       0.03   \n",
       "std         0.25       0.26       0.22       0.4       0.23       0.18   \n",
       "min         0.00       0.00       0.00       0.0       0.00       0.00   \n",
       "25%         0.00       0.00       0.00       0.0       0.00       0.00   \n",
       "50%         0.00       0.00       0.00       0.0       0.00       0.00   \n",
       "75%         0.00       0.00       0.00       0.0       0.00       0.00   \n",
       "max         1.00       1.00       1.00       1.0       1.00       1.00   \n",
       "\n",
       "       stand_ActualElapsedTime  stand_CRSElapsedTime  stand_AirTime  \\\n",
       "count                192838.00             192838.00      192838.00   \n",
       "mean                      0.20                  0.22           0.23   \n",
       "std                       0.85                  0.86           0.86   \n",
       "min                      -1.16                 -1.37          -1.12   \n",
       "25%                      -0.42                 -0.41          -0.40   \n",
       "50%                       0.00                  0.00           0.00   \n",
       "75%                       0.58                  0.59           0.60   \n",
       "max                       6.67                  6.55           6.84   \n",
       "\n",
       "       stand_Distance  stand_TaxiIn  stand_TaxiOut  \n",
       "count       192838.00     192838.00      192838.00  \n",
       "mean             0.24          0.20           0.39  \n",
       "std              0.87          1.32           1.30  \n",
       "min             -0.87         -1.50          -1.27  \n",
       "25%             -0.41         -0.50          -0.36  \n",
       "50%              0.00          0.00           0.00  \n",
       "75%              0.59          0.50           0.64  \n",
       "max              6.60         48.25          29.36  "
      ]
     },
     "execution_count": 83,
     "metadata": {},
     "output_type": "execute_result"
    }
   ],
   "source": [
    "round(tot.describe(),2)"
   ]
  },
  {
   "cell_type": "code",
   "execution_count": 84,
   "id": "6618d674",
   "metadata": {},
   "outputs": [],
   "source": [
    "X = np.array(tot)\n",
    "X_train, X_test, y_train, y_test = train_test_split(X, y, test_size=0.30, random_state=40)"
   ]
  },
  {
   "cell_type": "code",
   "execution_count": 85,
   "id": "29eed508",
   "metadata": {},
   "outputs": [],
   "source": [
    "classifier_final = xgb.XGBClassifier(booster = 'gbtree', max_depth = 7, tree_method = 'exact')"
   ]
  },
  {
   "cell_type": "code",
   "execution_count": 86,
   "id": "2b42c556",
   "metadata": {},
   "outputs": [
    {
     "data": {
      "text/plain": [
       "XGBClassifier(base_score=0.5, booster='gbtree', callbacks=None,\n",
       "              colsample_bylevel=1, colsample_bynode=1, colsample_bytree=1,\n",
       "              early_stopping_rounds=None, enable_categorical=False,\n",
       "              eval_metric=None, gamma=0, gpu_id=-1, grow_policy='depthwise',\n",
       "              importance_type=None, interaction_constraints='',\n",
       "              learning_rate=0.300000012, max_bin=256, max_cat_to_onehot=4,\n",
       "              max_delta_step=0, max_depth=7, max_leaves=0, min_child_weight=1,\n",
       "              missing=nan, monotone_constraints='()', n_estimators=100,\n",
       "              n_jobs=0, num_parallel_tree=1, predictor='auto', random_state=0,\n",
       "              reg_alpha=0, reg_lambda=1, ...)"
      ]
     },
     "execution_count": 86,
     "metadata": {},
     "output_type": "execute_result"
    }
   ],
   "source": [
    "classifier_final.fit(X_train, y_train)"
   ]
  },
  {
   "cell_type": "code",
   "execution_count": 87,
   "id": "9dd30ea3",
   "metadata": {},
   "outputs": [],
   "source": [
    "xgb_y_final = classifier_final.predict(X_test)"
   ]
  },
  {
   "cell_type": "code",
   "execution_count": 88,
   "id": "e46ac50e",
   "metadata": {},
   "outputs": [
    {
     "data": {
      "text/plain": [
       "array([[ 1037,  5203],\n",
       "       [ 1000, 50612]], dtype=int64)"
      ]
     },
     "execution_count": 88,
     "metadata": {},
     "output_type": "execute_result"
    }
   ],
   "source": [
    "cm_xgb_final = confusion_matrix(y_test, xgb_y_final)\n",
    "cm_xgb_final"
   ]
  },
  {
   "cell_type": "code",
   "execution_count": 89,
   "id": "c0c4ad25",
   "metadata": {},
   "outputs": [],
   "source": [
    "table = table.append(metrics('XGBoost w/o DepDelay', y_test, xgb_y_final), ignore_index = True)"
   ]
  },
  {
   "cell_type": "code",
   "execution_count": 90,
   "id": "742be26a",
   "metadata": {},
   "outputs": [
    {
     "data": {
      "text/html": [
       "<style type=\"text/css\">\n",
       "#T_41a50_row4_col2, #T_41a50_row4_col4, #T_41a50_row6_col3, #T_41a50_row7_col1, #T_41a50_row7_col5 {\n",
       "  background-color: yellow;\n",
       "}\n",
       "</style>\n",
       "<table id=\"T_41a50_\">\n",
       "  <thead>\n",
       "    <tr>\n",
       "      <th class=\"blank level0\" >&nbsp;</th>\n",
       "      <th class=\"col_heading level0 col0\" >Model</th>\n",
       "      <th class=\"col_heading level0 col1\" >Accuracy</th>\n",
       "      <th class=\"col_heading level0 col2\" >Precision</th>\n",
       "      <th class=\"col_heading level0 col3\" >Sensitivity</th>\n",
       "      <th class=\"col_heading level0 col4\" >Specificity</th>\n",
       "      <th class=\"col_heading level0 col5\" >f1 score</th>\n",
       "    </tr>\n",
       "  </thead>\n",
       "  <tbody>\n",
       "    <tr>\n",
       "      <th id=\"T_41a50_level0_row0\" class=\"row_heading level0 row0\" >0</th>\n",
       "      <td id=\"T_41a50_row0_col0\" class=\"data row0 col0\" >Logistic Regression</td>\n",
       "      <td id=\"T_41a50_row0_col1\" class=\"data row0 col1\" >0.903582</td>\n",
       "      <td id=\"T_41a50_row0_col2\" class=\"data row0 col2\" >0.913172</td>\n",
       "      <td id=\"T_41a50_row0_col3\" class=\"data row0 col3\" >0.985643</td>\n",
       "      <td id=\"T_41a50_row0_col4\" class=\"data row0 col4\" >0.224840</td>\n",
       "      <td id=\"T_41a50_row0_col5\" class=\"data row0 col5\" >0.948025</td>\n",
       "    </tr>\n",
       "    <tr>\n",
       "      <th id=\"T_41a50_level0_row1\" class=\"row_heading level0 row1\" >1</th>\n",
       "      <td id=\"T_41a50_row1_col0\" class=\"data row1 col0\" >XGBoost</td>\n",
       "      <td id=\"T_41a50_row1_col1\" class=\"data row1 col1\" >0.917116</td>\n",
       "      <td id=\"T_41a50_row1_col2\" class=\"data row1 col2\" >0.934142</td>\n",
       "      <td id=\"T_41a50_row1_col3\" class=\"data row1 col3\" >0.975897</td>\n",
       "      <td id=\"T_41a50_row1_col4\" class=\"data row1 col4\" >0.430929</td>\n",
       "      <td id=\"T_41a50_row1_col5\" class=\"data row1 col5\" >0.954563</td>\n",
       "    </tr>\n",
       "    <tr>\n",
       "      <th id=\"T_41a50_level0_row2\" class=\"row_heading level0 row2\" >2</th>\n",
       "      <td id=\"T_41a50_row2_col0\" class=\"data row2 col0\" >Decision Tree</td>\n",
       "      <td id=\"T_41a50_row2_col1\" class=\"data row2 col1\" >0.874767</td>\n",
       "      <td id=\"T_41a50_row2_col2\" class=\"data row2 col2\" >0.933415</td>\n",
       "      <td id=\"T_41a50_row2_col3\" class=\"data row2 col3\" >0.925657</td>\n",
       "      <td id=\"T_41a50_row2_col4\" class=\"data row2 col4\" >0.453846</td>\n",
       "      <td id=\"T_41a50_row2_col5\" class=\"data row2 col5\" >0.929520</td>\n",
       "    </tr>\n",
       "    <tr>\n",
       "      <th id=\"T_41a50_level0_row3\" class=\"row_heading level0 row3\" >3</th>\n",
       "      <td id=\"T_41a50_row3_col0\" class=\"data row3 col0\" >Logistic Balanced</td>\n",
       "      <td id=\"T_41a50_row3_col1\" class=\"data row3 col1\" >0.899156</td>\n",
       "      <td id=\"T_41a50_row3_col2\" class=\"data row3 col2\" >0.940648</td>\n",
       "      <td id=\"T_41a50_row3_col3\" class=\"data row3 col3\" >0.946698</td>\n",
       "      <td id=\"T_41a50_row3_col4\" class=\"data row3 col4\" >0.505929</td>\n",
       "      <td id=\"T_41a50_row3_col5\" class=\"data row3 col5\" >0.943663</td>\n",
       "    </tr>\n",
       "    <tr>\n",
       "      <th id=\"T_41a50_level0_row4\" class=\"row_heading level0 row4\" >4</th>\n",
       "      <td id=\"T_41a50_row4_col0\" class=\"data row4 col0\" >XGBoost Balanced</td>\n",
       "      <td id=\"T_41a50_row4_col1\" class=\"data row4 col1\" >0.911101</td>\n",
       "      <td id=\"T_41a50_row4_col2\" class=\"data row4 col2\" >0.952288</td>\n",
       "      <td id=\"T_41a50_row4_col3\" class=\"data row4 col3\" >0.947842</td>\n",
       "      <td id=\"T_41a50_row4_col4\" class=\"data row4 col4\" >0.607212</td>\n",
       "      <td id=\"T_41a50_row4_col5\" class=\"data row4 col5\" >0.950060</td>\n",
       "    </tr>\n",
       "    <tr>\n",
       "      <th id=\"T_41a50_level0_row5\" class=\"row_heading level0 row5\" >5</th>\n",
       "      <td id=\"T_41a50_row5_col0\" class=\"data row5 col0\" >Decision Tree Balanced</td>\n",
       "      <td id=\"T_41a50_row5_col1\" class=\"data row5 col1\" >0.857187</td>\n",
       "      <td id=\"T_41a50_row5_col2\" class=\"data row5 col2\" >0.941482</td>\n",
       "      <td id=\"T_41a50_row5_col3\" class=\"data row5 col3\" >0.895586</td>\n",
       "      <td id=\"T_41a50_row5_col4\" class=\"data row5 col4\" >0.539583</td>\n",
       "      <td id=\"T_41a50_row5_col5\" class=\"data row5 col5\" >0.917961</td>\n",
       "    </tr>\n",
       "    <tr>\n",
       "      <th id=\"T_41a50_level0_row6\" class=\"row_heading level0 row6\" >6</th>\n",
       "      <td id=\"T_41a50_row6_col0\" class=\"data row6 col0\" >Logistic Adj</td>\n",
       "      <td id=\"T_41a50_row6_col1\" class=\"data row6 col1\" >0.903668</td>\n",
       "      <td id=\"T_41a50_row6_col2\" class=\"data row6 col2\" >0.912366</td>\n",
       "      <td id=\"T_41a50_row6_col3\" class=\"data row6 col3\" >0.986805</td>\n",
       "      <td id=\"T_41a50_row6_col4\" class=\"data row6 col4\" >0.216026</td>\n",
       "      <td id=\"T_41a50_row6_col5\" class=\"data row6 col5\" >0.948127</td>\n",
       "    </tr>\n",
       "    <tr>\n",
       "      <th id=\"T_41a50_level0_row7\" class=\"row_heading level0 row7\" >7</th>\n",
       "      <td id=\"T_41a50_row7_col0\" class=\"data row7 col0\" >XGBoost Adj</td>\n",
       "      <td id=\"T_41a50_row7_col1\" class=\"data row7 col1\" >0.917894</td>\n",
       "      <td id=\"T_41a50_row7_col2\" class=\"data row7 col2\" >0.935715</td>\n",
       "      <td id=\"T_41a50_row7_col3\" class=\"data row7 col3\" >0.974948</td>\n",
       "      <td id=\"T_41a50_row7_col4\" class=\"data row7 col4\" >0.445994</td>\n",
       "      <td id=\"T_41a50_row7_col5\" class=\"data row7 col5\" >0.954928</td>\n",
       "    </tr>\n",
       "    <tr>\n",
       "      <th id=\"T_41a50_level0_row8\" class=\"row_heading level0 row8\" >8</th>\n",
       "      <td id=\"T_41a50_row8_col0\" class=\"data row8 col0\" >Decision Tree Adj</td>\n",
       "      <td id=\"T_41a50_row8_col1\" class=\"data row8 col1\" >0.881266</td>\n",
       "      <td id=\"T_41a50_row8_col2\" class=\"data row8 col2\" >0.931042</td>\n",
       "      <td id=\"T_41a50_row8_col3\" class=\"data row8 col3\" >0.936255</td>\n",
       "      <td id=\"T_41a50_row8_col4\" class=\"data row8 col4\" >0.426442</td>\n",
       "      <td id=\"T_41a50_row8_col5\" class=\"data row8 col5\" >0.933641</td>\n",
       "    </tr>\n",
       "    <tr>\n",
       "      <th id=\"T_41a50_level0_row9\" class=\"row_heading level0 row9\" >9</th>\n",
       "      <td id=\"T_41a50_row9_col0\" class=\"data row9 col0\" >Logistic Eng</td>\n",
       "      <td id=\"T_41a50_row9_col1\" class=\"data row9 col1\" >0.909441</td>\n",
       "      <td id=\"T_41a50_row9_col2\" class=\"data row9 col2\" >0.921550</td>\n",
       "      <td id=\"T_41a50_row9_col3\" class=\"data row9 col3\" >0.982097</td>\n",
       "      <td id=\"T_41a50_row9_col4\" class=\"data row9 col4\" >0.308494</td>\n",
       "      <td id=\"T_41a50_row9_col5\" class=\"data row9 col5\" >0.950861</td>\n",
       "    </tr>\n",
       "    <tr>\n",
       "      <th id=\"T_41a50_level0_row10\" class=\"row_heading level0 row10\" >10</th>\n",
       "      <td id=\"T_41a50_row10_col0\" class=\"data row10 col0\" >Xgboost Eng</td>\n",
       "      <td id=\"T_41a50_row10_col1\" class=\"data row10 col1\" >0.917877</td>\n",
       "      <td id=\"T_41a50_row10_col2\" class=\"data row10 col2\" >0.935714</td>\n",
       "      <td id=\"T_41a50_row10_col3\" class=\"data row10 col3\" >0.974928</td>\n",
       "      <td id=\"T_41a50_row10_col4\" class=\"data row10 col4\" >0.445994</td>\n",
       "      <td id=\"T_41a50_row10_col5\" class=\"data row10 col5\" >0.954919</td>\n",
       "    </tr>\n",
       "    <tr>\n",
       "      <th id=\"T_41a50_level0_row11\" class=\"row_heading level0 row11\" >11</th>\n",
       "      <td id=\"T_41a50_row11_col0\" class=\"data row11 col0\" >Decision Tree Eng</td>\n",
       "      <td id=\"T_41a50_row11_col1\" class=\"data row11 col1\" >0.881059</td>\n",
       "      <td id=\"T_41a50_row11_col2\" class=\"data row11 col2\" >0.930793</td>\n",
       "      <td id=\"T_41a50_row11_col3\" class=\"data row11 col3\" >0.936294</td>\n",
       "      <td id=\"T_41a50_row11_col4\" class=\"data row11 col4\" >0.424199</td>\n",
       "      <td id=\"T_41a50_row11_col5\" class=\"data row11 col5\" >0.933536</td>\n",
       "    </tr>\n",
       "    <tr>\n",
       "      <th id=\"T_41a50_level0_row12\" class=\"row_heading level0 row12\" >12</th>\n",
       "      <td id=\"T_41a50_row12_col0\" class=\"data row12 col0\" >XGBoost w/o DepDelay</td>\n",
       "      <td id=\"T_41a50_row12_col1\" class=\"data row12 col1\" >0.892778</td>\n",
       "      <td id=\"T_41a50_row12_col2\" class=\"data row12 col2\" >0.906781</td>\n",
       "      <td id=\"T_41a50_row12_col3\" class=\"data row12 col3\" >0.980625</td>\n",
       "      <td id=\"T_41a50_row12_col4\" class=\"data row12 col4\" >0.166186</td>\n",
       "      <td id=\"T_41a50_row12_col5\" class=\"data row12 col5\" >0.942258</td>\n",
       "    </tr>\n",
       "  </tbody>\n",
       "</table>\n"
      ],
      "text/plain": [
       "<pandas.io.formats.style.Styler at 0x1f220e21cd0>"
      ]
     },
     "execution_count": 90,
     "metadata": {},
     "output_type": "execute_result"
    }
   ],
   "source": [
    "show(table)"
   ]
  },
  {
   "cell_type": "markdown",
   "id": "4f1a4e89",
   "metadata": {},
   "source": [
    "***Conclusion***:\n",
    "The lack of DepDelay weakens significantly the overall performance of the XGBoost model, as it can be seen by the big drop of Specificity to 16%."
   ]
  },
  {
   "cell_type": "code",
   "execution_count": null,
   "id": "be064e04",
   "metadata": {},
   "outputs": [],
   "source": []
  }
 ],
 "metadata": {
  "kernelspec": {
   "display_name": "Python 3 (ipykernel)",
   "language": "python",
   "name": "python3"
  },
  "language_info": {
   "codemirror_mode": {
    "name": "ipython",
    "version": 3
   },
   "file_extension": ".py",
   "mimetype": "text/x-python",
   "name": "python",
   "nbconvert_exporter": "python",
   "pygments_lexer": "ipython3",
   "version": "3.9.7"
  }
 },
 "nbformat": 4,
 "nbformat_minor": 5
}
