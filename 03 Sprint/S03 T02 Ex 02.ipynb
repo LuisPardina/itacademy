{
 "cells": [
  {
   "cell_type": "markdown",
   "id": "3a1e2d63",
   "metadata": {},
   "source": [
    "# S03 T02: Visualització gràfica de Múltiples variables\n",
    "## Luis Pardina - Data Science - 12/abril/2022\n",
    "### *Exercici 2* : Repeteix l'exercici 1 amb el dataset que disposem en el repositori de GitHub PRE-PROCESSING-DATA, *movies.dat*"
   ]
  },
  {
   "cell_type": "code",
   "execution_count": 1,
   "id": "c2ca6a6a",
   "metadata": {},
   "outputs": [],
   "source": [
    "import os\n",
    "import pandas as pd\n",
    "import numpy as np\n",
    "import matplotlib.pyplot as plt\n",
    "import seaborn as sns"
   ]
  },
  {
   "cell_type": "markdown",
   "id": "fb188cc5",
   "metadata": {},
   "source": [
    "La taula *movies.dat* conté files amb tres camps d'informació separats per \"::\": un numero identificador, el títol d'un film i l'any de producció, i els generes als quals pertany el film. Els generes estan separats per una barra vertical \"|\". La llista no té encapçalat.\n",
    "\n",
    "Primer genero una llista amb l'encapçalat de cada columna del dataframe:"
   ]
  },
  {
   "cell_type": "code",
   "execution_count": 2,
   "id": "6cedb781",
   "metadata": {},
   "outputs": [
    {
     "data": {
      "text/plain": [
       "['movie_id', 'title', 'genre']"
      ]
     },
     "execution_count": 2,
     "metadata": {},
     "output_type": "execute_result"
    }
   ],
   "source": [
    "head_names = ['movie_id', 'title', 'genre']\n",
    "head_names"
   ]
  },
  {
   "cell_type": "markdown",
   "id": "ee125e8d",
   "metadata": {},
   "source": [
    "Després genero un DataFrame amb el contingut de la taula:"
   ]
  },
  {
   "cell_type": "code",
   "execution_count": 3,
   "id": "0d8b52df",
   "metadata": {},
   "outputs": [
    {
     "data": {
      "text/html": [
       "<div>\n",
       "<style scoped>\n",
       "    .dataframe tbody tr th:only-of-type {\n",
       "        vertical-align: middle;\n",
       "    }\n",
       "\n",
       "    .dataframe tbody tr th {\n",
       "        vertical-align: top;\n",
       "    }\n",
       "\n",
       "    .dataframe thead th {\n",
       "        text-align: right;\n",
       "    }\n",
       "</style>\n",
       "<table border=\"1\" class=\"dataframe\">\n",
       "  <thead>\n",
       "    <tr style=\"text-align: right;\">\n",
       "      <th></th>\n",
       "      <th>movie_id</th>\n",
       "      <th>title</th>\n",
       "      <th>genre</th>\n",
       "    </tr>\n",
       "  </thead>\n",
       "  <tbody>\n",
       "    <tr>\n",
       "      <th>0</th>\n",
       "      <td>1</td>\n",
       "      <td>Toy Story (1995)</td>\n",
       "      <td>Animation|Children's|Comedy</td>\n",
       "    </tr>\n",
       "    <tr>\n",
       "      <th>1</th>\n",
       "      <td>2</td>\n",
       "      <td>Jumanji (1995)</td>\n",
       "      <td>Adventure|Children's|Fantasy</td>\n",
       "    </tr>\n",
       "    <tr>\n",
       "      <th>2</th>\n",
       "      <td>3</td>\n",
       "      <td>Grumpier Old Men (1995)</td>\n",
       "      <td>Comedy|Romance</td>\n",
       "    </tr>\n",
       "    <tr>\n",
       "      <th>3</th>\n",
       "      <td>4</td>\n",
       "      <td>Waiting to Exhale (1995)</td>\n",
       "      <td>Comedy|Drama</td>\n",
       "    </tr>\n",
       "    <tr>\n",
       "      <th>4</th>\n",
       "      <td>5</td>\n",
       "      <td>Father of the Bride Part II (1995)</td>\n",
       "      <td>Comedy</td>\n",
       "    </tr>\n",
       "    <tr>\n",
       "      <th>5</th>\n",
       "      <td>6</td>\n",
       "      <td>Heat (1995)</td>\n",
       "      <td>Action|Crime|Thriller</td>\n",
       "    </tr>\n",
       "    <tr>\n",
       "      <th>6</th>\n",
       "      <td>7</td>\n",
       "      <td>Sabrina (1995)</td>\n",
       "      <td>Comedy|Romance</td>\n",
       "    </tr>\n",
       "    <tr>\n",
       "      <th>7</th>\n",
       "      <td>8</td>\n",
       "      <td>Tom and Huck (1995)</td>\n",
       "      <td>Adventure|Children's</td>\n",
       "    </tr>\n",
       "    <tr>\n",
       "      <th>8</th>\n",
       "      <td>9</td>\n",
       "      <td>Sudden Death (1995)</td>\n",
       "      <td>Action</td>\n",
       "    </tr>\n",
       "    <tr>\n",
       "      <th>9</th>\n",
       "      <td>10</td>\n",
       "      <td>GoldenEye (1995)</td>\n",
       "      <td>Action|Adventure|Thriller</td>\n",
       "    </tr>\n",
       "  </tbody>\n",
       "</table>\n",
       "</div>"
      ],
      "text/plain": [
       "   movie_id                               title                         genre\n",
       "0         1                    Toy Story (1995)   Animation|Children's|Comedy\n",
       "1         2                      Jumanji (1995)  Adventure|Children's|Fantasy\n",
       "2         3             Grumpier Old Men (1995)                Comedy|Romance\n",
       "3         4            Waiting to Exhale (1995)                  Comedy|Drama\n",
       "4         5  Father of the Bride Part II (1995)                        Comedy\n",
       "5         6                         Heat (1995)         Action|Crime|Thriller\n",
       "6         7                      Sabrina (1995)                Comedy|Romance\n",
       "7         8                 Tom and Huck (1995)          Adventure|Children's\n",
       "8         9                 Sudden Death (1995)                        Action\n",
       "9        10                    GoldenEye (1995)     Action|Adventure|Thriller"
      ]
     },
     "execution_count": 3,
     "metadata": {},
     "output_type": "execute_result"
    }
   ],
   "source": [
    "movies = pd.read_table('movies.dat', sep = '::', header = None, names = head_names, encoding='latin-1', engine='python')\n",
    "movies.head(10)"
   ]
  },
  {
   "cell_type": "markdown",
   "id": "ae358266",
   "metadata": {},
   "source": [
    "La taula conté 3883 registres:"
   ]
  },
  {
   "cell_type": "code",
   "execution_count": 4,
   "id": "4990d45e",
   "metadata": {},
   "outputs": [
    {
     "data": {
      "text/plain": [
       "(3883, 3)"
      ]
     },
     "execution_count": 4,
     "metadata": {},
     "output_type": "execute_result"
    }
   ],
   "source": [
    "movies.shape"
   ]
  },
  {
   "cell_type": "markdown",
   "id": "d637a197",
   "metadata": {},
   "source": [
    "Genero una nova columna que contingui l'any de produccio de la pel.lícula com un numero sencer. Després retallo l'any de producció de la columna del títol per a que no hi hagi una informació redundant:"
   ]
  },
  {
   "cell_type": "code",
   "execution_count": 5,
   "id": "4ddaaf2f",
   "metadata": {},
   "outputs": [],
   "source": [
    "movies['year'] = movies.title.str.slice(-5, -1).astype(int)\n",
    "movies['title'] = movies.title.str.slice(0,-7)"
   ]
  },
  {
   "cell_type": "code",
   "execution_count": 6,
   "id": "0c1540dc",
   "metadata": {},
   "outputs": [
    {
     "data": {
      "text/html": [
       "<div>\n",
       "<style scoped>\n",
       "    .dataframe tbody tr th:only-of-type {\n",
       "        vertical-align: middle;\n",
       "    }\n",
       "\n",
       "    .dataframe tbody tr th {\n",
       "        vertical-align: top;\n",
       "    }\n",
       "\n",
       "    .dataframe thead th {\n",
       "        text-align: right;\n",
       "    }\n",
       "</style>\n",
       "<table border=\"1\" class=\"dataframe\">\n",
       "  <thead>\n",
       "    <tr style=\"text-align: right;\">\n",
       "      <th></th>\n",
       "      <th>movie_id</th>\n",
       "      <th>title</th>\n",
       "      <th>genre</th>\n",
       "      <th>year</th>\n",
       "    </tr>\n",
       "  </thead>\n",
       "  <tbody>\n",
       "    <tr>\n",
       "      <th>0</th>\n",
       "      <td>1</td>\n",
       "      <td>Toy Story</td>\n",
       "      <td>Animation|Children's|Comedy</td>\n",
       "      <td>1995</td>\n",
       "    </tr>\n",
       "    <tr>\n",
       "      <th>1</th>\n",
       "      <td>2</td>\n",
       "      <td>Jumanji</td>\n",
       "      <td>Adventure|Children's|Fantasy</td>\n",
       "      <td>1995</td>\n",
       "    </tr>\n",
       "    <tr>\n",
       "      <th>2</th>\n",
       "      <td>3</td>\n",
       "      <td>Grumpier Old Men</td>\n",
       "      <td>Comedy|Romance</td>\n",
       "      <td>1995</td>\n",
       "    </tr>\n",
       "    <tr>\n",
       "      <th>3</th>\n",
       "      <td>4</td>\n",
       "      <td>Waiting to Exhale</td>\n",
       "      <td>Comedy|Drama</td>\n",
       "      <td>1995</td>\n",
       "    </tr>\n",
       "    <tr>\n",
       "      <th>4</th>\n",
       "      <td>5</td>\n",
       "      <td>Father of the Bride Part II</td>\n",
       "      <td>Comedy</td>\n",
       "      <td>1995</td>\n",
       "    </tr>\n",
       "    <tr>\n",
       "      <th>5</th>\n",
       "      <td>6</td>\n",
       "      <td>Heat</td>\n",
       "      <td>Action|Crime|Thriller</td>\n",
       "      <td>1995</td>\n",
       "    </tr>\n",
       "    <tr>\n",
       "      <th>6</th>\n",
       "      <td>7</td>\n",
       "      <td>Sabrina</td>\n",
       "      <td>Comedy|Romance</td>\n",
       "      <td>1995</td>\n",
       "    </tr>\n",
       "    <tr>\n",
       "      <th>7</th>\n",
       "      <td>8</td>\n",
       "      <td>Tom and Huck</td>\n",
       "      <td>Adventure|Children's</td>\n",
       "      <td>1995</td>\n",
       "    </tr>\n",
       "    <tr>\n",
       "      <th>8</th>\n",
       "      <td>9</td>\n",
       "      <td>Sudden Death</td>\n",
       "      <td>Action</td>\n",
       "      <td>1995</td>\n",
       "    </tr>\n",
       "    <tr>\n",
       "      <th>9</th>\n",
       "      <td>10</td>\n",
       "      <td>GoldenEye</td>\n",
       "      <td>Action|Adventure|Thriller</td>\n",
       "      <td>1995</td>\n",
       "    </tr>\n",
       "  </tbody>\n",
       "</table>\n",
       "</div>"
      ],
      "text/plain": [
       "   movie_id                        title                         genre  year\n",
       "0         1                    Toy Story   Animation|Children's|Comedy  1995\n",
       "1         2                      Jumanji  Adventure|Children's|Fantasy  1995\n",
       "2         3             Grumpier Old Men                Comedy|Romance  1995\n",
       "3         4            Waiting to Exhale                  Comedy|Drama  1995\n",
       "4         5  Father of the Bride Part II                        Comedy  1995\n",
       "5         6                         Heat         Action|Crime|Thriller  1995\n",
       "6         7                      Sabrina                Comedy|Romance  1995\n",
       "7         8                 Tom and Huck          Adventure|Children's  1995\n",
       "8         9                 Sudden Death                        Action  1995\n",
       "9        10                    GoldenEye     Action|Adventure|Thriller  1995"
      ]
     },
     "execution_count": 6,
     "metadata": {},
     "output_type": "execute_result"
    }
   ],
   "source": [
    "movies.head(10)"
   ]
  },
  {
   "cell_type": "code",
   "execution_count": 7,
   "id": "60043585",
   "metadata": {},
   "outputs": [
    {
     "data": {
      "text/html": [
       "<div>\n",
       "<style scoped>\n",
       "    .dataframe tbody tr th:only-of-type {\n",
       "        vertical-align: middle;\n",
       "    }\n",
       "\n",
       "    .dataframe tbody tr th {\n",
       "        vertical-align: top;\n",
       "    }\n",
       "\n",
       "    .dataframe thead th {\n",
       "        text-align: right;\n",
       "    }\n",
       "</style>\n",
       "<table border=\"1\" class=\"dataframe\">\n",
       "  <thead>\n",
       "    <tr style=\"text-align: right;\">\n",
       "      <th></th>\n",
       "      <th>movie_id</th>\n",
       "      <th>title</th>\n",
       "      <th>genre</th>\n",
       "      <th>year</th>\n",
       "    </tr>\n",
       "  </thead>\n",
       "  <tbody>\n",
       "    <tr>\n",
       "      <th>3873</th>\n",
       "      <td>3943</td>\n",
       "      <td>Bamboozled</td>\n",
       "      <td>Comedy</td>\n",
       "      <td>2000</td>\n",
       "    </tr>\n",
       "    <tr>\n",
       "      <th>3874</th>\n",
       "      <td>3944</td>\n",
       "      <td>Bootmen</td>\n",
       "      <td>Comedy|Drama</td>\n",
       "      <td>2000</td>\n",
       "    </tr>\n",
       "    <tr>\n",
       "      <th>3875</th>\n",
       "      <td>3945</td>\n",
       "      <td>Digimon: The Movie</td>\n",
       "      <td>Adventure|Animation|Children's</td>\n",
       "      <td>2000</td>\n",
       "    </tr>\n",
       "    <tr>\n",
       "      <th>3876</th>\n",
       "      <td>3946</td>\n",
       "      <td>Get Carter</td>\n",
       "      <td>Action|Drama|Thriller</td>\n",
       "      <td>2000</td>\n",
       "    </tr>\n",
       "    <tr>\n",
       "      <th>3877</th>\n",
       "      <td>3947</td>\n",
       "      <td>Get Carter</td>\n",
       "      <td>Thriller</td>\n",
       "      <td>1971</td>\n",
       "    </tr>\n",
       "    <tr>\n",
       "      <th>3878</th>\n",
       "      <td>3948</td>\n",
       "      <td>Meet the Parents</td>\n",
       "      <td>Comedy</td>\n",
       "      <td>2000</td>\n",
       "    </tr>\n",
       "    <tr>\n",
       "      <th>3879</th>\n",
       "      <td>3949</td>\n",
       "      <td>Requiem for a Dream</td>\n",
       "      <td>Drama</td>\n",
       "      <td>2000</td>\n",
       "    </tr>\n",
       "    <tr>\n",
       "      <th>3880</th>\n",
       "      <td>3950</td>\n",
       "      <td>Tigerland</td>\n",
       "      <td>Drama</td>\n",
       "      <td>2000</td>\n",
       "    </tr>\n",
       "    <tr>\n",
       "      <th>3881</th>\n",
       "      <td>3951</td>\n",
       "      <td>Two Family House</td>\n",
       "      <td>Drama</td>\n",
       "      <td>2000</td>\n",
       "    </tr>\n",
       "    <tr>\n",
       "      <th>3882</th>\n",
       "      <td>3952</td>\n",
       "      <td>Contender, The</td>\n",
       "      <td>Drama|Thriller</td>\n",
       "      <td>2000</td>\n",
       "    </tr>\n",
       "  </tbody>\n",
       "</table>\n",
       "</div>"
      ],
      "text/plain": [
       "      movie_id                title                           genre  year\n",
       "3873      3943           Bamboozled                          Comedy  2000\n",
       "3874      3944              Bootmen                    Comedy|Drama  2000\n",
       "3875      3945   Digimon: The Movie  Adventure|Animation|Children's  2000\n",
       "3876      3946           Get Carter           Action|Drama|Thriller  2000\n",
       "3877      3947           Get Carter                        Thriller  1971\n",
       "3878      3948     Meet the Parents                          Comedy  2000\n",
       "3879      3949  Requiem for a Dream                           Drama  2000\n",
       "3880      3950            Tigerland                           Drama  2000\n",
       "3881      3951     Two Family House                           Drama  2000\n",
       "3882      3952       Contender, The                  Drama|Thriller  2000"
      ]
     },
     "execution_count": 7,
     "metadata": {},
     "output_type": "execute_result"
    }
   ],
   "source": [
    "movies.tail(10)"
   ]
  },
  {
   "cell_type": "markdown",
   "id": "2b36885a",
   "metadata": {},
   "source": [
    "Presento un histograma per a visualitzar l'any de producció dels films. La llista arriba només fins l'any 2000, i la major part de films son de la darrera dècada del segle passat:"
   ]
  },
  {
   "cell_type": "code",
   "execution_count": 8,
   "id": "5b58c093",
   "metadata": {},
   "outputs": [
    {
     "data": {
      "image/png": "[encoded data removed]",
      "text/plain": [
       "<Figure size 432x288 with 1 Axes>"
      ]
     },
     "metadata": {
      "needs_background": "light"
     },
     "output_type": "display_data"
    }
   ],
   "source": [
    "movies.hist(['year'], bins=20, color = \"Red\", alpha=0.5)\n",
    "plt.title('Year of production', fontsize=15)\n",
    "plt.ylabel('#of movies', fontsize = 15);"
   ]
  },
  {
   "cell_type": "markdown",
   "id": "f10b974f",
   "metadata": {},
   "source": [
    "Genero una llista dels gèneres de cada film fent un recorregut amb un bucle for per la columna 'genero' del dataframe. A més a més quan el camp conté varios gèneres els separo:"
   ]
  },
  {
   "cell_type": "code",
   "execution_count": 9,
   "id": "de066ad7",
   "metadata": {},
   "outputs": [],
   "source": [
    "all_genres = []\n",
    "for x in movies.genre:\n",
    "    all_genres.extend(x.split('|'))"
   ]
  },
  {
   "cell_type": "code",
   "execution_count": 10,
   "id": "29109696",
   "metadata": {},
   "outputs": [
    {
     "data": {
      "text/plain": [
       "list"
      ]
     },
     "execution_count": 10,
     "metadata": {},
     "output_type": "execute_result"
    }
   ],
   "source": [
    "type(all_genres)"
   ]
  },
  {
   "cell_type": "code",
   "execution_count": 11,
   "id": "3985fd40",
   "metadata": {},
   "outputs": [
    {
     "data": {
      "text/plain": [
       "6408"
      ]
     },
     "execution_count": 11,
     "metadata": {},
     "output_type": "execute_result"
    }
   ],
   "source": [
    "len(all_genres)"
   ]
  },
  {
   "cell_type": "markdown",
   "id": "2a501dc7",
   "metadata": {},
   "source": [
    "Genero una matriu amb la llista dels valors únics dels gèneres dels films amb la funció unique():"
   ]
  },
  {
   "cell_type": "code",
   "execution_count": 12,
   "id": "30bf98f6",
   "metadata": {},
   "outputs": [
    {
     "data": {
      "text/plain": [
       "array(['Animation', \"Children's\", 'Comedy', 'Adventure', 'Fantasy',\n",
       "       'Romance', 'Drama', 'Action', 'Crime', 'Thriller', 'Horror',\n",
       "       'Sci-Fi', 'Documentary', 'War', 'Musical', 'Mystery', 'Film-Noir',\n",
       "       'Western'], dtype=object)"
      ]
     },
     "execution_count": 12,
     "metadata": {},
     "output_type": "execute_result"
    }
   ],
   "source": [
    "genres_list = pd.unique(all_genres)\n",
    "genres_list"
   ]
  },
  {
   "cell_type": "code",
   "execution_count": 13,
   "id": "7a59e56b",
   "metadata": {},
   "outputs": [
    {
     "data": {
      "text/plain": [
       "18"
      ]
     },
     "execution_count": 13,
     "metadata": {},
     "output_type": "execute_result"
    }
   ],
   "source": [
    "len(genres_list)"
   ]
  },
  {
   "cell_type": "code",
   "execution_count": 14,
   "id": "5697b522",
   "metadata": {},
   "outputs": [
    {
     "data": {
      "text/plain": [
       "numpy.ndarray"
      ]
     },
     "execution_count": 14,
     "metadata": {},
     "output_type": "execute_result"
    }
   ],
   "source": [
    "type(genres_list)"
   ]
  },
  {
   "cell_type": "markdown",
   "id": "9c39bb66",
   "metadata": {},
   "source": [
    "Ara genero una matriu de zeros que té tantes columnes com valors unics de genere, i tantes files com films:"
   ]
  },
  {
   "cell_type": "code",
   "execution_count": 20,
   "id": "564bacb9",
   "metadata": {},
   "outputs": [
    {
     "data": {
      "text/plain": [
       "(3883, 18)"
      ]
     },
     "execution_count": 20,
     "metadata": {},
     "output_type": "execute_result"
    }
   ],
   "source": [
    "zero_matrix = np.zeros((len(movies), len(genres_list)))\n",
    "zero_matrix.shape"
   ]
  },
  {
   "cell_type": "markdown",
   "id": "c774bbd0",
   "metadata": {},
   "source": [
    "La transformem en un DataFrame que tingui com nom de les columnes els gèneres dels films:"
   ]
  },
  {
   "cell_type": "code",
   "execution_count": 21,
   "id": "18fe719e",
   "metadata": {},
   "outputs": [
    {
     "data": {
      "text/html": [
       "<div>\n",
       "<style scoped>\n",
       "    .dataframe tbody tr th:only-of-type {\n",
       "        vertical-align: middle;\n",
       "    }\n",
       "\n",
       "    .dataframe tbody tr th {\n",
       "        vertical-align: top;\n",
       "    }\n",
       "\n",
       "    .dataframe thead th {\n",
       "        text-align: right;\n",
       "    }\n",
       "</style>\n",
       "<table border=\"1\" class=\"dataframe\">\n",
       "  <thead>\n",
       "    <tr style=\"text-align: right;\">\n",
       "      <th></th>\n",
       "      <th>Animation</th>\n",
       "      <th>Children's</th>\n",
       "      <th>Comedy</th>\n",
       "      <th>Adventure</th>\n",
       "      <th>Fantasy</th>\n",
       "      <th>Romance</th>\n",
       "      <th>Drama</th>\n",
       "      <th>Action</th>\n",
       "      <th>Crime</th>\n",
       "      <th>Thriller</th>\n",
       "      <th>Horror</th>\n",
       "      <th>Sci-Fi</th>\n",
       "      <th>Documentary</th>\n",
       "      <th>War</th>\n",
       "      <th>Musical</th>\n",
       "      <th>Mystery</th>\n",
       "      <th>Film-Noir</th>\n",
       "      <th>Western</th>\n",
       "    </tr>\n",
       "  </thead>\n",
       "  <tbody>\n",
       "    <tr>\n",
       "      <th>0</th>\n",
       "      <td>0.0</td>\n",
       "      <td>0.0</td>\n",
       "      <td>0.0</td>\n",
       "      <td>0.0</td>\n",
       "      <td>0.0</td>\n",
       "      <td>0.0</td>\n",
       "      <td>0.0</td>\n",
       "      <td>0.0</td>\n",
       "      <td>0.0</td>\n",
       "      <td>0.0</td>\n",
       "      <td>0.0</td>\n",
       "      <td>0.0</td>\n",
       "      <td>0.0</td>\n",
       "      <td>0.0</td>\n",
       "      <td>0.0</td>\n",
       "      <td>0.0</td>\n",
       "      <td>0.0</td>\n",
       "      <td>0.0</td>\n",
       "    </tr>\n",
       "    <tr>\n",
       "      <th>1</th>\n",
       "      <td>0.0</td>\n",
       "      <td>0.0</td>\n",
       "      <td>0.0</td>\n",
       "      <td>0.0</td>\n",
       "      <td>0.0</td>\n",
       "      <td>0.0</td>\n",
       "      <td>0.0</td>\n",
       "      <td>0.0</td>\n",
       "      <td>0.0</td>\n",
       "      <td>0.0</td>\n",
       "      <td>0.0</td>\n",
       "      <td>0.0</td>\n",
       "      <td>0.0</td>\n",
       "      <td>0.0</td>\n",
       "      <td>0.0</td>\n",
       "      <td>0.0</td>\n",
       "      <td>0.0</td>\n",
       "      <td>0.0</td>\n",
       "    </tr>\n",
       "    <tr>\n",
       "      <th>2</th>\n",
       "      <td>0.0</td>\n",
       "      <td>0.0</td>\n",
       "      <td>0.0</td>\n",
       "      <td>0.0</td>\n",
       "      <td>0.0</td>\n",
       "      <td>0.0</td>\n",
       "      <td>0.0</td>\n",
       "      <td>0.0</td>\n",
       "      <td>0.0</td>\n",
       "      <td>0.0</td>\n",
       "      <td>0.0</td>\n",
       "      <td>0.0</td>\n",
       "      <td>0.0</td>\n",
       "      <td>0.0</td>\n",
       "      <td>0.0</td>\n",
       "      <td>0.0</td>\n",
       "      <td>0.0</td>\n",
       "      <td>0.0</td>\n",
       "    </tr>\n",
       "    <tr>\n",
       "      <th>3</th>\n",
       "      <td>0.0</td>\n",
       "      <td>0.0</td>\n",
       "      <td>0.0</td>\n",
       "      <td>0.0</td>\n",
       "      <td>0.0</td>\n",
       "      <td>0.0</td>\n",
       "      <td>0.0</td>\n",
       "      <td>0.0</td>\n",
       "      <td>0.0</td>\n",
       "      <td>0.0</td>\n",
       "      <td>0.0</td>\n",
       "      <td>0.0</td>\n",
       "      <td>0.0</td>\n",
       "      <td>0.0</td>\n",
       "      <td>0.0</td>\n",
       "      <td>0.0</td>\n",
       "      <td>0.0</td>\n",
       "      <td>0.0</td>\n",
       "    </tr>\n",
       "    <tr>\n",
       "      <th>4</th>\n",
       "      <td>0.0</td>\n",
       "      <td>0.0</td>\n",
       "      <td>0.0</td>\n",
       "      <td>0.0</td>\n",
       "      <td>0.0</td>\n",
       "      <td>0.0</td>\n",
       "      <td>0.0</td>\n",
       "      <td>0.0</td>\n",
       "      <td>0.0</td>\n",
       "      <td>0.0</td>\n",
       "      <td>0.0</td>\n",
       "      <td>0.0</td>\n",
       "      <td>0.0</td>\n",
       "      <td>0.0</td>\n",
       "      <td>0.0</td>\n",
       "      <td>0.0</td>\n",
       "      <td>0.0</td>\n",
       "      <td>0.0</td>\n",
       "    </tr>\n",
       "  </tbody>\n",
       "</table>\n",
       "</div>"
      ],
      "text/plain": [
       "   Animation  Children's  Comedy  Adventure  Fantasy  Romance  Drama  Action  \\\n",
       "0        0.0         0.0     0.0        0.0      0.0      0.0    0.0     0.0   \n",
       "1        0.0         0.0     0.0        0.0      0.0      0.0    0.0     0.0   \n",
       "2        0.0         0.0     0.0        0.0      0.0      0.0    0.0     0.0   \n",
       "3        0.0         0.0     0.0        0.0      0.0      0.0    0.0     0.0   \n",
       "4        0.0         0.0     0.0        0.0      0.0      0.0    0.0     0.0   \n",
       "\n",
       "   Crime  Thriller  Horror  Sci-Fi  Documentary  War  Musical  Mystery  \\\n",
       "0    0.0       0.0     0.0     0.0          0.0  0.0      0.0      0.0   \n",
       "1    0.0       0.0     0.0     0.0          0.0  0.0      0.0      0.0   \n",
       "2    0.0       0.0     0.0     0.0          0.0  0.0      0.0      0.0   \n",
       "3    0.0       0.0     0.0     0.0          0.0  0.0      0.0      0.0   \n",
       "4    0.0       0.0     0.0     0.0          0.0  0.0      0.0      0.0   \n",
       "\n",
       "   Film-Noir  Western  \n",
       "0        0.0      0.0  \n",
       "1        0.0      0.0  \n",
       "2        0.0      0.0  \n",
       "3        0.0      0.0  \n",
       "4        0.0      0.0  "
      ]
     },
     "execution_count": 21,
     "metadata": {},
     "output_type": "execute_result"
    }
   ],
   "source": [
    "dummies = pd.DataFrame(zero_matrix, columns = genres_list)\n",
    "dummies.head()"
   ]
  },
  {
   "cell_type": "markdown",
   "id": "8a5d26e2",
   "metadata": {},
   "source": [
    "I ara fent un recorregut pel dataframe de movies i hi afegim un 1 al dataframe de dummies al generes corresponents:"
   ]
  },
  {
   "cell_type": "code",
   "execution_count": 22,
   "id": "2c30ca13",
   "metadata": {},
   "outputs": [],
   "source": [
    "for i, gen in enumerate(movies.genre):\n",
    "    indexes = dummies.columns.get_indexer(gen.split('|'))\n",
    "    dummies.iloc[i, indexes] = 1"
   ]
  },
  {
   "cell_type": "code",
   "execution_count": 23,
   "id": "79b3bbaa",
   "metadata": {},
   "outputs": [
    {
     "data": {
      "text/html": [
       "<div>\n",
       "<style scoped>\n",
       "    .dataframe tbody tr th:only-of-type {\n",
       "        vertical-align: middle;\n",
       "    }\n",
       "\n",
       "    .dataframe tbody tr th {\n",
       "        vertical-align: top;\n",
       "    }\n",
       "\n",
       "    .dataframe thead th {\n",
       "        text-align: right;\n",
       "    }\n",
       "</style>\n",
       "<table border=\"1\" class=\"dataframe\">\n",
       "  <thead>\n",
       "    <tr style=\"text-align: right;\">\n",
       "      <th></th>\n",
       "      <th>Animation</th>\n",
       "      <th>Children's</th>\n",
       "      <th>Comedy</th>\n",
       "      <th>Adventure</th>\n",
       "      <th>Fantasy</th>\n",
       "      <th>Romance</th>\n",
       "      <th>Drama</th>\n",
       "      <th>Action</th>\n",
       "      <th>Crime</th>\n",
       "      <th>Thriller</th>\n",
       "      <th>Horror</th>\n",
       "      <th>Sci-Fi</th>\n",
       "      <th>Documentary</th>\n",
       "      <th>War</th>\n",
       "      <th>Musical</th>\n",
       "      <th>Mystery</th>\n",
       "      <th>Film-Noir</th>\n",
       "      <th>Western</th>\n",
       "    </tr>\n",
       "  </thead>\n",
       "  <tbody>\n",
       "    <tr>\n",
       "      <th>0</th>\n",
       "      <td>1.0</td>\n",
       "      <td>1.0</td>\n",
       "      <td>1.0</td>\n",
       "      <td>0.0</td>\n",
       "      <td>0.0</td>\n",
       "      <td>0.0</td>\n",
       "      <td>0.0</td>\n",
       "      <td>0.0</td>\n",
       "      <td>0.0</td>\n",
       "      <td>0.0</td>\n",
       "      <td>0.0</td>\n",
       "      <td>0.0</td>\n",
       "      <td>0.0</td>\n",
       "      <td>0.0</td>\n",
       "      <td>0.0</td>\n",
       "      <td>0.0</td>\n",
       "      <td>0.0</td>\n",
       "      <td>0.0</td>\n",
       "    </tr>\n",
       "    <tr>\n",
       "      <th>1</th>\n",
       "      <td>0.0</td>\n",
       "      <td>1.0</td>\n",
       "      <td>0.0</td>\n",
       "      <td>1.0</td>\n",
       "      <td>1.0</td>\n",
       "      <td>0.0</td>\n",
       "      <td>0.0</td>\n",
       "      <td>0.0</td>\n",
       "      <td>0.0</td>\n",
       "      <td>0.0</td>\n",
       "      <td>0.0</td>\n",
       "      <td>0.0</td>\n",
       "      <td>0.0</td>\n",
       "      <td>0.0</td>\n",
       "      <td>0.0</td>\n",
       "      <td>0.0</td>\n",
       "      <td>0.0</td>\n",
       "      <td>0.0</td>\n",
       "    </tr>\n",
       "    <tr>\n",
       "      <th>2</th>\n",
       "      <td>0.0</td>\n",
       "      <td>0.0</td>\n",
       "      <td>1.0</td>\n",
       "      <td>0.0</td>\n",
       "      <td>0.0</td>\n",
       "      <td>1.0</td>\n",
       "      <td>0.0</td>\n",
       "      <td>0.0</td>\n",
       "      <td>0.0</td>\n",
       "      <td>0.0</td>\n",
       "      <td>0.0</td>\n",
       "      <td>0.0</td>\n",
       "      <td>0.0</td>\n",
       "      <td>0.0</td>\n",
       "      <td>0.0</td>\n",
       "      <td>0.0</td>\n",
       "      <td>0.0</td>\n",
       "      <td>0.0</td>\n",
       "    </tr>\n",
       "    <tr>\n",
       "      <th>3</th>\n",
       "      <td>0.0</td>\n",
       "      <td>0.0</td>\n",
       "      <td>1.0</td>\n",
       "      <td>0.0</td>\n",
       "      <td>0.0</td>\n",
       "      <td>0.0</td>\n",
       "      <td>1.0</td>\n",
       "      <td>0.0</td>\n",
       "      <td>0.0</td>\n",
       "      <td>0.0</td>\n",
       "      <td>0.0</td>\n",
       "      <td>0.0</td>\n",
       "      <td>0.0</td>\n",
       "      <td>0.0</td>\n",
       "      <td>0.0</td>\n",
       "      <td>0.0</td>\n",
       "      <td>0.0</td>\n",
       "      <td>0.0</td>\n",
       "    </tr>\n",
       "    <tr>\n",
       "      <th>4</th>\n",
       "      <td>0.0</td>\n",
       "      <td>0.0</td>\n",
       "      <td>1.0</td>\n",
       "      <td>0.0</td>\n",
       "      <td>0.0</td>\n",
       "      <td>0.0</td>\n",
       "      <td>0.0</td>\n",
       "      <td>0.0</td>\n",
       "      <td>0.0</td>\n",
       "      <td>0.0</td>\n",
       "      <td>0.0</td>\n",
       "      <td>0.0</td>\n",
       "      <td>0.0</td>\n",
       "      <td>0.0</td>\n",
       "      <td>0.0</td>\n",
       "      <td>0.0</td>\n",
       "      <td>0.0</td>\n",
       "      <td>0.0</td>\n",
       "    </tr>\n",
       "  </tbody>\n",
       "</table>\n",
       "</div>"
      ],
      "text/plain": [
       "   Animation  Children's  Comedy  Adventure  Fantasy  Romance  Drama  Action  \\\n",
       "0        1.0         1.0     1.0        0.0      0.0      0.0    0.0     0.0   \n",
       "1        0.0         1.0     0.0        1.0      1.0      0.0    0.0     0.0   \n",
       "2        0.0         0.0     1.0        0.0      0.0      1.0    0.0     0.0   \n",
       "3        0.0         0.0     1.0        0.0      0.0      0.0    1.0     0.0   \n",
       "4        0.0         0.0     1.0        0.0      0.0      0.0    0.0     0.0   \n",
       "\n",
       "   Crime  Thriller  Horror  Sci-Fi  Documentary  War  Musical  Mystery  \\\n",
       "0    0.0       0.0     0.0     0.0          0.0  0.0      0.0      0.0   \n",
       "1    0.0       0.0     0.0     0.0          0.0  0.0      0.0      0.0   \n",
       "2    0.0       0.0     0.0     0.0          0.0  0.0      0.0      0.0   \n",
       "3    0.0       0.0     0.0     0.0          0.0  0.0      0.0      0.0   \n",
       "4    0.0       0.0     0.0     0.0          0.0  0.0      0.0      0.0   \n",
       "\n",
       "   Film-Noir  Western  \n",
       "0        0.0      0.0  \n",
       "1        0.0      0.0  \n",
       "2        0.0      0.0  \n",
       "3        0.0      0.0  \n",
       "4        0.0      0.0  "
      ]
     },
     "execution_count": 23,
     "metadata": {},
     "output_type": "execute_result"
    }
   ],
   "source": [
    "dummies.head()"
   ]
  },
  {
   "cell_type": "markdown",
   "id": "5a4875b0",
   "metadata": {},
   "source": [
    "Presento un recompte dels diferents gèneres. El més habituals son 'drama' i 'comèdia':"
   ]
  },
  {
   "cell_type": "code",
   "execution_count": 24,
   "id": "88b18fd5",
   "metadata": {},
   "outputs": [
    {
     "data": {
      "text/plain": [
       "Animation       105.0\n",
       "Children's      251.0\n",
       "Comedy         1200.0\n",
       "Adventure       283.0\n",
       "Fantasy          68.0\n",
       "Romance         471.0\n",
       "Drama          1603.0\n",
       "Action          503.0\n",
       "Crime           211.0\n",
       "Thriller        492.0\n",
       "Horror          343.0\n",
       "Sci-Fi          276.0\n",
       "Documentary     127.0\n",
       "War             143.0\n",
       "Musical         114.0\n",
       "Mystery         106.0\n",
       "Film-Noir        44.0\n",
       "Western          68.0\n",
       "dtype: float64"
      ]
     },
     "execution_count": 24,
     "metadata": {},
     "output_type": "execute_result"
    }
   ],
   "source": [
    "dummies.sum()"
   ]
  },
  {
   "cell_type": "code",
   "execution_count": 25,
   "id": "6c30e954",
   "metadata": {},
   "outputs": [
    {
     "data": {
      "image/png": "[encoded data removed]",
      "text/plain": [
       "<Figure size 720x576 with 1 Axes>"
      ]
     },
     "metadata": {
      "needs_background": "light"
     },
     "output_type": "display_data"
    }
   ],
   "source": [
    "dummies.sum().plot(kind='bar', fontsize=10, title = 'Genres of the movies', figsize=(10,8));"
   ]
  },
  {
   "cell_type": "markdown",
   "id": "0b2c7bb1",
   "metadata": {},
   "source": [
    "Ara per a acabar hi juntarem la dataframe de dummies a la de movies:"
   ]
  },
  {
   "cell_type": "code",
   "execution_count": 26,
   "id": "878618c7",
   "metadata": {},
   "outputs": [
    {
     "data": {
      "text/html": [
       "<div>\n",
       "<style scoped>\n",
       "    .dataframe tbody tr th:only-of-type {\n",
       "        vertical-align: middle;\n",
       "    }\n",
       "\n",
       "    .dataframe tbody tr th {\n",
       "        vertical-align: top;\n",
       "    }\n",
       "\n",
       "    .dataframe thead th {\n",
       "        text-align: right;\n",
       "    }\n",
       "</style>\n",
       "<table border=\"1\" class=\"dataframe\">\n",
       "  <thead>\n",
       "    <tr style=\"text-align: right;\">\n",
       "      <th></th>\n",
       "      <th>movie_id</th>\n",
       "      <th>title</th>\n",
       "      <th>genre</th>\n",
       "      <th>year</th>\n",
       "      <th>Genre_Animation</th>\n",
       "      <th>Genre_Children's</th>\n",
       "      <th>Genre_Comedy</th>\n",
       "      <th>Genre_Adventure</th>\n",
       "      <th>Genre_Fantasy</th>\n",
       "      <th>Genre_Romance</th>\n",
       "      <th>...</th>\n",
       "      <th>Genre_Crime</th>\n",
       "      <th>Genre_Thriller</th>\n",
       "      <th>Genre_Horror</th>\n",
       "      <th>Genre_Sci-Fi</th>\n",
       "      <th>Genre_Documentary</th>\n",
       "      <th>Genre_War</th>\n",
       "      <th>Genre_Musical</th>\n",
       "      <th>Genre_Mystery</th>\n",
       "      <th>Genre_Film-Noir</th>\n",
       "      <th>Genre_Western</th>\n",
       "    </tr>\n",
       "  </thead>\n",
       "  <tbody>\n",
       "    <tr>\n",
       "      <th>0</th>\n",
       "      <td>1</td>\n",
       "      <td>Toy Story</td>\n",
       "      <td>Animation|Children's|Comedy</td>\n",
       "      <td>1995</td>\n",
       "      <td>1.0</td>\n",
       "      <td>1.0</td>\n",
       "      <td>1.0</td>\n",
       "      <td>0.0</td>\n",
       "      <td>0.0</td>\n",
       "      <td>0.0</td>\n",
       "      <td>...</td>\n",
       "      <td>0.0</td>\n",
       "      <td>0.0</td>\n",
       "      <td>0.0</td>\n",
       "      <td>0.0</td>\n",
       "      <td>0.0</td>\n",
       "      <td>0.0</td>\n",
       "      <td>0.0</td>\n",
       "      <td>0.0</td>\n",
       "      <td>0.0</td>\n",
       "      <td>0.0</td>\n",
       "    </tr>\n",
       "    <tr>\n",
       "      <th>1</th>\n",
       "      <td>2</td>\n",
       "      <td>Jumanji</td>\n",
       "      <td>Adventure|Children's|Fantasy</td>\n",
       "      <td>1995</td>\n",
       "      <td>0.0</td>\n",
       "      <td>1.0</td>\n",
       "      <td>0.0</td>\n",
       "      <td>1.0</td>\n",
       "      <td>1.0</td>\n",
       "      <td>0.0</td>\n",
       "      <td>...</td>\n",
       "      <td>0.0</td>\n",
       "      <td>0.0</td>\n",
       "      <td>0.0</td>\n",
       "      <td>0.0</td>\n",
       "      <td>0.0</td>\n",
       "      <td>0.0</td>\n",
       "      <td>0.0</td>\n",
       "      <td>0.0</td>\n",
       "      <td>0.0</td>\n",
       "      <td>0.0</td>\n",
       "    </tr>\n",
       "    <tr>\n",
       "      <th>2</th>\n",
       "      <td>3</td>\n",
       "      <td>Grumpier Old Men</td>\n",
       "      <td>Comedy|Romance</td>\n",
       "      <td>1995</td>\n",
       "      <td>0.0</td>\n",
       "      <td>0.0</td>\n",
       "      <td>1.0</td>\n",
       "      <td>0.0</td>\n",
       "      <td>0.0</td>\n",
       "      <td>1.0</td>\n",
       "      <td>...</td>\n",
       "      <td>0.0</td>\n",
       "      <td>0.0</td>\n",
       "      <td>0.0</td>\n",
       "      <td>0.0</td>\n",
       "      <td>0.0</td>\n",
       "      <td>0.0</td>\n",
       "      <td>0.0</td>\n",
       "      <td>0.0</td>\n",
       "      <td>0.0</td>\n",
       "      <td>0.0</td>\n",
       "    </tr>\n",
       "    <tr>\n",
       "      <th>3</th>\n",
       "      <td>4</td>\n",
       "      <td>Waiting to Exhale</td>\n",
       "      <td>Comedy|Drama</td>\n",
       "      <td>1995</td>\n",
       "      <td>0.0</td>\n",
       "      <td>0.0</td>\n",
       "      <td>1.0</td>\n",
       "      <td>0.0</td>\n",
       "      <td>0.0</td>\n",
       "      <td>0.0</td>\n",
       "      <td>...</td>\n",
       "      <td>0.0</td>\n",
       "      <td>0.0</td>\n",
       "      <td>0.0</td>\n",
       "      <td>0.0</td>\n",
       "      <td>0.0</td>\n",
       "      <td>0.0</td>\n",
       "      <td>0.0</td>\n",
       "      <td>0.0</td>\n",
       "      <td>0.0</td>\n",
       "      <td>0.0</td>\n",
       "    </tr>\n",
       "    <tr>\n",
       "      <th>4</th>\n",
       "      <td>5</td>\n",
       "      <td>Father of the Bride Part II</td>\n",
       "      <td>Comedy</td>\n",
       "      <td>1995</td>\n",
       "      <td>0.0</td>\n",
       "      <td>0.0</td>\n",
       "      <td>1.0</td>\n",
       "      <td>0.0</td>\n",
       "      <td>0.0</td>\n",
       "      <td>0.0</td>\n",
       "      <td>...</td>\n",
       "      <td>0.0</td>\n",
       "      <td>0.0</td>\n",
       "      <td>0.0</td>\n",
       "      <td>0.0</td>\n",
       "      <td>0.0</td>\n",
       "      <td>0.0</td>\n",
       "      <td>0.0</td>\n",
       "      <td>0.0</td>\n",
       "      <td>0.0</td>\n",
       "      <td>0.0</td>\n",
       "    </tr>\n",
       "  </tbody>\n",
       "</table>\n",
       "<p>5 rows × 22 columns</p>\n",
       "</div>"
      ],
      "text/plain": [
       "   movie_id                        title                         genre  year  \\\n",
       "0         1                    Toy Story   Animation|Children's|Comedy  1995   \n",
       "1         2                      Jumanji  Adventure|Children's|Fantasy  1995   \n",
       "2         3             Grumpier Old Men                Comedy|Romance  1995   \n",
       "3         4            Waiting to Exhale                  Comedy|Drama  1995   \n",
       "4         5  Father of the Bride Part II                        Comedy  1995   \n",
       "\n",
       "   Genre_Animation  Genre_Children's  Genre_Comedy  Genre_Adventure  \\\n",
       "0              1.0               1.0           1.0              0.0   \n",
       "1              0.0               1.0           0.0              1.0   \n",
       "2              0.0               0.0           1.0              0.0   \n",
       "3              0.0               0.0           1.0              0.0   \n",
       "4              0.0               0.0           1.0              0.0   \n",
       "\n",
       "   Genre_Fantasy  Genre_Romance  ...  Genre_Crime  Genre_Thriller  \\\n",
       "0            0.0            0.0  ...          0.0             0.0   \n",
       "1            1.0            0.0  ...          0.0             0.0   \n",
       "2            0.0            1.0  ...          0.0             0.0   \n",
       "3            0.0            0.0  ...          0.0             0.0   \n",
       "4            0.0            0.0  ...          0.0             0.0   \n",
       "\n",
       "   Genre_Horror  Genre_Sci-Fi  Genre_Documentary  Genre_War  Genre_Musical  \\\n",
       "0           0.0           0.0                0.0        0.0            0.0   \n",
       "1           0.0           0.0                0.0        0.0            0.0   \n",
       "2           0.0           0.0                0.0        0.0            0.0   \n",
       "3           0.0           0.0                0.0        0.0            0.0   \n",
       "4           0.0           0.0                0.0        0.0            0.0   \n",
       "\n",
       "   Genre_Mystery  Genre_Film-Noir  Genre_Western  \n",
       "0            0.0              0.0            0.0  \n",
       "1            0.0              0.0            0.0  \n",
       "2            0.0              0.0            0.0  \n",
       "3            0.0              0.0            0.0  \n",
       "4            0.0              0.0            0.0  \n",
       "\n",
       "[5 rows x 22 columns]"
      ]
     },
     "execution_count": 26,
     "metadata": {},
     "output_type": "execute_result"
    }
   ],
   "source": [
    "movies_dummies = movies.join(dummies.add_prefix('Genre_'))\n",
    "movies_dummies.head()"
   ]
  },
  {
   "cell_type": "code",
   "execution_count": 27,
   "id": "3e08bacb",
   "metadata": {},
   "outputs": [
    {
     "data": {
      "text/plain": [
       "movie_id               int64\n",
       "title                 object\n",
       "genre                 object\n",
       "year                   int32\n",
       "Genre_Animation      float64\n",
       "Genre_Children's     float64\n",
       "Genre_Comedy         float64\n",
       "Genre_Adventure      float64\n",
       "Genre_Fantasy        float64\n",
       "Genre_Romance        float64\n",
       "Genre_Drama          float64\n",
       "Genre_Action         float64\n",
       "Genre_Crime          float64\n",
       "Genre_Thriller       float64\n",
       "Genre_Horror         float64\n",
       "Genre_Sci-Fi         float64\n",
       "Genre_Documentary    float64\n",
       "Genre_War            float64\n",
       "Genre_Musical        float64\n",
       "Genre_Mystery        float64\n",
       "Genre_Film-Noir      float64\n",
       "Genre_Western        float64\n",
       "dtype: object"
      ]
     },
     "execution_count": 27,
     "metadata": {},
     "output_type": "execute_result"
    }
   ],
   "source": [
    "movies_dummies.dtypes"
   ]
  },
  {
   "cell_type": "code",
   "execution_count": null,
   "id": "fe686338",
   "metadata": {},
   "outputs": [],
   "source": []
  }
 ],
 "metadata": {
  "kernelspec": {
   "display_name": "Python 3 (ipykernel)",
   "language": "python",
   "name": "python3"
  },
  "language_info": {
   "codemirror_mode": {
    "name": "ipython",
    "version": 3
   },
   "file_extension": ".py",
   "mimetype": "text/x-python",
   "name": "python",
   "nbconvert_exporter": "python",
   "pygments_lexer": "ipython3",
   "version": "3.9.7"
  }
 },
 "nbformat": 4,
 "nbformat_minor": 5
}
