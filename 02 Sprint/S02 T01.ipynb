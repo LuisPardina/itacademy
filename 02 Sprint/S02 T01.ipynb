{
 "cells": [
  {
   "cell_type": "markdown",
   "id": "6274651b",
   "metadata": {},
   "source": [
    "# S02 T01: Estructura de dades\n",
    "## Luis Pardina - Data Science - 29/03/2022"
   ]
  },
  {
   "cell_type": "markdown",
   "id": "02349216",
   "metadata": {},
   "source": [
    "***Exercici 1*** : Crea una llista que agrupi els mesos de l’any en trimestres (1T: Gener, Febrer i Març, 2T: Abril, Maig, Juny...), és a dir, una llista amb 4 llistes dins."
   ]
  },
  {
   "cell_type": "code",
   "execution_count": 4,
   "id": "a52dc961",
   "metadata": {},
   "outputs": [],
   "source": [
    "mesos_any = [['Gener', 'Febrer', 'Març'],\n",
    "             ['Abril', 'Maig', 'Juny'],\n",
    "             ['Juliol', 'Agost', 'Setembre'], \n",
    "             ['Octubre', 'Novembre', 'Desembre']]"
   ]
  },
  {
   "cell_type": "markdown",
   "id": "01f64138",
   "metadata": {},
   "source": [
    "***Exercici 2***: Crea un codi que et permeti accedir a...\n",
    "- El segon mes del primer trimestre\n",
    "- Els mesos del primer trimestre\n",
    "- Setembre i octubre"
   ]
  },
  {
   "cell_type": "code",
   "execution_count": 5,
   "id": "7d91f7de",
   "metadata": {},
   "outputs": [
    {
     "name": "stdout",
     "output_type": "stream",
     "text": [
      "El mes de Febrer\n",
      "El primer trimestre son Gener, Febrer i Març\n",
      "Els mesos de Setembre i Octubre\n"
     ]
    }
   ],
   "source": [
    "print(\"El mes de {0}\".format(mesos_any[0][1]))  #primer trimestre index 0, segon mes index 1\n",
    "a,b,c = mesos_any[0]   #primer trimestre index 0\n",
    "print(\"El primer trimestre son {0}, {1} i {2}\".format(a,b,c))\n",
    "print(\"Els mesos de {0} i {1}\".format(mesos_any[2][2], mesos_any[3][0])) #3er trim 3er mes, 4rt trim 1er mes"
   ]
  },
  {
   "cell_type": "markdown",
   "id": "6cad23e3",
   "metadata": {},
   "source": [
    "***Exercici 3***: Crea una llista amb nombres desordenats i respon a les següents preguntes...\n",
    "\n",
    "    - Quants números hi ha?\n",
    "    - Quantes vegades apareix el número 3\n",
    "    - Quantes vegades apareixen els nombres 3 i 4?\n",
    "    - Quin és el número més gran?\n",
    "    - Quins són els 3 números més petits?\n",
    "    - Quin és el rang d’aquesta llista?\n"
   ]
  },
  {
   "cell_type": "code",
   "execution_count": 3,
   "id": "179c5120",
   "metadata": {},
   "outputs": [
    {
     "name": "stdout",
     "output_type": "stream",
     "text": [
      "[6, 13, 6, 3, 2, 11, 18, 2, 6, 3, 13, 13, 18, 9, 13, 13, 0, 14, 19, 5, 17, 5, 2, 7, 17]\n",
      "Hi ha 13 numeros diferents\n",
      "El 3 apareix 2 vegades\n",
      "El 3 i el 4 apareixen 2 vegades\n",
      "El numero més gran es el 19\n",
      "Llista dels 3 numeros més petits: [0, 2, 3]\n",
      "El rang d'aquesta llista es: 25\n"
     ]
    }
   ],
   "source": [
    "# per a l'exercici genero amb random una llista de 25 nombres sencers entre 0 i 19 que es poden repetir\n",
    "\n",
    "from numpy import random\n",
    "x = list(random.randint(20, size=(25)))\n",
    "\n",
    "print(x)\n",
    "\n",
    "#vaig resolent les preguntes:\n",
    "def contar_numeros_distintos(lista):\n",
    "    \"\"\"Retorna quants numeros diferents hi ha a la llista de numeros sencers\"\"\"\n",
    "    aux = lista.copy()\n",
    "    aux.sort()           #creo una copia de la llista i l'ordeno de petit a gran\n",
    "    n = 0\n",
    "    for (i,v) in enumerate(aux):\n",
    "        if i == 0:\n",
    "            n = 1    \n",
    "        elif v != aux[i-1]:\n",
    "            n +=1   # només si es diferent a l'anterior incremento el comptador\n",
    "    return n\n",
    "\n",
    "print(\"Hi ha {0} numeros diferents\".format(contar_numeros_distintos(x)))\n",
    "print(\"El 3 apareix {0} vegades\".format(x.count(3)))                      #mètode count(item)\n",
    "print(\"El 3 i el 4 apareixen {0} vegades\".format(x.count(3)+x.count(4)))\n",
    "print(\"El numero més gran es el {0}\".format(max(x)))                      #funció max(llista)\n",
    "\n",
    "\n",
    "def devolver_minimos(lista, num_min):\n",
    "    \"\"\"Retorna els n nombres més petits d'una llista\"\"\"\n",
    "    aux = lista.copy()\n",
    "    aux.sort()\n",
    "    lista_min = []\n",
    "    n = 0\n",
    "    for (i,v) in enumerate(aux):        \n",
    "        if i == 0:\n",
    "            n = 1\n",
    "            lista_min.append(v)     #mètode append(item)\n",
    "        elif v != aux[i-1]:\n",
    "            n +=1                   \n",
    "            lista_min.append(v)     #només si es diferent a l'anterior l'afegeixo\n",
    "        if n == num_min:\n",
    "            break                   #quan ja tinc els n numeros surto del bucle\n",
    "    return lista_min\n",
    "\n",
    "print(\"Llista dels 3 numeros més petits:\", devolver_minimos(x, 3))\n",
    "print(\"El rang d'aquesta llista es:\", len(x))                           #funció len(llista)"
   ]
  },
  {
   "cell_type": "markdown",
   "id": "c3b4d928",
   "metadata": {},
   "source": [
    "***Exercici 4***: Crea un diccionari de la següent forma i respon a les preguntes.\n",
    "\n",
    "compra = { \"Pomes\" : {\"Qty\": 5, \"€\": 0.42}, \"Peres\" : {\"Qty\": 3, \"€\": 0.66} }\n",
    "\n",
    "    - Afegeix alguna fruita més\n",
    "    - Quant han costat les peres en total?\n",
    "    - Quantes fruites hem comprat en total?\n",
    "    - Quina és la fruita més cara?\n"
   ]
  },
  {
   "cell_type": "code",
   "execution_count": 6,
   "id": "6fbe24a0",
   "metadata": {},
   "outputs": [
    {
     "name": "stdout",
     "output_type": "stream",
     "text": [
      "Les peres costen 1.98 €/kg\n",
      "Hem comprat en total 3 fruites\n",
      "Hem comprat en total 12 peces de fruita\n",
      "La fruita més cara (Kiwis) val 0.75 €/kg\n"
     ]
    }
   ],
   "source": [
    "compra = { \"Pomes\" : {\"Qty\": 5, \"€\": 0.42}, \"Peres\" : {\"Qty\": 3, \"€\": 0.66} }\n",
    "\n",
    "kiwis = {\"Qty\": 4, \"€\": 0.75}    #diccionari amb keys \"Qty\" i \"€\"\n",
    "compra[\"Kiwis\"] = kiwis          #hi afegeixo a compra la key \"Kiwis\" que apunta al diccionari anterior  \n",
    "\n",
    "preu_peres = compra.get(\"Peres\").get(\"Qty\") * compra.get(\"Peres\").get(\"€\")   #métode get(\"key\") aplicat 2 vegades\n",
    "print(\"Les peres costen {0} €/kg\".format(preu_peres))\n",
    "\n",
    "print(\"Hem comprat en total {0} fruites\".format(len(compra)))                #métode len(diccionari)\n",
    "total_peces = 0\n",
    "for i in compra:                                                             #recórrer tota la compra\n",
    "    total_peces += compra[i].get(\"Qty\")                                      #obtenir la quantitat de cada fruita\n",
    "print(\"Hem comprat en total {0} peces de fruita\".format(total_peces))\n",
    "\n",
    "preu_max = 0\n",
    "for i in compra:                                                             #recórrer tota la compra\n",
    "    if compra[i].get(\"€\") > preu_max:                                        #buscar el preu més alt                                         \n",
    "        preu_max= compra[i].get(\"€\")\n",
    "        fruita = i\n",
    "print(\"La fruita més cara ({0}) val {1} €/kg\".format(fruita,preu_max))     "
   ]
  }
 ],
 "metadata": {
  "kernelspec": {
   "display_name": "Python 3 (ipykernel)",
   "language": "python",
   "name": "python3"
  },
  "language_info": {
   "codemirror_mode": {
    "name": "ipython",
    "version": 3
   },
   "file_extension": ".py",
   "mimetype": "text/x-python",
   "name": "python",
   "nbconvert_exporter": "python",
   "pygments_lexer": "ipython3",
   "version": "3.9.7"
  }
 },
 "nbformat": 4,
 "nbformat_minor": 5
}
