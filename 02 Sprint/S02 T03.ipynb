{
 "cells": [
  {
   "cell_type": "markdown",
   "id": "6fe18720",
   "metadata": {},
   "source": [
    "# S02 T03: Estructura de control\n",
    "## Luis Pardina - Data Science - 30/03/2022"
   ]
  },
  {
   "cell_type": "markdown",
   "id": "4819e3fa",
   "metadata": {},
   "source": [
    "***Exercici1***: L'exercici consisteix a crear un programa que et classifiqui una variable numèrica en funció de l’escala Suspès/Aprovat/Notable/Excel·lent. "
   ]
  },
  {
   "cell_type": "code",
   "execution_count": 1,
   "id": "2ea30efd",
   "metadata": {},
   "outputs": [
    {
     "name": "stdout",
     "output_type": "stream",
     "text": [
      "Quina nota has tret?9\n",
      "Un 9.0 és un excel.lent\n"
     ]
    }
   ],
   "source": [
    "nota= float(input(\"Quina nota has tret?\"))\n",
    "\n",
    "if nota < 0 or nota > 10:\n",
    "    print(\"La nota ha d'esser entre 0 i 10\")\n",
    "else:\n",
    "    if nota < 5:\n",
    "        resultat = \"suspens\"\n",
    "    elif nota <7:\n",
    "        resultat = \"aprovat\"    \n",
    "    elif nota < 9:\n",
    "        resultat = \"notable\"\n",
    "    else:\n",
    "        resultat = \"excel.lent\"\n",
    "    print(\"Un {0} és un {1}\".format(nota, resultat))"
   ]
  },
  {
   "cell_type": "markdown",
   "id": "903d7f90",
   "metadata": {},
   "source": [
    "***Exercici 2***: Utilitzant el següent tutorial Programiz: Python Input, Output and Import crea un programa que et pregunti dos números. T’ha de mostrar un missatge dient si el primer és més gran, el segon és més gran o són iguals."
   ]
  },
  {
   "cell_type": "code",
   "execution_count": 2,
   "id": "493aa4cc",
   "metadata": {},
   "outputs": [
    {
     "name": "stdout",
     "output_type": "stream",
     "text": [
      "Primer numero:8\n",
      "Segon numero:5\n",
      "8.0 és més gran que 5.0\n"
     ]
    }
   ],
   "source": [
    "primer = float(input(\"Primer numero:\"))\n",
    "segon = float(input(\"Segon numero:\"))\n",
    "\n",
    "if primer > segon:\n",
    "    resultat = \"més gran que\"\n",
    "elif primer == segon:\n",
    "    resultat = \"igual a\"\n",
    "else:\n",
    "    resultat = \"més petit que\"\n",
    "print(\"{0} és {1} {2}\".format(primer, resultat, segon))"
   ]
  },
  {
   "cell_type": "markdown",
   "id": "0d95d320",
   "metadata": {},
   "source": [
    "***Exercici 3***: Crea un programa que et pregunti el teu nom, i et demani un número. Si el número és 0, hauria de mostrar un missatge d’error. En cas contrari, hauria de mostrar el nom repetit tants cops com indiqui el número. Per exemple, “Joan Joan Joan”"
   ]
  },
  {
   "cell_type": "code",
   "execution_count": 3,
   "id": "959d5b80",
   "metadata": {},
   "outputs": [
    {
     "name": "stdout",
     "output_type": "stream",
     "text": [
      "Digues el teu nom:Luis\n",
      "Digues un numero:5\n",
      "Luis Luis Luis Luis Luis \n"
     ]
    }
   ],
   "source": [
    "nom = input(\"Digues el teu nom:\")\n",
    "numero = int(input(\"Digues un numero:\"))\n",
    "\n",
    "if numero == 0:\n",
    "    raise ValueError\n",
    "else:\n",
    "    print((nom+\" \")*numero)"
   ]
  },
  {
   "cell_type": "markdown",
   "id": "26f60b04",
   "metadata": {},
   "source": [
    "***Exercici 4***: Crea un programa que donada una llista qualsevol, et digui si es simètrica o no. Si ho és, que et digui quants elements té."
   ]
  },
  {
   "cell_type": "code",
   "execution_count": 4,
   "id": "1ff66c57",
   "metadata": {},
   "outputs": [
    {
     "name": "stdout",
     "output_type": "stream",
     "text": [
      "La llista és simètrica i té 5 elements\n"
     ]
    }
   ],
   "source": [
    "lista = [12,14,16,14,12]\n",
    "inversa = lista.copy()        #s'ha da fer una copia abans d'invertir-la\n",
    "inversa.reverse()\n",
    "\n",
    "if lista == inversa:\n",
    "    print(\"La llista és simètrica i té {0} elements\".format(len(lista)))\n",
    "else:\n",
    "    print(\"La llista no és simètrica\")"
   ]
  },
  {
   "cell_type": "markdown",
   "id": "b15dcef2",
   "metadata": {},
   "source": [
    "***Exercici 5***: Crea un programa que donada una llista, et digui quants números coincideixen amb la seva posició. Per exemple [3,4,2,0,2,3,6] el 2 i el 6 coincideixen."
   ]
  },
  {
   "cell_type": "code",
   "execution_count": 5,
   "id": "2875bc65",
   "metadata": {},
   "outputs": [
    {
     "name": "stdout",
     "output_type": "stream",
     "text": [
      "Coincideixen índex i valor 2 vegades a les posicions [2, 6]\n"
     ]
    }
   ],
   "source": [
    "lista = [3,4,2,0,2,3,6]\n",
    "coincideix = []\n",
    "for i,v in enumerate(lista):\n",
    "    if i == v:\n",
    "        coincideix.append(v)\n",
    "print(\"Coincideixen índex i valor {0} vegades a les posicions {1}\".format(len(coincideix),coincideix))"
   ]
  }
 ],
 "metadata": {
  "kernelspec": {
   "display_name": "Python 3 (ipykernel)",
   "language": "python",
   "name": "python3"
  },
  "language_info": {
   "codemirror_mode": {
    "name": "ipython",
    "version": 3
   },
   "file_extension": ".py",
   "mimetype": "text/x-python",
   "name": "python",
   "nbconvert_exporter": "python",
   "pygments_lexer": "ipython3",
   "version": "3.9.7"
  }
 },
 "nbformat": 4,
 "nbformat_minor": 5
}
