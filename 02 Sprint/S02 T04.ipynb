{
 "cells": [
  {
   "cell_type": "markdown",
   "id": "9aac84e1",
   "metadata": {},
   "source": [
    "# S02 T04: Pràctica amb programació numèrica\n",
    "## Luis Pardina - Data Science - 30/03/2022"
   ]
  },
  {
   "cell_type": "markdown",
   "id": "f062af64",
   "metadata": {},
   "source": [
    "***Exercici 1***: Crea una funció que donat un Array d’una dimensió, et faci un resum estadístic bàsic de les dades. Si detecta que l’array té més d’una dimensió, ha de mostrar un missatge d’error"
   ]
  },
  {
   "cell_type": "code",
   "execution_count": 1,
   "id": "a9aba1fa",
   "metadata": {},
   "outputs": [
    {
     "name": "stdout",
     "output_type": "stream",
     "text": [
      "Matriu 1d amb 11 elements, max = 49, min = 5\n",
      "Mitja = 22.000000, Mitjana = 18.000000, Desvest = 12.898203\n",
      "\n",
      "La matriu te més d'1 dimensió!!\n",
      "\n"
     ]
    }
   ],
   "source": [
    "import numpy as np\n",
    "from numpy import random\n",
    "\n",
    "#genero una array d'1 dimensió amb l'ajuda de random amb n sencers entre 0 i 49\n",
    "n = random.randint(10,20)   # n entre 10 i 19\n",
    "matriu = np.array(random.randint(50, size=(n)))\n",
    "\n",
    "matriu_dolenta = np.array([[1,2],[3,4]])\n",
    "\n",
    "def resum(arr):\n",
    "    if arr.ndim > 1:\n",
    "        print(\"\\nLa matriu te més d'1 dimensió!!\\n\")\n",
    "    else:\n",
    "        num_elem = len(arr)\n",
    "        maxim = arr.max()\n",
    "        minim = arr.min()\n",
    "        mitja = np.mean(arr)\n",
    "        mitjana = np.median(arr)\n",
    "        desviacio = arr.std()\n",
    "        print(\"Matriu 1d amb {0} elements, max = {1}, min = {2}\".format(num_elem, maxim, minim))\n",
    "        print(\"Mitja = {0:1f}, Mitjana = {1:1f}, Desvest = {2:1f}\".format(mitja, mitjana, desviacio))\n",
    "\n",
    "resum(matriu)\n",
    "resum(matriu_dolenta)"
   ]
  },
  {
   "cell_type": "markdown",
   "id": "c60718a2",
   "metadata": {},
   "source": [
    "***Exercici 2***: Crea una funció que et generi un quadrat NxN de nombres aleatoris entre el 0 i el 100"
   ]
  },
  {
   "cell_type": "code",
   "execution_count": 2,
   "id": "580573e9",
   "metadata": {},
   "outputs": [
    {
     "name": "stdout",
     "output_type": "stream",
     "text": [
      "[[23  3 85  3 49 17 85 94 43]\n",
      " [87 49 19 92  9 32 64 44 61]\n",
      " [95 94 70 97 97 67 39 93 98]\n",
      " [21 88 47 96 54 20 99  2 84]\n",
      " [15 20 47 71 56 70 22 50 22]\n",
      " [34 20 39 17 90 95 84 49 69]\n",
      " [24 68 17 43 36 34 67 36 43]\n",
      " [68 56 24 60 25  2 84 84 97]\n",
      " [59  0 45 41 67 59 90 75 79]]\n"
     ]
    }
   ],
   "source": [
    "dimensio = random.randint(5,11)   # n entre 5 i 10\n",
    "def quadrat(n):\n",
    "    return np.random.randint(0, 100, (n,n))\n",
    "\n",
    "print(quadrat(dimensio))"
   ]
  },
  {
   "cell_type": "markdown",
   "id": "f81c87f5",
   "metadata": {},
   "source": [
    "***Exercici 3***: Crea una funció que donada una taula de dues dimensions, et calculi els totals per fila i els totals per columna. "
   ]
  },
  {
   "cell_type": "code",
   "execution_count": 3,
   "id": "54841f3c",
   "metadata": {},
   "outputs": [
    {
     "name": "stdout",
     "output_type": "stream",
     "text": [
      "[[96 58 51]\n",
      " [30 39  2]\n",
      " [80 97 66]]\n",
      "Sumes columnes: [206 194 119], sumes files: [205  71 243]\n"
     ]
    }
   ],
   "source": [
    "test = np.random.randint(0, 100, (3,3))\n",
    "print(test)\n",
    "\n",
    "def totals_fila_i_columna(arr):\n",
    "    totfil = arr.sum(axis=0)             #mètode sum axis 0  \n",
    "    totcol = arr.sum(axis=1)             #mètode sum axis 1\n",
    "    return totfil, totcol\n",
    "\n",
    "a,b = totals_fila_i_columna(test)\n",
    "print(\"Sumes columnes: {0}, sumes files: {1}\".format(a,b))"
   ]
  },
  {
   "cell_type": "markdown",
   "id": "65d754b3",
   "metadata": {},
   "source": [
    "***Exercici 4***: Implementa manualment una funció que calculi el coeficient de correlació. Informa’t-en sobre els seus usos i interpretació."
   ]
  },
  {
   "cell_type": "code",
   "execution_count": 4,
   "id": "e0561b0e",
   "metadata": {},
   "outputs": [
    {
     "name": "stdout",
     "output_type": "stream",
     "text": [
      "0.9998733131178795\n",
      "[[1.         0.99987331]\n",
      " [0.99987331 1.        ]]\n"
     ]
    }
   ],
   "source": [
    "a = np.array([2,4,6,8,10,12,14,16,18,20])\n",
    "b = np.array([4.85,9.15,12.75,17.25,20.95,25.05,28.75,33.25,36.85,41.15])\n",
    "   \n",
    "def correl(data1,data2):      \n",
    "    avx = data1.mean() #mitja de primera array\n",
    "    avy = data2.mean() #mitja segona array\n",
    "\n",
    "    x = data1 - avx    #x contindrá ara el valors menys la mitja\n",
    "    y = data2 - avy    #y contindrà ara els valors menys la mitja\n",
    "\n",
    "    sxy = sum(x*y)/(len(x)-1)          #covariança x i y\n",
    "    sx = (sum(x*x)/(len(x)-1)) ** 0.5  #variança x\n",
    "    sy = (sum(y*y)/(len(y)-1)) ** 0.5  #variança y\n",
    "\n",
    "    return sxy / (sx * sy)             #correlació\n",
    "\n",
    "print(correl(a,b))\n",
    "print(np.corrcoef(a,b))"
   ]
  },
  {
   "cell_type": "code",
   "execution_count": null,
   "id": "2c2a73a7",
   "metadata": {},
   "outputs": [],
   "source": []
  }
 ],
 "metadata": {
  "kernelspec": {
   "display_name": "Python 3 (ipykernel)",
   "language": "python",
   "name": "python3"
  },
  "language_info": {
   "codemirror_mode": {
    "name": "ipython",
    "version": 3
   },
   "file_extension": ".py",
   "mimetype": "text/x-python",
   "name": "python",
   "nbconvert_exporter": "python",
   "pygments_lexer": "ipython3",
   "version": "3.9.7"
  }
 },
 "nbformat": 4,
 "nbformat_minor": 5
}
