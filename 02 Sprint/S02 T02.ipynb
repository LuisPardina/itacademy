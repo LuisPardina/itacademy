{
 "cells": [
  {
   "cell_type": "markdown",
   "id": "7f0e4b1b",
   "metadata": {},
   "source": [
    "# S02 T02: Estructura d'una Matriu\n",
    "## Luis Pardina - Data Science - 29/03/2022"
   ]
  },
  {
   "cell_type": "markdown",
   "id": "9371c87f",
   "metadata": {},
   "source": [
    "***- Exercici 1***: Crea un np.array d'una dimensió, que inclogui l'almenys 8 nombres sencers, data type int64. Mostra la dimensió i la forma de la matriu. . "
   ]
  },
  {
   "cell_type": "code",
   "execution_count": 7,
   "id": "ff84930b",
   "metadata": {},
   "outputs": [
    {
     "name": "stdout",
     "output_type": "stream",
     "text": [
      "Hem creat la matriu:\n",
      " [ 8 30 30 45 15  7 41 49 39  4 26 14 42 11  1 12]\n",
      "Dimensió: 1\n",
      "Forma:  (16,)\n"
     ]
    }
   ],
   "source": [
    "import numpy as np\n",
    "from numpy import random\n",
    "\n",
    "#genero una array dtype int64 amb l'ajuda de random amb n sencers entre 0 i 49\n",
    "n = random.randint(10,20)   # n entre 10 i 19\n",
    "matriu = np.array(random.randint(50, size=(n)), dtype= 'int64')\n",
    "\n",
    "print(\"Hem creat la matriu:\\n\", matriu)\n",
    "print(\"Dimensió:\", matriu.ndim)            #atribut ndim dóna dimensió de la matriu\n",
    "print(\"Forma: \", matriu.shape)             #atribut shape dóna forma de la matriu"
   ]
  },
  {
   "cell_type": "markdown",
   "id": "d72f5cdb",
   "metadata": {},
   "source": [
    "***- Exercici 2***: De la matriu de l'exercici 1, calcula el valor mitjà dels valors introduïts i resta la mitjana resultant de cada un dels valors de la matriu"
   ]
  },
  {
   "cell_type": "code",
   "execution_count": 8,
   "id": "b1f6fe3e",
   "metadata": {},
   "outputs": [
    {
     "name": "stdout",
     "output_type": "stream",
     "text": [
      "\n",
      "Mitja: 23.375\n",
      "Valor menys mitja [-15.375   6.625   6.625  21.625  -8.375 -16.375  17.625  25.625  15.625\n",
      " -19.375   2.625  -9.375  18.625 -12.375 -22.375 -11.375]\n"
     ]
    }
   ],
   "source": [
    "mitja = matriu.mean()                      #càlcul del valor mig amb mètode mean\n",
    "print(\"\\nMitja:\", mitja)\n",
    "matriu = matriu - mitja                    #a cada escalar li restem la mitja\n",
    "print(\"Valor menys mitja\", matriu)   "
   ]
  },
  {
   "cell_type": "markdown",
   "id": "e6f90cee",
   "metadata": {},
   "source": [
    "***- Exercici 3***: Crea una matriu bidimensional amb una forma de 5 x 5. Extreu el valor màxim de la matriu, i els valors màxims de cadascun dels seus eixos."
   ]
  },
  {
   "cell_type": "code",
   "execution_count": 4,
   "id": "4b9a7323",
   "metadata": {
    "scrolled": true
   },
   "outputs": [
    {
     "name": "stdout",
     "output_type": "stream",
     "text": [
      "\n",
      "Matriu 5 x 5:\n",
      " [[ 74 187 166 189  71]\n",
      " [179   9 172 164  95]\n",
      " [ 81 171 124  88 119]\n",
      " [ 53 141 187 187  25]\n",
      " [142  69 188 195  75]]\n",
      "\n",
      "El valor màxim de la matriu és 195\n",
      "Eix 0 màxims: [179 187 188 195 119]\n",
      "Eix 1 màxims: [189 179 171 187 195]\n"
     ]
    }
   ],
   "source": [
    "#genero una array dtype int64 amb l'ajuda de random per generar 25 sencers entre 0 i 199\n",
    "matriu_1d = np.array(random.randint(200, size=(25)), dtype= 'int64')\n",
    "aux = matriu_1d.reshape(5,5)   #aprofito mètode reshape per a generar una vista de 5 x 5\n",
    "matriu_2d = aux.copy()         #‼faig copia de la vista\n",
    "\n",
    "print(\"\\nMatriu 5 x 5:\\n\", matriu_2d)\n",
    "print(\"\\nEl valor màxim de la matriu és {0}\".format(matriu_2d.max()))  #mètode max\n",
    "print(\"Eix 0 màxims: {0}\".format(matriu_2d.max(axis=0)))               #mètode max axis 0  \n",
    "print(\"Eix 1 màxims: {0}\".format(matriu_2d.max(axis=1)))               #mètode max axis 1"
   ]
  },
  {
   "cell_type": "markdown",
   "id": "bfb950c3",
   "metadata": {},
   "source": [
    "***Exercici 5***: Utilitza la Indexació per extreure els valors d'una columna i una fila de la matriu. I suma els seus valors."
   ]
  },
  {
   "cell_type": "code",
   "execution_count": 10,
   "id": "f34a54d7",
   "metadata": {},
   "outputs": [
    {
     "name": "stdout",
     "output_type": "stream",
     "text": [
      "La suma de la fila 2 i la columna 3 dóna 1406\n"
     ]
    }
   ],
   "source": [
    "fila = 2                 #selecciono la tercera fila\n",
    "columna = 3              #selecciono la quarta columna\n",
    "suma_fila = 0\n",
    "suma_columna = 0\n",
    "\n",
    "for y in matriu_2d[fila,:]:\n",
    "    suma_fila += y\n",
    "for x in matriu_2d[:,columna]:\n",
    "    suma_columna += x\n",
    "print(\"La suma de la fila {0} i la columna {1} dóna {2}\".format(fila, columna, suma_fila + suma_columna))"
   ]
  },
  {
   "cell_type": "markdown",
   "id": "8755ff93",
   "metadata": {},
   "source": [
    "***Exercici 6***: Mask la matriu anterior, realitzeu un càlcul booleà vectoritzat, agafant cada element i comprovant si es divideix uniformement per quatre. Això retorna una matriu de mask de la mateixa forma amb els resultats elementals del càlcul"
   ]
  },
  {
   "cell_type": "code",
   "execution_count": 12,
   "id": "037310c3",
   "metadata": {},
   "outputs": [
    {
     "name": "stdout",
     "output_type": "stream",
     "text": [
      "[[False False False False False]\n",
      " [False False  True  True False]\n",
      " [False False  True  True False]\n",
      " [False False False False False]\n",
      " [False False  True False False]]\n"
     ]
    }
   ],
   "source": [
    "print(matriu_2d %4 == 0)"
   ]
  },
  {
   "cell_type": "markdown",
   "id": "980a46ad",
   "metadata": {},
   "source": [
    "***Exercici 7***: A continuació, utilitzeu aquesta màscara per indexar a la matriu de números original. Això fa que la matriu perdi la seva forma original, reduint-la a una dimensió, però encara obteniu les dades que esteu cercant"
   ]
  },
  {
   "cell_type": "code",
   "execution_count": 13,
   "id": "98ca9f90",
   "metadata": {},
   "outputs": [
    {
     "name": "stdout",
     "output_type": "stream",
     "text": [
      "[172 164 124  88 188]\n"
     ]
    }
   ],
   "source": [
    "print(matriu_2d[matriu_2d % 4 == 0])"
   ]
  }
 ],
 "metadata": {
  "kernelspec": {
   "display_name": "Python 3 (ipykernel)",
   "language": "python",
   "name": "python3"
  },
  "language_info": {
   "codemirror_mode": {
    "name": "ipython",
    "version": 3
   },
   "file_extension": ".py",
   "mimetype": "text/x-python",
   "name": "python",
   "nbconvert_exporter": "python",
   "pygments_lexer": "ipython3",
   "version": "3.9.7"
  }
 },
 "nbformat": 4,
 "nbformat_minor": 5
}
