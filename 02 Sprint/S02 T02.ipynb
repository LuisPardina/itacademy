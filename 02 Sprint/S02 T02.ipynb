{
 "cells": [
  {
   "cell_type": "markdown",
   "id": "7f0e4b1b",
   "metadata": {},
   "source": [
    "# S02 T02: Estructura d'una Matriu\n",
    "## Luis Pardina - Data Science - 29/03/2022"
   ]
  },
  {
   "cell_type": "markdown",
   "id": "9371c87f",
   "metadata": {},
   "source": [
    "***- Exercici 1***: Crea un np.array d'una dimensió, que inclogui l'almenys 8 nombres sencers, data type int64. Mostra la dimensió i la forma de la matriu. . "
   ]
  },
  {
   "cell_type": "code",
   "execution_count": 1,
   "id": "ff84930b",
   "metadata": {},
   "outputs": [
    {
     "name": "stdout",
     "output_type": "stream",
     "text": [
      "Hem creat la matriu:\n",
      " [29 48 21  1 21 16 28 17 10 44]\n",
      "Dimensió: 1\n",
      "Forma:  (10,)\n"
     ]
    }
   ],
   "source": [
    "import numpy as np\n",
    "from numpy import random\n",
    "\n",
    "#genero una array dtype int64 amb l'ajuda de random per generar 10 sencers entre 0 i 49\n",
    "matriu = np.array(random.randint(50, size=(10)), dtype= 'int64')\n",
    "\n",
    "print(\"Hem creat la matriu:\\n\", matriu)\n",
    "print(\"Dimensió:\", matriu.ndim)            #atribut ndim dóna dimensió de la matriu\n",
    "print(\"Forma: \", matriu.shape)             #atribut shape dóna forma de la matriu"
   ]
  },
  {
   "cell_type": "markdown",
   "id": "d72f5cdb",
   "metadata": {},
   "source": [
    "***- Exercici 2***: De la matriu de l'exercici 1, calcula el valor mitjà dels valors introduïts i resta la mitjana resultant de cada un dels valors de la matriu"
   ]
  },
  {
   "cell_type": "code",
   "execution_count": 2,
   "id": "b1f6fe3e",
   "metadata": {},
   "outputs": [
    {
     "name": "stdout",
     "output_type": "stream",
     "text": [
      "\n",
      "Mitja: 23.5\n",
      "Valor menys mitja [  6  25  -2 -22  -2  -7   5  -6 -13  21]\n"
     ]
    }
   ],
   "source": [
    "mitja = np.mean(matriu)                    #càlcul del valor mig\n",
    "print(\"\\nMitja:\", mitja)\n",
    "for (i,v) in enumerate(matriu):\n",
    "    matriu[i] = v - int(mitja)             #a cada escalar li resto la mitja\n",
    "print(\"Valor menys mitja\", matriu)   "
   ]
  },
  {
   "cell_type": "markdown",
   "id": "e6f90cee",
   "metadata": {},
   "source": [
    "***- Exercici 3***: Crea una matriu bidimensional amb una forma de 5 x 5. Extreu el valor màxim de la matriu, i els valors màxims de cadascun dels seus eixos."
   ]
  },
  {
   "cell_type": "code",
   "execution_count": 3,
   "id": "4b9a7323",
   "metadata": {
    "scrolled": true
   },
   "outputs": [
    {
     "name": "stdout",
     "output_type": "stream",
     "text": [
      "\n",
      "Matriu 5 x 5:\n",
      " [[ 48  76  96  91 186]\n",
      " [ 57  62 187 158   5]\n",
      " [195  32 185  85  22]\n",
      " [ 76  11 191  82  61]\n",
      " [ 26  34  40 140   1]]\n",
      "El valor màxim de la matriu és 195\n",
      "Fila 0 màxim: 186\n",
      "Fila 1 màxim: 187\n",
      "Fila 2 màxim: 195\n",
      "Fila 3 màxim: 191\n",
      "Fila 4 màxim: 140\n",
      "Columna 0 màxim: 195\n",
      "Columna 1 màxim: 76\n",
      "Columna 2 màxim: 191\n",
      "Columna 3 màxim: 158\n",
      "Columna 4 màxim: 186\n"
     ]
    }
   ],
   "source": [
    "#genero una array dtype int64 amb l'ajuda de random per generar 25 sencers entre 0 i 49\n",
    "matriu1d = np.array(random.randint(200, size=(25)), dtype= 'int64')\n",
    "aux = matriu1d.reshape(5,5)   #aprofito mètode reshape per a generar una vista de 5 x 5\n",
    "matriu2d = aux.copy()\n",
    "print(\"\\nMatriu 5 x 5:\\n\", matriu2d)\n",
    "\n",
    "max = matriu2d[0,0]\n",
    "for x in np.nditer(matriu2d):               #itero per tots els escalars de la matriu\n",
    "    if x > max: max = x\n",
    "print(\"El valor màxim de la matriu és {0}\".format(max))\n",
    "\n",
    "for i, v in enumerate(matriu2d):\n",
    "    print(\"Fila {0} màxim: {1}\".format(i, v.max()))\n",
    "    \n",
    "transpuesta = np.transpose(matriu2d)        #trasposo i repeteixo el codi anterior\n",
    "for i, v in enumerate(transpuesta):\n",
    "    print(\"Columna {0} màxim: {1}\".format(i, v.max()))"
   ]
  }
 ],
 "metadata": {
  "kernelspec": {
   "display_name": "Python 3 (ipykernel)",
   "language": "python",
   "name": "python3"
  },
  "language_info": {
   "codemirror_mode": {
    "name": "ipython",
    "version": 3
   },
   "file_extension": ".py",
   "mimetype": "text/x-python",
   "name": "python",
   "nbconvert_exporter": "python",
   "pygments_lexer": "ipython3",
   "version": "3.9.7"
  }
 },
 "nbformat": 4,
 "nbformat_minor": 5
}
