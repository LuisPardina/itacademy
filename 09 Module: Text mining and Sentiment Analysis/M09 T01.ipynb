{
 "cells": [
  {
   "cell_type": "markdown",
   "id": "3444a1b2",
   "metadata": {},
   "source": [
    "# Tasca M9 T01 - Exercicis d'anàlisi de sentiment i textos.\n",
    "## Luis Pardina - Data Science - 5/jul/2022 "
   ]
  },
  {
   "cell_type": "code",
   "execution_count": 2,
   "id": "1412638d",
   "metadata": {},
   "outputs": [],
   "source": [
    "import matplotlib.pyplot as plt\n",
    "\n",
    "import nltk\n",
    "from nltk.tokenize import word_tokenize                      #to tokenize a text\n",
    "from nltk.probability import FreqDist                        #to calculate the frequency of words\n",
    "from nltk.corpus import stopwords                            #up-to-date list of stop words\n",
    "from nltk.stem import PorterStemmer                          #to stemmize words\n",
    "\n",
    "from nltk.sentiment.vader import SentimentIntensityAnalyzer  #to perform sentiment analysis\n",
    "import text2emotion as te                                    #to perform sentiment analysis"
   ]
  },
  {
   "cell_type": "markdown",
   "id": "4dac4b2d",
   "metadata": {},
   "source": [
    "### *Exercici 1*: Agafa un text en anglès que vulguis, i calcula'n la freqüència de les paraules."
   ]
  },
  {
   "cell_type": "markdown",
   "id": "596f1e4e",
   "metadata": {},
   "source": [
    "I am selecting the text of the famous American President John F. Kennedy's inaugural address, made on January 20th, 1961. This inaugural address, the first delivered to a televised audience in color, is considered one of the best presidential inaugural speeches in American history."
   ]
  },
  {
   "cell_type": "code",
   "execution_count": 3,
   "id": "428a794d",
   "metadata": {},
   "outputs": [],
   "source": [
    "speech = \"\"\"Vice President Johnson, Mr. Speaker, Mr. Chief Justice, President Eisenhower, Vice President Nixon, President Truman, Reverend Clergy, fellow citizens:\n",
    "We observe today not a victory of party but a celebration of freedom -symbolizing an end as well as a beginning, signifying renewal as well as change-. For I have sworn before you and Almighty God the same solemn oath our forbears prescribed nearly a century and three-quarters ago.\n",
    "The world is very different now. For man holds in his mortal hands the power to abolish all forms of human poverty and all forms of human life. And yet the same revolutionary beliefs for which our forebears fought are still at issue around the globe -the belief that the rights of man come not from the generosity of the state but from the hand of God-.\n",
    "We dare not forget today that we are the heirs of that first revolution. Let the word go forth from this time and place, to friend and foe alike, that the torch has been passed to a new generation of Americans -born in this century, tempered by war, disciplined by a hard and bitter peace, proud of our ancient heritage- and unwilling to witness or permit the slow undoing of those human rights to which this nation has always been committed, and to which we are committed today at home and around the world.\n",
    "Let every nation know, whether it wishes us well or ill, that we shall pay any price, bear any burden, meet any hardship, support any friend, oppose any foe to assure the survival and the success of liberty.\n",
    "This much we pledge -and more-.\n",
    "To those old allies whose cultural and spiritual origins we share, we pledge the loyalty of faithful friends. United there is little we cannot do in a host of cooperative ventures. Divided there is little we can do -for we dare not meet a powerful challenge at odds and split asunder-.\n",
    "To those new states whom we welcome to the ranks of the free, we pledge our word that one form of colonial control shall not have passed away merely to be replaced by a far more iron tyranny. We shall not always expect to find them supporting our view. But we shall always hope to find them strongly supporting their own freedom -and to remember that, in the past, those who foolishly sought power by riding the back of the tiger ended up inside-.\n",
    "To those people in the huts and villages of half the globe struggling to break the bonds of mass misery, we pledge our best efforts to help them help themselves, for whatever period is required -not because the communists may be doing it, not because we seek their votes, but because it is right-. If a free society cannot help the many who are poor, it cannot save the few who are rich.\n",
    "To our sister republics south of our border, we offer a special pledge -to convert our good words into good deeds, in a new alliance for progress- to assist free men and free governments in casting off the chains of poverty. But this peaceful revolution of hope cannot become the prey of hostile powers. Let all our neighbors know that we shall join with them to oppose aggression or subversion anywhere in the Americas. And let every other power know that this Hemisphere intends to remain the master of its own house.\n",
    "To that world assembly of sovereign states, the United Nations, our last best hope in an age where the instruments of war have far outpaced the instruments of peace, we renew our pledge of support -to prevent it from becoming merely a forum for invective, to strengthen its shield of the new and the weak and to enlarge the area in which its writ may run-.\n",
    "Finally, to those nations who would make themselves our adversary, we offer not a pledge but a request: that both sides begin anew the quest for peace, before the dark powers of destruction unleashed by science engulf all humanity in planned or accidental self-destruction.\n",
    "We dare not tempt them with weakness. For only when our arms are sufficient beyond doubt can we be certain beyond doubt that they will never be employed.\n",
    "But neither can two great and powerful groups of nations take comfort from our present course -both sides overburdened by the cost of modern weapons, both rightly alarmed by the steady spread of the deadly atom, yet both racing to alter that uncertain balance of terror that stays the hand of mankind's final war-.\n",
    "So let us begin anew -remembering on both sides that civility is not a sign of weakness, and sincerity is always subject to proof-. Let us never negotiate out of fear. But let us never fear to negotiate.\n",
    "Let both sides explore what problems unite us instead of belaboring those problems which divide us.\n",
    "Let both sides, for the first time, formulate serious and precise proposals for the inspection and control of arms -and bring the absolute power to destroy other nations under the absolute control of all nations-.\n",
    "Let both sides seek to invoke the wonders of science instead of its terrors. Together let us explore the stars, conquer the deserts, eradicate disease, tap the ocean depths and encourage the arts and commerce.\n",
    "Let both sides unite to heed in all corners of the earth the command of Isaiah -to ‘undo the heavy burdens . . . (and) let the oppressed go free’-.\n",
    "And if a beachhead of cooperation may push back the jungle of suspicion, let both sides join in creating a new endeavor, not a new balance of power, but a new world of law, where the strong are just and the weak secure and the peace preserved.\n",
    "All this will not be finished in the first one hundred days. Nor will it be finished in the first one thousand days, nor in the life of this Administration, nor even perhaps in our lifetime on this planet. But let us begin.\n",
    "In your hands, my fellow citizens, more than mine, will rest the final success or failure of our course. Since this country was founded, each generation of Americans has been summoned to give testimony to its national loyalty. The graves of young Americans who answered the call to service surround the globe.\n",
    "Now the trumpet summons us again -not as a call to bear arms, though arms we need--not as a call to battle, though embattled we are- but a call to bear the burden of a long twilight struggle, year in and year out, ‘rejoicing in hope, patient in tribulation’ -a struggle against the common enemies of man: tyranny, poverty, disease and war itself-.\n",
    "Can we forge against these enemies a grand and global alliance, North and South, East and West, that can assure a more fruitful life for all mankind? Will you join in that historic effort?\n",
    "In the long history of the world, only a few generations have been granted the role of defending freedom in its hour of maximum danger. I do not shrink from this responsibility -I welcome it-. I do not believe that any of us would exchange places with any other people or any other generation. The energy, the faith, the devotion which we bring to this endeavor will light our country and all who serve it -and the glow from that fire can truly light the world-.\n",
    "And so, my fellow Americans: ask not what your country can do for you, ask what you can do for your country.\n",
    "My fellow citizens of the world: ask not what America will do for you, but what together we can do for the freedom of man.\n",
    "Finally, whether you are citizens of America or citizens of the world, ask of us here the same high standards of strength and sacrifice which we ask of you. With a good conscience our only sure reward, with history the final judge of our deeds, let us go forth to lead the land we love, asking His blessing and His help, but knowing that here on earth God's work must truly be our own.\"\"\""
   ]
  },
  {
   "cell_type": "markdown",
   "id": "8c3ac5a7",
   "metadata": {},
   "source": [
    "First I change all the words in the text to lower case. Second, I tokenize the text, I break down it into words."
   ]
  },
  {
   "cell_type": "code",
   "execution_count": 4,
   "id": "c22ef111",
   "metadata": {},
   "outputs": [],
   "source": [
    "speech = speech.lower()"
   ]
  },
  {
   "cell_type": "code",
   "execution_count": 5,
   "id": "fc7ec445",
   "metadata": {},
   "outputs": [],
   "source": [
    "words = word_tokenize(speech)"
   ]
  },
  {
   "cell_type": "markdown",
   "id": "10c0f923",
   "metadata": {},
   "source": [
    "Now I can measure the distribution of the words. It contains a total of 1515 words, with 555 different ones."
   ]
  },
  {
   "cell_type": "code",
   "execution_count": 6,
   "id": "28354650",
   "metadata": {},
   "outputs": [
    {
     "name": "stdout",
     "output_type": "stream",
     "text": [
      "<FreqDist with 555 samples and 1515 outcomes>\n"
     ]
    }
   ],
   "source": [
    "words_freq = FreqDist(words)\n",
    "print(words_freq)"
   ]
  },
  {
   "cell_type": "markdown",
   "id": "c0d74771",
   "metadata": {},
   "source": [
    "Let's check the frequency of the ten most repeated words using one of the methods of FreqDist:"
   ]
  },
  {
   "cell_type": "code",
   "execution_count": 7,
   "id": "f3fb7762",
   "metadata": {},
   "outputs": [
    {
     "name": "stdout",
     "output_type": "stream",
     "text": [
      "the   ,  of   .  to and  we   a  in not \n",
      " 85  78  66  53  39  37  30  28  24  21 \n"
     ]
    }
   ],
   "source": [
    "words_freq.tabulate(10)"
   ]
  },
  {
   "cell_type": "markdown",
   "id": "bb382cb3",
   "metadata": {},
   "source": [
    "It is no surprise that the most frequent words are the article \"the\" and the preposition \"of\". But the text contains punctuation marks that are taken as words. To keep only the *true* words I remove the the punctuation marks with a lambda expression and the method .isalpha() that returns True if all characters in the string are alphabets: "
   ]
  },
  {
   "cell_type": "code",
   "execution_count": 8,
   "id": "0bcf0167",
   "metadata": {},
   "outputs": [],
   "source": [
    "words = [w for w in words if w.isalpha()]"
   ]
  },
  {
   "cell_type": "markdown",
   "id": "1b5a70e0",
   "metadata": {},
   "source": [
    "Now I repeat the previous calculations. The text contains 1330 words in total, 514 are different."
   ]
  },
  {
   "cell_type": "code",
   "execution_count": 9,
   "id": "c93cdb28",
   "metadata": {},
   "outputs": [
    {
     "name": "stdout",
     "output_type": "stream",
     "text": [
      "<FreqDist with 514 samples and 1330 outcomes>\n"
     ]
    }
   ],
   "source": [
    "words_freq = FreqDist(words)\n",
    "print(words_freq)"
   ]
  },
  {
   "cell_type": "code",
   "execution_count": 10,
   "id": "aa344ecc",
   "metadata": {},
   "outputs": [
    {
     "name": "stdout",
     "output_type": "stream",
     "text": [
      " the   of   to  and   we    a   in  not  our that \n",
      "  85   66   39   37   30   28   24   21   21   20 \n"
     ]
    }
   ],
   "source": [
    "words_freq.tabulate(10)"
   ]
  },
  {
   "cell_type": "markdown",
   "id": "fa63ea90",
   "metadata": {},
   "source": [
    "I plot a chart of the 30 most frequent words:"
   ]
  },
  {
   "cell_type": "code",
   "execution_count": 21,
   "id": "d86a6fd7",
   "metadata": {},
   "outputs": [
    {
     "data": {
      "image/png": "[encoded data removed]",
      "text/plain": [
       "<Figure size 720x576 with 1 Axes>"
      ]
     },
     "metadata": {
      "needs_background": "light"
     },
     "output_type": "display_data"
    }
   ],
   "source": [
    "plt.figure(figsize=(10,8))\n",
    "words_freq.plot(30, color = 'r', linewidth = 1, marker = 'o', alpha = 0.5)\n",
    "plt.show()"
   ]
  },
  {
   "cell_type": "markdown",
   "id": "96da948f",
   "metadata": {},
   "source": [
    "I can see in the chart above that the most frequent words in the text are *stop words*. Stop words are the most common words and they will appear in every (or almost every) document. You do not want to use them to describe the topic of your content."
   ]
  },
  {
   "cell_type": "markdown",
   "id": "9d7d9cac",
   "metadata": {},
   "source": [
    "### *Exercici 2*: Treu les stopwords i realitza stemming al teu conjunt de dades."
   ]
  },
  {
   "cell_type": "markdown",
   "id": "14bd65e1",
   "metadata": {},
   "source": [
    "First I generate a list of the stop words of the English language. Second I remove them from the list of words."
   ]
  },
  {
   "cell_type": "code",
   "execution_count": 11,
   "id": "0166a93c",
   "metadata": {},
   "outputs": [],
   "source": [
    "stop_words = stopwords.words(\"english\")"
   ]
  },
  {
   "cell_type": "code",
   "execution_count": 12,
   "id": "9976e81a",
   "metadata": {},
   "outputs": [],
   "source": [
    "words = [w for w in words if w not in stop_words]"
   ]
  },
  {
   "cell_type": "markdown",
   "id": "f68e1b99",
   "metadata": {},
   "source": [
    "Once the stop words are removed, the speech contains 669 words in total, 435 different ones."
   ]
  },
  {
   "cell_type": "code",
   "execution_count": 13,
   "id": "89502655",
   "metadata": {},
   "outputs": [
    {
     "name": "stdout",
     "output_type": "stream",
     "text": [
      "<FreqDist with 435 samples and 669 outcomes>\n"
     ]
    }
   ],
   "source": [
    "words_freq = FreqDist(words)\n",
    "print(words_freq)"
   ]
  },
  {
   "cell_type": "markdown",
   "id": "ab6d998a",
   "metadata": {},
   "source": [
    "Meaningful words emerge now in the frequency list: world, citizens, free, freedom, peace, hope..."
   ]
  },
  {
   "cell_type": "code",
   "execution_count": 14,
   "id": "eb9f0e85",
   "metadata": {},
   "outputs": [
    {
     "data": {
      "image/png": "[encoded data removed]",
      "text/plain": [
       "<Figure size 720x576 with 1 Axes>"
      ]
     },
     "metadata": {
      "needs_background": "light"
     },
     "output_type": "display_data"
    }
   ],
   "source": [
    "plt.figure(figsize=(10,8))\n",
    "words_freq.plot(30, color = 'r', linewidth = 1, marker = 'o', alpha = 0.5)\n",
    "plt.show()"
   ]
  },
  {
   "cell_type": "markdown",
   "id": "a2a0ccf3",
   "metadata": {},
   "source": [
    "Stemming is a process of linguistic *normalization*, which reduces words to their word root word or chops off the derivational affixes. I present the original word and the stemmed word for those words in the speech with frequency higher to 3:"
   ]
  },
  {
   "cell_type": "code",
   "execution_count": 15,
   "id": "b6881256",
   "metadata": {},
   "outputs": [
    {
     "name": "stdout",
     "output_type": "stream",
     "text": [
      "original:  president  stemmed:  presid\n",
      "original:  fellow  stemmed:  fellow\n",
      "original:  citizens  stemmed:  citizen\n",
      "original:  today  stemmed:  today\n",
      "original:  freedom  stemmed:  freedom\n",
      "original:  well  stemmed:  well\n",
      "original:  world  stemmed:  world\n",
      "original:  man  stemmed:  man\n",
      "original:  power  stemmed:  power\n",
      "original:  human  stemmed:  human\n",
      "original:  poverty  stemmed:  poverti\n",
      "original:  life  stemmed:  life\n",
      "original:  globe  stemmed:  globe\n",
      "original:  dare  stemmed:  dare\n",
      "original:  first  stemmed:  first\n",
      "original:  let  stemmed:  let\n",
      "original:  go  stemmed:  go\n",
      "original:  new  stemmed:  new\n",
      "original:  generation  stemmed:  gener\n",
      "original:  americans  stemmed:  american\n",
      "original:  war  stemmed:  war\n",
      "original:  peace  stemmed:  peac\n",
      "original:  always  stemmed:  alway\n",
      "original:  know  stemmed:  know\n",
      "original:  us  stemmed:  us\n",
      "original:  shall  stemmed:  shall\n",
      "original:  bear  stemmed:  bear\n",
      "original:  pledge  stemmed:  pledg\n",
      "original:  free  stemmed:  free\n",
      "original:  one  stemmed:  one\n",
      "original:  control  stemmed:  control\n",
      "original:  hope  stemmed:  hope\n",
      "original:  help  stemmed:  help\n",
      "original:  may  stemmed:  may\n",
      "original:  good  stemmed:  good\n",
      "original:  join  stemmed:  join\n",
      "original:  nations  stemmed:  nation\n",
      "original:  sides  stemmed:  side\n",
      "original:  begin  stemmed:  begin\n",
      "original:  arms  stemmed:  arm\n",
      "original:  never  stemmed:  never\n",
      "original:  final  stemmed:  final\n",
      "original:  country  stemmed:  countri\n",
      "original:  call  stemmed:  call\n",
      "original:  ask  stemmed:  ask\n"
     ]
    }
   ],
   "source": [
    "ps = PorterStemmer()\n",
    "\n",
    "lista = []\n",
    "for w in words: \n",
    "    if w not in lista:\n",
    "        lista.append(w)\n",
    "        if words_freq.freq(w)*669 >= 3:\n",
    "            print(\"original: \", w, \" stemmed: \", ps.stem(w))"
   ]
  },
  {
   "cell_type": "markdown",
   "id": "72114ad4",
   "metadata": {},
   "source": [
    "### *Exercici 3*: Realitza sentiment analysis al teu conjunt de dades."
   ]
  },
  {
   "cell_type": "markdown",
   "id": "e9c8d648",
   "metadata": {},
   "source": [
    "To do so I will use the *.polarity_scores* method of *SentimentIntensityAnalyzer()*. This returns a dictionary with the percentages of negative, neutral and positive words, and the *compound* score. The more Compound score closer to +1, the higher the positivity of the text.\n",
    "\n",
    "Kennedy's inaugural address is very positive, with a lot more \"positive\" words than negative \"words\""
   ]
  },
  {
   "cell_type": "code",
   "execution_count": 16,
   "id": "910feb7c",
   "metadata": {},
   "outputs": [
    {
     "data": {
      "text/plain": [
       "{'neg': 0.128, 'neu': 0.684, 'pos': 0.189, 'compound': 0.9989}"
      ]
     },
     "execution_count": 16,
     "metadata": {},
     "output_type": "execute_result"
    }
   ],
   "source": [
    "sentiment = SentimentIntensityAnalyzer()\n",
    "sentiment.polarity_scores(speech)"
   ]
  },
  {
   "cell_type": "markdown",
   "id": "01abc0ac",
   "metadata": {},
   "source": [
    "text2emotion is another python package which extracts the emotions from the content. It processes any textual message and recognize the emotions embedded in it.\n",
    "It is compatible with 5 different emotion categories as Happy, Angry, Sad, Surprise and Fear.\n",
    "\n",
    "The evaluation of the speech of Kennedy with it brings a surprise: fear appears as a predominant emotion. But let's remember that his speech was made during the worst years of the \"cold war\" when the public opinion was terrified by the possibility of a nuclear war between the USSR and the USA. Somehow this fear is reflected in the text of his speech, despite being \"positive\"."
   ]
  },
  {
   "cell_type": "code",
   "execution_count": 17,
   "id": "03ba476f",
   "metadata": {},
   "outputs": [
    {
     "data": {
      "text/plain": [
       "{'Happy': 0.15, 'Angry': 0.12, 'Surprise': 0.08, 'Sad': 0.18, 'Fear': 0.48}"
      ]
     },
     "execution_count": 17,
     "metadata": {},
     "output_type": "execute_result"
    }
   ],
   "source": [
    "te.get_emotion(speech)"
   ]
  },
  {
   "cell_type": "markdown",
   "id": "399826b2",
   "metadata": {},
   "source": [
    "Let's compare these results with the ones for the *Sportpalast speech* or *Total War speech*. It was a speech delivered by German Propaganda Minister Joseph Goebbels at the Berlin Sportpalast on 18 February 1943, as the tide of World War II was turning against Nazi Germany and its Axis allies.The speech was the first public admission by the Nazi leadership that Germany faced serious dangers. Goebbels fanatically called for a total war, trying to amass the popular enthusiasm."
   ]
  },
  {
   "cell_type": "code",
   "execution_count": 18,
   "id": "f77e6794",
   "metadata": {},
   "outputs": [],
   "source": [
    "speech2 =\"\"\"Only three weeks ago I stood in this place to read the Führer’s proclamation on the 10th anniversary of the seizure of power, and to speak to you and to the German people. The crisis we now face on the Eastern Front was at its height. In the midst of the hard misfortunes the nation faced in the battle on the Volga, we gathered together in a mass meeting on the 30th of January to display our unity, our unanimity and our strong will to overcome the difficulties we faced in the fourth year of the war.\n",
    "It was a moving experience for me, and probably also for all of you, to be bound by radio with the last heroic fighters in Stalingrad during our powerful meeting here in the Sport Palace. They radioed to us that they had heard the Führer’s proclamation, and perhaps for the last time in their lives joined us in raising their hands to sing the national anthems. What an example German soldiers have set in this great age! And what an obligation it puts on us all, particularly the entire German homeland! Stalingrad was and is fate’s great alarm call to the German nation! A nation that has the strength to survive and overcome such a disaster, even to draw from it additional strength, is unbeatable. In my speech to you and the German people, I shall remember the heroes of Stalingrad, who put me and all of us under a deep obligation.\n",
    "I do not know how many millions of people are listening to me over the radio tonight, at home and at the front. I want to speak to all of you from the depths of my heart to the depths of yours. I believe that the entire German people has a passionate interest in what I have to say tonight. I will therefore speak with holy seriousness and openness, as the hour demands. The German people, raised, educated and disciplined by National Socialism, can bear the whole truth. It knows the gravity of the situation, and its leadership can therefore demand the necessary hard measures, yes even the hardest measures. We Germans are armed against weakness and uncertainty. The blows and misfortunes of the war only give us additional strength, firm resolve, and a spiritual and fighting will to overcome all difficulties and obstacles with revolutionary élan.\n",
    "Now is not the time to ask how it all happened. That can wait until later, when the German people and the whole world will learn the full truth about the misfortune of the past weeks, and its deep and fateful significance. The heroic sacrifices of heroism of our soldiers in Stalingrad has had vast historical significance for the whole Eastern Front. It was not in vain. The future will make clear why.\n",
    "When I jump over the past to look ahead, I do it intentionally. The time is short! There is no time for fruitless debates. We must act, immediately, thoroughly, and decisively, as has always been the National Socialist way.\n",
    "The movement has from its beginning acted in that way to master the many crises it faced and overcame. The National Socialist state also acted decisively when faced by a threat. We are not like the ostrich that sticks its head in the sand so as not to see danger. We are brave enough to look danger in the face, to coolly and ruthlessly take its measure, then act decisively with our heads held high. Both as a movement and as a nation, we have always been at our best when we needed fanatic, determined wills to overcome and eliminate danger, or a strength of character sufficient to overcome every obstacle, or bitter determination to reach our goal, or an iron heart capable of withstanding every internal and external battle. So it will be today. My task is to give you an unvarnished picture of the situation, and to draw the hard conclusions that will guide the actions of the German government, but also of the German people.\n",
    "We face a serious military challenge in the East. The crisis is at the moment a broad one, similar but not identical in many ways to that of the previous winter. Later we will discuss the causes. Now, we must accept things as they are and discover and apply the ways and means to turn things again in our favor. There is no point in disputing the seriousness of the situation. I do not want to give you a false impression of the situation that could lead to false conclusions, perhaps giving the German people a false sense of security that is altogether inappropriate in the present situation.\n",
    "The storm raging against our venerable continent from the steppes this winter overshadows all previous human and historical experience. The German army and its allies are the only possible defense. In his proclamation on 30 January, the Führer asked in a grave and compelling way what would have become of Germany and Europe if, on 30 January 1933, a bourgeois or democratic government had taken power instead of the National Socialists! What dangers would have followed, faster than we could then have suspected, and what powers of defense would we have had to meet them? Ten years of National Socialism have been enough to make plain to the German people the seriousness of the danger posed by Bolshevism from the East. Now one can understand why we spoke so often of the fight against Bolshevism at our Nuremberg party rallies. We raised our voices in warning to our German people and the world, hoping to awaken Western humanity from the paralysis of will and spirit into which it had fallen. We tried to open their eyes to the horrible danger from Eastern Bolshevism, which had subjected a nation of nearly 200 million people to the terror of the Jews and was preparing an aggressive war against Europe.\n",
    "When the Führer ordered the army to attack the East on 22 June 1941, we all knew that this would be the decisive battle of this great struggle. We knew the dangers and difficulties. But we also knew that dangers and difficulties always grow over time, they never diminish. It was two minutes before midnight. Waiting any longer could easily have led to the destruction of the Reich and a total Bolshevization of the European continent.\n",
    "It is understandable that, as a result of broad concealment and misleading actions by the Bolshevist government, we did not properly evaluate the Soviet Union’s war potential. Only now do we see its true scale. That is why the battle our soldiers face in the East exceeds in its hardness, dangers and difficulties all human imagining. It demands our full national strength. This is a threat to the Reich and to the European continent that casts all previous dangers into the shadows. If we fail, we will have failed our historic mission. Everything we have built and done in the past pales in the face of this gigantic task that the German army directly and the German people less directly face.\n",
    "I speak first to the world, and proclaim three theses regarding our fight against the Bolshevist danger in the East.\n",
    "This first thesis: Were the German army not in a position to break the danger from the East, the Reich would fall to Bolshevism, and all Europe shortly afterwards.\n",
    "Second: The German army, the German people and their allies alone have the strength to save Europe from this threat.\n",
    "Third: Danger faces us. We must act quickly and decisively, or it will be too late.\n",
    "I turn to the first thesis. Bolshevism has always proclaimed its goal openly: to bring revolution not only to Europe, but to the entire world, and plunge it into Bolshevist chaos. This goal has been evident from the beginning of the Bolshevist Soviet Union, and has been the ideological and practical goal of the Kremlin’s policies. Clearly, the nearer Stalin and the other Soviet leaders believe they are to realizing their world-destroying objectives, the more they attempt to hide and conceal them. We cannot be fooled. We are not like those timid souls who wait like the hypnotized rabbit until the serpent devours them. We prefer to recognize the danger in good time and take effective action. We see through not only the ideology of Bolshevism, but also its practice, for we had great success with that in our domestic struggles. The Kremlin cannot deceive us. We had fourteen years of our struggle for power, and ten years thereafter, to unmask its intentions and its infamous deceptions.\n",
    "The goal of Bolshevism is Jewish world revolution. They want to bring chaos to the Reich and Europe, using the resulting hopelessness and desperation to establish their international, Bolshevist-concealed capitalist tyranny.\n",
    "I do not need to say what that would mean for the German people. A Bolshevization of the Reich would mean the liquidation of our entire intelligentsia and leadership, and the descent of our workers into Bolshevist-Jewish slavery. In Moscow, they find workers for forced labor battalions in the Siberian tundra, as the Führer said in his proclamation on 30 January. The revolt of the steppes is readying itself at the front, and the storm from the East that breaks against our lines daily in increasing strength is nothing other than a repetition of the historical devastation that has so often in the past endangered our part of the world.\n",
    "That is a direct threat to the existence of every European power. No one should believe that Bolshevism would stop at the borders of the Reich, were it to be victorious. The goal of its aggressive policies and wars is the Bolshevization of every land and people in the world. In the face of such undeniable intentions, we are not impressed by paper declarations from the Kremlin or guarantees from London or Washington. We know that we are dealing in the East with an infernal political devilishness that does not recognize the norms governing relations between people and nations. When for example the English Lord Beaverbrook says that Europe must be given over to the Soviets or when the leading American Jewish journalist Brown cynically adds that a Bolshevization of Europe might solve all of the continent’s problems, we know what they have in mind. The European powers are facing the most critical question. The West is in danger. It makes no difference whether or not their governments and intellectuals realize it or not.\n",
    "The German people, in any event, is unwilling to bow to this danger. Behind the oncoming Soviet divisions we see the Jewish liquidation commandos, and behind them terror, the specter of mass starvation and complete anarchy. International Jewry is the devilish ferment of decomposition that finds cynical satisfaction in plunging the world into the deepest chaos and destroying ancient cultures that it played no role in building.\n",
    "We also know our historic responsibility. Two thousand years of Western civilization are in danger. One cannot overestimate the danger. It is indicative that when one names it as it is, International Jewry throughout the world protests loudly. Things have gone so far in Europe that one cannot call a danger a danger when it is caused by the Jews.\n",
    "That does not stop us from drawing the necessary conclusions. That is what we did in our earlier domestic battles. The democratic Jewry of the “Berliner Tageblatt” and the “Vossischen Zeitung” served communist Jewry by minimizing and downplaying a growing danger, and by lulling our threatened people to sleep and reducing their ability to resist. We could see, if the danger were not overcome, the specter of hunger, misery, and forced labor by millions of Germans. We could see our venerable part of the world collapse, and bury in its ruins the ancient inheritance of the West. That is the danger we face today.\n",
    "My second thesis: Only the German Reich and its allies are in the position to resist this danger. The European nations, including England, believe that they are strong enough to resist effectively the Bolshevization of Europe, should it come to that. This belief is childish and not even worth refuting. If the strongest military force in the world is not able to break the threat of Bolshevism, who else could do it? (The crowd in the Sportpalast shouts “No one!”). The neutral European nations have neither the potential nor the military means nor the spiritual strength to provide even the least resistance to Bolshevism. Bolshevism’s robotic divisions would roll over them within a few days. In the capitals of the mid-sized and smaller European states, they console themselves with the idea that one must be spiritually armed against Bolshevism (laughter). That reminds us of the statements by bourgeois parties in 1932, who thought they could fight and win the battle against communism with spiritual weapons. That was too stupid even then to be worth refuting. Eastern Bolshevism is not only a doctrine of terrorism, it is also the practice of terrorism. It strives for its goals with an infernal thoroughness, using every resource at its disposal, regardless of the welfare, prosperity or peace of the peoples it ruthlessly oppresses. What would England and America do if, in the worst case, Europe fell into Bolshevism’s arms? Will London perhaps persuade Bolshevism to stop at the English Channel? I have already said that Bolshevism has its foreign legions in the form of communist parties in every democratic nation. None of these states can think it is immune to domestic Bolshevism. In a recent by-election for the House of Commons, the independent, that is communist, candidate got 10,741 of the 22,371 votes cast. This was in a district that had formerly been a conservative stronghold. Within a short time, 10,000 voters, nearly half, had been lost to the communists.\n",
    "That is proof that the Bolshevist danger exists in England too, and that it will not go away simply because it is ignored. We place no faith in any territorial promises that the Soviet Union may make. Bolshevism set ideological as well as military boundaries, which poses a danger to every nation. The world no longer has the choice between falling back into its old fragmentation or accepting a new order for Europe under Axis leadership. The only choice now is between living under Axis protection or in a Bolshevist Europe.\n",
    "I am firmly convinced that the lamenting lords and archbishops in London have not the slightest intention of resisting the Bolshevist danger that would result were the Soviet army to enter Europe. Jewry has so deeply infected the Anglo-Saxon states both spiritually and politically that they are no longer have the ability to see the danger. It conceals itself as Bolshevism in the Soviet Union, and plutocratic-capitalism in the Anglo-Saxon states. The Jewish race is an expert at mimicry. They put their host peoples to sleep, paralyzing their defensive abilities. (Shouts from the crowd: “We have experienced it!”). Our insight into the matter led us to the early realization that cooperation between international plutocracy and international Bolshevism was not a contradiction, but rather a sign of deep commonalities. The hand of the pseudo-civilized Jewry of Western Europe shakes the hand of the Jewry of the Eastern ghettos over Germany. Europe is in deadly danger.\n",
    "I do not flatter myself into believing that my remarks will influence public opinion in the neutral, much less the enemy, states. That is also not my goal or intention. I know that, given our problems on the Eastern Front, the English press tomorrow will furiously attack me with the accusation that I have made the first peace feelers (loud laughter). That is certainly not so. No one in Germany thinks any longer of a cowardly compromise. The entire people thinks only of a hard war. As a spokesman for the leading nation of the continent, however, I claim the right to call a danger a danger if it threatens not threatens not only our own land, but our entire continent. We National Socialists have the duty to sound the alarm against International Jewry’s attempt to plunge the European continent into chaos, and to warn that Jewry has in Bolshevism a terroristic military power whose danger cannot be overestimated.\n",
    "My third thesis is that the danger is immediate. The paralysis of the Western European democracies before their deadliest threat is frightening. International Jewry is doing all it can to encourage such paralysis. During our struggle for power in Germany, Jewish newspapers tried to conceal the danger, until National Socialism awakened the people. It is just the same today in other nations. Jewry once again reveals itself as the incarnation of evil, as the plastic demon of decay and the bearer of an international culture-destroying chaos.\n",
    "This explains, by the way, our consistent Jewish policies. We see Jewry as a direct threat to every nation. We do not care what other peoples do about the danger. What we do to defend ourselves is our own business, however, and we will not tolerate objections from others. Jewry is a contagious infection. Enemy nations may raise hypocritical protests against our measures against Jewry and cry crocodile tears, but that will not stop us from doing that which is necessary. Germany, in any event, has no intention of bowing before this threat, but rather intends to take the most radical measures, if necessary, in good time (After this sentence, the chants of the audience prevent the minister from going on for several minutes).\n",
    "The military challenges of the Reich in the East are at the center of everything. The war of mechanized robots against Germany and Europe has reached its high point. In resisting the grave and direct threat with its weapons, the German people and its Axis allies are fulfilling in the truest sense of the word a European mission. Our courageous and just battle against this world-wide plague will not be hindered by the worldwide outcry of International Jewry. It can and must end only with victory (Here there are loud shouts: “German men, to arms! German women, to work!”).\n",
    "The tragic battle of Stalingrad is a symbol of heroic, manly resistance to the revolt of the steppes. It has not only a military, but also an intellectual and spiritual significance for the German people. Here for the first time our eyes have been opened to the true nature of the war. We want no more false hopes and illusions. We want bravely to look the facts in the face, however hard and dreadful they may be. The history of our party and our state has proven that a danger recognized is a danger defeated. Our coming hard battles in the East will be under the sign of this heroic resistance. It will require previously undreamed of efforts by our soldiers and our weapons. A merciless war is raging in the East. The Führer was right when he said that in the end there will not be winners and losers, but the living and the dead.\n",
    "The German nation knows that. Its healthy instincts have led it through the daily confusion of intellectual and spiritual difficulties. We know today that the Blitzkrieg in Poland and the campaign in the West have only limited significance to the battle in the East. The German nation is fighting for everything it has. We know that the German people are defending their holiest possessions: their families, women and children, the beautiful and untouched countryside, their cities and villages, their two thousand year old culture, everything indeed that makes life worth living.\n",
    "Bolshevism of course has not the slightest appreciation for our nation’s treasures, and would take no heed of them whatsoever if it came to that. It did not do so even for its own people. The Soviet Union over the last 25 years built up Bolshevism’s military potential to an unimaginable degree, and one we falsely evaluated. Terrorist Jewry had 200 million people to serve it in Russia. It cynically used its methods on to create out of the stolid toughness of the Russian people a grave danger for the civilized nations of Europe. A whole nation in the East was driven to battle. Men, women, and even children are employed not only in armaments factories, but in the war itself. 200 million live under the terror of the GPU, partially captives of a devilish viewpoint, partially of absolute stupidity. The masses of tanks we have faced on the Eastern Front are the result of 25 years of social misfortune and misery of the Bolshevist people. We have to respond with similar measures if we do not want to give up the game as lost.\n",
    "My firm conviction is that we cannot overcome the Bolshevist danger unless we use equivalent, though not identical, methods. The German people face the gravest demand of the war, namely of finding the determination to use all our resources to protect everything we have and everything we will need in the future.\n",
    "Total war is the demand of the hour. We must put an end to the bourgeois attitude that we have also seen in this war: Wash my back, but don’t get me wet! (Every sentence is met with growing applause and agreement.) The danger facing us is enormous. The efforts we take to meet it must be just as enormous. The time has come to remove the kid gloves and use our fists. (A cry of elemental agreement rises. Chants from the galleries and seats testify to the full approval of the crowd.) We can no longer make only partial and careless use of the war potential at home and in the significant parts of Europe that we control. We must use our full resources, as quickly and thoroughly as it is organizationally and practically possible. Unnecessary concern is wholly out of place. The future of Europe hangs on our success in the East. We are ready to defend it. The German people are shedding their most valuable national blood in this battle. The rest of Europe should at least work to support us. There are many serious voices in Europe that have already realized this. Others still resist. That cannot influence us. If danger faced them alone, we could view their reluctance as literary nonsense of no significance. But the danger faces us all, and we must all do our share. Those who today do not understand that will thank us tomorrow on bended knees that we courageously and firmly took on the task.\n",
    "It bothers us not in the least that our enemies abroad claim that our total war measures resemble those of Bolshevism. They claim hypocritically that that means there is no need to fight Bolshevism. The question here is not one of method, but of the goal, namely eliminating the danger. (Applause for several minutes) The question is not whether the methods are good or bad, but whether they are successful. The National Socialist government is ready to use every means. We do not care if anyone objects. We are not willing to weaken Germany’s war potential by measures that maintain a high, almost peace-time standard of living for a certain class, thereby endangering our war effort. We are voluntarily giving up a significant part of our living standard to increase our war effort as quickly and completely as possible. This is not an end in itself, but rather a means to an end. Our social standard of living will be even higher after the war. We do not need to imitate Bolshevist methods, because we have better people and leaders, which gives us a great advantage. But things have shown that we must do much more than we have done so far to turn the war in the East decisively in our favor.\n",
    "As countless letters from the homeland and the front have shown, by the way, the entire German people agrees. Everyone knows that if we lose, all will be destroyed. The people and leadership are determined to take the most radical measures. The broad working masses of our people are not unhappy because the government is too ruthless. If anything, they are unhappy because it is too considerate. Ask anyone in Germany, and he will say: The most radical is just radical enough, and the most total is just total enough to gain victory.\n",
    "The total war effort has become a matter of the entire German people. No one has any excuse for ignoring its demands. A storm of applause greeted my call on 30 January for total war. I can therefore assure you that the leadership’s measures are in full agreement with the desires of the German people at home and at the front. The people are willing to bear any burden, even the heaviest, to make any sacrifice, if it leads to the great goal of victory. (Lively applause)\n",
    "This naturally assumes that the burdens are shared equally. (Loud approval) We cannot tolerate a situation in which most people carry the burden of the war, while a small, passive portion attempts to escape its burdens and responsibilities. The measures we have taken, and the ones we will yet take, will be characterized by the spirit of National Socialist justice. We pay no heed to class or standing. Rich and poor, high and low must share the burdens equally. Everyone must do his duty in this grave hour, whether by choice or otherwise. We know this has the full support of the people. We would rather do too much rather than too little to achieve victory. No war in history has ever been lost because of too many soldiers or weapons. Many, however, have been lost because the opposite was true.\n",
    "It is time to get the slackers moving. (Stormy agreement) They must be shaken out of their comfortable ease. We cannot wait until they come to their senses. That might be too late. The alarm must sound throughout the nation. Millions of hands must get to work throughout the country. The measures we have taken, and the ones we will now take, and which I shall discuss later in this speech, are critical for our whole public and private life. The individual may have to make great sacrifices, but they are tiny when compared to the sacrifices he would have to make if his refusal brought down on us the greatest national disaster. It is better to operate at the right time than to wait until the disease has taken root. One may not complain to the doctor or sue him for bodily injury. He cuts not to kill, but to save the patient’s life.\n",
    "Again let me say that the heavier the sacrifices the German people must make, the more urgent it is that they be fairly shared. The people want it that way. No one resists even the heaviest burdens of war. But it angers people when a few always try to escape the burdens. The National Socialist government has both the moral and political duty to oppose such attempts, if necessary with draconian penalties. (Agreement) Leniency here would be completely out of place, leading in time to a confusion in the people’s emotions and attitudes that would be a grave danger to our public morale.\n",
    "We are therefore compelled to adopt a series of measures that are not essential for the war effort in themselves, but seem necessary to maintain moral at home and at the front. The optics of the war, that is, how things outwardly appear, is of decisive importance in this fourth year of war. In view of the superhuman sacrifices that the front makes each day, it has a basic right to expect that no one at home claims the right to ignore the war and its demands. And not only the front demands this, but the overwhelming part of the homeland. The industrious have a right to expect that if they work ten or twelve or fourteen hours a day, a lazy person does not stand next to them who thinks them foolish. The homeland must stay pure and intact in its entirety. Nothing may disturb the picture.\n",
    "There are therefore a series of measures that take account of the war’s optics. We have ordered, for example, the closing of bars and night clubs. I cannot imagine that people who are doing their duty for the war effort still have the energy to stay out late into the night in such places. I can only conclude that they are not taking their responsibilities seriously. We have closed these establishments because they began to offend us, and because they disturb the image of the war. We have nothing against amusements as such. After the war we will happily go by the rule “Live and let live.” But during a war, the slogan must be “Fight and let fight!”\n",
    "We have also closed luxury restaurants that demand far more resources than is reasonable. It may be that an occasional person thinks that, even during war, his stomach is the most important thing. We cannot pay him any heed. At the front everyone from the simple soldier to the general field marshal eats from the field kitchen. I do not believe that it is asking too much to insist that we in the homeland pay heed to at least the basic laws of community thinking. We can become gourmets once again when the war is over. Right now, we have more important things to do than worry about our stomachs.\n",
    "Countless luxury stores have also been closed. They often offended the buying public. There was generally nothing to buy, unless perhaps one paid here and there with butter or eggs instead of money. What good do shops do that no longer have anything to sell, but only use electricity, heating, and human labor that is lacking everywhere else, particularly in the armaments industry.\n",
    "It is no excuse to say that keeping some of these shops open gives a lovely impression to foreigners. Foreigners will be impressed only by a German victory! (Stormy applause). Everyone will want to be our friend if we win the war. But if we lose, we will be able to count our friends on the fingers of one hand. We have put an end to such illusions. We want to put these people standing in empty shops to useful work in the war economy. This process is already in motion, and will be completed by 15 March. It is of course a major transformation in our entire economic life. We are following a plan. We do not want to accuse anyone unjustly or open them to complaints and accusations from every side. We are only doing what is necessary. But we are doing it quickly and thoroughly.\n",
    "We would rather wear worn clothing for a few years than have our people wear rags for a few centuries. What good are fashion salons today? They only use light, heat and workers. They will reappear when the war is over. What good are beauty shops that encourage a cult of beauty and take enormous time and energy? In peace they are wonderful, but a waste of time during war. Our women and girls will be able to greet our victorious returning soldiers without their peacetime finery. (Applause)\n",
    "Government offices will work faster and less bureaucratically. It does not leave a good impression when the office closes on the dot after eight hours. The people are not there for the offices, the offices are there for the people. One has to work until the work is done. That is a requirement of the war. If the Führer can do that, so can his paid employees. If there is not enough work to fill the extended hours, 10 or 20 or 30 percent of the workers can be transferred to war production and replace other men for service at the front. That applies to all offices in the homeland. That by itself may make the work in some offices go more quickly and easily. We must learn from the war to operate quickly, not only thoroughly. The soldier at the front does not have weeks to think things over, to pass his thoughts up the line or let them sit in dusty files. He must act immediately or lose his life. In the homeland we do not lose our lives if we work slowly, but we do endanger the life of our people.\n",
    "Everyone must learn to pay heed to war morale, and pay attention to the just demands of working and fighting people. We are not spoilsports, but neither will we tolerate those who hinder our efforts.\n",
    "It is, for example, intolerable that certain men and women stay for weeks in spas and trade rumors, taking places away from soldiers on leave or from workers who are entitled to a vacation after a year of hard work. That is intolerable, and we have put an end to it. The war is not a time for amusement. Until it is over, we take our deepest satisfaction in work and battle. Those who do not understand that by themselves must be taught to understand it, and forced if need be. The harshest measures may be needed.\n",
    "It does not look good, for example, when we devote enormous propaganda to the theme: “Wheels must roll for victory!,” with the result that people avoid unnecessary travel only to see unemployed pleasure-seekers find more room for themselves in the trains. The railroad serves to transport war goods and travelers on war business. Only those who need a rest from hard work deserve a vacation. The Führer has not had a day of vacation since the war began. Since the first man of the country takes his duty so seriously and responsibly, it must be expected that every citizen will follow his example.\n",
    "On the other hand, the government is doing all it can to give working people the relaxation they need in these trying times. Theaters, movie houses, and music halls remain in full operation. The radio is working to expand and improve its programming. We have no intention of inflicting a gray winter mood on our people. That which serves the people and keeps up its fighting and working strength is good and essential to the war effort. We want to eliminate the opposite. To balance the measures I have already discussed, I have therefore ordered that cultural and spiritual establishments that serve the people not be decreased, but increased. As long as they aid rather than harm the war effort, they must be supported by the government. That applies to sports as well. Sports are not only for particular circles today, but a matter for the entire people. Military exemptions for athletes are out of place. The purpose of sports is to steel the body, certainly with the goal of using it appropriately in time of the people’s greatest need.\n",
    "The front shares our desires. The entire German people agrees passionately. It is no longer willing to put up with efforts that only waste time and resources. It will not put up with complicated questionnaires on every possible issue. It does not want to worry about a thousand minor matters that may have been important in peace, but are entirely unimportant during war. It also does not need to be constantly reminded of its duty by references to the great sacrifices of our soldiers at Stalingrad. It knows what it has to do. It wants everyone, high and low, rich and poor, to share a spartan life style. The Führer gives us all an example, one that must be followed by everyone. He knows only work and care. We do not want to leave it all to him, but rather we want to take that part of it from him which we are able to bear.\n",
    "The present day has a remarkable resemblance for every genuine National Socialist to the period of struggle. We have always acted in the same way. We were with the people through thick and thin, and that is why the people followed us. We have always carried our burdens together with the people, and therefore they did not seem heavy to us, but rather light. The people want to be led. Never in history has the people failed a brave and determined leadership a critical hour.\n",
    "Let me say a few words in this regard about practical measures in our total war effort that we have already taken.\n",
    "The problem is freeing soldiers for the front, and freeing workers for the armaments industry. These are the primary goals, even at the cost of our standard of social life. This does not mean a permanent decline in our standard of living. It is only a means to reaching an end, that of total war.\n",
    "As part of this campaign, hundreds of thousands of military exemptions have been canceled. These exemptions were given because we did not have enough skilled labor to fill the positions that would have been left open by revoking them. The reason for our current measures is to mobilize the necessary workers. That is why we have appealed to men not working in the war economy, and to women who were not working at all. They will not and cannot ignore our call. The duty for women to work is broad. That does not however mean that only those included in the law have to work. Anyone is welcome. The more who join the war effort, the more soldiers we can free for the front.\n",
    "Our enemies maintain that German women are not able to replace men in the war economy. That may be true for certain fields of heavy labor. But I am convinced that the German woman is determined to fill the spot left by the man leaving for the front, and to do so as soon as possible. We do not need to point out Bolshevism’s example. For years, millions of the best German women have been working successfully in war production, and they wait impatiently to be joined and assisted by others. All those who join in the work are only giving the proper thanks to those at the front. Hundreds of thousands have already joined, and hundreds of thousands more will join. We hope soon to free up armies of workers who will in turn free up armies of fighting front soldiers.\n",
    "I would think little of German women if I believed that they do not want to listen to my appeal. They will not seek to follow the letter of the law, or to slip through its loopholes. They few who may try will not succeed. We will not accept a doctor’s excuse. Nor will we accept the alibi that one must help one’s husband or relative or good friend as a way of avoiding work. We will respond appropriately. The few who may attempt it will only lose the respect of those around them. The people will despise them. No one expects a woman lacking the requisite physical strength to go to work in a tank factory. There are however numerous jobs in war production that do not demand great physical strength, and which a woman can do even if she comes from the better circles. No one is too good to work, and we all have the choice to give up what we have, or to lose everything.\n",
    "It is also time to ask women with household help if they really need it. One can take care of the house and children oneself, freeing the servant for other tasks, or leave the house and children in care of the servant or the NSV [the party welfare organization], and go to work oneself. Life may not be as pleasant as it is during peace. But we are not at peace, we are at war. We can be comfortable after we have won the war. Now we must sacrifice our comforts to gain victory.\n",
    "Soldiers’ wives surely understand this. They know it is their duty to their husbands to support them by doing work that is important to the war effort. That is true above all in agriculture. The wives of farmers must set a good example. Both men and women must be sure that no one does less during war than they did in peace; more work must instead be done in every area.\n",
    "One may not, by the way, make the mistake of leaving everything to the government. The government can only set the broad guidelines. To give life to those guidelines is the job of working people, under the inspiring leadership of the party. Fast action is essential.\n",
    "One must go beyond the legal requirements. “Volunteer!” is the slogan. As Gauleiter of Berlin, I appeal here above all to my fellow Berliners. They have given enough good examples of noble behavior and bravery during the war such that they will not fail here. Their practical behavior and good cheer even during war have earned them a good name throughout the world. This good name must be maintained and strengthened! If I appeal to my fellow Berliners to do some important work quickly, thoroughly, and without complaint, I know they will all obey. We do not want to complain about the difficulties of the day or grump to one another. Rather we want to behave not only like Berliners, but like Germans, by getting to work, acting, seizing the initiative and doing something, not leaving it to someone else.\n",
    "What German woman would want to ignore my appeal on behalf of those fighting at the front? Who would want to put personal comfort above national duty? Who in view of the serious threat we face would want to consider his private needs instead of the requirements of the war?\n",
    "I reject with contempt the enemy’s claim that we are imitating Bolshevism. We do not want to imitate Bolshevism, we want to defeat it, with whatever means are necessary. The German woman will best understand what I mean, for she has long known that the war our men are fighting today above all is a war to protect her children. Her holiest possession is guarded by our people’s most valuable blood. The German woman must spontaneously proclaim her solidarity with her fighting men. She had better join the ranks of millions of workers in the homeland’s army, and do it tomorrow rather than the day after tomorrow. A river of readiness must flow through the German people. I expect that countless women and above all men who are not doing essential war work will report to the authorities. He who gives quickly gives twice as much.\n",
    "Our general economy is consolidating. That particularly affects the insurance and banking systems, the tax system, newspapers and magazines that are not essential for the war effort, and nonessential party and government activities, and also requires a further simplification of our life style.\n",
    "I know that many of our people are making great sacrifices. I understand their sacrifices, and the government is trying to keep them to the necessary minimum. But some must remain, and must be borne. When the war is over, we will build up that which we now are eliminating, more generously and more beautifully, and the state will lend its hand.\n",
    "I energetically reject the charge that our measures will eliminate the middle class or result in a monopoly economy. The middle class will regain its economic and social position after the war. The current measures are necessary for the war effort. They aim not at a structural transformation of the economy, but merely at winning the war as quickly as possible.\n",
    "I do not dispute the fact that these measures will cause worry in the coming weeks. They will give us breathing room. We are laying the groundwork for the coming summer, without paying heed to the threats and boasting of the enemy. I am happy to reveal this plan for victory (Stormy applause) to the German people. They not only accept these measures, they have demanded them, demanded them more strongly than ever before during the war. The people want action! It is time for it! We must use our time to prepare for coming surprises.\n",
    "I turn now to the entire German people, and particularly to the party, as the leader of the totalization of our domestic war effort. This is not the first major task you have faced. You will bring the usual revolutionary élan to bear on it. You will deal with the laziness and indolence that may occasionally show up. The government has issued general regulations, and will issue further ones in coming weeks. The minor issues not dealt with in these regulations must be taken care of by the people, under the party’s leadership. One moral law stands above everything for each of us: to do nothing that harms the war effort, and to do everything that brings victory nearer.\n",
    "In past years, we have often recalled the example of Frederick the Great in newspapers and on the radio. We did not have the right to do so. For a while during the Third Silesian War, Frederick II had five million Prussians, according to Schlieffen, standing against 90 million enemies. In the second of seven hellish years he suffered a defeat that shook Prussia’s foundations. He never had enough soldiers and weapons to fight without risking everything. His strategy was always one of improvisation. But his principle was to attack the enemy whenever it was possible. He suffered defeats, but that was not decisive. What was decisive is that the Great King remained unbroken, that he was unshaken by the changing fortunes of war, that his strong heart overcame every danger. At the end of seven years of war, he was 51 years old, he had no teeth, he suffered from gout, and was tortured by a thousand pains, but he stood above the devastated battlefield as the victor. How does our situation compare with his?! Let us show the same will and decisiveness as he, and when the time comes do as he did, remaining unshakable through all the twists of fate, and like him win the battle even under the most unfavorable circumstances. Let us never doubt our great cause.\n",
    "I am firmly convinced that the German people have been deeply moved by the blow of fate at Stalingrad. It has looked into the face of hard and pitiless war. It knows now the awful truth, and is resolved to follow the Führer through thick and thin. (The crowd rises and like the roaring ocean chants: Führer command, we follow! Heil our Führer!” The minister is unable to continue for several minutes.)\n",
    "The English and American press in recent days has been writing at length about the attitude of the German people during this crisis. The English seem to think that they know the German people much better than we do, its own leadership. They give hypocritical advice on what we should do and not do. They believe that the German people today is the same as the German people of November 1918 that fell victim to their persuasive wiles. I do not need to disprove their assertions. That will come from the fighting and working German people.\n",
    "To make the truth plain, however, my German comrades, I want to ask you a series of questions. I want you to answer them to the best of your knowledge, according to your conscience. When my audience cheered on 30 January, the English press reported the next day that it was all a propaganda show that did not represent the true opinion of the German people. (Spontaneous shouts of Pfui!” “Lies!” “Let them come here! They will learn differently!”) I have invited to today’s meeting a cross-section of the German people in the best sense of the word. (The minister’s words were accompanied by stormy applause that increased in intensity as he came to the representatives of the army present at the meeting.) In front of me are rows of wounded German soldiers from the Eastern Front, missing legs and arms, with wounded bodies, those who have lost their sight, those who have come with nurses, men in the blush of youth who stand with crutches. Among them are 50 who bear the Knight’s Cross with Oak Leaves, shining examples of our fighting front. Behind them are armaments workers from Berlin tank factories. Behind them are party officials, soldiers from the fighting army, doctors, scientists, artists, engineers and architects, teachers, officials and employees from offices, proud representatives of every area of our intellectual life that even in the midst of war produce miracles of human genius. Throughout the Sportpalast I see thousands of German women. The youth is here, as are the aged. No class, no occupation, no age remained uninvited. I can rightly say that before me is gathered a representative sample of the German population, both from the homeland and the front. Is that true? Yes or no? (The Sportpalast experiences something seen only rarely even in this old fighting locale of National Socialism. The masses spring to their feet. A hurricane of thousands of voices shouts yes. The participants experience a spontaneous popular referendum and expression of will.) You, my hearers, at this moment represent the whole nation. I wish to ask you ten questions that you will answer for the German people throughout the world, but especially for our enemies, who are listening to us on the radio. (Only with difficulty can the minister be heard. The crowd is at the peak of excitement. The individual questions are razor sharp. Each individual feels as if he is being spoken to personally. With full participation and enthusiasm, the crowd answers each question. The Sportpalast rings with a single shout of agreement.)\n",
    "The English maintain that the German people has lost faith in victory.\n",
    "I ask you: Do you believe with the Führer and us in the final total victory of the German people?\n",
    "I ask you: Are you resolved to follow the Führer through thick and thin to victory, and are you willing to accept the heaviest personal burdens?\n",
    "Second, The English say that the German people are tired of fighting.\n",
    "I ask you: Are you ready to follow the Führer as the phalanx of the homeland, standing behind the fighting army and to wage war with wild determination through all the turns of fate until victory is ours?\n",
    "Third: The English maintain that the German people have no desire any longer to accept the government’s growing demands for war work.\n",
    "I ask you: Are you and the German people willing to work, if the Führer orders, 10, 12 and if necessary 14 hours a day and to give everything for victory?\n",
    "Fourth: The English maintain that the German people is resisting the government’s total war measures. It does not want total war, but capitulation! (Shouts: Never! Never! Never!)\n",
    "I ask you: Do you want total war? If necessary, do you want a war more total and radical than anything that we can even imagine today?\n",
    "Fifth: The English maintain that the German people have lost faith in the Führer.\n",
    "I ask you: Is your confidence in the Führer greater, more faithful and more unshakable than ever before? Are you absolutely and completely ready to follow him wherever he goes and do all that is necessary to bring the war to a victorious end? (The crowd rises as one man. It displays unprecedented enthusiasm. Thousands of voices join in shouting: “Führer command, we follow!” A wave of shouts of Heil flows through the hall. As if by command, the flags and standards are raised as the highest expression of the sacred moment in which the crowd honors the Führer.)\n",
    "Sixth, I ask you: Are you ready from now on to give your full strength to provide the Eastern Front with the men and munitions it needs to give Bolshevism the death blow?\n",
    "Seventh, I ask you: Do you take a holy oath to the front that the homeland stands firm behind them, and that you will give them everything they need to win the victory?\n",
    "Eighth, I ask you: Do you, especially you women, want the government to do all it can to encourage German women to put their full strength at work to support the war effort, and to release men for the front whenever possible, thereby helping the men at the front?\n",
    "Ninth, I ask you: Do you approve, if necessary, the most radical measures against a small group of shirkers and black marketers who pretend there is peace in the middle of war and use the need of the nation for their own selfish purposes? Do you agree that those who harm the war effort should lose their heads?\n",
    "Tenth and lastly, I ask you: Do you agree that above all in war, according to the National Socialist Party platform, the same rights and duties should apply to all, that the homeland should bear the heavy burdens of the war together, and that the burdens should be shared equally between high and low and rich and poor?\n",
    "I have asked; you have given me your answers. You are part of the people, and your answers are those of the German people. You have told our enemies what they needed to hear so that they will have no illusions or false ideas.\n",
    "Now, just as in the first hours of our rule and through the ten years that followed, we are bound firmly in brotherhood with the German people. The most powerful ally on earth, the people itself, stands behind us and is determined to follow the Führer, come what may. They will accept the heaviest burdens to gain victory. What power on earth can hinder us from reaching our goal. Now we must and will succeed! I stand before you not only as the spokesman of the government, but as the spokesman of the people. My old party friends are here around me, clothed with the high offices of the people and the government. Party comrade Speer sits next to me. The Führer has given him the great task of mobilizing the German armaments industry and supplying the front with all the weapons it needs. Party comrade Dr. Ley sits next to me. The Führer has charged him with the leadership of the German work force, with schooling and training them in untiring work for the war effort. We feel deeply indebted to our party comrade Sauckel, who has been charged by the Führer to bring hundreds of thousands of workers to the Reich to support our national economy, something the enemy cannot do. All the leaders of the party, the army, and government join with us as well.\n",
    "We are all children of our people, forged together by this most critical hour of our national history. We promise you, we promise the front, we promise the Führer, that we will mold together the homeland into a force on which the Führer and his fighting soldiers can rely on absolutely and blindly. We pledge to do all in our life and work that is necessary for victory. We will fill our hearts with the political passion, with the ever-burning fire that blazed during the great struggles of the party and the state. Never during this war will we fall prey to the false and hypocritical objectivism that has brought the German nation so much misfortune over its history.\n",
    "When the war began, we turned our eyes to the nation alone. That which serves its struggle for life is good and must be encouraged. What harms its struggle for life is bad and must be eliminated and cut out. With burning hearts and cool heads we will overcome the major problems of this phase of the war. We are on the way to final victory. That victory rests on our faith in the Führer.\n",
    "This evening I once again remind the whole nation of its duty. The Führer expects us to do that which will throw all we have done in the past into the shadows. We do not want to fail him. As we are proud of him, he should be proud of us.\n",
    "The great crises and upsets of national life show who the true men and women are. We have no right any longer to speak of the weaker sex, for both sexes are displaying the same determination and spiritual strength. The nation is ready for anything. The Führer has commanded, and we will follow him. In this hour of national reflection and contemplation, we believe firmly and unshakably in victory. We see it before us, we need only reach for it. We must resolve to subordinate everything to it. That is the duty of the hour. Let the slogan be:\n",
    "Now, people rise up and let the storm break loose!\n",
    "\"\"\""
   ]
  },
  {
   "cell_type": "markdown",
   "id": "2cf94dd2",
   "metadata": {},
   "source": [
    "It is not a surprise that this speech has a completely opposite score, being very \"negative\"."
   ]
  },
  {
   "cell_type": "code",
   "execution_count": 22,
   "id": "685a9080",
   "metadata": {},
   "outputs": [],
   "source": [
    "speech2 = speech2.lower()"
   ]
  },
  {
   "cell_type": "code",
   "execution_count": 26,
   "id": "dd88859f",
   "metadata": {},
   "outputs": [
    {
     "data": {
      "text/plain": [
       "{'neg': 0.155, 'neu': 0.707, 'pos': 0.138, 'compound': -0.9998}"
      ]
     },
     "execution_count": 26,
     "metadata": {},
     "output_type": "execute_result"
    }
   ],
   "source": [
    "sentiment.polarity_scores(speech2)"
   ]
  },
  {
   "cell_type": "markdown",
   "id": "c9ccb008",
   "metadata": {},
   "source": [
    "But when checking it with text2emotion we see that it is also ruled by an emotion of fear and higher sadness."
   ]
  },
  {
   "cell_type": "code",
   "execution_count": 24,
   "id": "d91dcbf7",
   "metadata": {},
   "outputs": [
    {
     "data": {
      "text/plain": [
       "{'Happy': 0.13, 'Angry': 0.08, 'Surprise': 0.1, 'Sad': 0.21, 'Fear': 0.48}"
      ]
     },
     "execution_count": 24,
     "metadata": {},
     "output_type": "execute_result"
    }
   ],
   "source": [
    "te.get_emotion(speech2)"
   ]
  },
  {
   "cell_type": "markdown",
   "id": "ab906c85",
   "metadata": {},
   "source": [
    "But let me finish the exercise with a much more beautiful and inspiring speech, the one that rev. Marthin Luther delivered on Aug. 28, 1963, on the steps of the Lincoln Memorial. His celebrated \"I Have a Dream\" speech:"
   ]
  },
  {
   "cell_type": "code",
   "execution_count": 25,
   "id": "aac5fac7",
   "metadata": {},
   "outputs": [],
   "source": [
    "speech3 = \"\"\"So even though we face the difficulties of today and tomorrow, I still have a dream. It is a dream deeply rooted in the American dream. I have a dream that one day this nation will rise up and live out the true meaning of its creed: We hold these truths to be self-evident, that all men are created equal.\n",
    "I have a dream that one day on the red hills of Georgia, the sons of former slaves and the sons of former slave owners will be able to sit down together at the table of brotherhood.\n",
    "I have a dream that one day even the state of Mississippi, a state sweltering with the heat of injustice, sweltering with the heat of oppression will be transformed into an oasis of freedom and justice.\n",
    "I have a dream that my four little children will one day live in a nation where they will not be judged by the color of their skin but by the content of their character. I have a dream today.\n",
    "I have a dream that one day down in Alabama with its vicious racists, with its governor having his lips dripping with the words of interposition and nullification, one day right down in Alabama little Black boys and Black girls will be able to join hands with little white boys and white girls as sisters and brothers. I have a dream today.\n",
    "I have a dream that one day every valley shall be exalted, every hill and mountain shall be made low, the rough places will be made plain, and the crooked places will be made straight, and the glory of the Lord shall be revealed, and all flesh shall see it together.\n",
    "This is our hope. This is the faith that I go back to the South with. With this faith, we will be able to hew out of the mountain of despair a stone of hope. With this faith we will be able to transform the jangling discords of our nation into a beautiful symphony of brotherhood. With this faith we will be able to work together, to pray together, to struggle together, to go to jail together, to stand up for freedom together, knowing that we will be free one day.\n",
    "This will be the day when all of God's children will be able to sing with new meaning: My country, 'tis of thee, sweet land of liberty, of thee I sing. Land where my fathers died, land of the pilgrims' pride, from every mountainside, let freedom ring.\n",
    "And if America is to be a great nation, this must become true. And so let freedom ring from the prodigious hilltops of New Hampshire. Let freedom ring from the mighty mountains of New York. Let freedom ring from the heightening Alleghenies of Pennsylvania. Let freedom ring from the snow capped Rockies of Colorado. Let freedom ring from the curvaceous slopes of California. But not only that, let freedom ring from Stone Mountain of Georgia. Let freedom ring from Lookout Mountain of Tennessee. Let freedom ring from every hill and molehill of Mississippi. From every mountainside, let freedom ring.\n",
    "And when this happens, and when we allow freedom ring, when we let it ring from every village and every hamlet, from every state and every city, we will be able to speed up that day when all of God's children, Black men and white men, Jews and Gentiles, Protestants and Catholics, will be able to join hands and sing in the words of the old Negro spiritual: Free at last. Free at last. Thank God almighty, we are free at last.\n",
    "\"\"\""
   ]
  },
  {
   "cell_type": "code",
   "execution_count": 27,
   "id": "9365e0b1",
   "metadata": {},
   "outputs": [],
   "source": [
    "speech3 = speech3.lower()"
   ]
  },
  {
   "cell_type": "code",
   "execution_count": 28,
   "id": "a417da0c",
   "metadata": {},
   "outputs": [
    {
     "data": {
      "text/plain": [
       "{'neg': 0.035, 'neu': 0.706, 'pos': 0.26, 'compound': 0.9995}"
      ]
     },
     "execution_count": 28,
     "metadata": {},
     "output_type": "execute_result"
    }
   ],
   "source": [
    "sentiment.polarity_scores(speech3)"
   ]
  },
  {
   "cell_type": "code",
   "execution_count": 29,
   "id": "012d6cc4",
   "metadata": {},
   "outputs": [
    {
     "data": {
      "text/plain": [
       "{'Happy': 0.26, 'Angry': 0.05, 'Surprise': 0.2, 'Sad': 0.17, 'Fear': 0.32}"
      ]
     },
     "execution_count": 29,
     "metadata": {},
     "output_type": "execute_result"
    }
   ],
   "source": [
    "te.get_emotion(speech3)"
   ]
  }
 ],
 "metadata": {
  "kernelspec": {
   "display_name": "Python 3 (ipykernel)",
   "language": "python",
   "name": "python3"
  },
  "language_info": {
   "codemirror_mode": {
    "name": "ipython",
    "version": 3
   },
   "file_extension": ".py",
   "mimetype": "text/x-python",
   "name": "python",
   "nbconvert_exporter": "python",
   "pygments_lexer": "ipython3",
   "version": "3.9.7"
  }
 },
 "nbformat": 4,
 "nbformat_minor": 5
}
